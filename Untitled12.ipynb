{
  "nbformat": 4,
  "nbformat_minor": 0,
  "metadata": {
    "colab": {
      "name": "Untitled12.ipynb",
      "version": "0.3.2",
      "provenance": [],
      "include_colab_link": true
    },
    "kernelspec": {
      "name": "python3",
      "display_name": "Python 3"
    },
    "accelerator": "TPU"
  },
  "cells": [
    {
      "cell_type": "markdown",
      "metadata": {
        "id": "view-in-github",
        "colab_type": "text"
      },
      "source": [
        "<a href=\"https://colab.research.google.com/github/ashaycclub/100DaysOfMLCode/blob/master/Untitled12.ipynb\" target=\"_parent\"><img src=\"https://colab.research.google.com/assets/colab-badge.svg\" alt=\"Open In Colab\"/></a>"
      ]
    },
    {
      "metadata": {
        "id": "3-9KofsRvs9l",
        "colab_type": "code",
        "outputId": "e25cb81c-ece8-4eff-914d-ba425d5a04f9",
        "colab": {
          "base_uri": "https://localhost:8080/",
          "height": 34
        }
      },
      "cell_type": "code",
      "source": [
        ""
      ],
      "execution_count": 0,
      "outputs": [
        {
          "output_type": "execute_result",
          "data": {
            "text/plain": [
              "0.1353352832366127"
            ]
          },
          "metadata": {
            "tags": []
          },
          "execution_count": 29
        }
      ]
    },
    {
      "metadata": {
        "id": "-p2ILwQ2bDxa",
        "colab_type": "code",
        "colab": {}
      },
      "cell_type": "code",
      "source": [
        "from keras.layers import Input, Dense\n",
        "from keras.models import Model\n",
        "from keras.datasets import mnist\n",
        "import numpy as np"
      ],
      "execution_count": 0,
      "outputs": []
    },
    {
      "metadata": {
        "id": "iJ1DmP4SexYa",
        "colab_type": "code",
        "colab": {}
      },
      "cell_type": "code",
      "source": [
        "from numpy.random import seed\n",
        "seed(1)\n",
        "nb_classes = 10\n",
        "nb_epoch = 10\n",
        "batch_size = 256\n",
        "hidden_layer1 = 128\n",
        "hidden_layer2 = 64\n",
        "hidden_layer3 = 10 # because you have 10 categories\n"
      ],
      "execution_count": 0,
      "outputs": []
    },
    {
      "metadata": {
        "id": "BtND3bs2LANZ",
        "colab_type": "code",
        "outputId": "7d63eb3f-1592-46a2-989a-0cbb3058379e",
        "colab": {
          "base_uri": "https://localhost:8080/",
          "height": 50
        }
      },
      "cell_type": "code",
      "source": [
        "(x_train, y_train), (x_test, y_test) = mnist.load_data()\n",
        "x_train = x_train.astype('float32') / 255.\n",
        "x_test = x_test.astype('float32') / 255.\n",
        "x_train = x_train.reshape((len(x_train), np.prod(x_train.shape[1:])))\n",
        "x_test = x_test.reshape((len(x_test), np.prod(x_test.shape[1:])))\n",
        "print('Train samples: {}'.format(x_train.shape[0]))\n",
        "print('Test samples: {}'.format(x_test.shape[0]))"
      ],
      "execution_count": 32,
      "outputs": [
        {
          "output_type": "stream",
          "text": [
            "Train samples: 60000\n",
            "Test samples: 10000\n"
          ],
          "name": "stdout"
        }
      ]
    },
    {
      "metadata": {
        "id": "BOohIjGrSvgp",
        "colab_type": "code",
        "colab": {}
      },
      "cell_type": "code",
      "source": [
        "from keras.utils import np_utils\n",
        "\n",
        "y_train = np_utils.to_categorical(y_train, nb_classes)\n",
        "y_test = np_utils.to_categorical(y_test, nb_classes)\n",
        "\n",
        "from keras import backend as K\n",
        "from keras.utils.generic_utils import get_custom_objects\n"
      ],
      "execution_count": 0,
      "outputs": []
    },
    {
      "metadata": {
        "id": "KfZ9B45ILAKD",
        "colab_type": "code",
        "colab": {}
      },
      "cell_type": "code",
      "source": [
        "\n",
        "def swish(x):\n",
        "    return (K.sigmoid(x) * x)\n",
        "\n",
        "#get_custom_objects().update({'swish': Activation(swish)})   for using in '' like normal one    \n"
      ],
      "execution_count": 0,
      "outputs": []
    },
    {
      "metadata": {
        "id": "0G5of9ziSzP3",
        "colab_type": "code",
        "colab": {}
      },
      "cell_type": "code",
      "source": [
        "def eswish(x):\n",
        "    beta =  1.5\n",
        "    return beta * x * K.sigmoid(x)\n"
      ],
      "execution_count": 0,
      "outputs": []
    },
    {
      "metadata": {
        "id": "gsVa_sJMapF7",
        "colab_type": "code",
        "outputId": "9c98da0b-88e4-45e4-c46a-693034a5e874",
        "colab": {
          "base_uri": "https://localhost:8080/",
          "height": 34
        }
      },
      "cell_type": "code",
      "source": [
        "import keras\n",
        "keras.backend.backend()"
      ],
      "execution_count": 36,
      "outputs": [
        {
          "output_type": "execute_result",
          "data": {
            "text/plain": [
              "'tensorflow'"
            ]
          },
          "metadata": {
            "tags": []
          },
          "execution_count": 36
        }
      ]
    },
    {
      "metadata": {
        "id": "v10QKXQlsvBM",
        "colab_type": "code",
        "colab": {}
      },
      "cell_type": "code",
      "source": [
        "from tensorflow.python.keras.layers import Activation\n",
        "from tensorflow.python.keras import backend as K\n",
        "from tensorflow.python.keras.utils.generic_utils import get_custom_objects\n",
        "import tensorflow as tf\n",
        "import math"
      ],
      "execution_count": 0,
      "outputs": []
    },
    {
      "metadata": {
        "id": "puvWimCTS2jK",
        "colab_type": "code",
        "colab": {}
      },
      "cell_type": "code",
      "source": [
        "def f1(x):\n",
        "  # if x<0:\n",
        "  #   return x + 1\n",
        "\n",
        "  # else:\n",
        "  #   return x**3 + 1 tf.map_fn(fn, tensor)\n",
        "     y_shape = tf.shape( x )\n",
        "     y_vec = tf.reshape( x, [-1] )\n",
        "     fy_vec = tf.map_fn( lambda x: tf.cond(tf.greater(x, 0), lambda: (K.sigmoid(x) * x), lambda:(tf.exp(x)-1)/(1+tf.exp(-x)) ), y_vec )\n",
        "     return tf.reshape( fy_vec, y_shape )\n",
        "  #return tf.map_fn(lambda x: tf.cond(tf.greater(x, 0), lambda: x, lambda: x**3 ), x)\n",
        "\n",
        "#get_custom_objects().update({'f1': Activation(f1)})\n",
        "\n"
      ],
      "execution_count": 0,
      "outputs": []
    },
    {
      "metadata": {
        "id": "cevuMNUwLAHa",
        "colab_type": "code",
        "colab": {}
      },
      "cell_type": "code",
      "source": [
        "input_img = Input(shape=(784,))\n",
        "encoded = Dense(hidden_layer1, activation=eswish)(input_img)\n",
        "encoded = Dense(hidden_layer2, activation=eswish)(encoded)\n",
        "encoded = Dense(hidden_layer3, activation='softmax')(encoded)\n",
        "decoded = Dense(hidden_layer2, activation=eswish)(encoded)\n",
        "decoded = Dense(hidden_layer1, activation=eswish)(decoded)\n",
        "decoded = Dense(784, activation='sigmoid')(decoded)"
      ],
      "execution_count": 0,
      "outputs": []
    },
    {
      "metadata": {
        "id": "1oVbYKpsLAEu",
        "colab_type": "code",
        "outputId": "de1944a4-d760-4249-9535-fb2e16096e18",
        "colab": {
          "base_uri": "https://localhost:8080/",
          "height": 50
        }
      },
      "cell_type": "code",
      "source": [
        "model = Model(input=input_img, output=encoded)\n",
        "model.compile(optimizer='adam',\n",
        "              loss='binary_crossentropy',\n",
        "              metrics=['accuracy'])"
      ],
      "execution_count": 40,
      "outputs": [
        {
          "output_type": "stream",
          "text": [
            "/usr/local/lib/python3.6/dist-packages/ipykernel_launcher.py:1: UserWarning: Update your `Model` call to the Keras 2 API: `Model(inputs=Tensor(\"in..., outputs=Tensor(\"de...)`\n",
            "  \"\"\"Entry point for launching an IPython kernel.\n"
          ],
          "name": "stderr"
        }
      ]
    },
    {
      "metadata": {
        "id": "FUdrTJBFLAB5",
        "colab_type": "code",
        "outputId": "6479bd91-0047-4379-b345-eceadbe8c737",
        "colab": {
          "base_uri": "https://localhost:8080/",
          "height": 420
        }
      },
      "cell_type": "code",
      "source": [
        "history=model.fit(x_train, y_train,\n",
        "          nb_epoch=nb_epoch,\n",
        "          batch_size=batch_size,\n",
        "          shuffle=True,\n",
        "          validation_data=(x_test, y_test))\n",
        "score = model.evaluate(x_test, y_test, verbose=1)\n"
      ],
      "execution_count": 41,
      "outputs": [
        {
          "output_type": "stream",
          "text": [
            "/usr/local/lib/python3.6/dist-packages/ipykernel_launcher.py:5: UserWarning: The `nb_epoch` argument in `fit` has been renamed `epochs`.\n",
            "  \"\"\"\n"
          ],
          "name": "stderr"
        },
        {
          "output_type": "stream",
          "text": [
            "Train on 60000 samples, validate on 10000 samples\n",
            "Epoch 1/10\n",
            "60000/60000 [==============================] - 2s 37us/step - loss: 0.0613 - acc: 0.9792 - val_loss: 0.0313 - val_acc: 0.9896\n",
            "Epoch 2/10\n",
            "60000/60000 [==============================] - 2s 29us/step - loss: 0.0272 - acc: 0.9913 - val_loss: 0.0213 - val_acc: 0.9928\n",
            "Epoch 3/10\n",
            "60000/60000 [==============================] - 2s 29us/step - loss: 0.0191 - acc: 0.9938 - val_loss: 0.0182 - val_acc: 0.9938\n",
            "Epoch 4/10\n",
            "60000/60000 [==============================] - 2s 29us/step - loss: 0.0152 - acc: 0.9951 - val_loss: 0.0155 - val_acc: 0.9948\n",
            "Epoch 5/10\n",
            "60000/60000 [==============================] - 2s 29us/step - loss: 0.0119 - acc: 0.9962 - val_loss: 0.0148 - val_acc: 0.9950\n",
            "Epoch 6/10\n",
            "60000/60000 [==============================] - 2s 28us/step - loss: 0.0097 - acc: 0.9969 - val_loss: 0.0135 - val_acc: 0.9956\n",
            "Epoch 7/10\n",
            "60000/60000 [==============================] - 2s 28us/step - loss: 0.0082 - acc: 0.9973 - val_loss: 0.0138 - val_acc: 0.9954\n",
            "Epoch 8/10\n",
            "60000/60000 [==============================] - 2s 28us/step - loss: 0.0068 - acc: 0.9979 - val_loss: 0.0134 - val_acc: 0.9958\n",
            "Epoch 9/10\n",
            "60000/60000 [==============================] - 2s 29us/step - loss: 0.0056 - acc: 0.9983 - val_loss: 0.0135 - val_acc: 0.9957\n",
            "Epoch 10/10\n",
            "60000/60000 [==============================] - 2s 29us/step - loss: 0.0046 - acc: 0.9986 - val_loss: 0.0140 - val_acc: 0.9957\n",
            "10000/10000 [==============================] - 0s 34us/step\n"
          ],
          "name": "stdout"
        }
      ]
    },
    {
      "metadata": {
        "id": "RNtUQIZddoyG",
        "colab_type": "code",
        "outputId": "fb2e7f68-a33a-4856-b320-b2f4b35728ce",
        "colab": {
          "base_uri": "https://localhost:8080/",
          "height": 34
        }
      },
      "cell_type": "code",
      "source": [
        "print(history.history.keys())"
      ],
      "execution_count": 42,
      "outputs": [
        {
          "output_type": "stream",
          "text": [
            "dict_keys(['val_loss', 'val_acc', 'loss', 'acc'])\n"
          ],
          "name": "stdout"
        }
      ]
    },
    {
      "metadata": {
        "id": "bBW-M9fgK__A",
        "colab_type": "code",
        "outputId": "8ce2de44-bdbe-4121-9165-5ca1a2c40027",
        "colab": {
          "base_uri": "https://localhost:8080/",
          "height": 50
        }
      },
      "cell_type": "code",
      "source": [
        "print('/n')\n",
        "print('Test accuracy :', score[1])"
      ],
      "execution_count": 43,
      "outputs": [
        {
          "output_type": "stream",
          "text": [
            "/n\n",
            "Test accuracy : 0.9956899953842163\n"
          ],
          "name": "stdout"
        }
      ]
    },
    {
      "metadata": {
        "id": "xgb3QfbhK_8C",
        "colab_type": "code",
        "colab": {}
      },
      "cell_type": "code",
      "source": [
        "\n",
        "#selu                         0.9951099985122681\n",
        "#relu                         0.9953599962234497\n",
        "#Elish                        0.9955199964523316\n",
        "#SwisH                        0.9956799955368042\n",
        "#E-SWish(BETA=1.5)            0.9956899953842163"
      ],
      "execution_count": 0,
      "outputs": []
    },
    {
      "metadata": {
        "id": "EsKF6-qYe8Z8",
        "colab_type": "text"
      },
      "cell_type": "markdown",
      "source": [
        "\n",
        "\n",
        "\n",
        "\n"
      ]
    },
    {
      "metadata": {
        "id": "Uj2_CY-BKKu2",
        "colab_type": "code",
        "outputId": "61d5c4eb-cfc5-4144-8b06-230279b3b59d",
        "colab": {
          "base_uri": "https://localhost:8080/",
          "height": 376
        }
      },
      "cell_type": "code",
      "source": [
        "# summarize history for loss\n",
        "import matplotlib.pyplot as plt\n",
        "fig = plt.figure()\n",
        "\n",
        "plt.plot(history.history['loss'])\n",
        "plt.plot(history.history['val_loss'])\n",
        "plt.title('model loss')\n",
        "plt.ylabel('loss')\n",
        "plt.xlabel('epoch')\n",
        "plt.legend(['train', 'test'], loc='upper right')\n",
        "\n",
        "\n",
        "from google.colab import files\n",
        "plt.savefig(\"swish_loss.png\")\n",
        "files.download(\"swish_loss.png\") \n",
        "\n",
        "\n",
        "plt.show()\n",
        "\n"
      ],
      "execution_count": 0,
      "outputs": [
        {
          "output_type": "display_data",
          "data": {
            "image/png": "[encoded data removed]",
            "text/plain": [
              "<Figure size 576x396 with 1 Axes>"
            ]
          },
          "metadata": {
            "tags": []
          }
        }
      ]
    },
    {
      "metadata": {
        "id": "iWhyFkjZMnSD",
        "colab_type": "code",
        "colab": {}
      },
      "cell_type": "code",
      "source": [
        "# summarize history for accuracy\n",
        "import matplotlib.pyplot as plt\n",
        "fig = plt.figure()\n",
        "\n",
        "plt.plot(history.history['acc'])\n",
        "plt.plot(history.history['val_acc'])\n",
        "plt.title('model accuracy')\n",
        "plt.ylabel('accuracy')\n",
        "plt.xlabel('epoch')\n",
        "plt.legend(['train', 'test'], loc='lower right')\n",
        "\n",
        "\n",
        "from google.colab import files\n",
        "plt.savefig(\"eswish_accuracy.png\")\n",
        "files.download(\"eswish_accuracy.png\") \n",
        "\n",
        "\n",
        "plt.show()\n"
      ],
      "execution_count": 0,
      "outputs": []
    }
  ]
}