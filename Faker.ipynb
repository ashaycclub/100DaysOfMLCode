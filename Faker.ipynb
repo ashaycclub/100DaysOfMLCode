{
  "nbformat": 4,
  "nbformat_minor": 0,
  "metadata": {
    "colab": {
      "name": "Faker.ipynb",
      "provenance": [],
      "authorship_tag": "ABX9TyMjJdJZ9tOKOWQBMxhRSj20",
      "include_colab_link": true
    },
    "kernelspec": {
      "name": "python3",
      "display_name": "Python 3"
    },
    "accelerator": "TPU"
  },
  "cells": [
    {
      "cell_type": "markdown",
      "metadata": {
        "id": "view-in-github",
        "colab_type": "text"
      },
      "source": [
        "<a href=\"https://colab.research.google.com/github/ashaycclub/100DaysOfMLCode/blob/master/Faker.ipynb\" target=\"_parent\"><img src=\"https://colab.research.google.com/assets/colab-badge.svg\" alt=\"Open In Colab\"/></a>"
      ]
    },
    {
      "cell_type": "code",
      "metadata": {
        "id": "XGfSA1UzpNPZ",
        "colab_type": "code",
        "colab": {
          "base_uri": "https://localhost:8080/",
          "height": 151
        },
        "outputId": "41768fe0-b86a-47b1-a055-b9a57165cfa6"
      },
      "source": [
        "!pip install faker"
      ],
      "execution_count": 4,
      "outputs": [
        {
          "output_type": "stream",
          "text": [
            "Collecting faker\n",
            "\u001b[?25l  Downloading https://files.pythonhosted.org/packages/2a/6f/2a868e12996ea630a4591aa967cb934e411d94e42da12e1dd141b66d0070/Faker-4.0.2-py3-none-any.whl (1.0MB)\n",
            "\u001b[K     |████████████████████████████████| 1.0MB 3.1MB/s \n",
            "\u001b[?25hRequirement already satisfied: python-dateutil>=2.4 in /usr/local/lib/python3.6/dist-packages (from faker) (2.8.1)\n",
            "Requirement already satisfied: text-unidecode==1.3 in /usr/local/lib/python3.6/dist-packages (from faker) (1.3)\n",
            "Requirement already satisfied: six>=1.5 in /usr/local/lib/python3.6/dist-packages (from python-dateutil>=2.4->faker) (1.12.0)\n",
            "Installing collected packages: faker\n",
            "Successfully installed faker-4.0.2\n"
          ],
          "name": "stdout"
        }
      ]
    },
    {
      "cell_type": "code",
      "metadata": {
        "id": "LORszYqIt1mY",
        "colab_type": "code",
        "colab": {}
      },
      "source": [
        "from faker import Faker"
      ],
      "execution_count": 0,
      "outputs": []
    },
    {
      "cell_type": "code",
      "metadata": {
        "id": "oVgHHBSOuAZ7",
        "colab_type": "code",
        "colab": {}
      },
      "source": [
        "fake=Faker()"
      ],
      "execution_count": 0,
      "outputs": []
    },
    {
      "cell_type": "code",
      "metadata": {
        "id": "_W2NhDnIvhkf",
        "colab_type": "code",
        "colab": {}
      },
      "source": [
        ""
      ],
      "execution_count": 0,
      "outputs": []
    },
    {
      "cell_type": "code",
      "metadata": {
        "id": "akqzsZuouO8n",
        "colab_type": "code",
        "colab": {}
      },
      "source": [
        "from collections import Counter\n",
        "\n",
        "def firstDuplicateCounter(a):\n",
        "    c = Counter()\n",
        "    for i in a:\n",
        "        c[i] += 1\n",
        "        if c[i] > 1:\n",
        "            return i\n",
        "\n",
        "        continue"
      ],
      "execution_count": 0,
      "outputs": []
    },
    {
      "cell_type": "code",
      "metadata": {
        "id": "2RAHW8j1udps",
        "colab_type": "code",
        "colab": {
          "base_uri": "https://localhost:8080/",
          "height": 185
        },
        "outputId": "fb210d27-9116-4ff1-8787-6c705b65808c"
      },
      "source": [
        "for j in range(10):\n",
        "    l=[]\n",
        "    for i in range(10000):\n",
        "        l.append(fake.name())\n",
        "        \n",
        "    a=firstDuplicateCounter(l)\n",
        "    print(\"first duplicate occured after {} and value is{}\".format(i,a))"
      ],
      "execution_count": 52,
      "outputs": [
        {
          "output_type": "stream",
          "text": [
            "first duplicate occured after 9999 and value isSusan Montgomery\n",
            "first duplicate occured after 9999 and value isJason Thomas\n",
            "first duplicate occured after 9999 and value isCharles Wright\n",
            "first duplicate occured after 9999 and value isNicole Williams\n",
            "first duplicate occured after 9999 and value isCrystal Aguirre\n",
            "first duplicate occured after 9999 and value isPamela Evans\n",
            "first duplicate occured after 9999 and value isLaura Mora\n",
            "first duplicate occured after 9999 and value isSteven Rodriguez\n",
            "first duplicate occured after 9999 and value isRebecca Miller\n",
            "first duplicate occured after 9999 and value isSusan Smith\n"
          ],
          "name": "stdout"
        }
      ]
    },
    {
      "cell_type": "code",
      "metadata": {
        "id": "3gmXKLCSwA3l",
        "colab_type": "code",
        "colab": {}
      },
      "source": [
        ""
      ],
      "execution_count": 0,
      "outputs": []
    }
  ]
}