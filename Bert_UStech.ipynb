{
  "nbformat": 4,
  "nbformat_minor": 0,
  "metadata": {
    "colab": {
      "name": "Bert_UStech.ipynb",
      "provenance": [],
      "collapsed_sections": [
        "oovNUsnZk1bC",
        "-DS24D_dmeE3",
        "xNCxFsTumyNX",
        "8c1ytER-nLqG",
        "7_MO08_KiAOb",
        "2I2phKMhpYr1",
        "UCoFwLcA9XwX"
      ],
      "toc_visible": true,
      "machine_shape": "hm",
      "include_colab_link": true
    },
    "kernelspec": {
      "name": "python3",
      "display_name": "Python 3"
    },
    "accelerator": "GPU",
    "widgets": {
      "application/vnd.jupyter.widget-state+json": {
        "62e354beb2f340a0a29e891db5a9c927": {
          "model_module": "@jupyter-widgets/controls",
          "model_name": "HBoxModel",
          "state": {
            "_view_name": "HBoxView",
            "_dom_classes": [],
            "_model_name": "HBoxModel",
            "_view_module": "@jupyter-widgets/controls",
            "_model_module_version": "1.5.0",
            "_view_count": null,
            "_view_module_version": "1.5.0",
            "box_style": "",
            "layout": "IPY_MODEL_de6761459c984f8886acb25e15bf41ee",
            "_model_module": "@jupyter-widgets/controls",
            "children": [
              "IPY_MODEL_6f8ac6b517a14fb3bf004790e939318e",
              "IPY_MODEL_4b64d8579f1c488f8d2aec074c320875"
            ]
          }
        },
        "de6761459c984f8886acb25e15bf41ee": {
          "model_module": "@jupyter-widgets/base",
          "model_name": "LayoutModel",
          "state": {
            "_view_name": "LayoutView",
            "grid_template_rows": null,
            "right": null,
            "justify_content": null,
            "_view_module": "@jupyter-widgets/base",
            "overflow": null,
            "_model_module_version": "1.2.0",
            "_view_count": null,
            "flex_flow": null,
            "width": null,
            "min_width": null,
            "border": null,
            "align_items": null,
            "bottom": null,
            "_model_module": "@jupyter-widgets/base",
            "top": null,
            "grid_column": null,
            "overflow_y": null,
            "overflow_x": null,
            "grid_auto_flow": null,
            "grid_area": null,
            "grid_template_columns": null,
            "flex": null,
            "_model_name": "LayoutModel",
            "justify_items": null,
            "grid_row": null,
            "max_height": null,
            "align_content": null,
            "visibility": null,
            "align_self": null,
            "height": null,
            "min_height": null,
            "padding": null,
            "grid_auto_rows": null,
            "grid_gap": null,
            "max_width": null,
            "order": null,
            "_view_module_version": "1.2.0",
            "grid_template_areas": null,
            "object_position": null,
            "object_fit": null,
            "grid_auto_columns": null,
            "margin": null,
            "display": null,
            "left": null
          }
        },
        "6f8ac6b517a14fb3bf004790e939318e": {
          "model_module": "@jupyter-widgets/controls",
          "model_name": "IntProgressModel",
          "state": {
            "_view_name": "ProgressView",
            "style": "IPY_MODEL_091d5290156f49f187e616b83e7802a5",
            "_dom_classes": [],
            "description": "100%",
            "_model_name": "IntProgressModel",
            "bar_style": "success",
            "max": 280,
            "_view_module": "@jupyter-widgets/controls",
            "_model_module_version": "1.5.0",
            "value": 280,
            "_view_count": null,
            "_view_module_version": "1.5.0",
            "orientation": "horizontal",
            "min": 0,
            "description_tooltip": null,
            "_model_module": "@jupyter-widgets/controls",
            "layout": "IPY_MODEL_8b8fd9599fbf448ca544fb80eb8ae4d2"
          }
        },
        "4b64d8579f1c488f8d2aec074c320875": {
          "model_module": "@jupyter-widgets/controls",
          "model_name": "HTMLModel",
          "state": {
            "_view_name": "HTMLView",
            "style": "IPY_MODEL_18e5bef6c7bc465681ae1bf307a73c01",
            "_dom_classes": [],
            "description": "",
            "_model_name": "HTMLModel",
            "placeholder": "​",
            "_view_module": "@jupyter-widgets/controls",
            "_model_module_version": "1.5.0",
            "value": " 280/280 [04:07&lt;00:00,  1.13it/s]",
            "_view_count": null,
            "_view_module_version": "1.5.0",
            "description_tooltip": null,
            "_model_module": "@jupyter-widgets/controls",
            "layout": "IPY_MODEL_1327fe0c1c4742988dd226515afe52ff"
          }
        },
        "091d5290156f49f187e616b83e7802a5": {
          "model_module": "@jupyter-widgets/controls",
          "model_name": "ProgressStyleModel",
          "state": {
            "_view_name": "StyleView",
            "_model_name": "ProgressStyleModel",
            "description_width": "initial",
            "_view_module": "@jupyter-widgets/base",
            "_model_module_version": "1.5.0",
            "_view_count": null,
            "_view_module_version": "1.2.0",
            "bar_color": null,
            "_model_module": "@jupyter-widgets/controls"
          }
        },
        "8b8fd9599fbf448ca544fb80eb8ae4d2": {
          "model_module": "@jupyter-widgets/base",
          "model_name": "LayoutModel",
          "state": {
            "_view_name": "LayoutView",
            "grid_template_rows": null,
            "right": null,
            "justify_content": null,
            "_view_module": "@jupyter-widgets/base",
            "overflow": null,
            "_model_module_version": "1.2.0",
            "_view_count": null,
            "flex_flow": null,
            "width": null,
            "min_width": null,
            "border": null,
            "align_items": null,
            "bottom": null,
            "_model_module": "@jupyter-widgets/base",
            "top": null,
            "grid_column": null,
            "overflow_y": null,
            "overflow_x": null,
            "grid_auto_flow": null,
            "grid_area": null,
            "grid_template_columns": null,
            "flex": null,
            "_model_name": "LayoutModel",
            "justify_items": null,
            "grid_row": null,
            "max_height": null,
            "align_content": null,
            "visibility": null,
            "align_self": null,
            "height": null,
            "min_height": null,
            "padding": null,
            "grid_auto_rows": null,
            "grid_gap": null,
            "max_width": null,
            "order": null,
            "_view_module_version": "1.2.0",
            "grid_template_areas": null,
            "object_position": null,
            "object_fit": null,
            "grid_auto_columns": null,
            "margin": null,
            "display": null,
            "left": null
          }
        },
        "18e5bef6c7bc465681ae1bf307a73c01": {
          "model_module": "@jupyter-widgets/controls",
          "model_name": "DescriptionStyleModel",
          "state": {
            "_view_name": "StyleView",
            "_model_name": "DescriptionStyleModel",
            "description_width": "",
            "_view_module": "@jupyter-widgets/base",
            "_model_module_version": "1.5.0",
            "_view_count": null,
            "_view_module_version": "1.2.0",
            "_model_module": "@jupyter-widgets/controls"
          }
        },
        "1327fe0c1c4742988dd226515afe52ff": {
          "model_module": "@jupyter-widgets/base",
          "model_name": "LayoutModel",
          "state": {
            "_view_name": "LayoutView",
            "grid_template_rows": null,
            "right": null,
            "justify_content": null,
            "_view_module": "@jupyter-widgets/base",
            "overflow": null,
            "_model_module_version": "1.2.0",
            "_view_count": null,
            "flex_flow": null,
            "width": null,
            "min_width": null,
            "border": null,
            "align_items": null,
            "bottom": null,
            "_model_module": "@jupyter-widgets/base",
            "top": null,
            "grid_column": null,
            "overflow_y": null,
            "overflow_x": null,
            "grid_auto_flow": null,
            "grid_area": null,
            "grid_template_columns": null,
            "flex": null,
            "_model_name": "LayoutModel",
            "justify_items": null,
            "grid_row": null,
            "max_height": null,
            "align_content": null,
            "visibility": null,
            "align_self": null,
            "height": null,
            "min_height": null,
            "padding": null,
            "grid_auto_rows": null,
            "grid_gap": null,
            "max_width": null,
            "order": null,
            "_view_module_version": "1.2.0",
            "grid_template_areas": null,
            "object_position": null,
            "object_fit": null,
            "grid_auto_columns": null,
            "margin": null,
            "display": null,
            "left": null
          }
        },
        "837b52c2a59d49f7b1d750e8bcc53b62": {
          "model_module": "@jupyter-widgets/controls",
          "model_name": "HBoxModel",
          "state": {
            "_view_name": "HBoxView",
            "_dom_classes": [],
            "_model_name": "HBoxModel",
            "_view_module": "@jupyter-widgets/controls",
            "_model_module_version": "1.5.0",
            "_view_count": null,
            "_view_module_version": "1.5.0",
            "box_style": "",
            "layout": "IPY_MODEL_5b661c1fa1b14ae79682de7d86f03097",
            "_model_module": "@jupyter-widgets/controls",
            "children": [
              "IPY_MODEL_d5628012766f4d219dcd55f68be8ef98",
              "IPY_MODEL_5c53927d876c43eabf3a3971f29d54ae"
            ]
          }
        },
        "5b661c1fa1b14ae79682de7d86f03097": {
          "model_module": "@jupyter-widgets/base",
          "model_name": "LayoutModel",
          "state": {
            "_view_name": "LayoutView",
            "grid_template_rows": null,
            "right": null,
            "justify_content": null,
            "_view_module": "@jupyter-widgets/base",
            "overflow": null,
            "_model_module_version": "1.2.0",
            "_view_count": null,
            "flex_flow": null,
            "width": null,
            "min_width": null,
            "border": null,
            "align_items": null,
            "bottom": null,
            "_model_module": "@jupyter-widgets/base",
            "top": null,
            "grid_column": null,
            "overflow_y": null,
            "overflow_x": null,
            "grid_auto_flow": null,
            "grid_area": null,
            "grid_template_columns": null,
            "flex": null,
            "_model_name": "LayoutModel",
            "justify_items": null,
            "grid_row": null,
            "max_height": null,
            "align_content": null,
            "visibility": null,
            "align_self": null,
            "height": null,
            "min_height": null,
            "padding": null,
            "grid_auto_rows": null,
            "grid_gap": null,
            "max_width": null,
            "order": null,
            "_view_module_version": "1.2.0",
            "grid_template_areas": null,
            "object_position": null,
            "object_fit": null,
            "grid_auto_columns": null,
            "margin": null,
            "display": null,
            "left": null
          }
        },
        "d5628012766f4d219dcd55f68be8ef98": {
          "model_module": "@jupyter-widgets/controls",
          "model_name": "IntProgressModel",
          "state": {
            "_view_name": "ProgressView",
            "style": "IPY_MODEL_d0921a857e8543a5bf49512fa97b6406",
            "_dom_classes": [],
            "description": "Epoch: 100%",
            "_model_name": "IntProgressModel",
            "bar_style": "success",
            "max": 1,
            "_view_module": "@jupyter-widgets/controls",
            "_model_module_version": "1.5.0",
            "value": 1,
            "_view_count": null,
            "_view_module_version": "1.5.0",
            "orientation": "horizontal",
            "min": 0,
            "description_tooltip": null,
            "_model_module": "@jupyter-widgets/controls",
            "layout": "IPY_MODEL_06404e0b0fe1440283b23a63b91e658d"
          }
        },
        "5c53927d876c43eabf3a3971f29d54ae": {
          "model_module": "@jupyter-widgets/controls",
          "model_name": "HTMLModel",
          "state": {
            "_view_name": "HTMLView",
            "style": "IPY_MODEL_86477f0e6bee456e8807d8c13a0f4fd8",
            "_dom_classes": [],
            "description": "",
            "_model_name": "HTMLModel",
            "placeholder": "​",
            "_view_module": "@jupyter-widgets/controls",
            "_model_module_version": "1.5.0",
            "value": " 1/1 [04:01&lt;00:00, 241.79s/it]",
            "_view_count": null,
            "_view_module_version": "1.5.0",
            "description_tooltip": null,
            "_model_module": "@jupyter-widgets/controls",
            "layout": "IPY_MODEL_6f90b671b8ed432f82c43fd2271264c0"
          }
        },
        "d0921a857e8543a5bf49512fa97b6406": {
          "model_module": "@jupyter-widgets/controls",
          "model_name": "ProgressStyleModel",
          "state": {
            "_view_name": "StyleView",
            "_model_name": "ProgressStyleModel",
            "description_width": "initial",
            "_view_module": "@jupyter-widgets/base",
            "_model_module_version": "1.5.0",
            "_view_count": null,
            "_view_module_version": "1.2.0",
            "bar_color": null,
            "_model_module": "@jupyter-widgets/controls"
          }
        },
        "06404e0b0fe1440283b23a63b91e658d": {
          "model_module": "@jupyter-widgets/base",
          "model_name": "LayoutModel",
          "state": {
            "_view_name": "LayoutView",
            "grid_template_rows": null,
            "right": null,
            "justify_content": null,
            "_view_module": "@jupyter-widgets/base",
            "overflow": null,
            "_model_module_version": "1.2.0",
            "_view_count": null,
            "flex_flow": null,
            "width": null,
            "min_width": null,
            "border": null,
            "align_items": null,
            "bottom": null,
            "_model_module": "@jupyter-widgets/base",
            "top": null,
            "grid_column": null,
            "overflow_y": null,
            "overflow_x": null,
            "grid_auto_flow": null,
            "grid_area": null,
            "grid_template_columns": null,
            "flex": null,
            "_model_name": "LayoutModel",
            "justify_items": null,
            "grid_row": null,
            "max_height": null,
            "align_content": null,
            "visibility": null,
            "align_self": null,
            "height": null,
            "min_height": null,
            "padding": null,
            "grid_auto_rows": null,
            "grid_gap": null,
            "max_width": null,
            "order": null,
            "_view_module_version": "1.2.0",
            "grid_template_areas": null,
            "object_position": null,
            "object_fit": null,
            "grid_auto_columns": null,
            "margin": null,
            "display": null,
            "left": null
          }
        },
        "86477f0e6bee456e8807d8c13a0f4fd8": {
          "model_module": "@jupyter-widgets/controls",
          "model_name": "DescriptionStyleModel",
          "state": {
            "_view_name": "StyleView",
            "_model_name": "DescriptionStyleModel",
            "description_width": "",
            "_view_module": "@jupyter-widgets/base",
            "_model_module_version": "1.5.0",
            "_view_count": null,
            "_view_module_version": "1.2.0",
            "_model_module": "@jupyter-widgets/controls"
          }
        },
        "6f90b671b8ed432f82c43fd2271264c0": {
          "model_module": "@jupyter-widgets/base",
          "model_name": "LayoutModel",
          "state": {
            "_view_name": "LayoutView",
            "grid_template_rows": null,
            "right": null,
            "justify_content": null,
            "_view_module": "@jupyter-widgets/base",
            "overflow": null,
            "_model_module_version": "1.2.0",
            "_view_count": null,
            "flex_flow": null,
            "width": null,
            "min_width": null,
            "border": null,
            "align_items": null,
            "bottom": null,
            "_model_module": "@jupyter-widgets/base",
            "top": null,
            "grid_column": null,
            "overflow_y": null,
            "overflow_x": null,
            "grid_auto_flow": null,
            "grid_area": null,
            "grid_template_columns": null,
            "flex": null,
            "_model_name": "LayoutModel",
            "justify_items": null,
            "grid_row": null,
            "max_height": null,
            "align_content": null,
            "visibility": null,
            "align_self": null,
            "height": null,
            "min_height": null,
            "padding": null,
            "grid_auto_rows": null,
            "grid_gap": null,
            "max_width": null,
            "order": null,
            "_view_module_version": "1.2.0",
            "grid_template_areas": null,
            "object_position": null,
            "object_fit": null,
            "grid_auto_columns": null,
            "margin": null,
            "display": null,
            "left": null
          }
        },
        "98c665f288a94fab98d615909d95d0b6": {
          "model_module": "@jupyter-widgets/controls",
          "model_name": "HBoxModel",
          "state": {
            "_view_name": "HBoxView",
            "_dom_classes": [],
            "_model_name": "HBoxModel",
            "_view_module": "@jupyter-widgets/controls",
            "_model_module_version": "1.5.0",
            "_view_count": null,
            "_view_module_version": "1.5.0",
            "box_style": "",
            "layout": "IPY_MODEL_2fdde6a614db46a79e95fbdf05ca5df6",
            "_model_module": "@jupyter-widgets/controls",
            "children": [
              "IPY_MODEL_2a335e1c3e724cf6977230469dbc2f86",
              "IPY_MODEL_7f5267bc5b9540dca8a8415b1922394a"
            ]
          }
        },
        "2fdde6a614db46a79e95fbdf05ca5df6": {
          "model_module": "@jupyter-widgets/base",
          "model_name": "LayoutModel",
          "state": {
            "_view_name": "LayoutView",
            "grid_template_rows": null,
            "right": null,
            "justify_content": null,
            "_view_module": "@jupyter-widgets/base",
            "overflow": null,
            "_model_module_version": "1.2.0",
            "_view_count": null,
            "flex_flow": null,
            "width": null,
            "min_width": null,
            "border": null,
            "align_items": null,
            "bottom": null,
            "_model_module": "@jupyter-widgets/base",
            "top": null,
            "grid_column": null,
            "overflow_y": null,
            "overflow_x": null,
            "grid_auto_flow": null,
            "grid_area": null,
            "grid_template_columns": null,
            "flex": null,
            "_model_name": "LayoutModel",
            "justify_items": null,
            "grid_row": null,
            "max_height": null,
            "align_content": null,
            "visibility": null,
            "align_self": null,
            "height": null,
            "min_height": null,
            "padding": null,
            "grid_auto_rows": null,
            "grid_gap": null,
            "max_width": null,
            "order": null,
            "_view_module_version": "1.2.0",
            "grid_template_areas": null,
            "object_position": null,
            "object_fit": null,
            "grid_auto_columns": null,
            "margin": null,
            "display": null,
            "left": null
          }
        },
        "2a335e1c3e724cf6977230469dbc2f86": {
          "model_module": "@jupyter-widgets/controls",
          "model_name": "IntProgressModel",
          "state": {
            "_view_name": "ProgressView",
            "style": "IPY_MODEL_86cbb53c0c444221a157c2b741feb050",
            "_dom_classes": [],
            "description": "Current iteration: 100%",
            "_model_name": "IntProgressModel",
            "bar_style": "success",
            "max": 35,
            "_view_module": "@jupyter-widgets/controls",
            "_model_module_version": "1.5.0",
            "value": 35,
            "_view_count": null,
            "_view_module_version": "1.5.0",
            "orientation": "horizontal",
            "min": 0,
            "description_tooltip": null,
            "_model_module": "@jupyter-widgets/controls",
            "layout": "IPY_MODEL_6b1ad63771c243478e2ebd8c73389122"
          }
        },
        "7f5267bc5b9540dca8a8415b1922394a": {
          "model_module": "@jupyter-widgets/controls",
          "model_name": "HTMLModel",
          "state": {
            "_view_name": "HTMLView",
            "style": "IPY_MODEL_81617df2f88d42b4b0bfeb22d056cb7c",
            "_dom_classes": [],
            "description": "",
            "_model_name": "HTMLModel",
            "placeholder": "​",
            "_view_module": "@jupyter-widgets/controls",
            "_model_module_version": "1.5.0",
            "value": " 35/35 [04:06&lt;00:00,  7.05s/it]",
            "_view_count": null,
            "_view_module_version": "1.5.0",
            "description_tooltip": null,
            "_model_module": "@jupyter-widgets/controls",
            "layout": "IPY_MODEL_f7c068fb450e4770b61c02e7cd8314c1"
          }
        },
        "86cbb53c0c444221a157c2b741feb050": {
          "model_module": "@jupyter-widgets/controls",
          "model_name": "ProgressStyleModel",
          "state": {
            "_view_name": "StyleView",
            "_model_name": "ProgressStyleModel",
            "description_width": "initial",
            "_view_module": "@jupyter-widgets/base",
            "_model_module_version": "1.5.0",
            "_view_count": null,
            "_view_module_version": "1.2.0",
            "bar_color": null,
            "_model_module": "@jupyter-widgets/controls"
          }
        },
        "6b1ad63771c243478e2ebd8c73389122": {
          "model_module": "@jupyter-widgets/base",
          "model_name": "LayoutModel",
          "state": {
            "_view_name": "LayoutView",
            "grid_template_rows": null,
            "right": null,
            "justify_content": null,
            "_view_module": "@jupyter-widgets/base",
            "overflow": null,
            "_model_module_version": "1.2.0",
            "_view_count": null,
            "flex_flow": null,
            "width": null,
            "min_width": null,
            "border": null,
            "align_items": null,
            "bottom": null,
            "_model_module": "@jupyter-widgets/base",
            "top": null,
            "grid_column": null,
            "overflow_y": null,
            "overflow_x": null,
            "grid_auto_flow": null,
            "grid_area": null,
            "grid_template_columns": null,
            "flex": null,
            "_model_name": "LayoutModel",
            "justify_items": null,
            "grid_row": null,
            "max_height": null,
            "align_content": null,
            "visibility": null,
            "align_self": null,
            "height": null,
            "min_height": null,
            "padding": null,
            "grid_auto_rows": null,
            "grid_gap": null,
            "max_width": null,
            "order": null,
            "_view_module_version": "1.2.0",
            "grid_template_areas": null,
            "object_position": null,
            "object_fit": null,
            "grid_auto_columns": null,
            "margin": null,
            "display": null,
            "left": null
          }
        },
        "81617df2f88d42b4b0bfeb22d056cb7c": {
          "model_module": "@jupyter-widgets/controls",
          "model_name": "DescriptionStyleModel",
          "state": {
            "_view_name": "StyleView",
            "_model_name": "DescriptionStyleModel",
            "description_width": "",
            "_view_module": "@jupyter-widgets/base",
            "_model_module_version": "1.5.0",
            "_view_count": null,
            "_view_module_version": "1.2.0",
            "_model_module": "@jupyter-widgets/controls"
          }
        },
        "f7c068fb450e4770b61c02e7cd8314c1": {
          "model_module": "@jupyter-widgets/base",
          "model_name": "LayoutModel",
          "state": {
            "_view_name": "LayoutView",
            "grid_template_rows": null,
            "right": null,
            "justify_content": null,
            "_view_module": "@jupyter-widgets/base",
            "overflow": null,
            "_model_module_version": "1.2.0",
            "_view_count": null,
            "flex_flow": null,
            "width": null,
            "min_width": null,
            "border": null,
            "align_items": null,
            "bottom": null,
            "_model_module": "@jupyter-widgets/base",
            "top": null,
            "grid_column": null,
            "overflow_y": null,
            "overflow_x": null,
            "grid_auto_flow": null,
            "grid_area": null,
            "grid_template_columns": null,
            "flex": null,
            "_model_name": "LayoutModel",
            "justify_items": null,
            "grid_row": null,
            "max_height": null,
            "align_content": null,
            "visibility": null,
            "align_self": null,
            "height": null,
            "min_height": null,
            "padding": null,
            "grid_auto_rows": null,
            "grid_gap": null,
            "max_width": null,
            "order": null,
            "_view_module_version": "1.2.0",
            "grid_template_areas": null,
            "object_position": null,
            "object_fit": null,
            "grid_auto_columns": null,
            "margin": null,
            "display": null,
            "left": null
          }
        },
        "7f148a5492cb483ea66eda33a3549867": {
          "model_module": "@jupyter-widgets/controls",
          "model_name": "HBoxModel",
          "state": {
            "_view_name": "HBoxView",
            "_dom_classes": [],
            "_model_name": "HBoxModel",
            "_view_module": "@jupyter-widgets/controls",
            "_model_module_version": "1.5.0",
            "_view_count": null,
            "_view_module_version": "1.5.0",
            "box_style": "",
            "layout": "IPY_MODEL_55c3f70f4ec54d67aef47f032c0b934b",
            "_model_module": "@jupyter-widgets/controls",
            "children": [
              "IPY_MODEL_25f4c865e4be4f42a7445b9e62c97453",
              "IPY_MODEL_b1ba7641f00f4fb7ab43b81e359d2595"
            ]
          }
        },
        "55c3f70f4ec54d67aef47f032c0b934b": {
          "model_module": "@jupyter-widgets/base",
          "model_name": "LayoutModel",
          "state": {
            "_view_name": "LayoutView",
            "grid_template_rows": null,
            "right": null,
            "justify_content": null,
            "_view_module": "@jupyter-widgets/base",
            "overflow": null,
            "_model_module_version": "1.2.0",
            "_view_count": null,
            "flex_flow": null,
            "width": null,
            "min_width": null,
            "border": null,
            "align_items": null,
            "bottom": null,
            "_model_module": "@jupyter-widgets/base",
            "top": null,
            "grid_column": null,
            "overflow_y": null,
            "overflow_x": null,
            "grid_auto_flow": null,
            "grid_area": null,
            "grid_template_columns": null,
            "flex": null,
            "_model_name": "LayoutModel",
            "justify_items": null,
            "grid_row": null,
            "max_height": null,
            "align_content": null,
            "visibility": null,
            "align_self": null,
            "height": null,
            "min_height": null,
            "padding": null,
            "grid_auto_rows": null,
            "grid_gap": null,
            "max_width": null,
            "order": null,
            "_view_module_version": "1.2.0",
            "grid_template_areas": null,
            "object_position": null,
            "object_fit": null,
            "grid_auto_columns": null,
            "margin": null,
            "display": null,
            "left": null
          }
        },
        "25f4c865e4be4f42a7445b9e62c97453": {
          "model_module": "@jupyter-widgets/controls",
          "model_name": "IntProgressModel",
          "state": {
            "_view_name": "ProgressView",
            "style": "IPY_MODEL_6348b15633eb42c59a1b35475cf1ec64",
            "_dom_classes": [],
            "description": "100%",
            "_model_name": "IntProgressModel",
            "bar_style": "success",
            "max": 121,
            "_view_module": "@jupyter-widgets/controls",
            "_model_module_version": "1.5.0",
            "value": 121,
            "_view_count": null,
            "_view_module_version": "1.5.0",
            "orientation": "horizontal",
            "min": 0,
            "description_tooltip": null,
            "_model_module": "@jupyter-widgets/controls",
            "layout": "IPY_MODEL_435fe614c31144b0bdcb8fef1677da52"
          }
        },
        "b1ba7641f00f4fb7ab43b81e359d2595": {
          "model_module": "@jupyter-widgets/controls",
          "model_name": "HTMLModel",
          "state": {
            "_view_name": "HTMLView",
            "style": "IPY_MODEL_d7e7d5aceba34e8bb4f9b712049dc913",
            "_dom_classes": [],
            "description": "",
            "_model_name": "HTMLModel",
            "placeholder": "​",
            "_view_module": "@jupyter-widgets/controls",
            "_model_module_version": "1.5.0",
            "value": " 121/121 [00:00&lt;00:00, 498.44it/s]",
            "_view_count": null,
            "_view_module_version": "1.5.0",
            "description_tooltip": null,
            "_model_module": "@jupyter-widgets/controls",
            "layout": "IPY_MODEL_4a45d8ec80fe4cd8b505f9a514bae2ae"
          }
        },
        "6348b15633eb42c59a1b35475cf1ec64": {
          "model_module": "@jupyter-widgets/controls",
          "model_name": "ProgressStyleModel",
          "state": {
            "_view_name": "StyleView",
            "_model_name": "ProgressStyleModel",
            "description_width": "initial",
            "_view_module": "@jupyter-widgets/base",
            "_model_module_version": "1.5.0",
            "_view_count": null,
            "_view_module_version": "1.2.0",
            "bar_color": null,
            "_model_module": "@jupyter-widgets/controls"
          }
        },
        "435fe614c31144b0bdcb8fef1677da52": {
          "model_module": "@jupyter-widgets/base",
          "model_name": "LayoutModel",
          "state": {
            "_view_name": "LayoutView",
            "grid_template_rows": null,
            "right": null,
            "justify_content": null,
            "_view_module": "@jupyter-widgets/base",
            "overflow": null,
            "_model_module_version": "1.2.0",
            "_view_count": null,
            "flex_flow": null,
            "width": null,
            "min_width": null,
            "border": null,
            "align_items": null,
            "bottom": null,
            "_model_module": "@jupyter-widgets/base",
            "top": null,
            "grid_column": null,
            "overflow_y": null,
            "overflow_x": null,
            "grid_auto_flow": null,
            "grid_area": null,
            "grid_template_columns": null,
            "flex": null,
            "_model_name": "LayoutModel",
            "justify_items": null,
            "grid_row": null,
            "max_height": null,
            "align_content": null,
            "visibility": null,
            "align_self": null,
            "height": null,
            "min_height": null,
            "padding": null,
            "grid_auto_rows": null,
            "grid_gap": null,
            "max_width": null,
            "order": null,
            "_view_module_version": "1.2.0",
            "grid_template_areas": null,
            "object_position": null,
            "object_fit": null,
            "grid_auto_columns": null,
            "margin": null,
            "display": null,
            "left": null
          }
        },
        "d7e7d5aceba34e8bb4f9b712049dc913": {
          "model_module": "@jupyter-widgets/controls",
          "model_name": "DescriptionStyleModel",
          "state": {
            "_view_name": "StyleView",
            "_model_name": "DescriptionStyleModel",
            "description_width": "",
            "_view_module": "@jupyter-widgets/base",
            "_model_module_version": "1.5.0",
            "_view_count": null,
            "_view_module_version": "1.2.0",
            "_model_module": "@jupyter-widgets/controls"
          }
        },
        "4a45d8ec80fe4cd8b505f9a514bae2ae": {
          "model_module": "@jupyter-widgets/base",
          "model_name": "LayoutModel",
          "state": {
            "_view_name": "LayoutView",
            "grid_template_rows": null,
            "right": null,
            "justify_content": null,
            "_view_module": "@jupyter-widgets/base",
            "overflow": null,
            "_model_module_version": "1.2.0",
            "_view_count": null,
            "flex_flow": null,
            "width": null,
            "min_width": null,
            "border": null,
            "align_items": null,
            "bottom": null,
            "_model_module": "@jupyter-widgets/base",
            "top": null,
            "grid_column": null,
            "overflow_y": null,
            "overflow_x": null,
            "grid_auto_flow": null,
            "grid_area": null,
            "grid_template_columns": null,
            "flex": null,
            "_model_name": "LayoutModel",
            "justify_items": null,
            "grid_row": null,
            "max_height": null,
            "align_content": null,
            "visibility": null,
            "align_self": null,
            "height": null,
            "min_height": null,
            "padding": null,
            "grid_auto_rows": null,
            "grid_gap": null,
            "max_width": null,
            "order": null,
            "_view_module_version": "1.2.0",
            "grid_template_areas": null,
            "object_position": null,
            "object_fit": null,
            "grid_auto_columns": null,
            "margin": null,
            "display": null,
            "left": null
          }
        },
        "72fb957c65564581960a08d4998e061a": {
          "model_module": "@jupyter-widgets/controls",
          "model_name": "HBoxModel",
          "state": {
            "_view_name": "HBoxView",
            "_dom_classes": [],
            "_model_name": "HBoxModel",
            "_view_module": "@jupyter-widgets/controls",
            "_model_module_version": "1.5.0",
            "_view_count": null,
            "_view_module_version": "1.5.0",
            "box_style": "",
            "layout": "IPY_MODEL_c3b820c3ef6a4970a003aff2b31b4381",
            "_model_module": "@jupyter-widgets/controls",
            "children": [
              "IPY_MODEL_933fee0c594f43b1a5b83a9fb2ea6ef7",
              "IPY_MODEL_4d8841665a324676b7fde322fa32da08"
            ]
          }
        },
        "c3b820c3ef6a4970a003aff2b31b4381": {
          "model_module": "@jupyter-widgets/base",
          "model_name": "LayoutModel",
          "state": {
            "_view_name": "LayoutView",
            "grid_template_rows": null,
            "right": null,
            "justify_content": null,
            "_view_module": "@jupyter-widgets/base",
            "overflow": null,
            "_model_module_version": "1.2.0",
            "_view_count": null,
            "flex_flow": null,
            "width": null,
            "min_width": null,
            "border": null,
            "align_items": null,
            "bottom": null,
            "_model_module": "@jupyter-widgets/base",
            "top": null,
            "grid_column": null,
            "overflow_y": null,
            "overflow_x": null,
            "grid_auto_flow": null,
            "grid_area": null,
            "grid_template_columns": null,
            "flex": null,
            "_model_name": "LayoutModel",
            "justify_items": null,
            "grid_row": null,
            "max_height": null,
            "align_content": null,
            "visibility": null,
            "align_self": null,
            "height": null,
            "min_height": null,
            "padding": null,
            "grid_auto_rows": null,
            "grid_gap": null,
            "max_width": null,
            "order": null,
            "_view_module_version": "1.2.0",
            "grid_template_areas": null,
            "object_position": null,
            "object_fit": null,
            "grid_auto_columns": null,
            "margin": null,
            "display": null,
            "left": null
          }
        },
        "933fee0c594f43b1a5b83a9fb2ea6ef7": {
          "model_module": "@jupyter-widgets/controls",
          "model_name": "IntProgressModel",
          "state": {
            "_view_name": "ProgressView",
            "style": "IPY_MODEL_2121317b28bd483184d1f3ae94372491",
            "_dom_classes": [],
            "description": "100%",
            "_model_name": "IntProgressModel",
            "bar_style": "success",
            "max": 16,
            "_view_module": "@jupyter-widgets/controls",
            "_model_module_version": "1.5.0",
            "value": 16,
            "_view_count": null,
            "_view_module_version": "1.5.0",
            "orientation": "horizontal",
            "min": 0,
            "description_tooltip": null,
            "_model_module": "@jupyter-widgets/controls",
            "layout": "IPY_MODEL_b2fdda11201e4ab89490bedeb6e789b1"
          }
        },
        "4d8841665a324676b7fde322fa32da08": {
          "model_module": "@jupyter-widgets/controls",
          "model_name": "HTMLModel",
          "state": {
            "_view_name": "HTMLView",
            "style": "IPY_MODEL_9ea111a5863f4865b9c0d81a0f78bce5",
            "_dom_classes": [],
            "description": "",
            "_model_name": "HTMLModel",
            "placeholder": "​",
            "_view_module": "@jupyter-widgets/controls",
            "_model_module_version": "1.5.0",
            "value": " 16/16 [00:24&lt;00:00,  1.52s/it]",
            "_view_count": null,
            "_view_module_version": "1.5.0",
            "description_tooltip": null,
            "_model_module": "@jupyter-widgets/controls",
            "layout": "IPY_MODEL_70ee4c9a8a0d47218a8fabccf2745538"
          }
        },
        "2121317b28bd483184d1f3ae94372491": {
          "model_module": "@jupyter-widgets/controls",
          "model_name": "ProgressStyleModel",
          "state": {
            "_view_name": "StyleView",
            "_model_name": "ProgressStyleModel",
            "description_width": "initial",
            "_view_module": "@jupyter-widgets/base",
            "_model_module_version": "1.5.0",
            "_view_count": null,
            "_view_module_version": "1.2.0",
            "bar_color": null,
            "_model_module": "@jupyter-widgets/controls"
          }
        },
        "b2fdda11201e4ab89490bedeb6e789b1": {
          "model_module": "@jupyter-widgets/base",
          "model_name": "LayoutModel",
          "state": {
            "_view_name": "LayoutView",
            "grid_template_rows": null,
            "right": null,
            "justify_content": null,
            "_view_module": "@jupyter-widgets/base",
            "overflow": null,
            "_model_module_version": "1.2.0",
            "_view_count": null,
            "flex_flow": null,
            "width": null,
            "min_width": null,
            "border": null,
            "align_items": null,
            "bottom": null,
            "_model_module": "@jupyter-widgets/base",
            "top": null,
            "grid_column": null,
            "overflow_y": null,
            "overflow_x": null,
            "grid_auto_flow": null,
            "grid_area": null,
            "grid_template_columns": null,
            "flex": null,
            "_model_name": "LayoutModel",
            "justify_items": null,
            "grid_row": null,
            "max_height": null,
            "align_content": null,
            "visibility": null,
            "align_self": null,
            "height": null,
            "min_height": null,
            "padding": null,
            "grid_auto_rows": null,
            "grid_gap": null,
            "max_width": null,
            "order": null,
            "_view_module_version": "1.2.0",
            "grid_template_areas": null,
            "object_position": null,
            "object_fit": null,
            "grid_auto_columns": null,
            "margin": null,
            "display": null,
            "left": null
          }
        },
        "9ea111a5863f4865b9c0d81a0f78bce5": {
          "model_module": "@jupyter-widgets/controls",
          "model_name": "DescriptionStyleModel",
          "state": {
            "_view_name": "StyleView",
            "_model_name": "DescriptionStyleModel",
            "description_width": "",
            "_view_module": "@jupyter-widgets/base",
            "_model_module_version": "1.5.0",
            "_view_count": null,
            "_view_module_version": "1.2.0",
            "_model_module": "@jupyter-widgets/controls"
          }
        },
        "70ee4c9a8a0d47218a8fabccf2745538": {
          "model_module": "@jupyter-widgets/base",
          "model_name": "LayoutModel",
          "state": {
            "_view_name": "LayoutView",
            "grid_template_rows": null,
            "right": null,
            "justify_content": null,
            "_view_module": "@jupyter-widgets/base",
            "overflow": null,
            "_model_module_version": "1.2.0",
            "_view_count": null,
            "flex_flow": null,
            "width": null,
            "min_width": null,
            "border": null,
            "align_items": null,
            "bottom": null,
            "_model_module": "@jupyter-widgets/base",
            "top": null,
            "grid_column": null,
            "overflow_y": null,
            "overflow_x": null,
            "grid_auto_flow": null,
            "grid_area": null,
            "grid_template_columns": null,
            "flex": null,
            "_model_name": "LayoutModel",
            "justify_items": null,
            "grid_row": null,
            "max_height": null,
            "align_content": null,
            "visibility": null,
            "align_self": null,
            "height": null,
            "min_height": null,
            "padding": null,
            "grid_auto_rows": null,
            "grid_gap": null,
            "max_width": null,
            "order": null,
            "_view_module_version": "1.2.0",
            "grid_template_areas": null,
            "object_position": null,
            "object_fit": null,
            "grid_auto_columns": null,
            "margin": null,
            "display": null,
            "left": null
          }
        },
        "7517dbf2fdc444618fe70881ed7646d6": {
          "model_module": "@jupyter-widgets/controls",
          "model_name": "HBoxModel",
          "state": {
            "_view_name": "HBoxView",
            "_dom_classes": [],
            "_model_name": "HBoxModel",
            "_view_module": "@jupyter-widgets/controls",
            "_model_module_version": "1.5.0",
            "_view_count": null,
            "_view_module_version": "1.5.0",
            "box_style": "",
            "layout": "IPY_MODEL_a409ba8c040b45b09caf0e4e6c74b396",
            "_model_module": "@jupyter-widgets/controls",
            "children": [
              "IPY_MODEL_5cd4929435cd47a59270c66d85d34eb5",
              "IPY_MODEL_3b118d4c5d3445ce83919105ade36231"
            ]
          }
        },
        "a409ba8c040b45b09caf0e4e6c74b396": {
          "model_module": "@jupyter-widgets/base",
          "model_name": "LayoutModel",
          "state": {
            "_view_name": "LayoutView",
            "grid_template_rows": null,
            "right": null,
            "justify_content": null,
            "_view_module": "@jupyter-widgets/base",
            "overflow": null,
            "_model_module_version": "1.2.0",
            "_view_count": null,
            "flex_flow": null,
            "width": null,
            "min_width": null,
            "border": null,
            "align_items": null,
            "bottom": null,
            "_model_module": "@jupyter-widgets/base",
            "top": null,
            "grid_column": null,
            "overflow_y": null,
            "overflow_x": null,
            "grid_auto_flow": null,
            "grid_area": null,
            "grid_template_columns": null,
            "flex": null,
            "_model_name": "LayoutModel",
            "justify_items": null,
            "grid_row": null,
            "max_height": null,
            "align_content": null,
            "visibility": null,
            "align_self": null,
            "height": null,
            "min_height": null,
            "padding": null,
            "grid_auto_rows": null,
            "grid_gap": null,
            "max_width": null,
            "order": null,
            "_view_module_version": "1.2.0",
            "grid_template_areas": null,
            "object_position": null,
            "object_fit": null,
            "grid_auto_columns": null,
            "margin": null,
            "display": null,
            "left": null
          }
        },
        "5cd4929435cd47a59270c66d85d34eb5": {
          "model_module": "@jupyter-widgets/controls",
          "model_name": "IntProgressModel",
          "state": {
            "_view_name": "ProgressView",
            "style": "IPY_MODEL_b558087cc88344e497817012c35a0c4f",
            "_dom_classes": [],
            "description": "100%",
            "_model_name": "IntProgressModel",
            "bar_style": "success",
            "max": 121,
            "_view_module": "@jupyter-widgets/controls",
            "_model_module_version": "1.5.0",
            "value": 121,
            "_view_count": null,
            "_view_module_version": "1.5.0",
            "orientation": "horizontal",
            "min": 0,
            "description_tooltip": null,
            "_model_module": "@jupyter-widgets/controls",
            "layout": "IPY_MODEL_a4f78977aca747c18693e4af76c94245"
          }
        },
        "3b118d4c5d3445ce83919105ade36231": {
          "model_module": "@jupyter-widgets/controls",
          "model_name": "HTMLModel",
          "state": {
            "_view_name": "HTMLView",
            "style": "IPY_MODEL_35d3570ddaf1434d82f6a50753d8c1ab",
            "_dom_classes": [],
            "description": "",
            "_model_name": "HTMLModel",
            "placeholder": "​",
            "_view_module": "@jupyter-widgets/controls",
            "_model_module_version": "1.5.0",
            "value": " 121/121 [05:34&lt;00:00,  2.77s/it]",
            "_view_count": null,
            "_view_module_version": "1.5.0",
            "description_tooltip": null,
            "_model_module": "@jupyter-widgets/controls",
            "layout": "IPY_MODEL_4705570474b3455c95f2b5a9da8a686d"
          }
        },
        "b558087cc88344e497817012c35a0c4f": {
          "model_module": "@jupyter-widgets/controls",
          "model_name": "ProgressStyleModel",
          "state": {
            "_view_name": "StyleView",
            "_model_name": "ProgressStyleModel",
            "description_width": "initial",
            "_view_module": "@jupyter-widgets/base",
            "_model_module_version": "1.5.0",
            "_view_count": null,
            "_view_module_version": "1.2.0",
            "bar_color": null,
            "_model_module": "@jupyter-widgets/controls"
          }
        },
        "a4f78977aca747c18693e4af76c94245": {
          "model_module": "@jupyter-widgets/base",
          "model_name": "LayoutModel",
          "state": {
            "_view_name": "LayoutView",
            "grid_template_rows": null,
            "right": null,
            "justify_content": null,
            "_view_module": "@jupyter-widgets/base",
            "overflow": null,
            "_model_module_version": "1.2.0",
            "_view_count": null,
            "flex_flow": null,
            "width": null,
            "min_width": null,
            "border": null,
            "align_items": null,
            "bottom": null,
            "_model_module": "@jupyter-widgets/base",
            "top": null,
            "grid_column": null,
            "overflow_y": null,
            "overflow_x": null,
            "grid_auto_flow": null,
            "grid_area": null,
            "grid_template_columns": null,
            "flex": null,
            "_model_name": "LayoutModel",
            "justify_items": null,
            "grid_row": null,
            "max_height": null,
            "align_content": null,
            "visibility": null,
            "align_self": null,
            "height": null,
            "min_height": null,
            "padding": null,
            "grid_auto_rows": null,
            "grid_gap": null,
            "max_width": null,
            "order": null,
            "_view_module_version": "1.2.0",
            "grid_template_areas": null,
            "object_position": null,
            "object_fit": null,
            "grid_auto_columns": null,
            "margin": null,
            "display": null,
            "left": null
          }
        },
        "35d3570ddaf1434d82f6a50753d8c1ab": {
          "model_module": "@jupyter-widgets/controls",
          "model_name": "DescriptionStyleModel",
          "state": {
            "_view_name": "StyleView",
            "_model_name": "DescriptionStyleModel",
            "description_width": "",
            "_view_module": "@jupyter-widgets/base",
            "_model_module_version": "1.5.0",
            "_view_count": null,
            "_view_module_version": "1.2.0",
            "_model_module": "@jupyter-widgets/controls"
          }
        },
        "4705570474b3455c95f2b5a9da8a686d": {
          "model_module": "@jupyter-widgets/base",
          "model_name": "LayoutModel",
          "state": {
            "_view_name": "LayoutView",
            "grid_template_rows": null,
            "right": null,
            "justify_content": null,
            "_view_module": "@jupyter-widgets/base",
            "overflow": null,
            "_model_module_version": "1.2.0",
            "_view_count": null,
            "flex_flow": null,
            "width": null,
            "min_width": null,
            "border": null,
            "align_items": null,
            "bottom": null,
            "_model_module": "@jupyter-widgets/base",
            "top": null,
            "grid_column": null,
            "overflow_y": null,
            "overflow_x": null,
            "grid_auto_flow": null,
            "grid_area": null,
            "grid_template_columns": null,
            "flex": null,
            "_model_name": "LayoutModel",
            "justify_items": null,
            "grid_row": null,
            "max_height": null,
            "align_content": null,
            "visibility": null,
            "align_self": null,
            "height": null,
            "min_height": null,
            "padding": null,
            "grid_auto_rows": null,
            "grid_gap": null,
            "max_width": null,
            "order": null,
            "_view_module_version": "1.2.0",
            "grid_template_areas": null,
            "object_position": null,
            "object_fit": null,
            "grid_auto_columns": null,
            "margin": null,
            "display": null,
            "left": null
          }
        },
        "8672f118890944de86b1884ff4fdd2c2": {
          "model_module": "@jupyter-widgets/controls",
          "model_name": "HBoxModel",
          "state": {
            "_view_name": "HBoxView",
            "_dom_classes": [],
            "_model_name": "HBoxModel",
            "_view_module": "@jupyter-widgets/controls",
            "_model_module_version": "1.5.0",
            "_view_count": null,
            "_view_module_version": "1.5.0",
            "box_style": "",
            "layout": "IPY_MODEL_abb9563c99da44d7aa2b1aaae39858c4",
            "_model_module": "@jupyter-widgets/controls",
            "children": [
              "IPY_MODEL_d5fca6072e3a458198387aa85e1fd094",
              "IPY_MODEL_84e16aa4b0484ec5a467765a938cfc72"
            ]
          }
        },
        "abb9563c99da44d7aa2b1aaae39858c4": {
          "model_module": "@jupyter-widgets/base",
          "model_name": "LayoutModel",
          "state": {
            "_view_name": "LayoutView",
            "grid_template_rows": null,
            "right": null,
            "justify_content": null,
            "_view_module": "@jupyter-widgets/base",
            "overflow": null,
            "_model_module_version": "1.2.0",
            "_view_count": null,
            "flex_flow": null,
            "width": null,
            "min_width": null,
            "border": null,
            "align_items": null,
            "bottom": null,
            "_model_module": "@jupyter-widgets/base",
            "top": null,
            "grid_column": null,
            "overflow_y": null,
            "overflow_x": null,
            "grid_auto_flow": null,
            "grid_area": null,
            "grid_template_columns": null,
            "flex": null,
            "_model_name": "LayoutModel",
            "justify_items": null,
            "grid_row": null,
            "max_height": null,
            "align_content": null,
            "visibility": null,
            "align_self": null,
            "height": null,
            "min_height": null,
            "padding": null,
            "grid_auto_rows": null,
            "grid_gap": null,
            "max_width": null,
            "order": null,
            "_view_module_version": "1.2.0",
            "grid_template_areas": null,
            "object_position": null,
            "object_fit": null,
            "grid_auto_columns": null,
            "margin": null,
            "display": null,
            "left": null
          }
        },
        "d5fca6072e3a458198387aa85e1fd094": {
          "model_module": "@jupyter-widgets/controls",
          "model_name": "IntProgressModel",
          "state": {
            "_view_name": "ProgressView",
            "style": "IPY_MODEL_d5f79e3394f74dc1be925edf878526c8",
            "_dom_classes": [],
            "description": "100%",
            "_model_name": "IntProgressModel",
            "bar_style": "success",
            "max": 16,
            "_view_module": "@jupyter-widgets/controls",
            "_model_module_version": "1.5.0",
            "value": 16,
            "_view_count": null,
            "_view_module_version": "1.5.0",
            "orientation": "horizontal",
            "min": 0,
            "description_tooltip": null,
            "_model_module": "@jupyter-widgets/controls",
            "layout": "IPY_MODEL_1d727d96774b4c68a4ce145a02bf942c"
          }
        },
        "84e16aa4b0484ec5a467765a938cfc72": {
          "model_module": "@jupyter-widgets/controls",
          "model_name": "HTMLModel",
          "state": {
            "_view_name": "HTMLView",
            "style": "IPY_MODEL_d4194896aeb1428a9e1a4ea408895bd7",
            "_dom_classes": [],
            "description": "",
            "_model_name": "HTMLModel",
            "placeholder": "​",
            "_view_module": "@jupyter-widgets/controls",
            "_model_module_version": "1.5.0",
            "value": " 16/16 [05:34&lt;00:00, 20.88s/it]",
            "_view_count": null,
            "_view_module_version": "1.5.0",
            "description_tooltip": null,
            "_model_module": "@jupyter-widgets/controls",
            "layout": "IPY_MODEL_8518b32fb9ae41a39de23f41b7ebcd6b"
          }
        },
        "d5f79e3394f74dc1be925edf878526c8": {
          "model_module": "@jupyter-widgets/controls",
          "model_name": "ProgressStyleModel",
          "state": {
            "_view_name": "StyleView",
            "_model_name": "ProgressStyleModel",
            "description_width": "initial",
            "_view_module": "@jupyter-widgets/base",
            "_model_module_version": "1.5.0",
            "_view_count": null,
            "_view_module_version": "1.2.0",
            "bar_color": null,
            "_model_module": "@jupyter-widgets/controls"
          }
        },
        "1d727d96774b4c68a4ce145a02bf942c": {
          "model_module": "@jupyter-widgets/base",
          "model_name": "LayoutModel",
          "state": {
            "_view_name": "LayoutView",
            "grid_template_rows": null,
            "right": null,
            "justify_content": null,
            "_view_module": "@jupyter-widgets/base",
            "overflow": null,
            "_model_module_version": "1.2.0",
            "_view_count": null,
            "flex_flow": null,
            "width": null,
            "min_width": null,
            "border": null,
            "align_items": null,
            "bottom": null,
            "_model_module": "@jupyter-widgets/base",
            "top": null,
            "grid_column": null,
            "overflow_y": null,
            "overflow_x": null,
            "grid_auto_flow": null,
            "grid_area": null,
            "grid_template_columns": null,
            "flex": null,
            "_model_name": "LayoutModel",
            "justify_items": null,
            "grid_row": null,
            "max_height": null,
            "align_content": null,
            "visibility": null,
            "align_self": null,
            "height": null,
            "min_height": null,
            "padding": null,
            "grid_auto_rows": null,
            "grid_gap": null,
            "max_width": null,
            "order": null,
            "_view_module_version": "1.2.0",
            "grid_template_areas": null,
            "object_position": null,
            "object_fit": null,
            "grid_auto_columns": null,
            "margin": null,
            "display": null,
            "left": null
          }
        },
        "d4194896aeb1428a9e1a4ea408895bd7": {
          "model_module": "@jupyter-widgets/controls",
          "model_name": "DescriptionStyleModel",
          "state": {
            "_view_name": "StyleView",
            "_model_name": "DescriptionStyleModel",
            "description_width": "",
            "_view_module": "@jupyter-widgets/base",
            "_model_module_version": "1.5.0",
            "_view_count": null,
            "_view_module_version": "1.2.0",
            "_model_module": "@jupyter-widgets/controls"
          }
        },
        "8518b32fb9ae41a39de23f41b7ebcd6b": {
          "model_module": "@jupyter-widgets/base",
          "model_name": "LayoutModel",
          "state": {
            "_view_name": "LayoutView",
            "grid_template_rows": null,
            "right": null,
            "justify_content": null,
            "_view_module": "@jupyter-widgets/base",
            "overflow": null,
            "_model_module_version": "1.2.0",
            "_view_count": null,
            "flex_flow": null,
            "width": null,
            "min_width": null,
            "border": null,
            "align_items": null,
            "bottom": null,
            "_model_module": "@jupyter-widgets/base",
            "top": null,
            "grid_column": null,
            "overflow_y": null,
            "overflow_x": null,
            "grid_auto_flow": null,
            "grid_area": null,
            "grid_template_columns": null,
            "flex": null,
            "_model_name": "LayoutModel",
            "justify_items": null,
            "grid_row": null,
            "max_height": null,
            "align_content": null,
            "visibility": null,
            "align_self": null,
            "height": null,
            "min_height": null,
            "padding": null,
            "grid_auto_rows": null,
            "grid_gap": null,
            "max_width": null,
            "order": null,
            "_view_module_version": "1.2.0",
            "grid_template_areas": null,
            "object_position": null,
            "object_fit": null,
            "grid_auto_columns": null,
            "margin": null,
            "display": null,
            "left": null
          }
        },
        "b8747b18efaf474f9c562fdf42001c14": {
          "model_module": "@jupyter-widgets/controls",
          "model_name": "HBoxModel",
          "state": {
            "_view_name": "HBoxView",
            "_dom_classes": [],
            "_model_name": "HBoxModel",
            "_view_module": "@jupyter-widgets/controls",
            "_model_module_version": "1.5.0",
            "_view_count": null,
            "_view_module_version": "1.5.0",
            "box_style": "",
            "layout": "IPY_MODEL_359f8db07bca4161b2c4e13407d92c36",
            "_model_module": "@jupyter-widgets/controls",
            "children": [
              "IPY_MODEL_61eac01d1ecd43fe98ee1ecee043aeca",
              "IPY_MODEL_7eb283eb67ee4694b0dd2bef4b7dc604"
            ]
          }
        },
        "359f8db07bca4161b2c4e13407d92c36": {
          "model_module": "@jupyter-widgets/base",
          "model_name": "LayoutModel",
          "state": {
            "_view_name": "LayoutView",
            "grid_template_rows": null,
            "right": null,
            "justify_content": null,
            "_view_module": "@jupyter-widgets/base",
            "overflow": null,
            "_model_module_version": "1.2.0",
            "_view_count": null,
            "flex_flow": null,
            "width": null,
            "min_width": null,
            "border": null,
            "align_items": null,
            "bottom": null,
            "_model_module": "@jupyter-widgets/base",
            "top": null,
            "grid_column": null,
            "overflow_y": null,
            "overflow_x": null,
            "grid_auto_flow": null,
            "grid_area": null,
            "grid_template_columns": null,
            "flex": null,
            "_model_name": "LayoutModel",
            "justify_items": null,
            "grid_row": null,
            "max_height": null,
            "align_content": null,
            "visibility": null,
            "align_self": null,
            "height": null,
            "min_height": null,
            "padding": null,
            "grid_auto_rows": null,
            "grid_gap": null,
            "max_width": null,
            "order": null,
            "_view_module_version": "1.2.0",
            "grid_template_areas": null,
            "object_position": null,
            "object_fit": null,
            "grid_auto_columns": null,
            "margin": null,
            "display": null,
            "left": null
          }
        },
        "61eac01d1ecd43fe98ee1ecee043aeca": {
          "model_module": "@jupyter-widgets/controls",
          "model_name": "IntProgressModel",
          "state": {
            "_view_name": "ProgressView",
            "style": "IPY_MODEL_4ba350f22da44a21943b156d9a7fb503",
            "_dom_classes": [],
            "description": "",
            "_model_name": "IntProgressModel",
            "bar_style": "success",
            "max": 360,
            "_view_module": "@jupyter-widgets/controls",
            "_model_module_version": "1.5.0",
            "value": 360,
            "_view_count": null,
            "_view_module_version": "1.5.0",
            "orientation": "horizontal",
            "min": 0,
            "description_tooltip": null,
            "_model_module": "@jupyter-widgets/controls",
            "layout": "IPY_MODEL_38cc4e1fe00946409bcfc337c048038c"
          }
        },
        "7eb283eb67ee4694b0dd2bef4b7dc604": {
          "model_module": "@jupyter-widgets/controls",
          "model_name": "HTMLModel",
          "state": {
            "_view_name": "HTMLView",
            "style": "IPY_MODEL_27c6e672ecc840c18ebec1330a2a61c5",
            "_dom_classes": [],
            "description": "",
            "_model_name": "HTMLModel",
            "placeholder": "​",
            "_view_module": "@jupyter-widgets/controls",
            "_model_module_version": "1.5.0",
            "value": "100% 360/360 [00:00&lt;00:00, 2249.54it/s]",
            "_view_count": null,
            "_view_module_version": "1.5.0",
            "description_tooltip": null,
            "_model_module": "@jupyter-widgets/controls",
            "layout": "IPY_MODEL_bdd9e445623b40c18bccee7f82884ad1"
          }
        },
        "4ba350f22da44a21943b156d9a7fb503": {
          "model_module": "@jupyter-widgets/controls",
          "model_name": "ProgressStyleModel",
          "state": {
            "_view_name": "StyleView",
            "_model_name": "ProgressStyleModel",
            "description_width": "",
            "_view_module": "@jupyter-widgets/base",
            "_model_module_version": "1.5.0",
            "_view_count": null,
            "_view_module_version": "1.2.0",
            "bar_color": null,
            "_model_module": "@jupyter-widgets/controls"
          }
        },
        "38cc4e1fe00946409bcfc337c048038c": {
          "model_module": "@jupyter-widgets/base",
          "model_name": "LayoutModel",
          "state": {
            "_view_name": "LayoutView",
            "grid_template_rows": null,
            "right": null,
            "justify_content": null,
            "_view_module": "@jupyter-widgets/base",
            "overflow": null,
            "_model_module_version": "1.2.0",
            "_view_count": null,
            "flex_flow": null,
            "width": null,
            "min_width": null,
            "border": null,
            "align_items": null,
            "bottom": null,
            "_model_module": "@jupyter-widgets/base",
            "top": null,
            "grid_column": null,
            "overflow_y": null,
            "overflow_x": null,
            "grid_auto_flow": null,
            "grid_area": null,
            "grid_template_columns": null,
            "flex": null,
            "_model_name": "LayoutModel",
            "justify_items": null,
            "grid_row": null,
            "max_height": null,
            "align_content": null,
            "visibility": null,
            "align_self": null,
            "height": null,
            "min_height": null,
            "padding": null,
            "grid_auto_rows": null,
            "grid_gap": null,
            "max_width": null,
            "order": null,
            "_view_module_version": "1.2.0",
            "grid_template_areas": null,
            "object_position": null,
            "object_fit": null,
            "grid_auto_columns": null,
            "margin": null,
            "display": null,
            "left": null
          }
        },
        "27c6e672ecc840c18ebec1330a2a61c5": {
          "model_module": "@jupyter-widgets/controls",
          "model_name": "DescriptionStyleModel",
          "state": {
            "_view_name": "StyleView",
            "_model_name": "DescriptionStyleModel",
            "description_width": "",
            "_view_module": "@jupyter-widgets/base",
            "_model_module_version": "1.5.0",
            "_view_count": null,
            "_view_module_version": "1.2.0",
            "_model_module": "@jupyter-widgets/controls"
          }
        },
        "bdd9e445623b40c18bccee7f82884ad1": {
          "model_module": "@jupyter-widgets/base",
          "model_name": "LayoutModel",
          "state": {
            "_view_name": "LayoutView",
            "grid_template_rows": null,
            "right": null,
            "justify_content": null,
            "_view_module": "@jupyter-widgets/base",
            "overflow": null,
            "_model_module_version": "1.2.0",
            "_view_count": null,
            "flex_flow": null,
            "width": null,
            "min_width": null,
            "border": null,
            "align_items": null,
            "bottom": null,
            "_model_module": "@jupyter-widgets/base",
            "top": null,
            "grid_column": null,
            "overflow_y": null,
            "overflow_x": null,
            "grid_auto_flow": null,
            "grid_area": null,
            "grid_template_columns": null,
            "flex": null,
            "_model_name": "LayoutModel",
            "justify_items": null,
            "grid_row": null,
            "max_height": null,
            "align_content": null,
            "visibility": null,
            "align_self": null,
            "height": null,
            "min_height": null,
            "padding": null,
            "grid_auto_rows": null,
            "grid_gap": null,
            "max_width": null,
            "order": null,
            "_view_module_version": "1.2.0",
            "grid_template_areas": null,
            "object_position": null,
            "object_fit": null,
            "grid_auto_columns": null,
            "margin": null,
            "display": null,
            "left": null
          }
        },
        "bc69204ca933411c9968fa810f50c982": {
          "model_module": "@jupyter-widgets/controls",
          "model_name": "HBoxModel",
          "state": {
            "_view_name": "HBoxView",
            "_dom_classes": [],
            "_model_name": "HBoxModel",
            "_view_module": "@jupyter-widgets/controls",
            "_model_module_version": "1.5.0",
            "_view_count": null,
            "_view_module_version": "1.5.0",
            "box_style": "",
            "layout": "IPY_MODEL_ce2d8b53f4c1458eb51b7b2b7d37df45",
            "_model_module": "@jupyter-widgets/controls",
            "children": [
              "IPY_MODEL_d6d364a364114fed8c89f6fabcfe644f",
              "IPY_MODEL_81d896dcb7b54e5bb9941811295c40fb"
            ]
          }
        },
        "ce2d8b53f4c1458eb51b7b2b7d37df45": {
          "model_module": "@jupyter-widgets/base",
          "model_name": "LayoutModel",
          "state": {
            "_view_name": "LayoutView",
            "grid_template_rows": null,
            "right": null,
            "justify_content": null,
            "_view_module": "@jupyter-widgets/base",
            "overflow": null,
            "_model_module_version": "1.2.0",
            "_view_count": null,
            "flex_flow": null,
            "width": null,
            "min_width": null,
            "border": null,
            "align_items": null,
            "bottom": null,
            "_model_module": "@jupyter-widgets/base",
            "top": null,
            "grid_column": null,
            "overflow_y": null,
            "overflow_x": null,
            "grid_auto_flow": null,
            "grid_area": null,
            "grid_template_columns": null,
            "flex": null,
            "_model_name": "LayoutModel",
            "justify_items": null,
            "grid_row": null,
            "max_height": null,
            "align_content": null,
            "visibility": null,
            "align_self": null,
            "height": null,
            "min_height": null,
            "padding": null,
            "grid_auto_rows": null,
            "grid_gap": null,
            "max_width": null,
            "order": null,
            "_view_module_version": "1.2.0",
            "grid_template_areas": null,
            "object_position": null,
            "object_fit": null,
            "grid_auto_columns": null,
            "margin": null,
            "display": null,
            "left": null
          }
        },
        "d6d364a364114fed8c89f6fabcfe644f": {
          "model_module": "@jupyter-widgets/controls",
          "model_name": "IntProgressModel",
          "state": {
            "_view_name": "ProgressView",
            "style": "IPY_MODEL_dc90abb346134a1c9f64860490e60d1a",
            "_dom_classes": [],
            "description": "",
            "_model_name": "IntProgressModel",
            "bar_style": "success",
            "max": 45,
            "_view_module": "@jupyter-widgets/controls",
            "_model_module_version": "1.5.0",
            "value": 45,
            "_view_count": null,
            "_view_module_version": "1.5.0",
            "orientation": "horizontal",
            "min": 0,
            "description_tooltip": null,
            "_model_module": "@jupyter-widgets/controls",
            "layout": "IPY_MODEL_f4c374ff39934832bd168740d82074ef"
          }
        },
        "81d896dcb7b54e5bb9941811295c40fb": {
          "model_module": "@jupyter-widgets/controls",
          "model_name": "HTMLModel",
          "state": {
            "_view_name": "HTMLView",
            "style": "IPY_MODEL_cfb14da77b8e496b9763daa2536ad576",
            "_dom_classes": [],
            "description": "",
            "_model_name": "HTMLModel",
            "placeholder": "​",
            "_view_module": "@jupyter-widgets/controls",
            "_model_module_version": "1.5.0",
            "value": "100% 45/45 [00:12&lt;00:00,  3.72it/s]",
            "_view_count": null,
            "_view_module_version": "1.5.0",
            "description_tooltip": null,
            "_model_module": "@jupyter-widgets/controls",
            "layout": "IPY_MODEL_e7b3f1f85230473488c79788ee5f51b1"
          }
        },
        "dc90abb346134a1c9f64860490e60d1a": {
          "model_module": "@jupyter-widgets/controls",
          "model_name": "ProgressStyleModel",
          "state": {
            "_view_name": "StyleView",
            "_model_name": "ProgressStyleModel",
            "description_width": "",
            "_view_module": "@jupyter-widgets/base",
            "_model_module_version": "1.5.0",
            "_view_count": null,
            "_view_module_version": "1.2.0",
            "bar_color": null,
            "_model_module": "@jupyter-widgets/controls"
          }
        },
        "f4c374ff39934832bd168740d82074ef": {
          "model_module": "@jupyter-widgets/base",
          "model_name": "LayoutModel",
          "state": {
            "_view_name": "LayoutView",
            "grid_template_rows": null,
            "right": null,
            "justify_content": null,
            "_view_module": "@jupyter-widgets/base",
            "overflow": null,
            "_model_module_version": "1.2.0",
            "_view_count": null,
            "flex_flow": null,
            "width": null,
            "min_width": null,
            "border": null,
            "align_items": null,
            "bottom": null,
            "_model_module": "@jupyter-widgets/base",
            "top": null,
            "grid_column": null,
            "overflow_y": null,
            "overflow_x": null,
            "grid_auto_flow": null,
            "grid_area": null,
            "grid_template_columns": null,
            "flex": null,
            "_model_name": "LayoutModel",
            "justify_items": null,
            "grid_row": null,
            "max_height": null,
            "align_content": null,
            "visibility": null,
            "align_self": null,
            "height": null,
            "min_height": null,
            "padding": null,
            "grid_auto_rows": null,
            "grid_gap": null,
            "max_width": null,
            "order": null,
            "_view_module_version": "1.2.0",
            "grid_template_areas": null,
            "object_position": null,
            "object_fit": null,
            "grid_auto_columns": null,
            "margin": null,
            "display": null,
            "left": null
          }
        },
        "cfb14da77b8e496b9763daa2536ad576": {
          "model_module": "@jupyter-widgets/controls",
          "model_name": "DescriptionStyleModel",
          "state": {
            "_view_name": "StyleView",
            "_model_name": "DescriptionStyleModel",
            "description_width": "",
            "_view_module": "@jupyter-widgets/base",
            "_model_module_version": "1.5.0",
            "_view_count": null,
            "_view_module_version": "1.2.0",
            "_model_module": "@jupyter-widgets/controls"
          }
        },
        "e7b3f1f85230473488c79788ee5f51b1": {
          "model_module": "@jupyter-widgets/base",
          "model_name": "LayoutModel",
          "state": {
            "_view_name": "LayoutView",
            "grid_template_rows": null,
            "right": null,
            "justify_content": null,
            "_view_module": "@jupyter-widgets/base",
            "overflow": null,
            "_model_module_version": "1.2.0",
            "_view_count": null,
            "flex_flow": null,
            "width": null,
            "min_width": null,
            "border": null,
            "align_items": null,
            "bottom": null,
            "_model_module": "@jupyter-widgets/base",
            "top": null,
            "grid_column": null,
            "overflow_y": null,
            "overflow_x": null,
            "grid_auto_flow": null,
            "grid_area": null,
            "grid_template_columns": null,
            "flex": null,
            "_model_name": "LayoutModel",
            "justify_items": null,
            "grid_row": null,
            "max_height": null,
            "align_content": null,
            "visibility": null,
            "align_self": null,
            "height": null,
            "min_height": null,
            "padding": null,
            "grid_auto_rows": null,
            "grid_gap": null,
            "max_width": null,
            "order": null,
            "_view_module_version": "1.2.0",
            "grid_template_areas": null,
            "object_position": null,
            "object_fit": null,
            "grid_auto_columns": null,
            "margin": null,
            "display": null,
            "left": null
          }
        },
        "c233c85312b94be7b593a47fbd7c5584": {
          "model_module": "@jupyter-widgets/controls",
          "model_name": "HBoxModel",
          "state": {
            "_view_name": "HBoxView",
            "_dom_classes": [],
            "_model_name": "HBoxModel",
            "_view_module": "@jupyter-widgets/controls",
            "_model_module_version": "1.5.0",
            "_view_count": null,
            "_view_module_version": "1.5.0",
            "box_style": "",
            "layout": "IPY_MODEL_4de471663296407e82ef03f5153471b8",
            "_model_module": "@jupyter-widgets/controls",
            "children": [
              "IPY_MODEL_d4078b019bc94fdf8d058f1543593e54",
              "IPY_MODEL_4b91ae75d8a64112b6a7a93b835aa4b9"
            ]
          }
        },
        "4de471663296407e82ef03f5153471b8": {
          "model_module": "@jupyter-widgets/base",
          "model_name": "LayoutModel",
          "state": {
            "_view_name": "LayoutView",
            "grid_template_rows": null,
            "right": null,
            "justify_content": null,
            "_view_module": "@jupyter-widgets/base",
            "overflow": null,
            "_model_module_version": "1.2.0",
            "_view_count": null,
            "flex_flow": null,
            "width": null,
            "min_width": null,
            "border": null,
            "align_items": null,
            "bottom": null,
            "_model_module": "@jupyter-widgets/base",
            "top": null,
            "grid_column": null,
            "overflow_y": null,
            "overflow_x": null,
            "grid_auto_flow": null,
            "grid_area": null,
            "grid_template_columns": null,
            "flex": null,
            "_model_name": "LayoutModel",
            "justify_items": null,
            "grid_row": null,
            "max_height": null,
            "align_content": null,
            "visibility": null,
            "align_self": null,
            "height": null,
            "min_height": null,
            "padding": null,
            "grid_auto_rows": null,
            "grid_gap": null,
            "max_width": null,
            "order": null,
            "_view_module_version": "1.2.0",
            "grid_template_areas": null,
            "object_position": null,
            "object_fit": null,
            "grid_auto_columns": null,
            "margin": null,
            "display": null,
            "left": null
          }
        },
        "d4078b019bc94fdf8d058f1543593e54": {
          "model_module": "@jupyter-widgets/controls",
          "model_name": "IntProgressModel",
          "state": {
            "_view_name": "ProgressView",
            "style": "IPY_MODEL_c0e4cceb14e24e15bd8c09c74f499f58",
            "_dom_classes": [],
            "description": "",
            "_model_name": "IntProgressModel",
            "bar_style": "success",
            "max": 245,
            "_view_module": "@jupyter-widgets/controls",
            "_model_module_version": "1.5.0",
            "value": 245,
            "_view_count": null,
            "_view_module_version": "1.5.0",
            "orientation": "horizontal",
            "min": 0,
            "description_tooltip": null,
            "_model_module": "@jupyter-widgets/controls",
            "layout": "IPY_MODEL_c299f147668243af9ff64227062717ad"
          }
        },
        "4b91ae75d8a64112b6a7a93b835aa4b9": {
          "model_module": "@jupyter-widgets/controls",
          "model_name": "HTMLModel",
          "state": {
            "_view_name": "HTMLView",
            "style": "IPY_MODEL_8cf1b7ca75074d8a8baaa6f987fe1865",
            "_dom_classes": [],
            "description": "",
            "_model_name": "HTMLModel",
            "placeholder": "​",
            "_view_module": "@jupyter-widgets/controls",
            "_model_module_version": "1.5.0",
            "value": "100% 245/245 [00:00&lt;00:00, 2372.67it/s]",
            "_view_count": null,
            "_view_module_version": "1.5.0",
            "description_tooltip": null,
            "_model_module": "@jupyter-widgets/controls",
            "layout": "IPY_MODEL_842a6fcc58694191b1d5ac9ac0dbff16"
          }
        },
        "c0e4cceb14e24e15bd8c09c74f499f58": {
          "model_module": "@jupyter-widgets/controls",
          "model_name": "ProgressStyleModel",
          "state": {
            "_view_name": "StyleView",
            "_model_name": "ProgressStyleModel",
            "description_width": "",
            "_view_module": "@jupyter-widgets/base",
            "_model_module_version": "1.5.0",
            "_view_count": null,
            "_view_module_version": "1.2.0",
            "bar_color": null,
            "_model_module": "@jupyter-widgets/controls"
          }
        },
        "c299f147668243af9ff64227062717ad": {
          "model_module": "@jupyter-widgets/base",
          "model_name": "LayoutModel",
          "state": {
            "_view_name": "LayoutView",
            "grid_template_rows": null,
            "right": null,
            "justify_content": null,
            "_view_module": "@jupyter-widgets/base",
            "overflow": null,
            "_model_module_version": "1.2.0",
            "_view_count": null,
            "flex_flow": null,
            "width": null,
            "min_width": null,
            "border": null,
            "align_items": null,
            "bottom": null,
            "_model_module": "@jupyter-widgets/base",
            "top": null,
            "grid_column": null,
            "overflow_y": null,
            "overflow_x": null,
            "grid_auto_flow": null,
            "grid_area": null,
            "grid_template_columns": null,
            "flex": null,
            "_model_name": "LayoutModel",
            "justify_items": null,
            "grid_row": null,
            "max_height": null,
            "align_content": null,
            "visibility": null,
            "align_self": null,
            "height": null,
            "min_height": null,
            "padding": null,
            "grid_auto_rows": null,
            "grid_gap": null,
            "max_width": null,
            "order": null,
            "_view_module_version": "1.2.0",
            "grid_template_areas": null,
            "object_position": null,
            "object_fit": null,
            "grid_auto_columns": null,
            "margin": null,
            "display": null,
            "left": null
          }
        },
        "8cf1b7ca75074d8a8baaa6f987fe1865": {
          "model_module": "@jupyter-widgets/controls",
          "model_name": "DescriptionStyleModel",
          "state": {
            "_view_name": "StyleView",
            "_model_name": "DescriptionStyleModel",
            "description_width": "",
            "_view_module": "@jupyter-widgets/base",
            "_model_module_version": "1.5.0",
            "_view_count": null,
            "_view_module_version": "1.2.0",
            "_model_module": "@jupyter-widgets/controls"
          }
        },
        "842a6fcc58694191b1d5ac9ac0dbff16": {
          "model_module": "@jupyter-widgets/base",
          "model_name": "LayoutModel",
          "state": {
            "_view_name": "LayoutView",
            "grid_template_rows": null,
            "right": null,
            "justify_content": null,
            "_view_module": "@jupyter-widgets/base",
            "overflow": null,
            "_model_module_version": "1.2.0",
            "_view_count": null,
            "flex_flow": null,
            "width": null,
            "min_width": null,
            "border": null,
            "align_items": null,
            "bottom": null,
            "_model_module": "@jupyter-widgets/base",
            "top": null,
            "grid_column": null,
            "overflow_y": null,
            "overflow_x": null,
            "grid_auto_flow": null,
            "grid_area": null,
            "grid_template_columns": null,
            "flex": null,
            "_model_name": "LayoutModel",
            "justify_items": null,
            "grid_row": null,
            "max_height": null,
            "align_content": null,
            "visibility": null,
            "align_self": null,
            "height": null,
            "min_height": null,
            "padding": null,
            "grid_auto_rows": null,
            "grid_gap": null,
            "max_width": null,
            "order": null,
            "_view_module_version": "1.2.0",
            "grid_template_areas": null,
            "object_position": null,
            "object_fit": null,
            "grid_auto_columns": null,
            "margin": null,
            "display": null,
            "left": null
          }
        },
        "70aa4ce014c74be98ae9135323935404": {
          "model_module": "@jupyter-widgets/controls",
          "model_name": "HBoxModel",
          "state": {
            "_view_name": "HBoxView",
            "_dom_classes": [],
            "_model_name": "HBoxModel",
            "_view_module": "@jupyter-widgets/controls",
            "_model_module_version": "1.5.0",
            "_view_count": null,
            "_view_module_version": "1.5.0",
            "box_style": "",
            "layout": "IPY_MODEL_4fee9f8798c2491588d84cc4cd84c079",
            "_model_module": "@jupyter-widgets/controls",
            "children": [
              "IPY_MODEL_324533b3d44e4e21b114da90cf5d71bd",
              "IPY_MODEL_8413d60fc8114fd2bbefb4e824a7d645"
            ]
          }
        },
        "4fee9f8798c2491588d84cc4cd84c079": {
          "model_module": "@jupyter-widgets/base",
          "model_name": "LayoutModel",
          "state": {
            "_view_name": "LayoutView",
            "grid_template_rows": null,
            "right": null,
            "justify_content": null,
            "_view_module": "@jupyter-widgets/base",
            "overflow": null,
            "_model_module_version": "1.2.0",
            "_view_count": null,
            "flex_flow": null,
            "width": null,
            "min_width": null,
            "border": null,
            "align_items": null,
            "bottom": null,
            "_model_module": "@jupyter-widgets/base",
            "top": null,
            "grid_column": null,
            "overflow_y": null,
            "overflow_x": null,
            "grid_auto_flow": null,
            "grid_area": null,
            "grid_template_columns": null,
            "flex": null,
            "_model_name": "LayoutModel",
            "justify_items": null,
            "grid_row": null,
            "max_height": null,
            "align_content": null,
            "visibility": null,
            "align_self": null,
            "height": null,
            "min_height": null,
            "padding": null,
            "grid_auto_rows": null,
            "grid_gap": null,
            "max_width": null,
            "order": null,
            "_view_module_version": "1.2.0",
            "grid_template_areas": null,
            "object_position": null,
            "object_fit": null,
            "grid_auto_columns": null,
            "margin": null,
            "display": null,
            "left": null
          }
        },
        "324533b3d44e4e21b114da90cf5d71bd": {
          "model_module": "@jupyter-widgets/controls",
          "model_name": "IntProgressModel",
          "state": {
            "_view_name": "ProgressView",
            "style": "IPY_MODEL_a667518819a74dca916520fba0cd80fe",
            "_dom_classes": [],
            "description": "",
            "_model_name": "IntProgressModel",
            "bar_style": "success",
            "max": 31,
            "_view_module": "@jupyter-widgets/controls",
            "_model_module_version": "1.5.0",
            "value": 31,
            "_view_count": null,
            "_view_module_version": "1.5.0",
            "orientation": "horizontal",
            "min": 0,
            "description_tooltip": null,
            "_model_module": "@jupyter-widgets/controls",
            "layout": "IPY_MODEL_739583279d0a43e194ab0d7e85c588ae"
          }
        },
        "8413d60fc8114fd2bbefb4e824a7d645": {
          "model_module": "@jupyter-widgets/controls",
          "model_name": "HTMLModel",
          "state": {
            "_view_name": "HTMLView",
            "style": "IPY_MODEL_248c3a9ccf334e1381ec5aaa1ae127d8",
            "_dom_classes": [],
            "description": "",
            "_model_name": "HTMLModel",
            "placeholder": "​",
            "_view_module": "@jupyter-widgets/controls",
            "_model_module_version": "1.5.0",
            "value": "100% 31/31 [00:08&lt;00:00,  3.54it/s]",
            "_view_count": null,
            "_view_module_version": "1.5.0",
            "description_tooltip": null,
            "_model_module": "@jupyter-widgets/controls",
            "layout": "IPY_MODEL_ff42a03ef4874c7eac0a9463e1fa4645"
          }
        },
        "a667518819a74dca916520fba0cd80fe": {
          "model_module": "@jupyter-widgets/controls",
          "model_name": "ProgressStyleModel",
          "state": {
            "_view_name": "StyleView",
            "_model_name": "ProgressStyleModel",
            "description_width": "",
            "_view_module": "@jupyter-widgets/base",
            "_model_module_version": "1.5.0",
            "_view_count": null,
            "_view_module_version": "1.2.0",
            "bar_color": null,
            "_model_module": "@jupyter-widgets/controls"
          }
        },
        "739583279d0a43e194ab0d7e85c588ae": {
          "model_module": "@jupyter-widgets/base",
          "model_name": "LayoutModel",
          "state": {
            "_view_name": "LayoutView",
            "grid_template_rows": null,
            "right": null,
            "justify_content": null,
            "_view_module": "@jupyter-widgets/base",
            "overflow": null,
            "_model_module_version": "1.2.0",
            "_view_count": null,
            "flex_flow": null,
            "width": null,
            "min_width": null,
            "border": null,
            "align_items": null,
            "bottom": null,
            "_model_module": "@jupyter-widgets/base",
            "top": null,
            "grid_column": null,
            "overflow_y": null,
            "overflow_x": null,
            "grid_auto_flow": null,
            "grid_area": null,
            "grid_template_columns": null,
            "flex": null,
            "_model_name": "LayoutModel",
            "justify_items": null,
            "grid_row": null,
            "max_height": null,
            "align_content": null,
            "visibility": null,
            "align_self": null,
            "height": null,
            "min_height": null,
            "padding": null,
            "grid_auto_rows": null,
            "grid_gap": null,
            "max_width": null,
            "order": null,
            "_view_module_version": "1.2.0",
            "grid_template_areas": null,
            "object_position": null,
            "object_fit": null,
            "grid_auto_columns": null,
            "margin": null,
            "display": null,
            "left": null
          }
        },
        "248c3a9ccf334e1381ec5aaa1ae127d8": {
          "model_module": "@jupyter-widgets/controls",
          "model_name": "DescriptionStyleModel",
          "state": {
            "_view_name": "StyleView",
            "_model_name": "DescriptionStyleModel",
            "description_width": "",
            "_view_module": "@jupyter-widgets/base",
            "_model_module_version": "1.5.0",
            "_view_count": null,
            "_view_module_version": "1.2.0",
            "_model_module": "@jupyter-widgets/controls"
          }
        },
        "ff42a03ef4874c7eac0a9463e1fa4645": {
          "model_module": "@jupyter-widgets/base",
          "model_name": "LayoutModel",
          "state": {
            "_view_name": "LayoutView",
            "grid_template_rows": null,
            "right": null,
            "justify_content": null,
            "_view_module": "@jupyter-widgets/base",
            "overflow": null,
            "_model_module_version": "1.2.0",
            "_view_count": null,
            "flex_flow": null,
            "width": null,
            "min_width": null,
            "border": null,
            "align_items": null,
            "bottom": null,
            "_model_module": "@jupyter-widgets/base",
            "top": null,
            "grid_column": null,
            "overflow_y": null,
            "overflow_x": null,
            "grid_auto_flow": null,
            "grid_area": null,
            "grid_template_columns": null,
            "flex": null,
            "_model_name": "LayoutModel",
            "justify_items": null,
            "grid_row": null,
            "max_height": null,
            "align_content": null,
            "visibility": null,
            "align_self": null,
            "height": null,
            "min_height": null,
            "padding": null,
            "grid_auto_rows": null,
            "grid_gap": null,
            "max_width": null,
            "order": null,
            "_view_module_version": "1.2.0",
            "grid_template_areas": null,
            "object_position": null,
            "object_fit": null,
            "grid_auto_columns": null,
            "margin": null,
            "display": null,
            "left": null
          }
        },
        "fa80c7b5399747b4b4ee5b136d34a507": {
          "model_module": "@jupyter-widgets/controls",
          "model_name": "HBoxModel",
          "state": {
            "_view_name": "HBoxView",
            "_dom_classes": [],
            "_model_name": "HBoxModel",
            "_view_module": "@jupyter-widgets/controls",
            "_model_module_version": "1.5.0",
            "_view_count": null,
            "_view_module_version": "1.5.0",
            "box_style": "",
            "layout": "IPY_MODEL_34b340971c29438cb05c6e6b17ddc9cb",
            "_model_module": "@jupyter-widgets/controls",
            "children": [
              "IPY_MODEL_7aa0242d6e47401ba8acda072218970c",
              "IPY_MODEL_909b0d7736554f86a4ab42fe8a4a931f"
            ]
          }
        },
        "34b340971c29438cb05c6e6b17ddc9cb": {
          "model_module": "@jupyter-widgets/base",
          "model_name": "LayoutModel",
          "state": {
            "_view_name": "LayoutView",
            "grid_template_rows": null,
            "right": null,
            "justify_content": null,
            "_view_module": "@jupyter-widgets/base",
            "overflow": null,
            "_model_module_version": "1.2.0",
            "_view_count": null,
            "flex_flow": null,
            "width": null,
            "min_width": null,
            "border": null,
            "align_items": null,
            "bottom": null,
            "_model_module": "@jupyter-widgets/base",
            "top": null,
            "grid_column": null,
            "overflow_y": null,
            "overflow_x": null,
            "grid_auto_flow": null,
            "grid_area": null,
            "grid_template_columns": null,
            "flex": null,
            "_model_name": "LayoutModel",
            "justify_items": null,
            "grid_row": null,
            "max_height": null,
            "align_content": null,
            "visibility": null,
            "align_self": null,
            "height": null,
            "min_height": null,
            "padding": null,
            "grid_auto_rows": null,
            "grid_gap": null,
            "max_width": null,
            "order": null,
            "_view_module_version": "1.2.0",
            "grid_template_areas": null,
            "object_position": null,
            "object_fit": null,
            "grid_auto_columns": null,
            "margin": null,
            "display": null,
            "left": null
          }
        },
        "7aa0242d6e47401ba8acda072218970c": {
          "model_module": "@jupyter-widgets/controls",
          "model_name": "IntProgressModel",
          "state": {
            "_view_name": "ProgressView",
            "style": "IPY_MODEL_9562ce3fa883491a9f6c9c2817494306",
            "_dom_classes": [],
            "description": "",
            "_model_name": "IntProgressModel",
            "bar_style": "success",
            "max": 1,
            "_view_module": "@jupyter-widgets/controls",
            "_model_module_version": "1.5.0",
            "value": 1,
            "_view_count": null,
            "_view_module_version": "1.5.0",
            "orientation": "horizontal",
            "min": 0,
            "description_tooltip": null,
            "_model_module": "@jupyter-widgets/controls",
            "layout": "IPY_MODEL_309f0b4338dc44e783436c7a59bd4b6e"
          }
        },
        "909b0d7736554f86a4ab42fe8a4a931f": {
          "model_module": "@jupyter-widgets/controls",
          "model_name": "HTMLModel",
          "state": {
            "_view_name": "HTMLView",
            "style": "IPY_MODEL_b975357429e541018dfe458292ffbd57",
            "_dom_classes": [],
            "description": "",
            "_model_name": "HTMLModel",
            "placeholder": "​",
            "_view_module": "@jupyter-widgets/controls",
            "_model_module_version": "1.5.0",
            "value": "100% 1/1 [00:00&lt;00:00, 17.26it/s]",
            "_view_count": null,
            "_view_module_version": "1.5.0",
            "description_tooltip": null,
            "_model_module": "@jupyter-widgets/controls",
            "layout": "IPY_MODEL_d9ae5637ac804a898e9b1fafec96104b"
          }
        },
        "9562ce3fa883491a9f6c9c2817494306": {
          "model_module": "@jupyter-widgets/controls",
          "model_name": "ProgressStyleModel",
          "state": {
            "_view_name": "StyleView",
            "_model_name": "ProgressStyleModel",
            "description_width": "",
            "_view_module": "@jupyter-widgets/base",
            "_model_module_version": "1.5.0",
            "_view_count": null,
            "_view_module_version": "1.2.0",
            "bar_color": null,
            "_model_module": "@jupyter-widgets/controls"
          }
        },
        "309f0b4338dc44e783436c7a59bd4b6e": {
          "model_module": "@jupyter-widgets/base",
          "model_name": "LayoutModel",
          "state": {
            "_view_name": "LayoutView",
            "grid_template_rows": null,
            "right": null,
            "justify_content": null,
            "_view_module": "@jupyter-widgets/base",
            "overflow": null,
            "_model_module_version": "1.2.0",
            "_view_count": null,
            "flex_flow": null,
            "width": null,
            "min_width": null,
            "border": null,
            "align_items": null,
            "bottom": null,
            "_model_module": "@jupyter-widgets/base",
            "top": null,
            "grid_column": null,
            "overflow_y": null,
            "overflow_x": null,
            "grid_auto_flow": null,
            "grid_area": null,
            "grid_template_columns": null,
            "flex": null,
            "_model_name": "LayoutModel",
            "justify_items": null,
            "grid_row": null,
            "max_height": null,
            "align_content": null,
            "visibility": null,
            "align_self": null,
            "height": null,
            "min_height": null,
            "padding": null,
            "grid_auto_rows": null,
            "grid_gap": null,
            "max_width": null,
            "order": null,
            "_view_module_version": "1.2.0",
            "grid_template_areas": null,
            "object_position": null,
            "object_fit": null,
            "grid_auto_columns": null,
            "margin": null,
            "display": null,
            "left": null
          }
        },
        "b975357429e541018dfe458292ffbd57": {
          "model_module": "@jupyter-widgets/controls",
          "model_name": "DescriptionStyleModel",
          "state": {
            "_view_name": "StyleView",
            "_model_name": "DescriptionStyleModel",
            "description_width": "",
            "_view_module": "@jupyter-widgets/base",
            "_model_module_version": "1.5.0",
            "_view_count": null,
            "_view_module_version": "1.2.0",
            "_model_module": "@jupyter-widgets/controls"
          }
        },
        "d9ae5637ac804a898e9b1fafec96104b": {
          "model_module": "@jupyter-widgets/base",
          "model_name": "LayoutModel",
          "state": {
            "_view_name": "LayoutView",
            "grid_template_rows": null,
            "right": null,
            "justify_content": null,
            "_view_module": "@jupyter-widgets/base",
            "overflow": null,
            "_model_module_version": "1.2.0",
            "_view_count": null,
            "flex_flow": null,
            "width": null,
            "min_width": null,
            "border": null,
            "align_items": null,
            "bottom": null,
            "_model_module": "@jupyter-widgets/base",
            "top": null,
            "grid_column": null,
            "overflow_y": null,
            "overflow_x": null,
            "grid_auto_flow": null,
            "grid_area": null,
            "grid_template_columns": null,
            "flex": null,
            "_model_name": "LayoutModel",
            "justify_items": null,
            "grid_row": null,
            "max_height": null,
            "align_content": null,
            "visibility": null,
            "align_self": null,
            "height": null,
            "min_height": null,
            "padding": null,
            "grid_auto_rows": null,
            "grid_gap": null,
            "max_width": null,
            "order": null,
            "_view_module_version": "1.2.0",
            "grid_template_areas": null,
            "object_position": null,
            "object_fit": null,
            "grid_auto_columns": null,
            "margin": null,
            "display": null,
            "left": null
          }
        },
        "02dfd73a94744d1d878df26c2dafe15c": {
          "model_module": "@jupyter-widgets/controls",
          "model_name": "HBoxModel",
          "state": {
            "_view_name": "HBoxView",
            "_dom_classes": [],
            "_model_name": "HBoxModel",
            "_view_module": "@jupyter-widgets/controls",
            "_model_module_version": "1.5.0",
            "_view_count": null,
            "_view_module_version": "1.5.0",
            "box_style": "",
            "layout": "IPY_MODEL_dde2a38a79654aaf858f2e02e3905b0c",
            "_model_module": "@jupyter-widgets/controls",
            "children": [
              "IPY_MODEL_6ed66a20949442acbcb76dacab4aeae0",
              "IPY_MODEL_6ed64c552da54a1d8a7d89ac59984582"
            ]
          }
        },
        "dde2a38a79654aaf858f2e02e3905b0c": {
          "model_module": "@jupyter-widgets/base",
          "model_name": "LayoutModel",
          "state": {
            "_view_name": "LayoutView",
            "grid_template_rows": null,
            "right": null,
            "justify_content": null,
            "_view_module": "@jupyter-widgets/base",
            "overflow": null,
            "_model_module_version": "1.2.0",
            "_view_count": null,
            "flex_flow": null,
            "width": null,
            "min_width": null,
            "border": null,
            "align_items": null,
            "bottom": null,
            "_model_module": "@jupyter-widgets/base",
            "top": null,
            "grid_column": null,
            "overflow_y": null,
            "overflow_x": null,
            "grid_auto_flow": null,
            "grid_area": null,
            "grid_template_columns": null,
            "flex": null,
            "_model_name": "LayoutModel",
            "justify_items": null,
            "grid_row": null,
            "max_height": null,
            "align_content": null,
            "visibility": null,
            "align_self": null,
            "height": null,
            "min_height": null,
            "padding": null,
            "grid_auto_rows": null,
            "grid_gap": null,
            "max_width": null,
            "order": null,
            "_view_module_version": "1.2.0",
            "grid_template_areas": null,
            "object_position": null,
            "object_fit": null,
            "grid_auto_columns": null,
            "margin": null,
            "display": null,
            "left": null
          }
        },
        "6ed66a20949442acbcb76dacab4aeae0": {
          "model_module": "@jupyter-widgets/controls",
          "model_name": "IntProgressModel",
          "state": {
            "_view_name": "ProgressView",
            "style": "IPY_MODEL_5b11d2ea0158453eb2a23461f36e0ce6",
            "_dom_classes": [],
            "description": "",
            "_model_name": "IntProgressModel",
            "bar_style": "success",
            "max": 1,
            "_view_module": "@jupyter-widgets/controls",
            "_model_module_version": "1.5.0",
            "value": 1,
            "_view_count": null,
            "_view_module_version": "1.5.0",
            "orientation": "horizontal",
            "min": 0,
            "description_tooltip": null,
            "_model_module": "@jupyter-widgets/controls",
            "layout": "IPY_MODEL_9808ae3426f94bd0b850a53be7e38de8"
          }
        },
        "6ed64c552da54a1d8a7d89ac59984582": {
          "model_module": "@jupyter-widgets/controls",
          "model_name": "HTMLModel",
          "state": {
            "_view_name": "HTMLView",
            "style": "IPY_MODEL_572464c57ea043bc96723efc8dbd2b42",
            "_dom_classes": [],
            "description": "",
            "_model_name": "HTMLModel",
            "placeholder": "​",
            "_view_module": "@jupyter-widgets/controls",
            "_model_module_version": "1.5.0",
            "value": "100% 1/1 [00:00&lt;00:00,  2.10it/s]",
            "_view_count": null,
            "_view_module_version": "1.5.0",
            "description_tooltip": null,
            "_model_module": "@jupyter-widgets/controls",
            "layout": "IPY_MODEL_b29689f9597c4c798957644241370f35"
          }
        },
        "5b11d2ea0158453eb2a23461f36e0ce6": {
          "model_module": "@jupyter-widgets/controls",
          "model_name": "ProgressStyleModel",
          "state": {
            "_view_name": "StyleView",
            "_model_name": "ProgressStyleModel",
            "description_width": "",
            "_view_module": "@jupyter-widgets/base",
            "_model_module_version": "1.5.0",
            "_view_count": null,
            "_view_module_version": "1.2.0",
            "bar_color": null,
            "_model_module": "@jupyter-widgets/controls"
          }
        },
        "9808ae3426f94bd0b850a53be7e38de8": {
          "model_module": "@jupyter-widgets/base",
          "model_name": "LayoutModel",
          "state": {
            "_view_name": "LayoutView",
            "grid_template_rows": null,
            "right": null,
            "justify_content": null,
            "_view_module": "@jupyter-widgets/base",
            "overflow": null,
            "_model_module_version": "1.2.0",
            "_view_count": null,
            "flex_flow": null,
            "width": null,
            "min_width": null,
            "border": null,
            "align_items": null,
            "bottom": null,
            "_model_module": "@jupyter-widgets/base",
            "top": null,
            "grid_column": null,
            "overflow_y": null,
            "overflow_x": null,
            "grid_auto_flow": null,
            "grid_area": null,
            "grid_template_columns": null,
            "flex": null,
            "_model_name": "LayoutModel",
            "justify_items": null,
            "grid_row": null,
            "max_height": null,
            "align_content": null,
            "visibility": null,
            "align_self": null,
            "height": null,
            "min_height": null,
            "padding": null,
            "grid_auto_rows": null,
            "grid_gap": null,
            "max_width": null,
            "order": null,
            "_view_module_version": "1.2.0",
            "grid_template_areas": null,
            "object_position": null,
            "object_fit": null,
            "grid_auto_columns": null,
            "margin": null,
            "display": null,
            "left": null
          }
        },
        "572464c57ea043bc96723efc8dbd2b42": {
          "model_module": "@jupyter-widgets/controls",
          "model_name": "DescriptionStyleModel",
          "state": {
            "_view_name": "StyleView",
            "_model_name": "DescriptionStyleModel",
            "description_width": "",
            "_view_module": "@jupyter-widgets/base",
            "_model_module_version": "1.5.0",
            "_view_count": null,
            "_view_module_version": "1.2.0",
            "_model_module": "@jupyter-widgets/controls"
          }
        },
        "b29689f9597c4c798957644241370f35": {
          "model_module": "@jupyter-widgets/base",
          "model_name": "LayoutModel",
          "state": {
            "_view_name": "LayoutView",
            "grid_template_rows": null,
            "right": null,
            "justify_content": null,
            "_view_module": "@jupyter-widgets/base",
            "overflow": null,
            "_model_module_version": "1.2.0",
            "_view_count": null,
            "flex_flow": null,
            "width": null,
            "min_width": null,
            "border": null,
            "align_items": null,
            "bottom": null,
            "_model_module": "@jupyter-widgets/base",
            "top": null,
            "grid_column": null,
            "overflow_y": null,
            "overflow_x": null,
            "grid_auto_flow": null,
            "grid_area": null,
            "grid_template_columns": null,
            "flex": null,
            "_model_name": "LayoutModel",
            "justify_items": null,
            "grid_row": null,
            "max_height": null,
            "align_content": null,
            "visibility": null,
            "align_self": null,
            "height": null,
            "min_height": null,
            "padding": null,
            "grid_auto_rows": null,
            "grid_gap": null,
            "max_width": null,
            "order": null,
            "_view_module_version": "1.2.0",
            "grid_template_areas": null,
            "object_position": null,
            "object_fit": null,
            "grid_auto_columns": null,
            "margin": null,
            "display": null,
            "left": null
          }
        },
        "4fc0e12e140e4194869abac60465276b": {
          "model_module": "@jupyter-widgets/controls",
          "model_name": "HBoxModel",
          "state": {
            "_view_name": "HBoxView",
            "_dom_classes": [],
            "_model_name": "HBoxModel",
            "_view_module": "@jupyter-widgets/controls",
            "_model_module_version": "1.5.0",
            "_view_count": null,
            "_view_module_version": "1.5.0",
            "box_style": "",
            "layout": "IPY_MODEL_10e4313ae3634ba386677dd7d99a2db0",
            "_model_module": "@jupyter-widgets/controls",
            "children": [
              "IPY_MODEL_ddfda92398fe4091b54e9945d215f2ab",
              "IPY_MODEL_49c134de660a41f18cc0ad3afcf39c14"
            ]
          }
        },
        "10e4313ae3634ba386677dd7d99a2db0": {
          "model_module": "@jupyter-widgets/base",
          "model_name": "LayoutModel",
          "state": {
            "_view_name": "LayoutView",
            "grid_template_rows": null,
            "right": null,
            "justify_content": null,
            "_view_module": "@jupyter-widgets/base",
            "overflow": null,
            "_model_module_version": "1.2.0",
            "_view_count": null,
            "flex_flow": null,
            "width": null,
            "min_width": null,
            "border": null,
            "align_items": null,
            "bottom": null,
            "_model_module": "@jupyter-widgets/base",
            "top": null,
            "grid_column": null,
            "overflow_y": null,
            "overflow_x": null,
            "grid_auto_flow": null,
            "grid_area": null,
            "grid_template_columns": null,
            "flex": null,
            "_model_name": "LayoutModel",
            "justify_items": null,
            "grid_row": null,
            "max_height": null,
            "align_content": null,
            "visibility": null,
            "align_self": null,
            "height": null,
            "min_height": null,
            "padding": null,
            "grid_auto_rows": null,
            "grid_gap": null,
            "max_width": null,
            "order": null,
            "_view_module_version": "1.2.0",
            "grid_template_areas": null,
            "object_position": null,
            "object_fit": null,
            "grid_auto_columns": null,
            "margin": null,
            "display": null,
            "left": null
          }
        },
        "ddfda92398fe4091b54e9945d215f2ab": {
          "model_module": "@jupyter-widgets/controls",
          "model_name": "IntProgressModel",
          "state": {
            "_view_name": "ProgressView",
            "style": "IPY_MODEL_5700daa5ea074a3d82d6e26a77d60a67",
            "_dom_classes": [],
            "description": "",
            "_model_name": "IntProgressModel",
            "bar_style": "success",
            "max": 1,
            "_view_module": "@jupyter-widgets/controls",
            "_model_module_version": "1.5.0",
            "value": 1,
            "_view_count": null,
            "_view_module_version": "1.5.0",
            "orientation": "horizontal",
            "min": 0,
            "description_tooltip": null,
            "_model_module": "@jupyter-widgets/controls",
            "layout": "IPY_MODEL_e8c6e01ea12f4a80a36942193b33d1c2"
          }
        },
        "49c134de660a41f18cc0ad3afcf39c14": {
          "model_module": "@jupyter-widgets/controls",
          "model_name": "HTMLModel",
          "state": {
            "_view_name": "HTMLView",
            "style": "IPY_MODEL_98ed5297772b47fe9b9ddff22c976c70",
            "_dom_classes": [],
            "description": "",
            "_model_name": "HTMLModel",
            "placeholder": "​",
            "_view_module": "@jupyter-widgets/controls",
            "_model_module_version": "1.5.0",
            "value": "100% 1/1 [00:00&lt;00:00,  1.96it/s]",
            "_view_count": null,
            "_view_module_version": "1.5.0",
            "description_tooltip": null,
            "_model_module": "@jupyter-widgets/controls",
            "layout": "IPY_MODEL_fc3280e0188c4bd2bee2f3ee7987f9d8"
          }
        },
        "5700daa5ea074a3d82d6e26a77d60a67": {
          "model_module": "@jupyter-widgets/controls",
          "model_name": "ProgressStyleModel",
          "state": {
            "_view_name": "StyleView",
            "_model_name": "ProgressStyleModel",
            "description_width": "",
            "_view_module": "@jupyter-widgets/base",
            "_model_module_version": "1.5.0",
            "_view_count": null,
            "_view_module_version": "1.2.0",
            "bar_color": null,
            "_model_module": "@jupyter-widgets/controls"
          }
        },
        "e8c6e01ea12f4a80a36942193b33d1c2": {
          "model_module": "@jupyter-widgets/base",
          "model_name": "LayoutModel",
          "state": {
            "_view_name": "LayoutView",
            "grid_template_rows": null,
            "right": null,
            "justify_content": null,
            "_view_module": "@jupyter-widgets/base",
            "overflow": null,
            "_model_module_version": "1.2.0",
            "_view_count": null,
            "flex_flow": null,
            "width": null,
            "min_width": null,
            "border": null,
            "align_items": null,
            "bottom": null,
            "_model_module": "@jupyter-widgets/base",
            "top": null,
            "grid_column": null,
            "overflow_y": null,
            "overflow_x": null,
            "grid_auto_flow": null,
            "grid_area": null,
            "grid_template_columns": null,
            "flex": null,
            "_model_name": "LayoutModel",
            "justify_items": null,
            "grid_row": null,
            "max_height": null,
            "align_content": null,
            "visibility": null,
            "align_self": null,
            "height": null,
            "min_height": null,
            "padding": null,
            "grid_auto_rows": null,
            "grid_gap": null,
            "max_width": null,
            "order": null,
            "_view_module_version": "1.2.0",
            "grid_template_areas": null,
            "object_position": null,
            "object_fit": null,
            "grid_auto_columns": null,
            "margin": null,
            "display": null,
            "left": null
          }
        },
        "98ed5297772b47fe9b9ddff22c976c70": {
          "model_module": "@jupyter-widgets/controls",
          "model_name": "DescriptionStyleModel",
          "state": {
            "_view_name": "StyleView",
            "_model_name": "DescriptionStyleModel",
            "description_width": "",
            "_view_module": "@jupyter-widgets/base",
            "_model_module_version": "1.5.0",
            "_view_count": null,
            "_view_module_version": "1.2.0",
            "_model_module": "@jupyter-widgets/controls"
          }
        },
        "fc3280e0188c4bd2bee2f3ee7987f9d8": {
          "model_module": "@jupyter-widgets/base",
          "model_name": "LayoutModel",
          "state": {
            "_view_name": "LayoutView",
            "grid_template_rows": null,
            "right": null,
            "justify_content": null,
            "_view_module": "@jupyter-widgets/base",
            "overflow": null,
            "_model_module_version": "1.2.0",
            "_view_count": null,
            "flex_flow": null,
            "width": null,
            "min_width": null,
            "border": null,
            "align_items": null,
            "bottom": null,
            "_model_module": "@jupyter-widgets/base",
            "top": null,
            "grid_column": null,
            "overflow_y": null,
            "overflow_x": null,
            "grid_auto_flow": null,
            "grid_area": null,
            "grid_template_columns": null,
            "flex": null,
            "_model_name": "LayoutModel",
            "justify_items": null,
            "grid_row": null,
            "max_height": null,
            "align_content": null,
            "visibility": null,
            "align_self": null,
            "height": null,
            "min_height": null,
            "padding": null,
            "grid_auto_rows": null,
            "grid_gap": null,
            "max_width": null,
            "order": null,
            "_view_module_version": "1.2.0",
            "grid_template_areas": null,
            "object_position": null,
            "object_fit": null,
            "grid_auto_columns": null,
            "margin": null,
            "display": null,
            "left": null
          }
        },
        "ae68783f7bb9404fa6ca0ec92480a233": {
          "model_module": "@jupyter-widgets/controls",
          "model_name": "HBoxModel",
          "state": {
            "_view_name": "HBoxView",
            "_dom_classes": [],
            "_model_name": "HBoxModel",
            "_view_module": "@jupyter-widgets/controls",
            "_model_module_version": "1.5.0",
            "_view_count": null,
            "_view_module_version": "1.5.0",
            "box_style": "",
            "layout": "IPY_MODEL_c011210d47bf4d7bb9a7e0ff9658fbc8",
            "_model_module": "@jupyter-widgets/controls",
            "children": [
              "IPY_MODEL_d3e5000286e74714b56079b1e7673eb2",
              "IPY_MODEL_d403c59dd53c4ccb845a0681f90eb5c4"
            ]
          }
        },
        "c011210d47bf4d7bb9a7e0ff9658fbc8": {
          "model_module": "@jupyter-widgets/base",
          "model_name": "LayoutModel",
          "state": {
            "_view_name": "LayoutView",
            "grid_template_rows": null,
            "right": null,
            "justify_content": null,
            "_view_module": "@jupyter-widgets/base",
            "overflow": null,
            "_model_module_version": "1.2.0",
            "_view_count": null,
            "flex_flow": null,
            "width": null,
            "min_width": null,
            "border": null,
            "align_items": null,
            "bottom": null,
            "_model_module": "@jupyter-widgets/base",
            "top": null,
            "grid_column": null,
            "overflow_y": null,
            "overflow_x": null,
            "grid_auto_flow": null,
            "grid_area": null,
            "grid_template_columns": null,
            "flex": null,
            "_model_name": "LayoutModel",
            "justify_items": null,
            "grid_row": null,
            "max_height": null,
            "align_content": null,
            "visibility": null,
            "align_self": null,
            "height": null,
            "min_height": null,
            "padding": null,
            "grid_auto_rows": null,
            "grid_gap": null,
            "max_width": null,
            "order": null,
            "_view_module_version": "1.2.0",
            "grid_template_areas": null,
            "object_position": null,
            "object_fit": null,
            "grid_auto_columns": null,
            "margin": null,
            "display": null,
            "left": null
          }
        },
        "d3e5000286e74714b56079b1e7673eb2": {
          "model_module": "@jupyter-widgets/controls",
          "model_name": "IntProgressModel",
          "state": {
            "_view_name": "ProgressView",
            "style": "IPY_MODEL_c6f43fbeb19e427e9b48e2f3910d4375",
            "_dom_classes": [],
            "description": "",
            "_model_name": "IntProgressModel",
            "bar_style": "success",
            "max": 1,
            "_view_module": "@jupyter-widgets/controls",
            "_model_module_version": "1.5.0",
            "value": 1,
            "_view_count": null,
            "_view_module_version": "1.5.0",
            "orientation": "horizontal",
            "min": 0,
            "description_tooltip": null,
            "_model_module": "@jupyter-widgets/controls",
            "layout": "IPY_MODEL_f4c72c97d5c04ebf9449759969514e72"
          }
        },
        "d403c59dd53c4ccb845a0681f90eb5c4": {
          "model_module": "@jupyter-widgets/controls",
          "model_name": "HTMLModel",
          "state": {
            "_view_name": "HTMLView",
            "style": "IPY_MODEL_5cb81b1636a84b48931141637b329354",
            "_dom_classes": [],
            "description": "",
            "_model_name": "HTMLModel",
            "placeholder": "​",
            "_view_module": "@jupyter-widgets/controls",
            "_model_module_version": "1.5.0",
            "value": "100% 1/1 [00:00&lt;00:00,  2.00it/s]",
            "_view_count": null,
            "_view_module_version": "1.5.0",
            "description_tooltip": null,
            "_model_module": "@jupyter-widgets/controls",
            "layout": "IPY_MODEL_9a5b6adec8f048d9919d431895041f6b"
          }
        },
        "c6f43fbeb19e427e9b48e2f3910d4375": {
          "model_module": "@jupyter-widgets/controls",
          "model_name": "ProgressStyleModel",
          "state": {
            "_view_name": "StyleView",
            "_model_name": "ProgressStyleModel",
            "description_width": "",
            "_view_module": "@jupyter-widgets/base",
            "_model_module_version": "1.5.0",
            "_view_count": null,
            "_view_module_version": "1.2.0",
            "bar_color": null,
            "_model_module": "@jupyter-widgets/controls"
          }
        },
        "f4c72c97d5c04ebf9449759969514e72": {
          "model_module": "@jupyter-widgets/base",
          "model_name": "LayoutModel",
          "state": {
            "_view_name": "LayoutView",
            "grid_template_rows": null,
            "right": null,
            "justify_content": null,
            "_view_module": "@jupyter-widgets/base",
            "overflow": null,
            "_model_module_version": "1.2.0",
            "_view_count": null,
            "flex_flow": null,
            "width": null,
            "min_width": null,
            "border": null,
            "align_items": null,
            "bottom": null,
            "_model_module": "@jupyter-widgets/base",
            "top": null,
            "grid_column": null,
            "overflow_y": null,
            "overflow_x": null,
            "grid_auto_flow": null,
            "grid_area": null,
            "grid_template_columns": null,
            "flex": null,
            "_model_name": "LayoutModel",
            "justify_items": null,
            "grid_row": null,
            "max_height": null,
            "align_content": null,
            "visibility": null,
            "align_self": null,
            "height": null,
            "min_height": null,
            "padding": null,
            "grid_auto_rows": null,
            "grid_gap": null,
            "max_width": null,
            "order": null,
            "_view_module_version": "1.2.0",
            "grid_template_areas": null,
            "object_position": null,
            "object_fit": null,
            "grid_auto_columns": null,
            "margin": null,
            "display": null,
            "left": null
          }
        },
        "5cb81b1636a84b48931141637b329354": {
          "model_module": "@jupyter-widgets/controls",
          "model_name": "DescriptionStyleModel",
          "state": {
            "_view_name": "StyleView",
            "_model_name": "DescriptionStyleModel",
            "description_width": "",
            "_view_module": "@jupyter-widgets/base",
            "_model_module_version": "1.5.0",
            "_view_count": null,
            "_view_module_version": "1.2.0",
            "_model_module": "@jupyter-widgets/controls"
          }
        },
        "9a5b6adec8f048d9919d431895041f6b": {
          "model_module": "@jupyter-widgets/base",
          "model_name": "LayoutModel",
          "state": {
            "_view_name": "LayoutView",
            "grid_template_rows": null,
            "right": null,
            "justify_content": null,
            "_view_module": "@jupyter-widgets/base",
            "overflow": null,
            "_model_module_version": "1.2.0",
            "_view_count": null,
            "flex_flow": null,
            "width": null,
            "min_width": null,
            "border": null,
            "align_items": null,
            "bottom": null,
            "_model_module": "@jupyter-widgets/base",
            "top": null,
            "grid_column": null,
            "overflow_y": null,
            "overflow_x": null,
            "grid_auto_flow": null,
            "grid_area": null,
            "grid_template_columns": null,
            "flex": null,
            "_model_name": "LayoutModel",
            "justify_items": null,
            "grid_row": null,
            "max_height": null,
            "align_content": null,
            "visibility": null,
            "align_self": null,
            "height": null,
            "min_height": null,
            "padding": null,
            "grid_auto_rows": null,
            "grid_gap": null,
            "max_width": null,
            "order": null,
            "_view_module_version": "1.2.0",
            "grid_template_areas": null,
            "object_position": null,
            "object_fit": null,
            "grid_auto_columns": null,
            "margin": null,
            "display": null,
            "left": null
          }
        },
        "491731165cbe41c3969e4aaeffcdf2bd": {
          "model_module": "@jupyter-widgets/controls",
          "model_name": "HBoxModel",
          "state": {
            "_view_name": "HBoxView",
            "_dom_classes": [],
            "_model_name": "HBoxModel",
            "_view_module": "@jupyter-widgets/controls",
            "_model_module_version": "1.5.0",
            "_view_count": null,
            "_view_module_version": "1.5.0",
            "box_style": "",
            "layout": "IPY_MODEL_308935cb89744c1aabb24dff54f1ceda",
            "_model_module": "@jupyter-widgets/controls",
            "children": [
              "IPY_MODEL_84450fea8e674876b0a75724921a61fd",
              "IPY_MODEL_24dd29e4f0ac4665851a13e1048a5dd3"
            ]
          }
        },
        "308935cb89744c1aabb24dff54f1ceda": {
          "model_module": "@jupyter-widgets/base",
          "model_name": "LayoutModel",
          "state": {
            "_view_name": "LayoutView",
            "grid_template_rows": null,
            "right": null,
            "justify_content": null,
            "_view_module": "@jupyter-widgets/base",
            "overflow": null,
            "_model_module_version": "1.2.0",
            "_view_count": null,
            "flex_flow": null,
            "width": null,
            "min_width": null,
            "border": null,
            "align_items": null,
            "bottom": null,
            "_model_module": "@jupyter-widgets/base",
            "top": null,
            "grid_column": null,
            "overflow_y": null,
            "overflow_x": null,
            "grid_auto_flow": null,
            "grid_area": null,
            "grid_template_columns": null,
            "flex": null,
            "_model_name": "LayoutModel",
            "justify_items": null,
            "grid_row": null,
            "max_height": null,
            "align_content": null,
            "visibility": null,
            "align_self": null,
            "height": null,
            "min_height": null,
            "padding": null,
            "grid_auto_rows": null,
            "grid_gap": null,
            "max_width": null,
            "order": null,
            "_view_module_version": "1.2.0",
            "grid_template_areas": null,
            "object_position": null,
            "object_fit": null,
            "grid_auto_columns": null,
            "margin": null,
            "display": null,
            "left": null
          }
        },
        "84450fea8e674876b0a75724921a61fd": {
          "model_module": "@jupyter-widgets/controls",
          "model_name": "IntProgressModel",
          "state": {
            "_view_name": "ProgressView",
            "style": "IPY_MODEL_81007ba48938464e9eb2ad51cef290aa",
            "_dom_classes": [],
            "description": "",
            "_model_name": "IntProgressModel",
            "bar_style": "success",
            "max": 1,
            "_view_module": "@jupyter-widgets/controls",
            "_model_module_version": "1.5.0",
            "value": 1,
            "_view_count": null,
            "_view_module_version": "1.5.0",
            "orientation": "horizontal",
            "min": 0,
            "description_tooltip": null,
            "_model_module": "@jupyter-widgets/controls",
            "layout": "IPY_MODEL_33f17b31b1b14207b3bccda71e2172d8"
          }
        },
        "24dd29e4f0ac4665851a13e1048a5dd3": {
          "model_module": "@jupyter-widgets/controls",
          "model_name": "HTMLModel",
          "state": {
            "_view_name": "HTMLView",
            "style": "IPY_MODEL_d10171da043f488087bb57e70dd03a6e",
            "_dom_classes": [],
            "description": "",
            "_model_name": "HTMLModel",
            "placeholder": "​",
            "_view_module": "@jupyter-widgets/controls",
            "_model_module_version": "1.5.0",
            "value": "100% 1/1 [00:00&lt;00:00,  1.63it/s]",
            "_view_count": null,
            "_view_module_version": "1.5.0",
            "description_tooltip": null,
            "_model_module": "@jupyter-widgets/controls",
            "layout": "IPY_MODEL_341bad4553984b5e9cae1067a5189627"
          }
        },
        "81007ba48938464e9eb2ad51cef290aa": {
          "model_module": "@jupyter-widgets/controls",
          "model_name": "ProgressStyleModel",
          "state": {
            "_view_name": "StyleView",
            "_model_name": "ProgressStyleModel",
            "description_width": "",
            "_view_module": "@jupyter-widgets/base",
            "_model_module_version": "1.5.0",
            "_view_count": null,
            "_view_module_version": "1.2.0",
            "bar_color": null,
            "_model_module": "@jupyter-widgets/controls"
          }
        },
        "33f17b31b1b14207b3bccda71e2172d8": {
          "model_module": "@jupyter-widgets/base",
          "model_name": "LayoutModel",
          "state": {
            "_view_name": "LayoutView",
            "grid_template_rows": null,
            "right": null,
            "justify_content": null,
            "_view_module": "@jupyter-widgets/base",
            "overflow": null,
            "_model_module_version": "1.2.0",
            "_view_count": null,
            "flex_flow": null,
            "width": null,
            "min_width": null,
            "border": null,
            "align_items": null,
            "bottom": null,
            "_model_module": "@jupyter-widgets/base",
            "top": null,
            "grid_column": null,
            "overflow_y": null,
            "overflow_x": null,
            "grid_auto_flow": null,
            "grid_area": null,
            "grid_template_columns": null,
            "flex": null,
            "_model_name": "LayoutModel",
            "justify_items": null,
            "grid_row": null,
            "max_height": null,
            "align_content": null,
            "visibility": null,
            "align_self": null,
            "height": null,
            "min_height": null,
            "padding": null,
            "grid_auto_rows": null,
            "grid_gap": null,
            "max_width": null,
            "order": null,
            "_view_module_version": "1.2.0",
            "grid_template_areas": null,
            "object_position": null,
            "object_fit": null,
            "grid_auto_columns": null,
            "margin": null,
            "display": null,
            "left": null
          }
        },
        "d10171da043f488087bb57e70dd03a6e": {
          "model_module": "@jupyter-widgets/controls",
          "model_name": "DescriptionStyleModel",
          "state": {
            "_view_name": "StyleView",
            "_model_name": "DescriptionStyleModel",
            "description_width": "",
            "_view_module": "@jupyter-widgets/base",
            "_model_module_version": "1.5.0",
            "_view_count": null,
            "_view_module_version": "1.2.0",
            "_model_module": "@jupyter-widgets/controls"
          }
        },
        "341bad4553984b5e9cae1067a5189627": {
          "model_module": "@jupyter-widgets/base",
          "model_name": "LayoutModel",
          "state": {
            "_view_name": "LayoutView",
            "grid_template_rows": null,
            "right": null,
            "justify_content": null,
            "_view_module": "@jupyter-widgets/base",
            "overflow": null,
            "_model_module_version": "1.2.0",
            "_view_count": null,
            "flex_flow": null,
            "width": null,
            "min_width": null,
            "border": null,
            "align_items": null,
            "bottom": null,
            "_model_module": "@jupyter-widgets/base",
            "top": null,
            "grid_column": null,
            "overflow_y": null,
            "overflow_x": null,
            "grid_auto_flow": null,
            "grid_area": null,
            "grid_template_columns": null,
            "flex": null,
            "_model_name": "LayoutModel",
            "justify_items": null,
            "grid_row": null,
            "max_height": null,
            "align_content": null,
            "visibility": null,
            "align_self": null,
            "height": null,
            "min_height": null,
            "padding": null,
            "grid_auto_rows": null,
            "grid_gap": null,
            "max_width": null,
            "order": null,
            "_view_module_version": "1.2.0",
            "grid_template_areas": null,
            "object_position": null,
            "object_fit": null,
            "grid_auto_columns": null,
            "margin": null,
            "display": null,
            "left": null
          }
        }
      }
    }
  },
  "cells": [
    {
      "cell_type": "markdown",
      "metadata": {
        "id": "view-in-github",
        "colab_type": "text"
      },
      "source": [
        "<a href=\"https://colab.research.google.com/github/ashaycclub/100DaysOfMLCode/blob/master/Bert_UStech.ipynb\" target=\"_parent\"><img src=\"https://colab.research.google.com/assets/colab-badge.svg\" alt=\"Open In Colab\"/></a>"
      ]
    },
    {
      "cell_type": "code",
      "metadata": {
        "id": "8cT9-KDf35OR",
        "colab_type": "code",
        "outputId": "f3659e95-24aa-4ca8-cf48-eedf6fed9715",
        "colab": {
          "base_uri": "https://localhost:8080/",
          "height": 675
        }
      },
      "source": [
        "!pip install transformers\n"
      ],
      "execution_count": 0,
      "outputs": [
        {
          "output_type": "stream",
          "text": [
            "Collecting transformers\n",
            "\u001b[?25l  Downloading https://files.pythonhosted.org/packages/a3/78/92cedda05552398352ed9784908b834ee32a0bd071a9b32de287327370b7/transformers-2.8.0-py3-none-any.whl (563kB)\n",
            "\r\u001b[K     |▋                               | 10kB 24.8MB/s eta 0:00:01\r\u001b[K     |█▏                              | 20kB 2.2MB/s eta 0:00:01\r\u001b[K     |█▊                              | 30kB 2.8MB/s eta 0:00:01\r\u001b[K     |██▎                             | 40kB 3.1MB/s eta 0:00:01\r\u001b[K     |███                             | 51kB 2.6MB/s eta 0:00:01\r\u001b[K     |███▌                            | 61kB 2.8MB/s eta 0:00:01\r\u001b[K     |████                            | 71kB 3.1MB/s eta 0:00:01\r\u001b[K     |████▋                           | 81kB 3.5MB/s eta 0:00:01\r\u001b[K     |█████▎                          | 92kB 3.6MB/s eta 0:00:01\r\u001b[K     |█████▉                          | 102kB 3.5MB/s eta 0:00:01\r\u001b[K     |██████▍                         | 112kB 3.5MB/s eta 0:00:01\r\u001b[K     |███████                         | 122kB 3.5MB/s eta 0:00:01\r\u001b[K     |███████▋                        | 133kB 3.5MB/s eta 0:00:01\r\u001b[K     |████████▏                       | 143kB 3.5MB/s eta 0:00:01\r\u001b[K     |████████▊                       | 153kB 3.5MB/s eta 0:00:01\r\u001b[K     |█████████▎                      | 163kB 3.5MB/s eta 0:00:01\r\u001b[K     |█████████▉                      | 174kB 3.5MB/s eta 0:00:01\r\u001b[K     |██████████▌                     | 184kB 3.5MB/s eta 0:00:01\r\u001b[K     |███████████                     | 194kB 3.5MB/s eta 0:00:01\r\u001b[K     |███████████▋                    | 204kB 3.5MB/s eta 0:00:01\r\u001b[K     |████████████▏                   | 215kB 3.5MB/s eta 0:00:01\r\u001b[K     |████████████▉                   | 225kB 3.5MB/s eta 0:00:01\r\u001b[K     |█████████████▍                  | 235kB 3.5MB/s eta 0:00:01\r\u001b[K     |██████████████                  | 245kB 3.5MB/s eta 0:00:01\r\u001b[K     |██████████████▌                 | 256kB 3.5MB/s eta 0:00:01\r\u001b[K     |███████████████▏                | 266kB 3.5MB/s eta 0:00:01\r\u001b[K     |███████████████▊                | 276kB 3.5MB/s eta 0:00:01\r\u001b[K     |████████████████▎               | 286kB 3.5MB/s eta 0:00:01\r\u001b[K     |████████████████▉               | 296kB 3.5MB/s eta 0:00:01\r\u001b[K     |█████████████████▍              | 307kB 3.5MB/s eta 0:00:01\r\u001b[K     |██████████████████              | 317kB 3.5MB/s eta 0:00:01\r\u001b[K     |██████████████████▋             | 327kB 3.5MB/s eta 0:00:01\r\u001b[K     |███████████████████▏            | 337kB 3.5MB/s eta 0:00:01\r\u001b[K     |███████████████████▊            | 348kB 3.5MB/s eta 0:00:01\r\u001b[K     |████████████████████▍           | 358kB 3.5MB/s eta 0:00:01\r\u001b[K     |█████████████████████           | 368kB 3.5MB/s eta 0:00:01\r\u001b[K     |█████████████████████▌          | 378kB 3.5MB/s eta 0:00:01\r\u001b[K     |██████████████████████          | 389kB 3.5MB/s eta 0:00:01\r\u001b[K     |██████████████████████▊         | 399kB 3.5MB/s eta 0:00:01\r\u001b[K     |███████████████████████▎        | 409kB 3.5MB/s eta 0:00:01\r\u001b[K     |███████████████████████▉        | 419kB 3.5MB/s eta 0:00:01\r\u001b[K     |████████████████████████▍       | 430kB 3.5MB/s eta 0:00:01\r\u001b[K     |█████████████████████████       | 440kB 3.5MB/s eta 0:00:01\r\u001b[K     |█████████████████████████▋      | 450kB 3.5MB/s eta 0:00:01\r\u001b[K     |██████████████████████████▏     | 460kB 3.5MB/s eta 0:00:01\r\u001b[K     |██████████████████████████▊     | 471kB 3.5MB/s eta 0:00:01\r\u001b[K     |███████████████████████████▎    | 481kB 3.5MB/s eta 0:00:01\r\u001b[K     |████████████████████████████    | 491kB 3.5MB/s eta 0:00:01\r\u001b[K     |████████████████████████████▌   | 501kB 3.5MB/s eta 0:00:01\r\u001b[K     |█████████████████████████████   | 512kB 3.5MB/s eta 0:00:01\r\u001b[K     |█████████████████████████████▋  | 522kB 3.5MB/s eta 0:00:01\r\u001b[K     |██████████████████████████████▎ | 532kB 3.5MB/s eta 0:00:01\r\u001b[K     |██████████████████████████████▉ | 542kB 3.5MB/s eta 0:00:01\r\u001b[K     |███████████████████████████████▍| 552kB 3.5MB/s eta 0:00:01\r\u001b[K     |████████████████████████████████| 563kB 3.5MB/s eta 0:00:01\r\u001b[K     |████████████████████████████████| 573kB 3.5MB/s \n",
            "\u001b[?25hRequirement already satisfied: dataclasses; python_version < \"3.7\" in /usr/local/lib/python3.6/dist-packages (from transformers) (0.7)\n",
            "Requirement already satisfied: numpy in /usr/local/lib/python3.6/dist-packages (from transformers) (1.18.2)\n",
            "Requirement already satisfied: regex!=2019.12.17 in /usr/local/lib/python3.6/dist-packages (from transformers) (2019.12.20)\n",
            "Requirement already satisfied: boto3 in /usr/local/lib/python3.6/dist-packages (from transformers) (1.12.39)\n",
            "Collecting sentencepiece\n",
            "\u001b[?25l  Downloading https://files.pythonhosted.org/packages/74/f4/2d5214cbf13d06e7cb2c20d84115ca25b53ea76fa1f0ade0e3c9749de214/sentencepiece-0.1.85-cp36-cp36m-manylinux1_x86_64.whl (1.0MB)\n",
            "\u001b[K     |████████████████████████████████| 1.0MB 13.5MB/s \n",
            "\u001b[?25hCollecting tokenizers==0.5.2\n",
            "\u001b[?25l  Downloading https://files.pythonhosted.org/packages/d1/3f/73c881ea4723e43c1e9acf317cf407fab3a278daab3a69c98dcac511c04f/tokenizers-0.5.2-cp36-cp36m-manylinux1_x86_64.whl (3.7MB)\n",
            "\u001b[K     |████████████████████████████████| 3.7MB 24.3MB/s \n",
            "\u001b[?25hRequirement already satisfied: tqdm>=4.27 in /usr/local/lib/python3.6/dist-packages (from transformers) (4.38.0)\n",
            "Collecting sacremoses\n",
            "\u001b[?25l  Downloading https://files.pythonhosted.org/packages/99/50/93509f906a40bffd7d175f97fd75ea328ad9bd91f48f59c4bd084c94a25e/sacremoses-0.0.41.tar.gz (883kB)\n",
            "\u001b[K     |████████████████████████████████| 890kB 32.9MB/s \n",
            "\u001b[?25hRequirement already satisfied: requests in /usr/local/lib/python3.6/dist-packages (from transformers) (2.21.0)\n",
            "Requirement already satisfied: filelock in /usr/local/lib/python3.6/dist-packages (from transformers) (3.0.12)\n",
            "Requirement already satisfied: jmespath<1.0.0,>=0.7.1 in /usr/local/lib/python3.6/dist-packages (from boto3->transformers) (0.9.5)\n",
            "Requirement already satisfied: s3transfer<0.4.0,>=0.3.0 in /usr/local/lib/python3.6/dist-packages (from boto3->transformers) (0.3.3)\n",
            "Requirement already satisfied: botocore<1.16.0,>=1.15.39 in /usr/local/lib/python3.6/dist-packages (from boto3->transformers) (1.15.39)\n",
            "Requirement already satisfied: six in /usr/local/lib/python3.6/dist-packages (from sacremoses->transformers) (1.12.0)\n",
            "Requirement already satisfied: click in /usr/local/lib/python3.6/dist-packages (from sacremoses->transformers) (7.1.1)\n",
            "Requirement already satisfied: joblib in /usr/local/lib/python3.6/dist-packages (from sacremoses->transformers) (0.14.1)\n",
            "Requirement already satisfied: urllib3<1.25,>=1.21.1 in /usr/local/lib/python3.6/dist-packages (from requests->transformers) (1.24.3)\n",
            "Requirement already satisfied: idna<2.9,>=2.5 in /usr/local/lib/python3.6/dist-packages (from requests->transformers) (2.8)\n",
            "Requirement already satisfied: certifi>=2017.4.17 in /usr/local/lib/python3.6/dist-packages (from requests->transformers) (2020.4.5.1)\n",
            "Requirement already satisfied: chardet<3.1.0,>=3.0.2 in /usr/local/lib/python3.6/dist-packages (from requests->transformers) (3.0.4)\n",
            "Requirement already satisfied: docutils<0.16,>=0.10 in /usr/local/lib/python3.6/dist-packages (from botocore<1.16.0,>=1.15.39->boto3->transformers) (0.15.2)\n",
            "Requirement already satisfied: python-dateutil<3.0.0,>=2.1 in /usr/local/lib/python3.6/dist-packages (from botocore<1.16.0,>=1.15.39->boto3->transformers) (2.8.1)\n",
            "Building wheels for collected packages: sacremoses\n",
            "  Building wheel for sacremoses (setup.py) ... \u001b[?25l\u001b[?25hdone\n",
            "  Created wheel for sacremoses: filename=sacremoses-0.0.41-cp36-none-any.whl size=893334 sha256=eea50aa58ec83d0b1ba169510f2cc494e9e72ca35277d21185db119360e8c8d3\n",
            "  Stored in directory: /root/.cache/pip/wheels/22/5a/d4/b020a81249de7dc63758a34222feaa668dbe8ebfe9170cc9b1\n",
            "Successfully built sacremoses\n",
            "Installing collected packages: sentencepiece, tokenizers, sacremoses, transformers\n",
            "Successfully installed sacremoses-0.0.41 sentencepiece-0.1.85 tokenizers-0.5.2 transformers-2.8.0\n"
          ],
          "name": "stdout"
        }
      ]
    },
    {
      "cell_type": "code",
      "metadata": {
        "id": "fvFvBLJV0Dkv",
        "colab_type": "code",
        "colab": {}
      },
      "source": [
        "import numpy as np\n",
        "import pandas as pd\n",
        "from sklearn.model_selection import train_test_split\n",
        "from sklearn.linear_model import LogisticRegression\n",
        "from sklearn.model_selection import GridSearchCV\n",
        "from sklearn.model_selection import cross_val_score\n",
        "import torch\n",
        "import transformers as ppb\n",
        "import warnings\n",
        "warnings.filterwarnings('ignore')"
      ],
      "execution_count": 0,
      "outputs": []
    },
    {
      "cell_type": "markdown",
      "metadata": {
        "id": "zQ-42fh0hjsF",
        "colab_type": "text"
      },
      "source": [
        "## Importing the dataset\n",
        "We'll use pandas to read the dataset and load it into a dataframe."
      ]
    },
    {
      "cell_type": "code",
      "metadata": {
        "id": "RSGX0JhPTWN1",
        "colab_type": "code",
        "outputId": "189b66b9-1bcd-4c66-a3f0-1d65e2a8975d",
        "colab": {
          "base_uri": "https://localhost:8080/",
          "height": 121
        }
      },
      "source": [
        "from google.colab import drive\n",
        "drive.mount('/content/drive')"
      ],
      "execution_count": 0,
      "outputs": [
        {
          "output_type": "stream",
          "text": [
            "Go to this URL in a browser: https://accounts.google.com/o/oauth2/auth?client_id=947318989803-6bn6qk8qdgf4n4g3pfee6491hc0brc4i.apps.googleusercontent.com&redirect_uri=urn%3aietf%3awg%3aoauth%3a2.0%3aoob&response_type=code&scope=email%20https%3a%2f%2fwww.googleapis.com%2fauth%2fdocs.test%20https%3a%2f%2fwww.googleapis.com%2fauth%2fdrive%20https%3a%2f%2fwww.googleapis.com%2fauth%2fdrive.photos.readonly%20https%3a%2f%2fwww.googleapis.com%2fauth%2fpeopleapi.readonly\n",
            "\n",
            "Enter your authorization code:\n",
            "··········\n",
            "Mounted at /content/drive\n"
          ],
          "name": "stdout"
        }
      ]
    },
    {
      "cell_type": "code",
      "metadata": {
        "id": "ax47joNfDbMR",
        "colab_type": "code",
        "outputId": "ae81d3ec-641c-4a9c-8d7f-8d8c90c6aa04",
        "colab": {
          "base_uri": "https://localhost:8080/",
          "height": 34
        }
      },
      "source": [
        "cd /content/drive/My Drive/bert_data"
      ],
      "execution_count": 0,
      "outputs": [
        {
          "output_type": "stream",
          "text": [
            "/content/drive/My Drive/bert_data\n"
          ],
          "name": "stdout"
        }
      ]
    },
    {
      "cell_type": "code",
      "metadata": {
        "id": "tqQKJ_QDZZRh",
        "colab_type": "code",
        "colab": {}
      },
      "source": [
        "value=1\n",
        "np.random.seed(value)"
      ],
      "execution_count": 0,
      "outputs": []
    },
    {
      "cell_type": "code",
      "metadata": {
        "id": "S-RM1I9WciCY",
        "colab_type": "code",
        "outputId": "88c0ec99-c735-49fb-a8be-b597d83f7351",
        "colab": {
          "base_uri": "https://localhost:8080/",
          "height": 178
        }
      },
      "source": [
        "with open('test.csv','r') as f:\n",
        "    data=f.readlines()"
      ],
      "execution_count": 0,
      "outputs": [
        {
          "output_type": "error",
          "ename": "FileNotFoundError",
          "evalue": "ignored",
          "traceback": [
            "\u001b[0;31m---------------------------------------------------------------------------\u001b[0m",
            "\u001b[0;31mFileNotFoundError\u001b[0m                         Traceback (most recent call last)",
            "\u001b[0;32m<ipython-input-8-d2b1cc691b12>\u001b[0m in \u001b[0;36m<module>\u001b[0;34m()\u001b[0m\n\u001b[0;32m----> 1\u001b[0;31m \u001b[0;32mwith\u001b[0m \u001b[0mopen\u001b[0m\u001b[0;34m(\u001b[0m\u001b[0;34m'format.txt'\u001b[0m\u001b[0;34m,\u001b[0m\u001b[0;34m'r'\u001b[0m\u001b[0;34m)\u001b[0m \u001b[0;32mas\u001b[0m \u001b[0mf\u001b[0m\u001b[0;34m:\u001b[0m\u001b[0;34m\u001b[0m\u001b[0;34m\u001b[0m\u001b[0m\n\u001b[0m\u001b[1;32m      2\u001b[0m     \u001b[0mdata\u001b[0m\u001b[0;34m=\u001b[0m\u001b[0mf\u001b[0m\u001b[0;34m.\u001b[0m\u001b[0mreadlines\u001b[0m\u001b[0;34m(\u001b[0m\u001b[0;34m)\u001b[0m\u001b[0;34m\u001b[0m\u001b[0;34m\u001b[0m\u001b[0m\n",
            "\u001b[0;31mFileNotFoundError\u001b[0m: [Errno 2] No such file or directory: 'format.txt'"
          ]
        }
      ]
    },
    {
      "cell_type": "code",
      "metadata": {
        "id": "VQqVmEVzciAd",
        "colab_type": "code",
        "outputId": "bc35591c-8e26-4b67-a38b-254fde35328d",
        "colab": {
          "base_uri": "https://localhost:8080/",
          "height": 1000
        }
      },
      "source": [
        "data"
      ],
      "execution_count": 0,
      "outputs": [
        {
          "output_type": "execute_result",
          "data": {
            "text/plain": [
              "['heading\\n',\n",
              " 'prior employment\\n',\n",
              " 'exceptional team work\\n',\n",
              " 'qualification statement published on businessweek.com\\n',\n",
              " 'associates degree in english\\n',\n",
              " 'advanced statistics\\n',\n",
              " 'motorboat qualification course\\n',\n",
              " 'chinese studies\\n',\n",
              " 'quick view\\n',\n",
              " 'scholarship\\n',\n",
              " 'inventories\\n',\n",
              " 'basic information\\n',\n",
              " 'program by\\n',\n",
              " 'work permit policies\\n',\n",
              " 'clerical duties\\n',\n",
              " 'programs\\n',\n",
              " 'outreach services\\n',\n",
              " 'competition\\n',\n",
              " 'naturescape\\n',\n",
              " 'citations\\n',\n",
              " 'peer-reviewed publications\\n',\n",
              " 'funding\\n',\n",
              " 'relevant course work\\n',\n",
              " 'coursework includes\\n',\n",
              " 'reference title\\n',\n",
              " 'past due\\n',\n",
              " 'quality improvement plans\\n',\n",
              " 'seeking employment\\n',\n",
              " 'drug use and abuse\\n',\n",
              " 'child time\\n',\n",
              " 'national diploma\\n',\n",
              " 'knowledge\\n',\n",
              " 'dissertation\\n',\n",
              " 'book personal appointments\\n',\n",
              " 'volunteer work between jobs\\n',\n",
              " 'sawyer school diploma\\n',\n",
              " 'secure & coordinate proctor exams\\n',\n",
              " 'definitions\\n',\n",
              " 'independent research\\n',\n",
              " 'needs assessments\\n',\n",
              " 'specialized training\\n',\n",
              " 'minors\\n',\n",
              " 'nonprofit leadership and accomplishment\\n',\n",
              " 'solicitation agreements\\n',\n",
              " 'social report\\n',\n",
              " 'claimant interviews\\n',\n",
              " 'emphasis in computational\\n',\n",
              " 'qualification grade achieved\\n',\n",
              " 'social networks\\n',\n",
              " 'keen business sense\\n',\n",
              " 'candidate name\\n',\n",
              " 'private and confidential\\n',\n",
              " 'leading people\\n',\n",
              " 'club memberships\\n',\n",
              " 'faculty appointments\\n',\n",
              " 'semester study abroad\\n',\n",
              " 'phone\\n',\n",
              " 'employee presentations\\n',\n",
              " 'drivers license\\n',\n",
              " 'health benefits\\n',\n",
              " 'recreational activities\\n',\n",
              " 'immigration work status\\n',\n",
              " 'administrative duties\\n',\n",
              " 'applications \\n',\n",
              " 'wealth development strategies\\n',\n",
              " 'online benefits\\n',\n",
              " 'institute drive changes\\n',\n",
              " 'shooters\\n',\n",
              " 'primary\\n',\n",
              " 'culture and inequality\\n',\n",
              " 'proficient in\\n',\n",
              " 'research studies\\n',\n",
              " 'media ethics\\n',\n",
              " 'entry level coding/web\\n',\n",
              " 'important coursework\\n',\n",
              " 'concentration in management\\n',\n",
              " 'certified\\n',\n",
              " 'apic’s certification coursework\\n',\n",
              " 'pursuing bachelors of science\\n',\n",
              " 'group environments\\n',\n",
              " 'exemplary work ethics\\n',\n",
              " 'clean driving record\\n',\n",
              " 'community leadership & volunteerism\\n',\n",
              " 'degree in progress\\n',\n",
              " 'interviews\\n',\n",
              " 'course start dates\\n',\n",
              " 'outreach\\n',\n",
              " 'marketing expertise\\n',\n",
              " 'analysis\\n',\n",
              " 'sports and personal interests\\n',\n",
              " 'advanced employment\\n',\n",
              " 'empathy\\n',\n",
              " 'overall gpa\\n',\n",
              " 'volunteer opportunities\\n',\n",
              " 'personal and household services\\n',\n",
              " 'incentives\\n',\n",
              " 'successes\\n',\n",
              " 'expectations\\n',\n",
              " 'testing methods\\n',\n",
              " 'advanced clerical knowledge\\n',\n",
              " 'high school diploma\\n',\n",
              " 'profile \\n',\n",
              " 'interview french celebrities\\n',\n",
              " 'diversity & inclusion\\n',\n",
              " 'mobility assistance aptitude\\n',\n",
              " 'independent project\\n',\n",
              " 'office organization\\n',\n",
              " 'career opportunities\\n',\n",
              " 'activities & volunteer service\\n',\n",
              " 'desired employment\\n',\n",
              " 'training & social work\\n',\n",
              " 'primary job duties\\n',\n",
              " 'additional abilities\\n',\n",
              " 'eating disorder focus\\n',\n",
              " 'platform steps\\n',\n",
              " 'other studies\\n',\n",
              " 'solutions focused\\n',\n",
              " 'volunteer community work\\n',\n",
              " 'titles\\n',\n",
              " 'community highlights\\n',\n",
              " 'community interests\\n',\n",
              " 'group\\n',\n",
              " 'responsibilities are as follows\\n',\n",
              " 'leadership expertise\\n',\n",
              " 'other trainings\\n',\n",
              " 'companies\\n',\n",
              " 'improvements\\n',\n",
              " 'safety goals\\n',\n",
              " 'personal interest\\n',\n",
              " 'troubleshooting\\n',\n",
              " 'domain knowledge\\n',\n",
              " 'extreme outdoors\\n',\n",
              " 'powers\\n',\n",
              " 'authors\\n',\n",
              " 'teaching assistantships\\n',\n",
              " 'student placement\\n',\n",
              " 'nursing psych\\n',\n",
              " 'behavior studies\\n',\n",
              " 'basic studies\\n',\n",
              " 'book reviews\\n',\n",
              " 'campus leadership activities\\n',\n",
              " 'learn germany online\\n',\n",
              " 'scholarships\\n',\n",
              " 'cited\\n',\n",
              " 'special class interests\\n',\n",
              " 'community leadership\\n',\n",
              " 'technical research\\n',\n",
              " 'communication and collaboration\\n',\n",
              " 'virtual training\\n',\n",
              " 'undergraduate coursework\\n',\n",
              " 'hipaa regulations\\n',\n",
              " 'sustainability\\n',\n",
              " 'text classification for authorship\\n',\n",
              " 'various administrative jobs\\n',\n",
              " 'volunteer activity\\n',\n",
              " 'quality group leader\\n',\n",
              " 'human resource functions including\\n',\n",
              " 'phone webex interview availability\\n',\n",
              " 'key remarks\\n',\n",
              " 'varsity athletics\\n',\n",
              " 'training focus\\n',\n",
              " 'cultural sensitivity\\n',\n",
              " 'corporate travel knowledge\\n',\n",
              " 'mock exams\\n',\n",
              " 'extensive computer knowledge\\n',\n",
              " 'description of title\\n',\n",
              " 'interviewing potential employees\\n',\n",
              " 'short term consulting engagements\\n',\n",
              " 'human services department benefits\\n',\n",
              " 'sales classes\\n',\n",
              " 'terms & conditions\\n',\n",
              " 'selected results\\n',\n",
              " 'compensation and benefits practices\\n',\n",
              " 'personal family leave\\n',\n",
              " 'legal research\\n',\n",
              " 'associates of arts degree\\n',\n",
              " 'salary requirements\\n',\n",
              " 'internal wiki project\\n',\n",
              " 'software knowledge\\n',\n",
              " 'creative problem solving\\n',\n",
              " 'leadership and service organizations\\n',\n",
              " 'related courses\\n',\n",
              " 'outreach intern\\n',\n",
              " 'relevant classes\\n',\n",
              " 'contracted for \\n',\n",
              " 'monitoring & negative\\n',\n",
              " 'financial knowledge\\n',\n",
              " 'final cut\\n',\n",
              " 'selected conference presentations\\n',\n",
              " 'teaching\\n',\n",
              " 'grade\\n',\n",
              " 'firearms training\\n',\n",
              " 'industry workshops\\n',\n",
              " 'specialized studies and job\\n',\n",
              " 'significant\\n',\n",
              " 'american law qualifications\\n',\n",
              " 'project prices range from\\n',\n",
              " 'sorted documents\\n',\n",
              " 'applicant\\n',\n",
              " 'certificate in publishing\\n',\n",
              " 'coursework in\\n',\n",
              " 'submittal review\\n',\n",
              " 'generators &\\n',\n",
              " 'years in industry\\n',\n",
              " 'union benefits\\n',\n",
              " 'service standards\\n',\n",
              " 'numerous cognos solutions training\\n',\n",
              " 'offer\\n',\n",
              " 'volunteer activities\\n',\n",
              " 'included responsibilities\\n',\n",
              " 'accounting & tax experts\\n',\n",
              " 'selected notable accomplishments\\n',\n",
              " 'physical assessments\\n',\n",
              " 'seminar\\n',\n",
              " 'honesty\\n',\n",
              " 'intermediate knowledge in procreate\\n',\n",
              " 'post-secondary instructor\\n',\n",
              " 'situational leadership training\\n',\n",
              " 'prior position\\n',\n",
              " 'find jobs\\n',\n",
              " 'classes taken\\n',\n",
              " 'subjects\\n',\n",
              " 'strong communication techniques\\n',\n",
              " 'dates\\n',\n",
              " 'dedicated and responsible worker\\n',\n",
              " 'cultural awareness and sensitivity\\n',\n",
              " 'involvement\\n',\n",
              " 'regions different?\\n',\n",
              " 'enrollment status\\n',\n",
              " 'reconciliations\\n',\n",
              " 'physical exams\\n',\n",
              " 'formal teaching\\n',\n",
              " 'outside interests\\n',\n",
              " 'field of interests\\n',\n",
              " 'unemployment laws\\n',\n",
              " 'adult learning techniques\\n',\n",
              " 'principles for communicating effectively\\n',\n",
              " 'private lessons\\n',\n",
              " 'mentorship & training\\n',\n",
              " 'thesis title\\n',\n",
              " 'club involvement\\n',\n",
              " 'classes and seminars\\n',\n",
              " 'extras\\n',\n",
              " 'social sciences\\n',\n",
              " 'events intern\\n',\n",
              " 'advanced topics in neuroscience\\n',\n",
              " 'mental health conditions\\n',\n",
              " 'studies in architectural design\\n',\n",
              " 'business domain expertise\\n',\n",
              " 'roles & responsibilities\\n',\n",
              " 'courses developed\\n',\n",
              " 'training direct\\n',\n",
              " 'outstanding citizenship\\n',\n",
              " 'computer science associates degree\\n',\n",
              " 'diploma in basics\\n',\n",
              " 'responsibilities involved\\n',\n",
              " 'primary areas\\n',\n",
              " 'major assignments\\n',\n",
              " 'employees\\n',\n",
              " 'online research and analysis\\n',\n",
              " 'media presentations\\n',\n",
              " 'activities / volunteer\\n',\n",
              " 'leadership style\\n',\n",
              " 'methodologies/standards\\n',\n",
              " 'office\\n',\n",
              " 'concepts\\n',\n",
              " 'corporate management classes\\n',\n",
              " 'gender\\n',\n",
              " 'networks\\n',\n",
              " 'decisions\\n',\n",
              " 'expert knowledge of design applications\\n',\n",
              " 'sterile environments\\n',\n",
              " 'various membership sales activities\\n',\n",
              " 'health and welfare\\n',\n",
              " 'coordinating meetings\\n',\n",
              " 'first choice evaluations\\n',\n",
              " 'personal\\n',\n",
              " 'payroll/compensation\\n',\n",
              " 'critical incidents and stress\\n',\n",
              " 'attention human resources\\n',\n",
              " 'relevant subjects\\n',\n",
              " 'looking for additional enjoyable work\\n',\n",
              " 'departments\\n',\n",
              " 'audits training\\n',\n",
              " 'duration of employment\\n',\n",
              " 'associates degree — major\\n',\n",
              " 'companionship and emotional support\\n',\n",
              " 'special interests\\n',\n",
              " 'honor societies _\\n',\n",
              " 'selections\\n',\n",
              " 'affairs professional\\n',\n",
              " 'colleges\\n',\n",
              " 'distinguishing qualifications\\n',\n",
              " 'worked flexible hours\\n',\n",
              " 'junior club\\n',\n",
              " 'professional statement\\n',\n",
              " 'professional contributions\\n',\n",
              " 'graduate studies\\n',\n",
              " '*note\\n',\n",
              " 'portfolio available at\\n',\n",
              " 'examples of proof\\n',\n",
              " 'oral communication\\n',\n",
              " 'adaptation to new systems/technologies\\n',\n",
              " 'cleaning abilities\\n',\n",
              " 'codes\\n',\n",
              " 'written & oral communication\\n',\n",
              " 'collective bargaining techniques\\n',\n",
              " 'accomplishments include the following\\n',\n",
              " 'basic administrative knowledge\\n',\n",
              " 'scheduling interviews\\n',\n",
              " 'directories\\n',\n",
              " 'sales &\\n',\n",
              " 'partner outreach\\n',\n",
              " 'nationals\\n',\n",
              " 'academic resume\\n',\n",
              " 'active teammate\\n',\n",
              " 'associations and activities\\n',\n",
              " 'management & training certificates\\n',\n",
              " 'famous enterprises\\n',\n",
              " 'domain\\n',\n",
              " 'graduate level\\n',\n",
              " 'style intern\\n',\n",
              " 'conservation seasonal\\n',\n",
              " 'research & interview\\n',\n",
              " 'political party\\n',\n",
              " 'volunteer support\\n',\n",
              " 'responsibility\\n',\n",
              " 'current available jobs\\n',\n",
              " 'understanding the primary\\n',\n",
              " 'pspt level cum delta report\\n',\n",
              " 'high level responsibilities\\n',\n",
              " 'basics\\n',\n",
              " 'notable coursework\\n',\n",
              " 'listing presentations\\n',\n",
              " 'degree,\\n',\n",
              " 'strong work ethics\\n',\n",
              " 'associates of art degree\\n',\n",
              " 'spirituality\\n',\n",
              " 'people and organizations\\n',\n",
              " 'needs assessment\\n',\n",
              " 'internet technologies\\n',\n",
              " 'community\\n',\n",
              " 'motorcycles\\n',\n",
              " 'previous assignments\\n',\n",
              " 'schedule appointments\\n',\n",
              " 'book translations\\n',\n",
              " 'degree\\n',\n",
              " 'gender and ethnicity at work\\n',\n",
              " 'compensation programs\\n',\n",
              " 'other/not classified\\n',\n",
              " 'formerly registered\\n',\n",
              " 'from\\n',\n",
              " 'individualized study\\n',\n",
              " 'additional comments\\n',\n",
              " 'abroad immersion program\\n',\n",
              " 'expected salary\\n',\n",
              " 'related workshops/seminars\\n',\n",
              " 'international programs\\n',\n",
              " 'meetup groups\\n',\n",
              " 'advances\\n',\n",
              " 'work produced for\\n',\n",
              " 'additional employment information\\n',\n",
              " 'newsletters\\n',\n",
              " 'nationality\\n',\n",
              " 'learn more\\n',\n",
              " 'inquiries\\n',\n",
              " 'development&\\n',\n",
              " 'selected training\\n',\n",
              " 'principal job duties and responsibilities\\n',\n",
              " 'links to produced/written segments\\n',\n",
              " 'events\\n',\n",
              " 'style trends\\n',\n",
              " 'initiative to work independently\\n',\n",
              " 'course of study\\n',\n",
              " 'graduated\\n',\n",
              " 'phone calls\\n',\n",
              " 'accommodations\\n',\n",
              " 'daily field activities\\n',\n",
              " 'career progression\\n',\n",
              " 'areas recruited for\\n',\n",
              " 'reference numbers\\n',\n",
              " 'program proficiencies\\n',\n",
              " 'campus and community involvement\\n',\n",
              " 'computing\\n',\n",
              " 'highest grade\\n',\n",
              " 'additional links\\n',\n",
              " 'focus epw outlook\\n',\n",
              " 'professional societies\\n',\n",
              " 'capabilities/abilities\\n',\n",
              " 'athletics\\n',\n",
              " 'exceptional interpersonal\\n',\n",
              " 'main duties\\n',\n",
              " 'flexible schedule\\n',\n",
              " 'communicating ideas & concepts\\n',\n",
              " 'membership/accreditations\\n',\n",
              " 'phone no#\\n',\n",
              " 'team size\\n',\n",
              " 'elected positions\\n',\n",
              " 'professional license\\n',\n",
              " 'stations worked for include\\n',\n",
              " 'journal entries\\n',\n",
              " 'career track\\n',\n",
              " 'miscellaneous administrative duties\\n',\n",
              " 'standardized test scores\\n',\n",
              " 'behavioral approaches to change\\n',\n",
              " 'other positions held\\n',\n",
              " 'goals of restorative care\\n',\n",
              " 'professional administrative support\\n',\n",
              " 'risking connections\\n',\n",
              " 'board appointments\\n',\n",
              " 'defect tracking &\\n',\n",
              " 'special assignments\\n',\n",
              " 'development and entrepreneurship\\n',\n",
              " 'currently enrolled at\\n',\n",
              " 'employer\\n',\n",
              " 'concentration in public finance\\n',\n",
              " 'major courses in the programme\\n',\n",
              " 'titles worked on include\\n',\n",
              " 'digital filmmaking\\n',\n",
              " 'classes taught\\n',\n",
              " 'portfolio\\n',\n",
              " 'documentation work\\n',\n",
              " 'technical lead\\n',\n",
              " 'associated events\\n',\n",
              " 'topic covered including\\n',\n",
              " 'credit and collections\\n',\n",
              " 'college\\n',\n",
              " 'other consulting/contract employment\\n',\n",
              " 'digital literacy\\n',\n",
              " 'aptitudes\\n',\n",
              " 'professional leadership\\n',\n",
              " 'projections for current institutions\\n',\n",
              " 'forthcoming\\n',\n",
              " 'sport\\n',\n",
              " 'administrative/clerical duties\\n',\n",
              " 'paradigms\\n',\n",
              " 'perception of art\\n',\n",
              " 'public partnership\\n',\n",
              " 'unemployed\\n',\n",
              " 'post press specialties\\n',\n",
              " 'global knowledge\\n',\n",
              " 'opportunities unlimited\\n',\n",
              " 'personal care\\n',\n",
              " 'lines taxes\\n',\n",
              " 'course work topics\\n',\n",
              " 'designations, memberships & licenses\\n',\n",
              " 'legal secretarial science degree\\n',\n",
              " 'undergraduate mentoring\\n',\n",
              " 'total\\n',\n",
              " 'learning new languages\\n',\n",
              " 'hiking and camping\\n',\n",
              " 'community workers\\n',\n",
              " 'proposals/presentations\\n',\n",
              " 'open source\\n',\n",
              " 'subsidiaries\\n',\n",
              " 'professional purpose\\n',\n",
              " 'community volunteer services\\n',\n",
              " 'multimedia writing and reporting\\n',\n",
              " 'proficient with the internet\\n',\n",
              " 'insurance knowledge\\n',\n",
              " 'colleagues and student employees\\n',\n",
              " 'general knowledge\\n',\n",
              " 'additional knowledge\\n',\n",
              " 'miscellaneous\\n',\n",
              " 'activities & volunteering\\n',\n",
              " 'thesis\\n',\n",
              " 'health & safety knowledge\\n',\n",
              " 'additional positions\\n',\n",
              " 'regional it ops\\n',\n",
              " 'better job opportunity\\n',\n",
              " 'nominations process\\n',\n",
              " 'interpersonal communication\\n',\n",
              " 'extracurricular activities/volunteering/community service\\n',\n",
              " 'collaborative teamwork\\n',\n",
              " 'utility construction knowledge\\n',\n",
              " 'collaboration and teamwork\\n',\n",
              " 'bachelor degree\\n',\n",
              " 'network proficiencies &\\n',\n",
              " 'claims\\n',\n",
              " 'entrepreneurial vision\\n',\n",
              " 'taxes\\n',\n",
              " 'seeking position as\\n',\n",
              " 'category b\\n',\n",
              " 'student membership program\\n',\n",
              " 'general description\\n',\n",
              " 'medical emergencies\\n',\n",
              " 'fees\\n',\n",
              " 'reporting\\n',\n",
              " 'exemplary ambition\\n',\n",
              " 'voluntary work\\n',\n",
              " 'daily activities include\\n',\n",
              " 'general computer knowledge\\n',\n",
              " 'degree\\n',\n",
              " 'user journeys\\n',\n",
              " 'extracurricular involvement\\n',\n",
              " 'service\\n',\n",
              " 'psych\\n',\n",
              " 'masters program\\n',\n",
              " 'reference available upon request\\n',\n",
              " 'leadership certificate\\n',\n",
              " 'functional abilities\\n',\n",
              " 'regulatory\\n',\n",
              " 'talent development\\n',\n",
              " 'senior secondary certificate examination\\n',\n",
              " 'research interests\\n',\n",
              " 'holidays\\n',\n",
              " 'years of studies\\n',\n",
              " 'contact info\\n',\n",
              " 'endorsements\\n',\n",
              " 'degree in process\\n',\n",
              " 'preparation excellence\\n',\n",
              " 'society\\n',\n",
              " 'leone\\n',\n",
              " 'seasonal job\\n',\n",
              " 'activities/interests\\n',\n",
              " 'admission criteria\\n',\n",
              " 'research & strategy\\n',\n",
              " 'administrative skill\\n',\n",
              " 'contents\\n',\n",
              " 'student involvement\\n',\n",
              " 'home phone\\n',\n",
              " 'user interview\\n',\n",
              " 'amyleannecrandall@gmail.com \\n',\n",
              " 'hipaa training\\n',\n",
              " 'mediums for social change\\n',\n",
              " 'advanced level\\n',\n",
              " 'clauses and best practices\\n',\n",
              " 'nonprofit\\n',\n",
              " 'collaborations\\n',\n",
              " 'personal property\\n',\n",
              " 'specialized investigative training\\n',\n",
              " 'reliability & honesty\\n',\n",
              " 'processed unemployment claims\\n',\n",
              " 'five year apprenticeship scholarship\\n',\n",
              " 'intercultural\\n',\n",
              " 'abuse services\\n',\n",
              " 'researched grants\\n',\n",
              " 'computer literacy\\n',\n",
              " 'peer review\\n',\n",
              " 'institutional advancement\\n',\n",
              " 'main courses in\\n',\n",
              " 'instituto\\n',\n",
              " 'various duties as assigned\\n',\n",
              " 'tips\\n',\n",
              " 'students\\n',\n",
              " 'professional and voluntary affiliations\\n',\n",
              " 'driving license details\\n',\n",
              " 'project presentations\\n',\n",
              " 'quality credentials\\n',\n",
              " 'social activities\\n',\n",
              " 'additional seminars\\n',\n",
              " 'involvement/activities\\n',\n",
              " 'selected qualifications\\n',\n",
              " 'nursing background\\n',\n",
              " 'workforce training\\n',\n",
              " 'opposition research\\n',\n",
              " 'project leadership excellence\\n',\n",
              " 'communication studies\\n',\n",
              " 'view my full results at\\n',\n",
              " 'excellent computer knowledge\\n',\n",
              " 'demolition hazards\\n',\n",
              " 'apprenticeship courese /additional information\\n',\n",
              " 'culture\\n',\n",
              " 'recruitment/interviewing\\n',\n",
              " 'additional activities\\n',\n",
              " 'project roles\\n',\n",
              " 'weekly and monthly reports\\n',\n",
              " 'business results\\n',\n",
              " 'online learning\\n',\n",
              " 'characteristics\\n',\n",
              " 'freelance cctv installations\\n',\n",
              " 'credit/collections\\n',\n",
              " 'locations\\n',\n",
              " 'dedication to work\\n',\n",
              " 'opportunity assessment\\n',\n",
              " 'techniques\\n',\n",
              " 'accessible data services\\n',\n",
              " 'host status meetings\\n',\n",
              " 'urban living\\n',\n",
              " 'major subjects\\n',\n",
              " 'corporate policies\\n',\n",
              " 'sites\\n',\n",
              " 'organisé\\n',\n",
              " 'directives\\n',\n",
              " 'books & chapters\\n',\n",
              " 'quality initiatives\\n',\n",
              " 'environments\\n',\n",
              " 'general studies\\n',\n",
              " 'worth mentioning\\n',\n",
              " 'noteworthy hobbies\\n',\n",
              " 'intermediate excel\\n',\n",
              " 'current study\\n',\n",
              " 'organized and goal oriented\\n',\n",
              " 'background screening of candidates\\n',\n",
              " 'duties\\n',\n",
              " 'conventions, seminars, self improvement\\n',\n",
              " 'related course work\\n',\n",
              " 'view my results\\n',\n",
              " 'interactiv conference\\n',\n",
              " 'combine \\n',\n",
              " 'strategies\\n',\n",
              " 'business specialist certificate\\n',\n",
              " 'diploma, major\\n',\n",
              " 'lab projects\\n',\n",
              " 'please email\\n',\n",
              " 'current/ no restrictions\\n',\n",
              " 'issues\\n',\n",
              " 'oversight\\n',\n",
              " 'results\\n',\n",
              " 'activities and leadership\\n',\n",
              " 'overall\\n',\n",
              " 'degree programs\\n',\n",
              " 'office proficiency assessment\\n',\n",
              " 'compensation/payroll\\n',\n",
              " 'positive outlook\\n',\n",
              " 'credit towards aa degree\\n',\n",
              " 'selected exhibitions\\n',\n",
              " 'scheduled appointments\\n',\n",
              " 'table of contents\\n',\n",
              " 'employee schedules\\n',\n",
              " 'grade level\\n',\n",
              " 'coordinated press conferences\\n',\n",
              " 'undergraduate\\n',\n",
              " 'curricular\\n',\n",
              " 'studies\\n',\n",
              " 'claims and denials\\n',\n",
              " 'agreements\\n',\n",
              " 'employment verification letters\\n',\n",
              " 'local government background\\n',\n",
              " 'complex architecture topics\\n',\n",
              " 'major contributions\\n',\n",
              " 'ability to work independently\\n',\n",
              " 'planning and research ability\\n',\n",
              " 'philanthropy\\n',\n",
              " 'concern\\n',\n",
              " 'social media\\n',\n",
              " 'working knowledge of\\n',\n",
              " 'quality assessment\\n',\n",
              " 'master’s thesis title\\n',\n",
              " 'professional development & volunteering\\n',\n",
              " 'qualified reliability\\n',\n",
              " 'limited title work\\n',\n",
              " 'ethical hacking and response\\n',\n",
              " 'projects undertaken for i.o.s.l\\n',\n",
              " 'personal involvement\\n',\n",
              " 'philosophy\\n',\n",
              " 'excellent attention to details\\n',\n",
              " 'task\\n',\n",
              " 'significant contributions\\n',\n",
              " 'problem solving and training\\n',\n",
              " 'fierce conversation\\n',\n",
              " 'proficiency with\\n',\n",
              " 'public speaking engagements\\n',\n",
              " 'course information and support\\n',\n",
              " 'home health responsibilities\\n',\n",
              " 'professional traits\\n',\n",
              " 'examples\\n',\n",
              " 'personal history profile for\\n',\n",
              " 'admin assistant level\\n',\n",
              " 'down grading of services\\n',\n",
              " 'hipaa educated career development\\n',\n",
              " 'challenging behaviors\\n',\n",
              " 'effective sales presentations\\n',\n",
              " 'feasibility studies\\n',\n",
              " 'affiliations/ volunteer services\\n',\n",
              " 'design communication arts certificate\\n',\n",
              " 'feminine health concerns\\n',\n",
              " 'description\\n',\n",
              " 'undergraduate degree in progress\\n',\n",
              " 'various real estate seminars\\n',\n",
              " 'results driven team leader\\n',\n",
              " 'excellence spheres\\n',\n",
              " 'published translation\\n',\n",
              " 'additional employment\\n',\n",
              " 'financial literacy\\n',\n",
              " 'terminology\\n',\n",
              " 'human resources activities and responsibilities\\n',\n",
              " 'assignments\\n',\n",
              " 'evolution\\n',\n",
              " 'virtual networks\\n',\n",
              " 'lectures\\n',\n",
              " 'main assistant\\n',\n",
              " 'participation \\n',\n",
              " 'teamwork/collaboration\\n',\n",
              " 'implementations\\n',\n",
              " 'knowledgeable in\\n',\n",
              " 'recovery ways\\n',\n",
              " 'arts integrated cohort\\n',\n",
              " 'masters in social work\\n',\n",
              " 'major field of study\\n',\n",
              " 'installations\\n',\n",
              " 'associate degree in journalism\\n',\n",
              " 'interaction and social order\\n',\n",
              " 'bachelors degree,\\n',\n",
              " 'masters thesis\\n',\n",
              " 'teaetta o’neill\\n',\n",
              " 'problem-solving for individual artists\\n',\n",
              " 'community affiliations\\n',\n",
              " 'membership\\n',\n",
              " 'academic honesty policy\\n',\n",
              " 'introduction to entrepreneurship\\n',\n",
              " 'highlighted extracurriculars\\n',\n",
              " 'proficiency in mat lab\\n',\n",
              " 'leadership knowledge\\n',\n",
              " 'management courses\\n',\n",
              " 'relationship status\\n',\n",
              " 'environmental awareness\\n',\n",
              " 'distinction\\n',\n",
              " 'university rank\\n',\n",
              " 'deviance and violence\\n',\n",
              " 'creativity\\n',\n",
              " 'passing grade\\n',\n",
              " 'special workplace\\n',\n",
              " 'emphasis in public relations\\n',\n",
              " 'interests and extracurricular activities\\n',\n",
              " 'contact numbers\\n',\n",
              " 'first advantage\\n',\n",
              " 'personal liability\\n',\n",
              " 'honours\\n',\n",
              " 'academic organizations\\n',\n",
              " 'innovative solutions\\n',\n",
              " 'responsibilities,\\n',\n",
              " 'specialist in\\n',\n",
              " 'personnel source\\n',\n",
              " 'cognizant ( projects)\\n',\n",
              " 'professional and community engagement\\n',\n",
              " 'websites\\n',\n",
              " 'scope of responsibility\\n',\n",
              " 'documentation\\n',\n",
              " 'professional hr affiliations\\n',\n",
              " 'leadership positions\\n',\n",
              " 'stress awareness\\n',\n",
              " 'graduate assistantship\\n',\n",
              " 'personal development\\n',\n",
              " 'project title\\n',\n",
              " 'work resume\\n',\n",
              " 'emphasis on business management\\n',\n",
              " 'medical specialist training\\n',\n",
              " 'office duties\\n',\n",
              " 'organization and efficiency\\n',\n",
              " 'significant contributions included\\n',\n",
              " 'university of cambridge ‘advanced’ level\\n',\n",
              " 'interpretation\\n',\n",
              " 'interests\\n',\n",
              " 'marketing internships\\n',\n",
              " 'community work\\n',\n",
              " 'physical exam\\n',\n",
              " 'project outline\\n',\n",
              " 'sample of professional training\\n',\n",
              " 'community involvement & leadership\\n',\n",
              " 'refugees\\n',\n",
              " 'knowledge of coding guidelines\\n',\n",
              " 'competitive sports\\n',\n",
              " 'major responsibilities include\\n',\n",
              " 'sales methodology formal training\\n',\n",
              " 'challenge\\n',\n",
              " 'adventures in attitudes\\n',\n",
              " 'personality and leadership traits\\n',\n",
              " 'fostering collaboration\\n',\n",
              " 'internet research\\n',\n",
              " 'international academy\\n',\n",
              " 'interpersonal communication abilities\\n',\n",
              " 'functional expertise\\n',\n",
              " 'numerous\\n',\n",
              " 'abilities\\n',\n",
              " 'project risk\\n',\n",
              " 'speeches\\n',\n",
              " 'concentration in forensic psychology\\n',\n",
              " 'professional memberships;\\n',\n",
              " 'methods\\n',\n",
              " 'disputes\\n',\n",
              " 'online\\n',\n",
              " 'program proficiency\\n',\n",
              " 'creative problem\\n',\n",
              " 'various other office duties\\n',\n",
              " 'extremely strong work ethic\\n',\n",
              " 'orientation programs\\n',\n",
              " 'career advancement\\n',\n",
              " 'guidelines\\n',\n",
              " 'established standards and procedures\\n',\n",
              " 'departmental budgets\\n',\n",
              " 'head start programs\\n',\n",
              " 'notable accomplishment\\n',\n",
              " 'mapping expertise\\n',\n",
              " 'qualities\\n',\n",
              " 'employee evaluations & interviews\\n',\n",
              " 'focus on computer science\\n',\n",
              " 'interdisciplinary studies\\n',\n",
              " 'bachelors of science degree\\n',\n",
              " 'property\\n',\n",
              " 'admissions & registration\\n',\n",
              " 'various leadership frameworks\\n',\n",
              " 'hobbies and other interests\\n',\n",
              " 'location\\n',\n",
              " 'unlawful activities\\n',\n",
              " 'outside interest\\n',\n",
              " 'board meetings\\n',\n",
              " 'asian athletics championships\\n',\n",
              " 'links\\n',\n",
              " 'cultural diversity\\n',\n",
              " 'partner alliances\\n',\n",
              " 'planning jobs\\n',\n",
              " 'politics of hiding\\n',\n",
              " 'quest training\\n',\n",
              " 'scholarships and\\n',\n",
              " 'project portfolio\\n',\n",
              " 'civic involvement\\n',\n",
              " 'seek careers/staffing\\n',\n",
              " 'prior employers\\n',\n",
              " 'fees charged\\n',\n",
              " 'civil status\\n',\n",
              " 'moral values\\n',\n",
              " 'researched media contacts\\n',\n",
              " 'bachelors of engineering\\n',\n",
              " 'basic courses\\n',\n",
              " 'outreach & consultation\\n',\n",
              " 'roles/ responsibilities\\n',\n",
              " 'online portfolio\\n',\n",
              " 'professional registration\\n',\n",
              " 'service project highlights\\n',\n",
              " 'general study\\n',\n",
              " 'key results\\n',\n",
              " 'science\\n',\n",
              " 'professional memberships and committees\\n',\n",
              " 'discover more\\n',\n",
              " 'investigative research\\n',\n",
              " 'children and families\\n',\n",
              " 'training & professional development\\n',\n",
              " 'life learning\\n',\n",
              " 'presentation skill\\n',\n",
              " 'collaborating with colleagues\\n',\n",
              " 'computer program proficiencies\\n',\n",
              " 'years\\n',\n",
              " '*office services specialist/coordinator\\n',\n",
              " 'physics/mathematics electives\\n',\n",
              " 'graduate teaching certificate\\n',\n",
              " 'advance classification system\\n',\n",
              " 'worldwide\\n',\n",
              " 'benefits\\n',\n",
              " 'insightful sector knowledge\\n',\n",
              " 'volunteer affiliations\\n',\n",
              " 'source inspector\\n',\n",
              " 'honor societies\\n',\n",
              " 'leadership & volunteering\\n',\n",
              " 'best practices\\n',\n",
              " 'testing excellence\\n',\n",
              " 'rank\\n',\n",
              " 'human factors\\n',\n",
              " 'para professional\\n',\n",
              " 'reservations\\n',\n",
              " 'accounting focus\\n',\n",
              " 'related\\n',\n",
              " 'practices manual\\n',\n",
              " 'important\\n',\n",
              " 'open title orders\\n',\n",
              " 'complex negotiations\\n',\n",
              " 'proficient computer literacy\\n',\n",
              " 'teaching & instruction\\n',\n",
              " 'responsibilities-\\n',\n",
              " 'biostatistics\\n',\n",
              " 'health needs\\n',\n",
              " 'commission based\\n',\n",
              " 'professional affiliations and service\\n',\n",
              " 'eligibility specialist\\n',\n",
              " 'procedures\\n',\n",
              " '* to present\\n',\n",
              " 'cooperation\\n',\n",
              " 'culinary arts training\\n',\n",
              " 'students of scholarship\\n',\n",
              " 'innovations\\n',\n",
              " 'online registration team\\n',\n",
              " 'enterprises\\n',\n",
              " 'supplement assessments for students\\n',\n",
              " 'group policy\\n',\n",
              " 'arts and communication concentration\\n',\n",
              " 'relevant seminars and training attended\\n',\n",
              " 'voluntary and invited presentations (selected)\\n',\n",
              " 'services\\n',\n",
              " 'links to my work\\n',\n",
              " 'list\\n',\n",
              " 'disability examiner\\n',\n",
              " 'coordinated volunteer activities\\n',\n",
              " 'test credits\\n',\n",
              " 'coaching &\\n',\n",
              " 'three main areas of responsibility\\n',\n",
              " 'registered bodies\\n',\n",
              " 'line\\n',\n",
              " 'vocational in general\\n',\n",
              " 'activities and affiliations\\n',\n",
              " 'contact mary on linkedin\\n',\n",
              " 'contact information\\n',\n",
              " 'additional informati on\\n',\n",
              " 'podium presentation\\n',\n",
              " 'community outreach\\n',\n",
              " 'additional accomplishments\\n',\n",
              " 'completed courses include\\n',\n",
              " 'focus on the family\\n',\n",
              " 'purchasing guidelines\\n',\n",
              " 'honorary membership\\n',\n",
              " 'notes\\n',\n",
              " 'enjoy travelling\\n',\n",
              " 'intended majors\\n',\n",
              " 'screened subjects for studies\\n',\n",
              " 'other advancements\\n',\n",
              " 'insomniac events\\n',\n",
              " 'competition by\\n',\n",
              " 'prime source\\n',\n",
              " 'more on my career\\n',\n",
              " 'proficiency level\\n',\n",
              " 'course studies\\n',\n",
              " 'committees\\n',\n",
              " 'leadership abilities\\n',\n",
              " 'social advocacy\\n',\n",
              " 'administrative functions including\\n',\n",
              " 'curriculum\\n',\n",
              " 'candidate\\n',\n",
              " 'clinical expertise\\n',\n",
              " 'clean work sites\\n',\n",
              " 'assessment methods and techniques\\n',\n",
              " 'awareness\\n',\n",
              " 'classes\\n',\n",
              " 'contract assignments\\n',\n",
              " 'mathematical aptitude\\n',\n",
              " 'examination year\\n',\n",
              " 'concentration in business\\n',\n",
              " 'credentials and licensure\\n',\n",
              " 'other familiarities\\n',\n",
              " 'impact tutors\\n',\n",
              " 'extra curriculum activities\\n',\n",
              " 'initiative/results oriented\\n',\n",
              " 'resource group professionals\\n',\n",
              " 'personal trainer\\n',\n",
              " 'work environment\\n',\n",
              " 'languages/platforms\\n',\n",
              " 'reduction expertise\\n',\n",
              " 'schedule conferences\\n',\n",
              " 'data science (grade b)\\n',\n",
              " 'class based training\\n',\n",
              " 'efficiency and effectiveness\\n',\n",
              " 'extensive food/ beverage knowledge\\n',\n",
              " 'labs\\n',\n",
              " 'contracts & upgrades\\n',\n",
              " 'good work ethics\\n',\n",
              " 'social media knowledge\\n',\n",
              " 'emergency contact information\\n',\n",
              " 'community activities\\n',\n",
              " 'corporate\\n',\n",
              " 'community services\\n',\n",
              " 'rehabilitation\\n',\n",
              " 'self development\\n',\n",
              " 'other duties and responsibilities\\n',\n",
              " 'initiative\\n',\n",
              " '#goals\\n',\n",
              " 'individuals\\n',\n",
              " 'role and responsibilities\\n',\n",
              " 'various locations\\n',\n",
              " 'responsibilities for ert\\n',\n",
              " 'specialty coding\\n',\n",
              " 'networking\\n',\n",
              " 'campus leadership initiatives\\n',\n",
              " 'workbooks\\n',\n",
              " 'volunteer service\\n',\n",
              " 'standard points\\n',\n",
              " 'student activities\\n',\n",
              " 'concentration in sustainability\\n',\n",
              " 'career note\\n',\n",
              " 'informal teaching\\n',\n",
              " 'total points available\\n',\n",
              " 'distinctions\\n',\n",
              " 'clinical aptitudes\\n',\n",
              " 'network identities\\n',\n",
              " 'hourly rate\\n',\n",
              " 'safe training\\n',\n",
              " 'conversion, effective collaboration\\n',\n",
              " 'skillpath learning\\n',\n",
              " 'mainstream services\\n',\n",
              " 'group sites\\n',\n",
              " 'highly motivated professional\\n',\n",
              " 'billing options\\n',\n",
              " 'online program\\n',\n",
              " 'online support history\\n',\n",
              " 'increased funding\\n',\n",
              " 'family responsibility\\n',\n",
              " 'personal sports\\n',\n",
              " 'coordinated volunteer work\\n',\n",
              " 'field study\\n',\n",
              " 'efficiency improvements\\n',\n",
              " 'community organizations\\n',\n",
              " 'training and mentoring\\n',\n",
              " 'main duties/responsibilities\\n',\n",
              " 'project range\\n',\n",
              " 'hours\\n',\n",
              " 'rewards\\n',\n",
              " 'professional development topics\\n',\n",
              " 'testing strategies\\n',\n",
              " 'desired job title\\n',\n",
              " 'opportunistic\\n',\n",
              " 'subject matter recognition\\n',\n",
              " 'economics\\n',\n",
              " 'collaborative and efficient\\n',\n",
              " ...]"
            ]
          },
          "metadata": {
            "tags": []
          },
          "execution_count": 3
        }
      ]
    },
    {
      "cell_type": "code",
      "metadata": {
        "id": "91FWQYuYc71u",
        "colab_type": "code",
        "colab": {}
      },
      "source": [
        "import re\n",
        "c=[]\n",
        "for val in data:\n",
        "    c.append(re.sub('\\W+','', val ))"
      ],
      "execution_count": 0,
      "outputs": []
    },
    {
      "cell_type": "code",
      "metadata": {
        "id": "rckIL0Kyc7yD",
        "colab_type": "code",
        "outputId": "eea72714-4505-4e6b-fe20-f043a3097431",
        "colab": {
          "base_uri": "https://localhost:8080/",
          "height": 1000
        }
      },
      "source": [
        "c"
      ],
      "execution_count": 0,
      "outputs": [
        {
          "output_type": "execute_result",
          "data": {
            "text/plain": [
              "['heading',\n",
              " 'prioremployment',\n",
              " 'exceptionalteamwork',\n",
              " 'qualificationstatementpublishedonbusinessweekcom',\n",
              " 'associatesdegreeinenglish',\n",
              " 'advancedstatistics',\n",
              " 'motorboatqualificationcourse',\n",
              " 'chinesestudies',\n",
              " 'quickview',\n",
              " 'scholarship',\n",
              " 'inventories',\n",
              " 'basicinformation',\n",
              " 'programby',\n",
              " 'workpermitpolicies',\n",
              " 'clericalduties',\n",
              " 'programs',\n",
              " 'outreachservices',\n",
              " 'competition',\n",
              " 'naturescape',\n",
              " 'citations',\n",
              " 'peerreviewedpublications',\n",
              " 'funding',\n",
              " 'relevantcoursework',\n",
              " 'courseworkincludes',\n",
              " 'referencetitle',\n",
              " 'pastdue',\n",
              " 'qualityimprovementplans',\n",
              " 'seekingemployment',\n",
              " 'druguseandabuse',\n",
              " 'childtime',\n",
              " 'nationaldiploma',\n",
              " 'knowledge',\n",
              " 'dissertation',\n",
              " 'bookpersonalappointments',\n",
              " 'volunteerworkbetweenjobs',\n",
              " 'sawyerschooldiploma',\n",
              " 'securecoordinateproctorexams',\n",
              " 'definitions',\n",
              " 'independentresearch',\n",
              " 'needsassessments',\n",
              " 'specializedtraining',\n",
              " 'minors',\n",
              " 'nonprofitleadershipandaccomplishment',\n",
              " 'solicitationagreements',\n",
              " 'socialreport',\n",
              " 'claimantinterviews',\n",
              " 'emphasisincomputational',\n",
              " 'qualificationgradeachieved',\n",
              " 'socialnetworks',\n",
              " 'keenbusinesssense',\n",
              " 'candidatename',\n",
              " 'privateandconfidential',\n",
              " 'leadingpeople',\n",
              " 'clubmemberships',\n",
              " 'facultyappointments',\n",
              " 'semesterstudyabroad',\n",
              " 'phone',\n",
              " 'employeepresentations',\n",
              " 'driverslicense',\n",
              " 'healthbenefits',\n",
              " 'recreationalactivities',\n",
              " 'immigrationworkstatus',\n",
              " 'administrativeduties',\n",
              " 'applications',\n",
              " 'wealthdevelopmentstrategies',\n",
              " 'onlinebenefits',\n",
              " 'institutedrivechanges',\n",
              " 'shooters',\n",
              " 'primary',\n",
              " 'cultureandinequality',\n",
              " 'proficientin',\n",
              " 'researchstudies',\n",
              " 'mediaethics',\n",
              " 'entrylevelcodingweb',\n",
              " 'importantcoursework',\n",
              " 'concentrationinmanagement',\n",
              " 'certified',\n",
              " 'apicscertificationcoursework',\n",
              " 'pursuingbachelorsofscience',\n",
              " 'groupenvironments',\n",
              " 'exemplaryworkethics',\n",
              " 'cleandrivingrecord',\n",
              " 'communityleadershipvolunteerism',\n",
              " 'degreeinprogress',\n",
              " 'interviews',\n",
              " 'coursestartdates',\n",
              " 'outreach',\n",
              " 'marketingexpertise',\n",
              " 'analysis',\n",
              " 'sportsandpersonalinterests',\n",
              " 'advancedemployment',\n",
              " 'empathy',\n",
              " 'overallgpa',\n",
              " 'volunteeropportunities',\n",
              " 'personalandhouseholdservices',\n",
              " 'incentives',\n",
              " 'successes',\n",
              " 'expectations',\n",
              " 'testingmethods',\n",
              " 'advancedclericalknowledge',\n",
              " 'highschooldiploma',\n",
              " 'profile',\n",
              " 'interviewfrenchcelebrities',\n",
              " 'diversityinclusion',\n",
              " 'mobilityassistanceaptitude',\n",
              " 'independentproject',\n",
              " 'officeorganization',\n",
              " 'careeropportunities',\n",
              " 'activitiesvolunteerservice',\n",
              " 'desiredemployment',\n",
              " 'trainingsocialwork',\n",
              " 'primaryjobduties',\n",
              " 'additionalabilities',\n",
              " 'eatingdisorderfocus',\n",
              " 'platformsteps',\n",
              " 'otherstudies',\n",
              " 'solutionsfocused',\n",
              " 'volunteercommunitywork',\n",
              " 'titles',\n",
              " 'communityhighlights',\n",
              " 'communityinterests',\n",
              " 'group',\n",
              " 'responsibilitiesareasfollows',\n",
              " 'leadershipexpertise',\n",
              " 'othertrainings',\n",
              " 'companies',\n",
              " 'improvements',\n",
              " 'safetygoals',\n",
              " 'personalinterest',\n",
              " 'troubleshooting',\n",
              " 'domainknowledge',\n",
              " 'extremeoutdoors',\n",
              " 'powers',\n",
              " 'authors',\n",
              " 'teachingassistantships',\n",
              " 'studentplacement',\n",
              " 'nursingpsych',\n",
              " 'behaviorstudies',\n",
              " 'basicstudies',\n",
              " 'bookreviews',\n",
              " 'campusleadershipactivities',\n",
              " 'learngermanyonline',\n",
              " 'scholarships',\n",
              " 'cited',\n",
              " 'specialclassinterests',\n",
              " 'communityleadership',\n",
              " 'technicalresearch',\n",
              " 'communicationandcollaboration',\n",
              " 'virtualtraining',\n",
              " 'undergraduatecoursework',\n",
              " 'hipaaregulations',\n",
              " 'sustainability',\n",
              " 'textclassificationforauthorship',\n",
              " 'variousadministrativejobs',\n",
              " 'volunteeractivity',\n",
              " 'qualitygroupleader',\n",
              " 'humanresourcefunctionsincluding',\n",
              " 'phonewebexinterviewavailability',\n",
              " 'keyremarks',\n",
              " 'varsityathletics',\n",
              " 'trainingfocus',\n",
              " 'culturalsensitivity',\n",
              " 'corporatetravelknowledge',\n",
              " 'mockexams',\n",
              " 'extensivecomputerknowledge',\n",
              " 'descriptionoftitle',\n",
              " 'interviewingpotentialemployees',\n",
              " 'shorttermconsultingengagements',\n",
              " 'humanservicesdepartmentbenefits',\n",
              " 'salesclasses',\n",
              " 'termsconditions',\n",
              " 'selectedresults',\n",
              " 'compensationandbenefitspractices',\n",
              " 'personalfamilyleave',\n",
              " 'legalresearch',\n",
              " 'associatesofartsdegree',\n",
              " 'salaryrequirements',\n",
              " 'internalwikiproject',\n",
              " 'softwareknowledge',\n",
              " 'creativeproblemsolving',\n",
              " 'leadershipandserviceorganizations',\n",
              " 'relatedcourses',\n",
              " 'outreachintern',\n",
              " 'relevantclasses',\n",
              " 'contractedfor',\n",
              " 'monitoringnegative',\n",
              " 'financialknowledge',\n",
              " 'finalcut',\n",
              " 'selectedconferencepresentations',\n",
              " 'teaching',\n",
              " 'grade',\n",
              " 'firearmstraining',\n",
              " 'industryworkshops',\n",
              " 'specializedstudiesandjob',\n",
              " 'significant',\n",
              " 'americanlawqualifications',\n",
              " 'projectpricesrangefrom',\n",
              " 'sorteddocuments',\n",
              " 'applicant',\n",
              " 'certificateinpublishing',\n",
              " 'courseworkin',\n",
              " 'submittalreview',\n",
              " 'generators',\n",
              " 'yearsinindustry',\n",
              " 'unionbenefits',\n",
              " 'servicestandards',\n",
              " 'numerouscognossolutionstraining',\n",
              " 'offer',\n",
              " 'volunteeractivities',\n",
              " 'includedresponsibilities',\n",
              " 'accountingtaxexperts',\n",
              " 'selectednotableaccomplishments',\n",
              " 'physicalassessments',\n",
              " 'seminar',\n",
              " 'honesty',\n",
              " 'intermediateknowledgeinprocreate',\n",
              " 'postsecondaryinstructor',\n",
              " 'situationalleadershiptraining',\n",
              " 'priorposition',\n",
              " 'findjobs',\n",
              " 'classestaken',\n",
              " 'subjects',\n",
              " 'strongcommunicationtechniques',\n",
              " 'dates',\n",
              " 'dedicatedandresponsibleworker',\n",
              " 'culturalawarenessandsensitivity',\n",
              " 'involvement',\n",
              " 'regionsdifferent',\n",
              " 'enrollmentstatus',\n",
              " 'reconciliations',\n",
              " 'physicalexams',\n",
              " 'formalteaching',\n",
              " 'outsideinterests',\n",
              " 'fieldofinterests',\n",
              " 'unemploymentlaws',\n",
              " 'adultlearningtechniques',\n",
              " 'principlesforcommunicatingeffectively',\n",
              " 'privatelessons',\n",
              " 'mentorshiptraining',\n",
              " 'thesistitle',\n",
              " 'clubinvolvement',\n",
              " 'classesandseminars',\n",
              " 'extras',\n",
              " 'socialsciences',\n",
              " 'eventsintern',\n",
              " 'advancedtopicsinneuroscience',\n",
              " 'mentalhealthconditions',\n",
              " 'studiesinarchitecturaldesign',\n",
              " 'businessdomainexpertise',\n",
              " 'rolesresponsibilities',\n",
              " 'coursesdeveloped',\n",
              " 'trainingdirect',\n",
              " 'outstandingcitizenship',\n",
              " 'computerscienceassociatesdegree',\n",
              " 'diplomainbasics',\n",
              " 'responsibilitiesinvolved',\n",
              " 'primaryareas',\n",
              " 'majorassignments',\n",
              " 'employees',\n",
              " 'onlineresearchandanalysis',\n",
              " 'mediapresentations',\n",
              " 'activitiesvolunteer',\n",
              " 'leadershipstyle',\n",
              " 'methodologiesstandards',\n",
              " 'office',\n",
              " 'concepts',\n",
              " 'corporatemanagementclasses',\n",
              " 'gender',\n",
              " 'networks',\n",
              " 'decisions',\n",
              " 'expertknowledgeofdesignapplications',\n",
              " 'sterileenvironments',\n",
              " 'variousmembershipsalesactivities',\n",
              " 'healthandwelfare',\n",
              " 'coordinatingmeetings',\n",
              " 'firstchoiceevaluations',\n",
              " 'personal',\n",
              " 'payrollcompensation',\n",
              " 'criticalincidentsandstress',\n",
              " 'attentionhumanresources',\n",
              " 'relevantsubjects',\n",
              " 'lookingforadditionalenjoyablework',\n",
              " 'departments',\n",
              " 'auditstraining',\n",
              " 'durationofemployment',\n",
              " 'associatesdegreemajor',\n",
              " 'companionshipandemotionalsupport',\n",
              " 'specialinterests',\n",
              " 'honorsocieties_',\n",
              " 'selections',\n",
              " 'affairsprofessional',\n",
              " 'colleges',\n",
              " 'distinguishingqualifications',\n",
              " 'workedflexiblehours',\n",
              " 'juniorclub',\n",
              " 'professionalstatement',\n",
              " 'professionalcontributions',\n",
              " 'graduatestudies',\n",
              " 'note',\n",
              " 'portfolioavailableat',\n",
              " 'examplesofproof',\n",
              " 'oralcommunication',\n",
              " 'adaptationtonewsystemstechnologies',\n",
              " 'cleaningabilities',\n",
              " 'codes',\n",
              " 'writtenoralcommunication',\n",
              " 'collectivebargainingtechniques',\n",
              " 'accomplishmentsincludethefollowing',\n",
              " 'basicadministrativeknowledge',\n",
              " 'schedulinginterviews',\n",
              " 'directories',\n",
              " 'sales',\n",
              " 'partneroutreach',\n",
              " 'nationals',\n",
              " 'academicresume',\n",
              " 'activeteammate',\n",
              " 'associationsandactivities',\n",
              " 'managementtrainingcertificates',\n",
              " 'famousenterprises',\n",
              " 'domain',\n",
              " 'graduatelevel',\n",
              " 'styleintern',\n",
              " 'conservationseasonal',\n",
              " 'researchinterview',\n",
              " 'politicalparty',\n",
              " 'volunteersupport',\n",
              " 'responsibility',\n",
              " 'currentavailablejobs',\n",
              " 'understandingtheprimary',\n",
              " 'psptlevelcumdeltareport',\n",
              " 'highlevelresponsibilities',\n",
              " 'basics',\n",
              " 'notablecoursework',\n",
              " 'listingpresentations',\n",
              " 'degree',\n",
              " 'strongworkethics',\n",
              " 'associatesofartdegree',\n",
              " 'spirituality',\n",
              " 'peopleandorganizations',\n",
              " 'needsassessment',\n",
              " 'internettechnologies',\n",
              " 'community',\n",
              " 'motorcycles',\n",
              " 'previousassignments',\n",
              " 'scheduleappointments',\n",
              " 'booktranslations',\n",
              " 'degree',\n",
              " 'genderandethnicityatwork',\n",
              " 'compensationprograms',\n",
              " 'othernotclassified',\n",
              " 'formerlyregistered',\n",
              " 'from',\n",
              " 'individualizedstudy',\n",
              " 'additionalcomments',\n",
              " 'abroadimmersionprogram',\n",
              " 'expectedsalary',\n",
              " 'relatedworkshopsseminars',\n",
              " 'internationalprograms',\n",
              " 'meetupgroups',\n",
              " 'advances',\n",
              " 'workproducedfor',\n",
              " 'additionalemploymentinformation',\n",
              " 'newsletters',\n",
              " 'nationality',\n",
              " 'learnmore',\n",
              " 'inquiries',\n",
              " 'development',\n",
              " 'selectedtraining',\n",
              " 'principaljobdutiesandresponsibilities',\n",
              " 'linkstoproducedwrittensegments',\n",
              " 'events',\n",
              " 'styletrends',\n",
              " 'initiativetoworkindependently',\n",
              " 'courseofstudy',\n",
              " 'graduated',\n",
              " 'phonecalls',\n",
              " 'accommodations',\n",
              " 'dailyfieldactivities',\n",
              " 'careerprogression',\n",
              " 'areasrecruitedfor',\n",
              " 'referencenumbers',\n",
              " 'programproficiencies',\n",
              " 'campusandcommunityinvolvement',\n",
              " 'computing',\n",
              " 'highestgrade',\n",
              " 'additionallinks',\n",
              " 'focusepwoutlook',\n",
              " 'professionalsocieties',\n",
              " 'capabilitiesabilities',\n",
              " 'athletics',\n",
              " 'exceptionalinterpersonal',\n",
              " 'mainduties',\n",
              " 'flexibleschedule',\n",
              " 'communicatingideasconcepts',\n",
              " 'membershipaccreditations',\n",
              " 'phoneno',\n",
              " 'teamsize',\n",
              " 'electedpositions',\n",
              " 'professionallicense',\n",
              " 'stationsworkedforinclude',\n",
              " 'journalentries',\n",
              " 'careertrack',\n",
              " 'miscellaneousadministrativeduties',\n",
              " 'standardizedtestscores',\n",
              " 'behavioralapproachestochange',\n",
              " 'otherpositionsheld',\n",
              " 'goalsofrestorativecare',\n",
              " 'professionaladministrativesupport',\n",
              " 'riskingconnections',\n",
              " 'boardappointments',\n",
              " 'defecttracking',\n",
              " 'specialassignments',\n",
              " 'developmentandentrepreneurship',\n",
              " 'currentlyenrolledat',\n",
              " 'employer',\n",
              " 'concentrationinpublicfinance',\n",
              " 'majorcoursesintheprogramme',\n",
              " 'titlesworkedoninclude',\n",
              " 'digitalfilmmaking',\n",
              " 'classestaught',\n",
              " 'portfolio',\n",
              " 'documentationwork',\n",
              " 'technicallead',\n",
              " 'associatedevents',\n",
              " 'topiccoveredincluding',\n",
              " 'creditandcollections',\n",
              " 'college',\n",
              " 'otherconsultingcontractemployment',\n",
              " 'digitalliteracy',\n",
              " 'aptitudes',\n",
              " 'professionalleadership',\n",
              " 'projectionsforcurrentinstitutions',\n",
              " 'forthcoming',\n",
              " 'sport',\n",
              " 'administrativeclericalduties',\n",
              " 'paradigms',\n",
              " 'perceptionofart',\n",
              " 'publicpartnership',\n",
              " 'unemployed',\n",
              " 'postpressspecialties',\n",
              " 'globalknowledge',\n",
              " 'opportunitiesunlimited',\n",
              " 'personalcare',\n",
              " 'linestaxes',\n",
              " 'courseworktopics',\n",
              " 'designationsmembershipslicenses',\n",
              " 'legalsecretarialsciencedegree',\n",
              " 'undergraduatementoring',\n",
              " 'total',\n",
              " 'learningnewlanguages',\n",
              " 'hikingandcamping',\n",
              " 'communityworkers',\n",
              " 'proposalspresentations',\n",
              " 'opensource',\n",
              " 'subsidiaries',\n",
              " 'professionalpurpose',\n",
              " 'communityvolunteerservices',\n",
              " 'multimediawritingandreporting',\n",
              " 'proficientwiththeinternet',\n",
              " 'insuranceknowledge',\n",
              " 'colleaguesandstudentemployees',\n",
              " 'generalknowledge',\n",
              " 'additionalknowledge',\n",
              " 'miscellaneous',\n",
              " 'activitiesvolunteering',\n",
              " 'thesis',\n",
              " 'healthsafetyknowledge',\n",
              " 'additionalpositions',\n",
              " 'regionalitops',\n",
              " 'betterjobopportunity',\n",
              " 'nominationsprocess',\n",
              " 'interpersonalcommunication',\n",
              " 'extracurricularactivitiesvolunteeringcommunityservice',\n",
              " 'collaborativeteamwork',\n",
              " 'utilityconstructionknowledge',\n",
              " 'collaborationandteamwork',\n",
              " 'bachelordegree',\n",
              " 'networkproficiencies',\n",
              " 'claims',\n",
              " 'entrepreneurialvision',\n",
              " 'taxes',\n",
              " 'seekingpositionas',\n",
              " 'categoryb',\n",
              " 'studentmembershipprogram',\n",
              " 'generaldescription',\n",
              " 'medicalemergencies',\n",
              " 'fees',\n",
              " 'reporting',\n",
              " 'exemplaryambition',\n",
              " 'voluntarywork',\n",
              " 'dailyactivitiesinclude',\n",
              " 'generalcomputerknowledge',\n",
              " 'degree',\n",
              " 'userjourneys',\n",
              " 'extracurricularinvolvement',\n",
              " 'service',\n",
              " 'psych',\n",
              " 'mastersprogram',\n",
              " 'referenceavailableuponrequest',\n",
              " 'leadershipcertificate',\n",
              " 'functionalabilities',\n",
              " 'regulatory',\n",
              " 'talentdevelopment',\n",
              " 'seniorsecondarycertificateexamination',\n",
              " 'researchinterests',\n",
              " 'holidays',\n",
              " 'yearsofstudies',\n",
              " 'contactinfo',\n",
              " 'endorsements',\n",
              " 'degreeinprocess',\n",
              " 'preparationexcellence',\n",
              " 'society',\n",
              " 'leone',\n",
              " 'seasonaljob',\n",
              " 'activitiesinterests',\n",
              " 'admissioncriteria',\n",
              " 'researchstrategy',\n",
              " 'administrativeskill',\n",
              " 'contents',\n",
              " 'studentinvolvement',\n",
              " 'homephone',\n",
              " 'userinterview',\n",
              " 'amyleannecrandallgmailcom',\n",
              " 'hipaatraining',\n",
              " 'mediumsforsocialchange',\n",
              " 'advancedlevel',\n",
              " 'clausesandbestpractices',\n",
              " 'nonprofit',\n",
              " 'collaborations',\n",
              " 'personalproperty',\n",
              " 'specializedinvestigativetraining',\n",
              " 'reliabilityhonesty',\n",
              " 'processedunemploymentclaims',\n",
              " 'fiveyearapprenticeshipscholarship',\n",
              " 'intercultural',\n",
              " 'abuseservices',\n",
              " 'researchedgrants',\n",
              " 'computerliteracy',\n",
              " 'peerreview',\n",
              " 'institutionaladvancement',\n",
              " 'maincoursesin',\n",
              " 'instituto',\n",
              " 'variousdutiesasassigned',\n",
              " 'tips',\n",
              " 'students',\n",
              " 'professionalandvoluntaryaffiliations',\n",
              " 'drivinglicensedetails',\n",
              " 'projectpresentations',\n",
              " 'qualitycredentials',\n",
              " 'socialactivities',\n",
              " 'additionalseminars',\n",
              " 'involvementactivities',\n",
              " 'selectedqualifications',\n",
              " 'nursingbackground',\n",
              " 'workforcetraining',\n",
              " 'oppositionresearch',\n",
              " 'projectleadershipexcellence',\n",
              " 'communicationstudies',\n",
              " 'viewmyfullresultsat',\n",
              " 'excellentcomputerknowledge',\n",
              " 'demolitionhazards',\n",
              " 'apprenticeshipcoureseadditionalinformation',\n",
              " 'culture',\n",
              " 'recruitmentinterviewing',\n",
              " 'additionalactivities',\n",
              " 'projectroles',\n",
              " 'weeklyandmonthlyreports',\n",
              " 'businessresults',\n",
              " 'onlinelearning',\n",
              " 'characteristics',\n",
              " 'freelancecctvinstallations',\n",
              " 'creditcollections',\n",
              " 'locations',\n",
              " 'dedicationtowork',\n",
              " 'opportunityassessment',\n",
              " 'techniques',\n",
              " 'accessibledataservices',\n",
              " 'hoststatusmeetings',\n",
              " 'urbanliving',\n",
              " 'majorsubjects',\n",
              " 'corporatepolicies',\n",
              " 'sites',\n",
              " 'organisé',\n",
              " 'directives',\n",
              " 'bookschapters',\n",
              " 'qualityinitiatives',\n",
              " 'environments',\n",
              " 'generalstudies',\n",
              " 'worthmentioning',\n",
              " 'noteworthyhobbies',\n",
              " 'intermediateexcel',\n",
              " 'currentstudy',\n",
              " 'organizedandgoaloriented',\n",
              " 'backgroundscreeningofcandidates',\n",
              " 'duties',\n",
              " 'conventionsseminarsselfimprovement',\n",
              " 'relatedcoursework',\n",
              " 'viewmyresults',\n",
              " 'interactivconference',\n",
              " 'combine',\n",
              " 'strategies',\n",
              " 'businessspecialistcertificate',\n",
              " 'diplomamajor',\n",
              " 'labprojects',\n",
              " 'pleaseemail',\n",
              " 'currentnorestrictions',\n",
              " 'issues',\n",
              " 'oversight',\n",
              " 'results',\n",
              " 'activitiesandleadership',\n",
              " 'overall',\n",
              " 'degreeprograms',\n",
              " 'officeproficiencyassessment',\n",
              " 'compensationpayroll',\n",
              " 'positiveoutlook',\n",
              " 'credittowardsaadegree',\n",
              " 'selectedexhibitions',\n",
              " 'scheduledappointments',\n",
              " 'tableofcontents',\n",
              " 'employeeschedules',\n",
              " 'gradelevel',\n",
              " 'coordinatedpressconferences',\n",
              " 'undergraduate',\n",
              " 'curricular',\n",
              " 'studies',\n",
              " 'claimsanddenials',\n",
              " 'agreements',\n",
              " 'employmentverificationletters',\n",
              " 'localgovernmentbackground',\n",
              " 'complexarchitecturetopics',\n",
              " 'majorcontributions',\n",
              " 'abilitytoworkindependently',\n",
              " 'planningandresearchability',\n",
              " 'philanthropy',\n",
              " 'concern',\n",
              " 'socialmedia',\n",
              " 'workingknowledgeof',\n",
              " 'qualityassessment',\n",
              " 'mastersthesistitle',\n",
              " 'professionaldevelopmentvolunteering',\n",
              " 'qualifiedreliability',\n",
              " 'limitedtitlework',\n",
              " 'ethicalhackingandresponse',\n",
              " 'projectsundertakenforiosl',\n",
              " 'personalinvolvement',\n",
              " 'philosophy',\n",
              " 'excellentattentiontodetails',\n",
              " 'task',\n",
              " 'significantcontributions',\n",
              " 'problemsolvingandtraining',\n",
              " 'fierceconversation',\n",
              " 'proficiencywith',\n",
              " 'publicspeakingengagements',\n",
              " 'courseinformationandsupport',\n",
              " 'homehealthresponsibilities',\n",
              " 'professionaltraits',\n",
              " 'examples',\n",
              " 'personalhistoryprofilefor',\n",
              " 'adminassistantlevel',\n",
              " 'downgradingofservices',\n",
              " 'hipaaeducatedcareerdevelopment',\n",
              " 'challengingbehaviors',\n",
              " 'effectivesalespresentations',\n",
              " 'feasibilitystudies',\n",
              " 'affiliationsvolunteerservices',\n",
              " 'designcommunicationartscertificate',\n",
              " 'femininehealthconcerns',\n",
              " 'description',\n",
              " 'undergraduatedegreeinprogress',\n",
              " 'variousrealestateseminars',\n",
              " 'resultsdriventeamleader',\n",
              " 'excellencespheres',\n",
              " 'publishedtranslation',\n",
              " 'additionalemployment',\n",
              " 'financialliteracy',\n",
              " 'terminology',\n",
              " 'humanresourcesactivitiesandresponsibilities',\n",
              " 'assignments',\n",
              " 'evolution',\n",
              " 'virtualnetworks',\n",
              " 'lectures',\n",
              " 'mainassistant',\n",
              " 'participation',\n",
              " 'teamworkcollaboration',\n",
              " 'implementations',\n",
              " 'knowledgeablein',\n",
              " 'recoveryways',\n",
              " 'artsintegratedcohort',\n",
              " 'mastersinsocialwork',\n",
              " 'majorfieldofstudy',\n",
              " 'installations',\n",
              " 'associatedegreeinjournalism',\n",
              " 'interactionandsocialorder',\n",
              " 'bachelorsdegree',\n",
              " 'mastersthesis',\n",
              " 'teaettaoneill',\n",
              " 'problemsolvingforindividualartists',\n",
              " 'communityaffiliations',\n",
              " 'membership',\n",
              " 'academichonestypolicy',\n",
              " 'introductiontoentrepreneurship',\n",
              " 'highlightedextracurriculars',\n",
              " 'proficiencyinmatlab',\n",
              " 'leadershipknowledge',\n",
              " 'managementcourses',\n",
              " 'relationshipstatus',\n",
              " 'environmentalawareness',\n",
              " 'distinction',\n",
              " 'universityrank',\n",
              " 'devianceandviolence',\n",
              " 'creativity',\n",
              " 'passinggrade',\n",
              " 'specialworkplace',\n",
              " 'emphasisinpublicrelations',\n",
              " 'interestsandextracurricularactivities',\n",
              " 'contactnumbers',\n",
              " 'firstadvantage',\n",
              " 'personalliability',\n",
              " 'honours',\n",
              " 'academicorganizations',\n",
              " 'innovativesolutions',\n",
              " 'responsibilities',\n",
              " 'specialistin',\n",
              " 'personnelsource',\n",
              " 'cognizantprojects',\n",
              " 'professionalandcommunityengagement',\n",
              " 'websites',\n",
              " 'scopeofresponsibility',\n",
              " 'documentation',\n",
              " 'professionalhraffiliations',\n",
              " 'leadershippositions',\n",
              " 'stressawareness',\n",
              " 'graduateassistantship',\n",
              " 'personaldevelopment',\n",
              " 'projecttitle',\n",
              " 'workresume',\n",
              " 'emphasisonbusinessmanagement',\n",
              " 'medicalspecialisttraining',\n",
              " 'officeduties',\n",
              " 'organizationandefficiency',\n",
              " 'significantcontributionsincluded',\n",
              " 'universityofcambridgeadvancedlevel',\n",
              " 'interpretation',\n",
              " 'interests',\n",
              " 'marketinginternships',\n",
              " 'communitywork',\n",
              " 'physicalexam',\n",
              " 'projectoutline',\n",
              " 'sampleofprofessionaltraining',\n",
              " 'communityinvolvementleadership',\n",
              " 'refugees',\n",
              " 'knowledgeofcodingguidelines',\n",
              " 'competitivesports',\n",
              " 'majorresponsibilitiesinclude',\n",
              " 'salesmethodologyformaltraining',\n",
              " 'challenge',\n",
              " 'adventuresinattitudes',\n",
              " 'personalityandleadershiptraits',\n",
              " 'fosteringcollaboration',\n",
              " 'internetresearch',\n",
              " 'internationalacademy',\n",
              " 'interpersonalcommunicationabilities',\n",
              " 'functionalexpertise',\n",
              " 'numerous',\n",
              " 'abilities',\n",
              " 'projectrisk',\n",
              " 'speeches',\n",
              " 'concentrationinforensicpsychology',\n",
              " 'professionalmemberships',\n",
              " 'methods',\n",
              " 'disputes',\n",
              " 'online',\n",
              " 'programproficiency',\n",
              " 'creativeproblem',\n",
              " 'variousotherofficeduties',\n",
              " 'extremelystrongworkethic',\n",
              " 'orientationprograms',\n",
              " 'careeradvancement',\n",
              " 'guidelines',\n",
              " 'establishedstandardsandprocedures',\n",
              " 'departmentalbudgets',\n",
              " 'headstartprograms',\n",
              " 'notableaccomplishment',\n",
              " 'mappingexpertise',\n",
              " 'qualities',\n",
              " 'employeeevaluationsinterviews',\n",
              " 'focusoncomputerscience',\n",
              " 'interdisciplinarystudies',\n",
              " 'bachelorsofsciencedegree',\n",
              " 'property',\n",
              " 'admissionsregistration',\n",
              " 'variousleadershipframeworks',\n",
              " 'hobbiesandotherinterests',\n",
              " 'location',\n",
              " 'unlawfulactivities',\n",
              " 'outsideinterest',\n",
              " 'boardmeetings',\n",
              " 'asianathleticschampionships',\n",
              " 'links',\n",
              " 'culturaldiversity',\n",
              " 'partneralliances',\n",
              " 'planningjobs',\n",
              " 'politicsofhiding',\n",
              " 'questtraining',\n",
              " 'scholarshipsand',\n",
              " 'projectportfolio',\n",
              " 'civicinvolvement',\n",
              " 'seekcareersstaffing',\n",
              " 'prioremployers',\n",
              " 'feescharged',\n",
              " 'civilstatus',\n",
              " 'moralvalues',\n",
              " 'researchedmediacontacts',\n",
              " 'bachelorsofengineering',\n",
              " 'basiccourses',\n",
              " 'outreachconsultation',\n",
              " 'rolesresponsibilities',\n",
              " 'onlineportfolio',\n",
              " 'professionalregistration',\n",
              " 'serviceprojecthighlights',\n",
              " 'generalstudy',\n",
              " 'keyresults',\n",
              " 'science',\n",
              " 'professionalmembershipsandcommittees',\n",
              " 'discovermore',\n",
              " 'investigativeresearch',\n",
              " 'childrenandfamilies',\n",
              " 'trainingprofessionaldevelopment',\n",
              " 'lifelearning',\n",
              " 'presentationskill',\n",
              " 'collaboratingwithcolleagues',\n",
              " 'computerprogramproficiencies',\n",
              " 'years',\n",
              " 'officeservicesspecialistcoordinator',\n",
              " 'physicsmathematicselectives',\n",
              " 'graduateteachingcertificate',\n",
              " 'advanceclassificationsystem',\n",
              " 'worldwide',\n",
              " 'benefits',\n",
              " 'insightfulsectorknowledge',\n",
              " 'volunteeraffiliations',\n",
              " 'sourceinspector',\n",
              " 'honorsocieties',\n",
              " 'leadershipvolunteering',\n",
              " 'bestpractices',\n",
              " 'testingexcellence',\n",
              " 'rank',\n",
              " 'humanfactors',\n",
              " 'paraprofessional',\n",
              " 'reservations',\n",
              " 'accountingfocus',\n",
              " 'related',\n",
              " 'practicesmanual',\n",
              " 'important',\n",
              " 'opentitleorders',\n",
              " 'complexnegotiations',\n",
              " 'proficientcomputerliteracy',\n",
              " 'teachinginstruction',\n",
              " 'responsibilities',\n",
              " 'biostatistics',\n",
              " 'healthneeds',\n",
              " 'commissionbased',\n",
              " 'professionalaffiliationsandservice',\n",
              " 'eligibilityspecialist',\n",
              " 'procedures',\n",
              " 'topresent',\n",
              " 'cooperation',\n",
              " 'culinaryartstraining',\n",
              " 'studentsofscholarship',\n",
              " 'innovations',\n",
              " 'onlineregistrationteam',\n",
              " 'enterprises',\n",
              " 'supplementassessmentsforstudents',\n",
              " 'grouppolicy',\n",
              " 'artsandcommunicationconcentration',\n",
              " 'relevantseminarsandtrainingattended',\n",
              " 'voluntaryandinvitedpresentationsselected',\n",
              " 'services',\n",
              " 'linkstomywork',\n",
              " 'list',\n",
              " 'disabilityexaminer',\n",
              " 'coordinatedvolunteeractivities',\n",
              " 'testcredits',\n",
              " 'coaching',\n",
              " 'threemainareasofresponsibility',\n",
              " 'registeredbodies',\n",
              " 'line',\n",
              " 'vocationalingeneral',\n",
              " 'activitiesandaffiliations',\n",
              " 'contactmaryonlinkedin',\n",
              " 'contactinformation',\n",
              " 'additionalinformation',\n",
              " 'podiumpresentation',\n",
              " 'communityoutreach',\n",
              " 'additionalaccomplishments',\n",
              " 'completedcoursesinclude',\n",
              " 'focusonthefamily',\n",
              " 'purchasingguidelines',\n",
              " 'honorarymembership',\n",
              " 'notes',\n",
              " 'enjoytravelling',\n",
              " 'intendedmajors',\n",
              " 'screenedsubjectsforstudies',\n",
              " 'otheradvancements',\n",
              " 'insomniacevents',\n",
              " 'competitionby',\n",
              " 'primesource',\n",
              " 'moreonmycareer',\n",
              " 'proficiencylevel',\n",
              " 'coursestudies',\n",
              " 'committees',\n",
              " 'leadershipabilities',\n",
              " 'socialadvocacy',\n",
              " 'administrativefunctionsincluding',\n",
              " 'curriculum',\n",
              " 'candidate',\n",
              " 'clinicalexpertise',\n",
              " 'cleanworksites',\n",
              " 'assessmentmethodsandtechniques',\n",
              " 'awareness',\n",
              " 'classes',\n",
              " 'contractassignments',\n",
              " 'mathematicalaptitude',\n",
              " 'examinationyear',\n",
              " 'concentrationinbusiness',\n",
              " 'credentialsandlicensure',\n",
              " 'otherfamiliarities',\n",
              " 'impacttutors',\n",
              " 'extracurriculumactivities',\n",
              " 'initiativeresultsoriented',\n",
              " 'resourcegroupprofessionals',\n",
              " 'personaltrainer',\n",
              " 'workenvironment',\n",
              " 'languagesplatforms',\n",
              " 'reductionexpertise',\n",
              " 'scheduleconferences',\n",
              " 'datasciencegradeb',\n",
              " 'classbasedtraining',\n",
              " 'efficiencyandeffectiveness',\n",
              " 'extensivefoodbeverageknowledge',\n",
              " 'labs',\n",
              " 'contractsupgrades',\n",
              " 'goodworkethics',\n",
              " 'socialmediaknowledge',\n",
              " 'emergencycontactinformation',\n",
              " 'communityactivities',\n",
              " 'corporate',\n",
              " 'communityservices',\n",
              " 'rehabilitation',\n",
              " 'selfdevelopment',\n",
              " 'otherdutiesandresponsibilities',\n",
              " 'initiative',\n",
              " 'goals',\n",
              " 'individuals',\n",
              " 'roleandresponsibilities',\n",
              " 'variouslocations',\n",
              " 'responsibilitiesforert',\n",
              " 'specialtycoding',\n",
              " 'networking',\n",
              " 'campusleadershipinitiatives',\n",
              " 'workbooks',\n",
              " 'volunteerservice',\n",
              " 'standardpoints',\n",
              " 'studentactivities',\n",
              " 'concentrationinsustainability',\n",
              " 'careernote',\n",
              " 'informalteaching',\n",
              " 'totalpointsavailable',\n",
              " 'distinctions',\n",
              " 'clinicalaptitudes',\n",
              " 'networkidentities',\n",
              " 'hourlyrate',\n",
              " 'safetraining',\n",
              " 'conversioneffectivecollaboration',\n",
              " 'skillpathlearning',\n",
              " 'mainstreamservices',\n",
              " 'groupsites',\n",
              " 'highlymotivatedprofessional',\n",
              " 'billingoptions',\n",
              " 'onlineprogram',\n",
              " 'onlinesupporthistory',\n",
              " 'increasedfunding',\n",
              " 'familyresponsibility',\n",
              " 'personalsports',\n",
              " 'coordinatedvolunteerwork',\n",
              " 'fieldstudy',\n",
              " 'efficiencyimprovements',\n",
              " 'communityorganizations',\n",
              " 'trainingandmentoring',\n",
              " 'maindutiesresponsibilities',\n",
              " 'projectrange',\n",
              " 'hours',\n",
              " 'rewards',\n",
              " 'professionaldevelopmenttopics',\n",
              " 'testingstrategies',\n",
              " 'desiredjobtitle',\n",
              " 'opportunistic',\n",
              " 'subjectmatterrecognition',\n",
              " 'economics',\n",
              " 'collaborativeandefficient',\n",
              " ...]"
            ]
          },
          "metadata": {
            "tags": []
          },
          "execution_count": 5
        }
      ]
    },
    {
      "cell_type": "code",
      "metadata": {
        "id": "Rq5y38XBc7u0",
        "colab_type": "code",
        "colab": {}
      },
      "source": [
        "with open('data.txt','w') as d:\n",
        "    d.write(str(c))"
      ],
      "execution_count": 0,
      "outputs": []
    },
    {
      "cell_type": "code",
      "metadata": {
        "id": "DLZ-YJZYch84",
        "colab_type": "code",
        "colab": {}
      },
      "source": [
        ""
      ],
      "execution_count": 0,
      "outputs": []
    },
    {
      "cell_type": "code",
      "metadata": {
        "id": "cyoj29J24hPX",
        "colab_type": "code",
        "colab": {}
      },
      "source": [
        "df = pd.read_csv('test.csv',encoding='latin-1')"
      ],
      "execution_count": 0,
      "outputs": []
    },
    {
      "cell_type": "code",
      "metadata": {
        "id": "zfJYKlxDhoR_",
        "colab_type": "code",
        "colab": {}
      },
      "source": [
        ""
      ],
      "execution_count": 0,
      "outputs": []
    },
    {
      "cell_type": "code",
      "metadata": {
        "id": "gTM3hOHW4hUY",
        "colab_type": "code",
        "outputId": "13ee6156-2ac1-4dfb-9712-4d581bafc8f7",
        "colab": {
          "base_uri": "https://localhost:8080/",
          "height": 195
        }
      },
      "source": [
        "df.head()"
      ],
      "execution_count": 0,
      "outputs": [
        {
          "output_type": "execute_result",
          "data": {
            "text/html": [
              "<div>\n",
              "<style scoped>\n",
              "    .dataframe tbody tr th:only-of-type {\n",
              "        vertical-align: middle;\n",
              "    }\n",
              "\n",
              "    .dataframe tbody tr th {\n",
              "        vertical-align: top;\n",
              "    }\n",
              "\n",
              "    .dataframe thead th {\n",
              "        text-align: right;\n",
              "    }\n",
              "</style>\n",
              "<table border=\"1\" class=\"dataframe\">\n",
              "  <thead>\n",
              "    <tr style=\"text-align: right;\">\n",
              "      <th></th>\n",
              "      <th>data</th>\n",
              "      <th>Class</th>\n",
              "    </tr>\n",
              "  </thead>\n",
              "  <tbody>\n",
              "    <tr>\n",
              "      <th>0</th>\n",
              "      <td>Suresh Kumar</td>\n",
              "      <td>0</td>\n",
              "    </tr>\n",
              "    <tr>\n",
              "      <th>1</th>\n",
              "      <td>E Mail bskumar_ash@yahoo.com ~ Contact +91 960...</td>\n",
              "      <td>0</td>\n",
              "    </tr>\n",
              "    <tr>\n",
              "      <th>2</th>\n",
              "      <td>Seeking assignments Technology Leader organiza...</td>\n",
              "      <td>4</td>\n",
              "    </tr>\n",
              "    <tr>\n",
              "      <th>3</th>\n",
              "      <td>Technical Leader More 14 years expertise leadi...</td>\n",
              "      <td>3</td>\n",
              "    </tr>\n",
              "    <tr>\n",
              "      <th>4</th>\n",
              "      <td>Lastly worked SIS India Pvt</td>\n",
              "      <td>1</td>\n",
              "    </tr>\n",
              "  </tbody>\n",
              "</table>\n",
              "</div>"
            ],
            "text/plain": [
              "                                               data   Class\n",
              "0                                      Suresh Kumar       0\n",
              "1  E Mail bskumar_ash@yahoo.com ~ Contact +91 960...      0\n",
              "2  Seeking assignments Technology Leader organiza...      4\n",
              "3  Technical Leader More 14 years expertise leadi...      3\n",
              "4                       Lastly worked SIS India Pvt       1"
            ]
          },
          "metadata": {
            "tags": []
          },
          "execution_count": 44
        }
      ]
    },
    {
      "cell_type": "code",
      "metadata": {
        "id": "mOo9XdhQZZiT",
        "colab_type": "code",
        "outputId": "8f98feb9-e796-4372-9acb-e732f0f88a45",
        "colab": {
          "base_uri": "https://localhost:8080/",
          "height": 67
        }
      },
      "source": [
        "df.isnull().sum()"
      ],
      "execution_count": 0,
      "outputs": [
        {
          "output_type": "execute_result",
          "data": {
            "text/plain": [
              "data     0\n",
              "Class    0\n",
              "dtype: int64"
            ]
          },
          "metadata": {
            "tags": []
          },
          "execution_count": 45
        }
      ]
    },
    {
      "cell_type": "code",
      "metadata": {
        "id": "t4i8mKiIh88r",
        "colab_type": "code",
        "outputId": "a299ee86-65e6-4fa8-cdaa-8c9e4f74279c",
        "colab": {
          "base_uri": "https://localhost:8080/",
          "height": 34
        }
      },
      "source": [
        "df.size"
      ],
      "execution_count": 0,
      "outputs": [
        {
          "output_type": "execute_result",
          "data": {
            "text/plain": [
              "12938"
            ]
          },
          "metadata": {
            "tags": []
          },
          "execution_count": 20
        }
      ]
    },
    {
      "cell_type": "code",
      "metadata": {
        "id": "Z_tQicAwZZlj",
        "colab_type": "code",
        "colab": {}
      },
      "source": [
        "i=[df['class'].isnull()]\n"
      ],
      "execution_count": 0,
      "outputs": []
    },
    {
      "cell_type": "code",
      "metadata": {
        "id": "WkOva-U6hiXs",
        "colab_type": "code",
        "outputId": "c6316575-1a65-4d04-f64d-1365b36bca14",
        "colab": {
          "base_uri": "https://localhost:8080/",
          "height": 34
        }
      },
      "source": [
        "len(i[0])"
      ],
      "execution_count": 0,
      "outputs": [
        {
          "output_type": "execute_result",
          "data": {
            "text/plain": [
              "6469"
            ]
          },
          "metadata": {
            "tags": []
          },
          "execution_count": 22
        }
      ]
    },
    {
      "cell_type": "markdown",
      "metadata": {
        "id": "pGYR2OO1joAf",
        "colab_type": "text"
      },
      "source": [
        "Listing index with nan values\n",
        "Dropping the values "
      ]
    },
    {
      "cell_type": "code",
      "metadata": {
        "id": "MUtuLc7ThB2S",
        "colab_type": "code",
        "outputId": "f941a372-349c-4c38-d972-b4dfeff9c3bc",
        "colab": {
          "base_uri": "https://localhost:8080/",
          "height": 70
        }
      },
      "source": [
        "for val in range(len(i[0])):\n",
        "  if (i[0][val]==True):\n",
        "    print(val)"
      ],
      "execution_count": 0,
      "outputs": [
        {
          "output_type": "stream",
          "text": [
            "1277\n",
            "1278\n",
            "1279\n"
          ],
          "name": "stdout"
        }
      ]
    },
    {
      "cell_type": "code",
      "metadata": {
        "id": "aaTa8KT6hB4-",
        "colab_type": "code",
        "colab": {}
      },
      "source": [
        "df.dropna(axis=0,inplace=True)\n"
      ],
      "execution_count": 0,
      "outputs": []
    },
    {
      "cell_type": "code",
      "metadata": {
        "id": "uAyZrQMshB7z",
        "colab_type": "code",
        "outputId": "3fa5e115-be93-4ff3-c70b-7a8e7d5c8a06",
        "colab": {
          "base_uri": "https://localhost:8080/",
          "height": 34
        }
      },
      "source": [
        "df.shape"
      ],
      "execution_count": 0,
      "outputs": [
        {
          "output_type": "execute_result",
          "data": {
            "text/plain": [
              "(6469, 2)"
            ]
          },
          "metadata": {
            "tags": []
          },
          "execution_count": 23
        }
      ]
    },
    {
      "cell_type": "markdown",
      "metadata": {
        "id": "Dh9qXYFnkmE3",
        "colab_type": "text"
      },
      "source": [
        "### data is now well formatted for use\n",
        "\n"
      ]
    },
    {
      "cell_type": "code",
      "metadata": {
        "id": "-_9kEeB7hB-A",
        "colab_type": "code",
        "outputId": "7bd5e6e0-300a-4597-ca37-244463a509f2",
        "colab": {
          "base_uri": "https://localhost:8080/",
          "height": 70
        }
      },
      "source": [
        "df.isnull().sum()"
      ],
      "execution_count": 0,
      "outputs": [
        {
          "output_type": "execute_result",
          "data": {
            "text/plain": [
              " Data    0\n",
              "class    0\n",
              "dtype: int64"
            ]
          },
          "metadata": {
            "tags": []
          },
          "execution_count": 163
        }
      ]
    },
    {
      "cell_type": "markdown",
      "metadata": {
        "id": "oovNUsnZk1bC",
        "colab_type": "text"
      },
      "source": [
        "## Listing class wise values out of 402"
      ]
    },
    {
      "cell_type": "code",
      "metadata": {
        "id": "YGdVTip1hCAa",
        "colab_type": "code",
        "outputId": "3033a248-b4b1-4d7a-dee3-a3cdbf2fc298",
        "colab": {
          "base_uri": "https://localhost:8080/",
          "height": 67
        }
      },
      "source": [
        "df['class'].value_counts()"
      ],
      "execution_count": 0,
      "outputs": [
        {
          "output_type": "execute_result",
          "data": {
            "text/plain": [
              "1    3789\n",
              "0    2680\n",
              "Name: class, dtype: int64"
            ]
          },
          "metadata": {
            "tags": []
          },
          "execution_count": 24
        }
      ]
    },
    {
      "cell_type": "markdown",
      "metadata": {
        "id": "-DS24D_dmeE3",
        "colab_type": "text"
      },
      "source": [
        "#### Save for later use\n"
      ]
    },
    {
      "cell_type": "code",
      "metadata": {
        "id": "i0S2f6lhhCCj",
        "colab_type": "code",
        "colab": {}
      },
      "source": [
        "df.to_csv('use.csv')"
      ],
      "execution_count": 0,
      "outputs": []
    },
    {
      "cell_type": "code",
      "metadata": {
        "id": "EmjQngzPhCE7",
        "colab_type": "code",
        "colab": {}
      },
      "source": [
        "file=pd.read_csv('use.csv')"
      ],
      "execution_count": 0,
      "outputs": []
    },
    {
      "cell_type": "markdown",
      "metadata": {
        "id": "xNCxFsTumyNX",
        "colab_type": "text"
      },
      "source": [
        "### Filtered multiple occurences of file but the class is still imbalanced\n",
        "\n",
        "\n",
        "1.   Can't depend on just accuracy\n",
        "2.   May need more data for minority class or use sampling technique\n",
        "\n",
        "\n",
        "\n"
      ]
    },
    {
      "cell_type": "code",
      "metadata": {
        "id": "68XGpLVMhCG-",
        "colab_type": "code",
        "outputId": "078c08d1-ce80-4c1d-d30a-605dbe9d3f9f",
        "colab": {
          "base_uri": "https://localhost:8080/",
          "height": 70
        }
      },
      "source": [
        "file['class'].value_counts()"
      ],
      "execution_count": 0,
      "outputs": [
        {
          "output_type": "execute_result",
          "data": {
            "text/plain": [
              "0.0    830\n",
              "1.0    447\n",
              "Name: class, dtype: int64"
            ]
          },
          "metadata": {
            "tags": []
          },
          "execution_count": 168
        }
      ]
    },
    {
      "cell_type": "code",
      "metadata": {
        "id": "b3M2eVL9c6Z0",
        "colab_type": "code",
        "colab": {}
      },
      "source": [
        "file=df"
      ],
      "execution_count": 0,
      "outputs": []
    },
    {
      "cell_type": "markdown",
      "metadata": {
        "id": "s5bQ8R-sm8Ie",
        "colab_type": "text"
      },
      "source": [
        ""
      ]
    },
    {
      "cell_type": "markdown",
      "metadata": {
        "id": "8c1ytER-nLqG",
        "colab_type": "text"
      },
      "source": [
        "## Parameters to trust ( *Not Accuracy*)\n",
        "\n",
        "\n",
        "---\n",
        "\n",
        "\n",
        "*   Precision\n",
        "*   Balanced Accuracy\n",
        "\n",
        "*   Recall \n",
        "*   F1 Score\n",
        "\n",
        "\n",
        "\n",
        "\n"
      ]
    },
    {
      "cell_type": "code",
      "metadata": {
        "id": "vqFTljKu__7-",
        "colab_type": "code",
        "colab": {}
      },
      "source": [
        "batch_1=file"
      ],
      "execution_count": 0,
      "outputs": []
    },
    {
      "cell_type": "markdown",
      "metadata": {
        "id": "7_MO08_KiAOb",
        "colab_type": "text"
      },
      "source": [
        "## Loading the Pre-trained BERT model\n"
      ]
    },
    {
      "cell_type": "code",
      "metadata": {
        "id": "q1InADgf5xm2",
        "colab_type": "code",
        "colab": {}
      },
      "source": [
        "# For DistilBERT:\n",
        "model_class, tokenizer_class, pretrained_weights = (ppb.DistilBertModel, ppb.DistilBertTokenizer, 'distilbert-base-uncased')\n",
        "\n",
        "## To use base model use\n",
        "#model_class, tokenizer_class, pretrained_weights = (ppb.BertModel, ppb.BertTokenizer, 'bert-base-uncased')\n",
        "\n",
        "# Load pretrained model/tokenizer\n",
        "tokenizer = tokenizer_class.from_pretrained(pretrained_weights)\n",
        "model = model_class.from_pretrained(pretrained_weights)"
      ],
      "execution_count": 0,
      "outputs": []
    },
    {
      "cell_type": "code",
      "metadata": {
        "id": "DqGA9QlOEsb1",
        "colab_type": "code",
        "outputId": "11f7b078-c53b-4a74-db15-7b8d34f8fd30",
        "colab": {
          "base_uri": "https://localhost:8080/",
          "height": 34
        }
      },
      "source": [
        "file.columns"
      ],
      "execution_count": 0,
      "outputs": [
        {
          "output_type": "execute_result",
          "data": {
            "text/plain": [
              "Index(['data ', 'Class'], dtype='object')"
            ]
          },
          "metadata": {
            "tags": []
          },
          "execution_count": 49
        }
      ]
    },
    {
      "cell_type": "markdown",
      "metadata": {
        "id": "2rFdFu1yEr-X",
        "colab_type": "text"
      },
      "source": [
        ""
      ]
    },
    {
      "cell_type": "code",
      "metadata": {
        "id": "P_uPn-E0oFoo",
        "colab_type": "code",
        "outputId": "71eaf303-8718-46f0-ac6a-83006846cafc",
        "colab": {
          "base_uri": "https://localhost:8080/",
          "height": 218
        }
      },
      "source": [
        "file['data ']"
      ],
      "execution_count": 0,
      "outputs": [
        {
          "output_type": "execute_result",
          "data": {
            "text/plain": [
              "0                                          Suresh Kumar \n",
              "1      E Mail bskumar_ash@yahoo.com ~ Contact +91 960...\n",
              "2      Seeking assignments Technology Leader organiza...\n",
              "3      Technical Leader More 14 years expertise leadi...\n",
              "4                           Lastly worked SIS India Pvt \n",
              "                             ...                        \n",
              "396                             Academic Qualifications \n",
              "397    Bachelor Technology Computer Science & Enginee...\n",
              "398                                    Personal details \n",
              "399    Date birth Marital Status Permanent Address Pa...\n",
              "400    Flat No 36 GH8 Paschim Vihar Near Meera Bagh N...\n",
              "Name: data , Length: 401, dtype: object"
            ]
          },
          "metadata": {
            "tags": []
          },
          "execution_count": 50
        }
      ]
    },
    {
      "cell_type": "code",
      "metadata": {
        "id": "Dg82ndBA5xlN",
        "colab_type": "code",
        "colab": {}
      },
      "source": [
        "tokenized = file['data '].apply((lambda x: tokenizer.encode(x, add_special_tokens=True)))"
      ],
      "execution_count": 0,
      "outputs": []
    },
    {
      "cell_type": "markdown",
      "metadata": {
        "id": "WcEALfrJoumI",
        "colab_type": "text"
      },
      "source": [
        "\n",
        "\n",
        "*   adds <(cls)> token\n",
        "\n",
        "*   adds <(seq)> token\n",
        "*   adds ## for words contained in middle of the sentence\n",
        "\n",
        "\n",
        "\n"
      ]
    },
    {
      "cell_type": "code",
      "metadata": {
        "id": "URn-DWJt5xhP",
        "colab_type": "code",
        "colab": {}
      },
      "source": [
        "max_len = 0\n",
        "for i in tokenized.values:\n",
        "    if len(i) > max_len:\n",
        "        max_len = len(i)\n",
        "\n",
        "padded = np.array([i + [0]*(max_len-len(i)) for i in tokenized.values])"
      ],
      "execution_count": 0,
      "outputs": []
    },
    {
      "cell_type": "markdown",
      "metadata": {
        "id": "Mdjg306wjjmL",
        "colab_type": "text"
      },
      "source": [
        "Our dataset is now in the `padded` variable, we can view its dimensions below:"
      ]
    },
    {
      "cell_type": "code",
      "metadata": {
        "id": "jdi7uXo95xeq",
        "colab_type": "code",
        "outputId": "c3c0ce35-221a-448a-c6a7-7eaf5b3b4fc3",
        "colab": {
          "base_uri": "https://localhost:8080/",
          "height": 34
        }
      },
      "source": [
        "np.array(padded).shape"
      ],
      "execution_count": 0,
      "outputs": [
        {
          "output_type": "execute_result",
          "data": {
            "text/plain": [
              "(401, 88)"
            ]
          },
          "metadata": {
            "tags": []
          },
          "execution_count": 53
        }
      ]
    },
    {
      "cell_type": "code",
      "metadata": {
        "id": "RQRJyjwypMPr",
        "colab_type": "code",
        "colab": {}
      },
      "source": [
        "view=pd.DataFrame(padded)"
      ],
      "execution_count": 0,
      "outputs": []
    },
    {
      "cell_type": "markdown",
      "metadata": {
        "id": "2I2phKMhpYr1",
        "colab_type": "text"
      },
      "source": [
        "## Padding is done to make all inputs of same size "
      ]
    },
    {
      "cell_type": "code",
      "metadata": {
        "id": "NBIB2oDSpMSA",
        "colab_type": "code",
        "outputId": "df4f0695-6645-416e-c0e4-ac8e828ab97c",
        "colab": {
          "base_uri": "https://localhost:8080/",
          "height": 392
        }
      },
      "source": [
        "view.tail(10)"
      ],
      "execution_count": 0,
      "outputs": [
        {
          "output_type": "execute_result",
          "data": {
            "text/html": [
              "<div>\n",
              "<style scoped>\n",
              "    .dataframe tbody tr th:only-of-type {\n",
              "        vertical-align: middle;\n",
              "    }\n",
              "\n",
              "    .dataframe tbody tr th {\n",
              "        vertical-align: top;\n",
              "    }\n",
              "\n",
              "    .dataframe thead th {\n",
              "        text-align: right;\n",
              "    }\n",
              "</style>\n",
              "<table border=\"1\" class=\"dataframe\">\n",
              "  <thead>\n",
              "    <tr style=\"text-align: right;\">\n",
              "      <th></th>\n",
              "      <th>0</th>\n",
              "      <th>1</th>\n",
              "      <th>2</th>\n",
              "      <th>3</th>\n",
              "      <th>4</th>\n",
              "      <th>5</th>\n",
              "      <th>6</th>\n",
              "      <th>7</th>\n",
              "      <th>8</th>\n",
              "      <th>9</th>\n",
              "      <th>10</th>\n",
              "      <th>11</th>\n",
              "      <th>12</th>\n",
              "      <th>13</th>\n",
              "      <th>14</th>\n",
              "      <th>15</th>\n",
              "      <th>16</th>\n",
              "      <th>17</th>\n",
              "      <th>18</th>\n",
              "      <th>19</th>\n",
              "      <th>20</th>\n",
              "      <th>21</th>\n",
              "      <th>22</th>\n",
              "      <th>23</th>\n",
              "      <th>24</th>\n",
              "      <th>25</th>\n",
              "      <th>26</th>\n",
              "      <th>27</th>\n",
              "      <th>28</th>\n",
              "      <th>29</th>\n",
              "      <th>30</th>\n",
              "      <th>31</th>\n",
              "      <th>32</th>\n",
              "      <th>33</th>\n",
              "      <th>34</th>\n",
              "      <th>35</th>\n",
              "      <th>36</th>\n",
              "      <th>37</th>\n",
              "      <th>38</th>\n",
              "      <th>39</th>\n",
              "      <th>...</th>\n",
              "      <th>48</th>\n",
              "      <th>49</th>\n",
              "      <th>50</th>\n",
              "      <th>51</th>\n",
              "      <th>52</th>\n",
              "      <th>53</th>\n",
              "      <th>54</th>\n",
              "      <th>55</th>\n",
              "      <th>56</th>\n",
              "      <th>57</th>\n",
              "      <th>58</th>\n",
              "      <th>59</th>\n",
              "      <th>60</th>\n",
              "      <th>61</th>\n",
              "      <th>62</th>\n",
              "      <th>63</th>\n",
              "      <th>64</th>\n",
              "      <th>65</th>\n",
              "      <th>66</th>\n",
              "      <th>67</th>\n",
              "      <th>68</th>\n",
              "      <th>69</th>\n",
              "      <th>70</th>\n",
              "      <th>71</th>\n",
              "      <th>72</th>\n",
              "      <th>73</th>\n",
              "      <th>74</th>\n",
              "      <th>75</th>\n",
              "      <th>76</th>\n",
              "      <th>77</th>\n",
              "      <th>78</th>\n",
              "      <th>79</th>\n",
              "      <th>80</th>\n",
              "      <th>81</th>\n",
              "      <th>82</th>\n",
              "      <th>83</th>\n",
              "      <th>84</th>\n",
              "      <th>85</th>\n",
              "      <th>86</th>\n",
              "      <th>87</th>\n",
              "    </tr>\n",
              "  </thead>\n",
              "  <tbody>\n",
              "    <tr>\n",
              "      <th>391</th>\n",
              "      <td>101</td>\n",
              "      <td>8325</td>\n",
              "      <td>4730</td>\n",
              "      <td>16129</td>\n",
              "      <td>2629</td>\n",
              "      <td>9262</td>\n",
              "      <td>22483</td>\n",
              "      <td>20116</td>\n",
              "      <td>2015</td>\n",
              "      <td>2509</td>\n",
              "      <td>102</td>\n",
              "      <td>0</td>\n",
              "      <td>0</td>\n",
              "      <td>0</td>\n",
              "      <td>0</td>\n",
              "      <td>0</td>\n",
              "      <td>0</td>\n",
              "      <td>0</td>\n",
              "      <td>0</td>\n",
              "      <td>0</td>\n",
              "      <td>0</td>\n",
              "      <td>0</td>\n",
              "      <td>0</td>\n",
              "      <td>0</td>\n",
              "      <td>0</td>\n",
              "      <td>0</td>\n",
              "      <td>0</td>\n",
              "      <td>0</td>\n",
              "      <td>0</td>\n",
              "      <td>0</td>\n",
              "      <td>0</td>\n",
              "      <td>0</td>\n",
              "      <td>0</td>\n",
              "      <td>0</td>\n",
              "      <td>0</td>\n",
              "      <td>0</td>\n",
              "      <td>0</td>\n",
              "      <td>0</td>\n",
              "      <td>0</td>\n",
              "      <td>0</td>\n",
              "      <td>...</td>\n",
              "      <td>0</td>\n",
              "      <td>0</td>\n",
              "      <td>0</td>\n",
              "      <td>0</td>\n",
              "      <td>0</td>\n",
              "      <td>0</td>\n",
              "      <td>0</td>\n",
              "      <td>0</td>\n",
              "      <td>0</td>\n",
              "      <td>0</td>\n",
              "      <td>0</td>\n",
              "      <td>0</td>\n",
              "      <td>0</td>\n",
              "      <td>0</td>\n",
              "      <td>0</td>\n",
              "      <td>0</td>\n",
              "      <td>0</td>\n",
              "      <td>0</td>\n",
              "      <td>0</td>\n",
              "      <td>0</td>\n",
              "      <td>0</td>\n",
              "      <td>0</td>\n",
              "      <td>0</td>\n",
              "      <td>0</td>\n",
              "      <td>0</td>\n",
              "      <td>0</td>\n",
              "      <td>0</td>\n",
              "      <td>0</td>\n",
              "      <td>0</td>\n",
              "      <td>0</td>\n",
              "      <td>0</td>\n",
              "      <td>0</td>\n",
              "      <td>0</td>\n",
              "      <td>0</td>\n",
              "      <td>0</td>\n",
              "      <td>0</td>\n",
              "      <td>0</td>\n",
              "      <td>0</td>\n",
              "      <td>0</td>\n",
              "      <td>0</td>\n",
              "    </tr>\n",
              "    <tr>\n",
              "      <th>392</th>\n",
              "      <td>101</td>\n",
              "      <td>2363</td>\n",
              "      <td>17205</td>\n",
              "      <td>2400</td>\n",
              "      <td>5151</td>\n",
              "      <td>2836</td>\n",
              "      <td>5038</td>\n",
              "      <td>3947</td>\n",
              "      <td>8426</td>\n",
              "      <td>14842</td>\n",
              "      <td>2147</td>\n",
              "      <td>1013</td>\n",
              "      <td>11103</td>\n",
              "      <td>102</td>\n",
              "      <td>0</td>\n",
              "      <td>0</td>\n",
              "      <td>0</td>\n",
              "      <td>0</td>\n",
              "      <td>0</td>\n",
              "      <td>0</td>\n",
              "      <td>0</td>\n",
              "      <td>0</td>\n",
              "      <td>0</td>\n",
              "      <td>0</td>\n",
              "      <td>0</td>\n",
              "      <td>0</td>\n",
              "      <td>0</td>\n",
              "      <td>0</td>\n",
              "      <td>0</td>\n",
              "      <td>0</td>\n",
              "      <td>0</td>\n",
              "      <td>0</td>\n",
              "      <td>0</td>\n",
              "      <td>0</td>\n",
              "      <td>0</td>\n",
              "      <td>0</td>\n",
              "      <td>0</td>\n",
              "      <td>0</td>\n",
              "      <td>0</td>\n",
              "      <td>0</td>\n",
              "      <td>...</td>\n",
              "      <td>0</td>\n",
              "      <td>0</td>\n",
              "      <td>0</td>\n",
              "      <td>0</td>\n",
              "      <td>0</td>\n",
              "      <td>0</td>\n",
              "      <td>0</td>\n",
              "      <td>0</td>\n",
              "      <td>0</td>\n",
              "      <td>0</td>\n",
              "      <td>0</td>\n",
              "      <td>0</td>\n",
              "      <td>0</td>\n",
              "      <td>0</td>\n",
              "      <td>0</td>\n",
              "      <td>0</td>\n",
              "      <td>0</td>\n",
              "      <td>0</td>\n",
              "      <td>0</td>\n",
              "      <td>0</td>\n",
              "      <td>0</td>\n",
              "      <td>0</td>\n",
              "      <td>0</td>\n",
              "      <td>0</td>\n",
              "      <td>0</td>\n",
              "      <td>0</td>\n",
              "      <td>0</td>\n",
              "      <td>0</td>\n",
              "      <td>0</td>\n",
              "      <td>0</td>\n",
              "      <td>0</td>\n",
              "      <td>0</td>\n",
              "      <td>0</td>\n",
              "      <td>0</td>\n",
              "      <td>0</td>\n",
              "      <td>0</td>\n",
              "      <td>0</td>\n",
              "      <td>0</td>\n",
              "      <td>0</td>\n",
              "      <td>0</td>\n",
              "    </tr>\n",
              "    <tr>\n",
              "      <th>393</th>\n",
              "      <td>101</td>\n",
              "      <td>1996</td>\n",
              "      <td>27218</td>\n",
              "      <td>8840</td>\n",
              "      <td>11266</td>\n",
              "      <td>2953</td>\n",
              "      <td>4037</td>\n",
              "      <td>2764</td>\n",
              "      <td>2137</td>\n",
              "      <td>4671</td>\n",
              "      <td>2288</td>\n",
              "      <td>2956</td>\n",
              "      <td>2137</td>\n",
              "      <td>4671</td>\n",
              "      <td>2675</td>\n",
              "      <td>2288</td>\n",
              "      <td>12315</td>\n",
              "      <td>2449</td>\n",
              "      <td>2132</td>\n",
              "      <td>102</td>\n",
              "      <td>0</td>\n",
              "      <td>0</td>\n",
              "      <td>0</td>\n",
              "      <td>0</td>\n",
              "      <td>0</td>\n",
              "      <td>0</td>\n",
              "      <td>0</td>\n",
              "      <td>0</td>\n",
              "      <td>0</td>\n",
              "      <td>0</td>\n",
              "      <td>0</td>\n",
              "      <td>0</td>\n",
              "      <td>0</td>\n",
              "      <td>0</td>\n",
              "      <td>0</td>\n",
              "      <td>0</td>\n",
              "      <td>0</td>\n",
              "      <td>0</td>\n",
              "      <td>0</td>\n",
              "      <td>0</td>\n",
              "      <td>...</td>\n",
              "      <td>0</td>\n",
              "      <td>0</td>\n",
              "      <td>0</td>\n",
              "      <td>0</td>\n",
              "      <td>0</td>\n",
              "      <td>0</td>\n",
              "      <td>0</td>\n",
              "      <td>0</td>\n",
              "      <td>0</td>\n",
              "      <td>0</td>\n",
              "      <td>0</td>\n",
              "      <td>0</td>\n",
              "      <td>0</td>\n",
              "      <td>0</td>\n",
              "      <td>0</td>\n",
              "      <td>0</td>\n",
              "      <td>0</td>\n",
              "      <td>0</td>\n",
              "      <td>0</td>\n",
              "      <td>0</td>\n",
              "      <td>0</td>\n",
              "      <td>0</td>\n",
              "      <td>0</td>\n",
              "      <td>0</td>\n",
              "      <td>0</td>\n",
              "      <td>0</td>\n",
              "      <td>0</td>\n",
              "      <td>0</td>\n",
              "      <td>0</td>\n",
              "      <td>0</td>\n",
              "      <td>0</td>\n",
              "      <td>0</td>\n",
              "      <td>0</td>\n",
              "      <td>0</td>\n",
              "      <td>0</td>\n",
              "      <td>0</td>\n",
              "      <td>0</td>\n",
              "      <td>0</td>\n",
              "      <td>0</td>\n",
              "      <td>0</td>\n",
              "    </tr>\n",
              "    <tr>\n",
              "      <th>394</th>\n",
              "      <td>101</td>\n",
              "      <td>2363</td>\n",
              "      <td>8196</td>\n",
              "      <td>5887</td>\n",
              "      <td>2132</td>\n",
              "      <td>7070</td>\n",
              "      <td>6691</td>\n",
              "      <td>5887</td>\n",
              "      <td>2504</td>\n",
              "      <td>20583</td>\n",
              "      <td>102</td>\n",
              "      <td>0</td>\n",
              "      <td>0</td>\n",
              "      <td>0</td>\n",
              "      <td>0</td>\n",
              "      <td>0</td>\n",
              "      <td>0</td>\n",
              "      <td>0</td>\n",
              "      <td>0</td>\n",
              "      <td>0</td>\n",
              "      <td>0</td>\n",
              "      <td>0</td>\n",
              "      <td>0</td>\n",
              "      <td>0</td>\n",
              "      <td>0</td>\n",
              "      <td>0</td>\n",
              "      <td>0</td>\n",
              "      <td>0</td>\n",
              "      <td>0</td>\n",
              "      <td>0</td>\n",
              "      <td>0</td>\n",
              "      <td>0</td>\n",
              "      <td>0</td>\n",
              "      <td>0</td>\n",
              "      <td>0</td>\n",
              "      <td>0</td>\n",
              "      <td>0</td>\n",
              "      <td>0</td>\n",
              "      <td>0</td>\n",
              "      <td>0</td>\n",
              "      <td>...</td>\n",
              "      <td>0</td>\n",
              "      <td>0</td>\n",
              "      <td>0</td>\n",
              "      <td>0</td>\n",
              "      <td>0</td>\n",
              "      <td>0</td>\n",
              "      <td>0</td>\n",
              "      <td>0</td>\n",
              "      <td>0</td>\n",
              "      <td>0</td>\n",
              "      <td>0</td>\n",
              "      <td>0</td>\n",
              "      <td>0</td>\n",
              "      <td>0</td>\n",
              "      <td>0</td>\n",
              "      <td>0</td>\n",
              "      <td>0</td>\n",
              "      <td>0</td>\n",
              "      <td>0</td>\n",
              "      <td>0</td>\n",
              "      <td>0</td>\n",
              "      <td>0</td>\n",
              "      <td>0</td>\n",
              "      <td>0</td>\n",
              "      <td>0</td>\n",
              "      <td>0</td>\n",
              "      <td>0</td>\n",
              "      <td>0</td>\n",
              "      <td>0</td>\n",
              "      <td>0</td>\n",
              "      <td>0</td>\n",
              "      <td>0</td>\n",
              "      <td>0</td>\n",
              "      <td>0</td>\n",
              "      <td>0</td>\n",
              "      <td>0</td>\n",
              "      <td>0</td>\n",
              "      <td>0</td>\n",
              "      <td>0</td>\n",
              "      <td>0</td>\n",
              "    </tr>\n",
              "    <tr>\n",
              "      <th>395</th>\n",
              "      <td>101</td>\n",
              "      <td>3018</td>\n",
              "      <td>8196</td>\n",
              "      <td>6566</td>\n",
              "      <td>2267</td>\n",
              "      <td>12329</td>\n",
              "      <td>3416</td>\n",
              "      <td>2597</td>\n",
              "      <td>2592</td>\n",
              "      <td>2974</td>\n",
              "      <td>5460</td>\n",
              "      <td>102</td>\n",
              "      <td>0</td>\n",
              "      <td>0</td>\n",
              "      <td>0</td>\n",
              "      <td>0</td>\n",
              "      <td>0</td>\n",
              "      <td>0</td>\n",
              "      <td>0</td>\n",
              "      <td>0</td>\n",
              "      <td>0</td>\n",
              "      <td>0</td>\n",
              "      <td>0</td>\n",
              "      <td>0</td>\n",
              "      <td>0</td>\n",
              "      <td>0</td>\n",
              "      <td>0</td>\n",
              "      <td>0</td>\n",
              "      <td>0</td>\n",
              "      <td>0</td>\n",
              "      <td>0</td>\n",
              "      <td>0</td>\n",
              "      <td>0</td>\n",
              "      <td>0</td>\n",
              "      <td>0</td>\n",
              "      <td>0</td>\n",
              "      <td>0</td>\n",
              "      <td>0</td>\n",
              "      <td>0</td>\n",
              "      <td>0</td>\n",
              "      <td>...</td>\n",
              "      <td>0</td>\n",
              "      <td>0</td>\n",
              "      <td>0</td>\n",
              "      <td>0</td>\n",
              "      <td>0</td>\n",
              "      <td>0</td>\n",
              "      <td>0</td>\n",
              "      <td>0</td>\n",
              "      <td>0</td>\n",
              "      <td>0</td>\n",
              "      <td>0</td>\n",
              "      <td>0</td>\n",
              "      <td>0</td>\n",
              "      <td>0</td>\n",
              "      <td>0</td>\n",
              "      <td>0</td>\n",
              "      <td>0</td>\n",
              "      <td>0</td>\n",
              "      <td>0</td>\n",
              "      <td>0</td>\n",
              "      <td>0</td>\n",
              "      <td>0</td>\n",
              "      <td>0</td>\n",
              "      <td>0</td>\n",
              "      <td>0</td>\n",
              "      <td>0</td>\n",
              "      <td>0</td>\n",
              "      <td>0</td>\n",
              "      <td>0</td>\n",
              "      <td>0</td>\n",
              "      <td>0</td>\n",
              "      <td>0</td>\n",
              "      <td>0</td>\n",
              "      <td>0</td>\n",
              "      <td>0</td>\n",
              "      <td>0</td>\n",
              "      <td>0</td>\n",
              "      <td>0</td>\n",
              "      <td>0</td>\n",
              "      <td>0</td>\n",
              "    </tr>\n",
              "    <tr>\n",
              "      <th>396</th>\n",
              "      <td>101</td>\n",
              "      <td>3834</td>\n",
              "      <td>15644</td>\n",
              "      <td>102</td>\n",
              "      <td>0</td>\n",
              "      <td>0</td>\n",
              "      <td>0</td>\n",
              "      <td>0</td>\n",
              "      <td>0</td>\n",
              "      <td>0</td>\n",
              "      <td>0</td>\n",
              "      <td>0</td>\n",
              "      <td>0</td>\n",
              "      <td>0</td>\n",
              "      <td>0</td>\n",
              "      <td>0</td>\n",
              "      <td>0</td>\n",
              "      <td>0</td>\n",
              "      <td>0</td>\n",
              "      <td>0</td>\n",
              "      <td>0</td>\n",
              "      <td>0</td>\n",
              "      <td>0</td>\n",
              "      <td>0</td>\n",
              "      <td>0</td>\n",
              "      <td>0</td>\n",
              "      <td>0</td>\n",
              "      <td>0</td>\n",
              "      <td>0</td>\n",
              "      <td>0</td>\n",
              "      <td>0</td>\n",
              "      <td>0</td>\n",
              "      <td>0</td>\n",
              "      <td>0</td>\n",
              "      <td>0</td>\n",
              "      <td>0</td>\n",
              "      <td>0</td>\n",
              "      <td>0</td>\n",
              "      <td>0</td>\n",
              "      <td>0</td>\n",
              "      <td>...</td>\n",
              "      <td>0</td>\n",
              "      <td>0</td>\n",
              "      <td>0</td>\n",
              "      <td>0</td>\n",
              "      <td>0</td>\n",
              "      <td>0</td>\n",
              "      <td>0</td>\n",
              "      <td>0</td>\n",
              "      <td>0</td>\n",
              "      <td>0</td>\n",
              "      <td>0</td>\n",
              "      <td>0</td>\n",
              "      <td>0</td>\n",
              "      <td>0</td>\n",
              "      <td>0</td>\n",
              "      <td>0</td>\n",
              "      <td>0</td>\n",
              "      <td>0</td>\n",
              "      <td>0</td>\n",
              "      <td>0</td>\n",
              "      <td>0</td>\n",
              "      <td>0</td>\n",
              "      <td>0</td>\n",
              "      <td>0</td>\n",
              "      <td>0</td>\n",
              "      <td>0</td>\n",
              "      <td>0</td>\n",
              "      <td>0</td>\n",
              "      <td>0</td>\n",
              "      <td>0</td>\n",
              "      <td>0</td>\n",
              "      <td>0</td>\n",
              "      <td>0</td>\n",
              "      <td>0</td>\n",
              "      <td>0</td>\n",
              "      <td>0</td>\n",
              "      <td>0</td>\n",
              "      <td>0</td>\n",
              "      <td>0</td>\n",
              "      <td>0</td>\n",
              "    </tr>\n",
              "    <tr>\n",
              "      <th>397</th>\n",
              "      <td>101</td>\n",
              "      <td>5065</td>\n",
              "      <td>2974</td>\n",
              "      <td>3274</td>\n",
              "      <td>2671</td>\n",
              "      <td>1004</td>\n",
              "      <td>3330</td>\n",
              "      <td>2289</td>\n",
              "      <td>2249</td>\n",
              "      <td>21609</td>\n",
              "      <td>29542</td>\n",
              "      <td>5054</td>\n",
              "      <td>2820</td>\n",
              "      <td>2974</td>\n",
              "      <td>1043</td>\n",
              "      <td>5620</td>\n",
              "      <td>11514</td>\n",
              "      <td>2226</td>\n",
              "      <td>6768</td>\n",
              "      <td>6282</td>\n",
              "      <td>2549</td>\n",
              "      <td>1003</td>\n",
              "      <td>2034</td>\n",
              "      <td>2407</td>\n",
              "      <td>8762</td>\n",
              "      <td>102</td>\n",
              "      <td>0</td>\n",
              "      <td>0</td>\n",
              "      <td>0</td>\n",
              "      <td>0</td>\n",
              "      <td>0</td>\n",
              "      <td>0</td>\n",
              "      <td>0</td>\n",
              "      <td>0</td>\n",
              "      <td>0</td>\n",
              "      <td>0</td>\n",
              "      <td>0</td>\n",
              "      <td>0</td>\n",
              "      <td>0</td>\n",
              "      <td>0</td>\n",
              "      <td>...</td>\n",
              "      <td>0</td>\n",
              "      <td>0</td>\n",
              "      <td>0</td>\n",
              "      <td>0</td>\n",
              "      <td>0</td>\n",
              "      <td>0</td>\n",
              "      <td>0</td>\n",
              "      <td>0</td>\n",
              "      <td>0</td>\n",
              "      <td>0</td>\n",
              "      <td>0</td>\n",
              "      <td>0</td>\n",
              "      <td>0</td>\n",
              "      <td>0</td>\n",
              "      <td>0</td>\n",
              "      <td>0</td>\n",
              "      <td>0</td>\n",
              "      <td>0</td>\n",
              "      <td>0</td>\n",
              "      <td>0</td>\n",
              "      <td>0</td>\n",
              "      <td>0</td>\n",
              "      <td>0</td>\n",
              "      <td>0</td>\n",
              "      <td>0</td>\n",
              "      <td>0</td>\n",
              "      <td>0</td>\n",
              "      <td>0</td>\n",
              "      <td>0</td>\n",
              "      <td>0</td>\n",
              "      <td>0</td>\n",
              "      <td>0</td>\n",
              "      <td>0</td>\n",
              "      <td>0</td>\n",
              "      <td>0</td>\n",
              "      <td>0</td>\n",
              "      <td>0</td>\n",
              "      <td>0</td>\n",
              "      <td>0</td>\n",
              "      <td>0</td>\n",
              "    </tr>\n",
              "    <tr>\n",
              "      <th>398</th>\n",
              "      <td>101</td>\n",
              "      <td>3167</td>\n",
              "      <td>4751</td>\n",
              "      <td>102</td>\n",
              "      <td>0</td>\n",
              "      <td>0</td>\n",
              "      <td>0</td>\n",
              "      <td>0</td>\n",
              "      <td>0</td>\n",
              "      <td>0</td>\n",
              "      <td>0</td>\n",
              "      <td>0</td>\n",
              "      <td>0</td>\n",
              "      <td>0</td>\n",
              "      <td>0</td>\n",
              "      <td>0</td>\n",
              "      <td>0</td>\n",
              "      <td>0</td>\n",
              "      <td>0</td>\n",
              "      <td>0</td>\n",
              "      <td>0</td>\n",
              "      <td>0</td>\n",
              "      <td>0</td>\n",
              "      <td>0</td>\n",
              "      <td>0</td>\n",
              "      <td>0</td>\n",
              "      <td>0</td>\n",
              "      <td>0</td>\n",
              "      <td>0</td>\n",
              "      <td>0</td>\n",
              "      <td>0</td>\n",
              "      <td>0</td>\n",
              "      <td>0</td>\n",
              "      <td>0</td>\n",
              "      <td>0</td>\n",
              "      <td>0</td>\n",
              "      <td>0</td>\n",
              "      <td>0</td>\n",
              "      <td>0</td>\n",
              "      <td>0</td>\n",
              "      <td>...</td>\n",
              "      <td>0</td>\n",
              "      <td>0</td>\n",
              "      <td>0</td>\n",
              "      <td>0</td>\n",
              "      <td>0</td>\n",
              "      <td>0</td>\n",
              "      <td>0</td>\n",
              "      <td>0</td>\n",
              "      <td>0</td>\n",
              "      <td>0</td>\n",
              "      <td>0</td>\n",
              "      <td>0</td>\n",
              "      <td>0</td>\n",
              "      <td>0</td>\n",
              "      <td>0</td>\n",
              "      <td>0</td>\n",
              "      <td>0</td>\n",
              "      <td>0</td>\n",
              "      <td>0</td>\n",
              "      <td>0</td>\n",
              "      <td>0</td>\n",
              "      <td>0</td>\n",
              "      <td>0</td>\n",
              "      <td>0</td>\n",
              "      <td>0</td>\n",
              "      <td>0</td>\n",
              "      <td>0</td>\n",
              "      <td>0</td>\n",
              "      <td>0</td>\n",
              "      <td>0</td>\n",
              "      <td>0</td>\n",
              "      <td>0</td>\n",
              "      <td>0</td>\n",
              "      <td>0</td>\n",
              "      <td>0</td>\n",
              "      <td>0</td>\n",
              "      <td>0</td>\n",
              "      <td>0</td>\n",
              "      <td>0</td>\n",
              "      <td>0</td>\n",
              "    </tr>\n",
              "    <tr>\n",
              "      <th>399</th>\n",
              "      <td>101</td>\n",
              "      <td>3058</td>\n",
              "      <td>4182</td>\n",
              "      <td>23143</td>\n",
              "      <td>3570</td>\n",
              "      <td>4568</td>\n",
              "      <td>4769</td>\n",
              "      <td>12293</td>\n",
              "      <td>2193</td>\n",
              "      <td>1052</td>\n",
              "      <td>2575</td>\n",
              "      <td>22394</td>\n",
              "      <td>27814</td>\n",
              "      <td>8889</td>\n",
              "      <td>9398</td>\n",
              "      <td>6229</td>\n",
              "      <td>10790</td>\n",
              "      <td>1013</td>\n",
              "      <td>2340</td>\n",
              "      <td>1013</td>\n",
              "      <td>16798</td>\n",
              "      <td>2575</td>\n",
              "      <td>2281</td>\n",
              "      <td>2322</td>\n",
              "      <td>2960</td>\n",
              "      <td>102</td>\n",
              "      <td>0</td>\n",
              "      <td>0</td>\n",
              "      <td>0</td>\n",
              "      <td>0</td>\n",
              "      <td>0</td>\n",
              "      <td>0</td>\n",
              "      <td>0</td>\n",
              "      <td>0</td>\n",
              "      <td>0</td>\n",
              "      <td>0</td>\n",
              "      <td>0</td>\n",
              "      <td>0</td>\n",
              "      <td>0</td>\n",
              "      <td>0</td>\n",
              "      <td>...</td>\n",
              "      <td>0</td>\n",
              "      <td>0</td>\n",
              "      <td>0</td>\n",
              "      <td>0</td>\n",
              "      <td>0</td>\n",
              "      <td>0</td>\n",
              "      <td>0</td>\n",
              "      <td>0</td>\n",
              "      <td>0</td>\n",
              "      <td>0</td>\n",
              "      <td>0</td>\n",
              "      <td>0</td>\n",
              "      <td>0</td>\n",
              "      <td>0</td>\n",
              "      <td>0</td>\n",
              "      <td>0</td>\n",
              "      <td>0</td>\n",
              "      <td>0</td>\n",
              "      <td>0</td>\n",
              "      <td>0</td>\n",
              "      <td>0</td>\n",
              "      <td>0</td>\n",
              "      <td>0</td>\n",
              "      <td>0</td>\n",
              "      <td>0</td>\n",
              "      <td>0</td>\n",
              "      <td>0</td>\n",
              "      <td>0</td>\n",
              "      <td>0</td>\n",
              "      <td>0</td>\n",
              "      <td>0</td>\n",
              "      <td>0</td>\n",
              "      <td>0</td>\n",
              "      <td>0</td>\n",
              "      <td>0</td>\n",
              "      <td>0</td>\n",
              "      <td>0</td>\n",
              "      <td>0</td>\n",
              "      <td>0</td>\n",
              "      <td>0</td>\n",
              "    </tr>\n",
              "    <tr>\n",
              "      <th>400</th>\n",
              "      <td>101</td>\n",
              "      <td>4257</td>\n",
              "      <td>2053</td>\n",
              "      <td>4029</td>\n",
              "      <td>1043</td>\n",
              "      <td>2232</td>\n",
              "      <td>2620</td>\n",
              "      <td>14674</td>\n",
              "      <td>5428</td>\n",
              "      <td>2213</td>\n",
              "      <td>6819</td>\n",
              "      <td>8167</td>\n",
              "      <td>2379</td>\n",
              "      <td>2033</td>\n",
              "      <td>6906</td>\n",
              "      <td>4524</td>\n",
              "      <td>2232</td>\n",
              "      <td>2047</td>\n",
              "      <td>6768</td>\n",
              "      <td>14526</td>\n",
              "      <td>8889</td>\n",
              "      <td>2620</td>\n",
              "      <td>2581</td>\n",
              "      <td>102</td>\n",
              "      <td>0</td>\n",
              "      <td>0</td>\n",
              "      <td>0</td>\n",
              "      <td>0</td>\n",
              "      <td>0</td>\n",
              "      <td>0</td>\n",
              "      <td>0</td>\n",
              "      <td>0</td>\n",
              "      <td>0</td>\n",
              "      <td>0</td>\n",
              "      <td>0</td>\n",
              "      <td>0</td>\n",
              "      <td>0</td>\n",
              "      <td>0</td>\n",
              "      <td>0</td>\n",
              "      <td>0</td>\n",
              "      <td>...</td>\n",
              "      <td>0</td>\n",
              "      <td>0</td>\n",
              "      <td>0</td>\n",
              "      <td>0</td>\n",
              "      <td>0</td>\n",
              "      <td>0</td>\n",
              "      <td>0</td>\n",
              "      <td>0</td>\n",
              "      <td>0</td>\n",
              "      <td>0</td>\n",
              "      <td>0</td>\n",
              "      <td>0</td>\n",
              "      <td>0</td>\n",
              "      <td>0</td>\n",
              "      <td>0</td>\n",
              "      <td>0</td>\n",
              "      <td>0</td>\n",
              "      <td>0</td>\n",
              "      <td>0</td>\n",
              "      <td>0</td>\n",
              "      <td>0</td>\n",
              "      <td>0</td>\n",
              "      <td>0</td>\n",
              "      <td>0</td>\n",
              "      <td>0</td>\n",
              "      <td>0</td>\n",
              "      <td>0</td>\n",
              "      <td>0</td>\n",
              "      <td>0</td>\n",
              "      <td>0</td>\n",
              "      <td>0</td>\n",
              "      <td>0</td>\n",
              "      <td>0</td>\n",
              "      <td>0</td>\n",
              "      <td>0</td>\n",
              "      <td>0</td>\n",
              "      <td>0</td>\n",
              "      <td>0</td>\n",
              "      <td>0</td>\n",
              "      <td>0</td>\n",
              "    </tr>\n",
              "  </tbody>\n",
              "</table>\n",
              "<p>10 rows × 88 columns</p>\n",
              "</div>"
            ],
            "text/plain": [
              "      0     1      2      3      4      5      6   ...  81  82  83  84  85  86  87\n",
              "391  101  8325   4730  16129   2629   9262  22483  ...   0   0   0   0   0   0   0\n",
              "392  101  2363  17205   2400   5151   2836   5038  ...   0   0   0   0   0   0   0\n",
              "393  101  1996  27218   8840  11266   2953   4037  ...   0   0   0   0   0   0   0\n",
              "394  101  2363   8196   5887   2132   7070   6691  ...   0   0   0   0   0   0   0\n",
              "395  101  3018   8196   6566   2267  12329   3416  ...   0   0   0   0   0   0   0\n",
              "396  101  3834  15644    102      0      0      0  ...   0   0   0   0   0   0   0\n",
              "397  101  5065   2974   3274   2671   1004   3330  ...   0   0   0   0   0   0   0\n",
              "398  101  3167   4751    102      0      0      0  ...   0   0   0   0   0   0   0\n",
              "399  101  3058   4182  23143   3570   4568   4769  ...   0   0   0   0   0   0   0\n",
              "400  101  4257   2053   4029   1043   2232   2620  ...   0   0   0   0   0   0   0\n",
              "\n",
              "[10 rows x 88 columns]"
            ]
          },
          "metadata": {
            "tags": []
          },
          "execution_count": 55
        }
      ]
    },
    {
      "cell_type": "code",
      "metadata": {
        "id": "4K_iGRNa_Ozc",
        "colab_type": "code",
        "outputId": "20195687-9464-4ff4-91e8-9fa9349ba9aa",
        "colab": {
          "base_uri": "https://localhost:8080/",
          "height": 34
        }
      },
      "source": [
        "attention_mask = np.where(padded != 0, 1, 0)\n",
        "attention_mask.shape"
      ],
      "execution_count": 0,
      "outputs": [
        {
          "output_type": "execute_result",
          "data": {
            "text/plain": [
              "(401, 88)"
            ]
          },
          "metadata": {
            "tags": []
          },
          "execution_count": 56
        }
      ]
    },
    {
      "cell_type": "code",
      "metadata": {
        "id": "39UVjAV56PJz",
        "colab_type": "code",
        "colab": {}
      },
      "source": [
        "input_ids = torch.tensor(padded)  \n",
        "attention_mask = torch.tensor(attention_mask)\n",
        "\n",
        "with torch.no_grad():\n",
        "    last_hidden_states = model(input_ids, attention_mask=attention_mask)"
      ],
      "execution_count": 0,
      "outputs": []
    },
    {
      "cell_type": "code",
      "metadata": {
        "id": "C9t60At16PVs",
        "colab_type": "code",
        "colab": {}
      },
      "source": [
        "features = last_hidden_states[0][:,0,:].numpy()"
      ],
      "execution_count": 0,
      "outputs": []
    },
    {
      "cell_type": "code",
      "metadata": {
        "id": "JD3fX2yh6PTx",
        "colab_type": "code",
        "outputId": "94ee3b3b-43d3-4e34-9677-811d674a2c76",
        "colab": {
          "base_uri": "https://localhost:8080/",
          "height": 690
        }
      },
      "source": [
        "labels = file['class']"
      ],
      "execution_count": 0,
      "outputs": [
        {
          "output_type": "error",
          "ename": "KeyError",
          "evalue": "ignored",
          "traceback": [
            "\u001b[0;31m---------------------------------------------------------------------------\u001b[0m",
            "\u001b[0;31mKeyError\u001b[0m                                  Traceback (most recent call last)",
            "\u001b[0;32m/usr/local/lib/python3.6/dist-packages/pandas/core/indexes/base.py\u001b[0m in \u001b[0;36mget_loc\u001b[0;34m(self, key, method, tolerance)\u001b[0m\n\u001b[1;32m   2645\u001b[0m             \u001b[0;32mtry\u001b[0m\u001b[0;34m:\u001b[0m\u001b[0;34m\u001b[0m\u001b[0;34m\u001b[0m\u001b[0m\n\u001b[0;32m-> 2646\u001b[0;31m                 \u001b[0;32mreturn\u001b[0m \u001b[0mself\u001b[0m\u001b[0;34m.\u001b[0m\u001b[0m_engine\u001b[0m\u001b[0;34m.\u001b[0m\u001b[0mget_loc\u001b[0m\u001b[0;34m(\u001b[0m\u001b[0mkey\u001b[0m\u001b[0;34m)\u001b[0m\u001b[0;34m\u001b[0m\u001b[0;34m\u001b[0m\u001b[0m\n\u001b[0m\u001b[1;32m   2647\u001b[0m             \u001b[0;32mexcept\u001b[0m \u001b[0mKeyError\u001b[0m\u001b[0;34m:\u001b[0m\u001b[0;34m\u001b[0m\u001b[0;34m\u001b[0m\u001b[0m\n",
            "\u001b[0;32mpandas/_libs/index.pyx\u001b[0m in \u001b[0;36mpandas._libs.index.IndexEngine.get_loc\u001b[0;34m()\u001b[0m\n",
            "\u001b[0;32mpandas/_libs/index.pyx\u001b[0m in \u001b[0;36mpandas._libs.index.IndexEngine.get_loc\u001b[0;34m()\u001b[0m\n",
            "\u001b[0;32mpandas/_libs/hashtable_class_helper.pxi\u001b[0m in \u001b[0;36mpandas._libs.hashtable.PyObjectHashTable.get_item\u001b[0;34m()\u001b[0m\n",
            "\u001b[0;32mpandas/_libs/hashtable_class_helper.pxi\u001b[0m in \u001b[0;36mpandas._libs.hashtable.PyObjectHashTable.get_item\u001b[0;34m()\u001b[0m\n",
            "\u001b[0;31mKeyError\u001b[0m: 'class'",
            "\nDuring handling of the above exception, another exception occurred:\n",
            "\u001b[0;31mKeyError\u001b[0m                                  Traceback (most recent call last)",
            "\u001b[0;32m<ipython-input-59-b323b7c50e19>\u001b[0m in \u001b[0;36m<module>\u001b[0;34m()\u001b[0m\n\u001b[0;32m----> 1\u001b[0;31m \u001b[0mlabels\u001b[0m \u001b[0;34m=\u001b[0m \u001b[0mfile\u001b[0m\u001b[0;34m[\u001b[0m\u001b[0;34m'class'\u001b[0m\u001b[0;34m]\u001b[0m\u001b[0;34m\u001b[0m\u001b[0;34m\u001b[0m\u001b[0m\n\u001b[0m",
            "\u001b[0;32m/usr/local/lib/python3.6/dist-packages/pandas/core/frame.py\u001b[0m in \u001b[0;36m__getitem__\u001b[0;34m(self, key)\u001b[0m\n\u001b[1;32m   2798\u001b[0m             \u001b[0;32mif\u001b[0m \u001b[0mself\u001b[0m\u001b[0;34m.\u001b[0m\u001b[0mcolumns\u001b[0m\u001b[0;34m.\u001b[0m\u001b[0mnlevels\u001b[0m \u001b[0;34m>\u001b[0m \u001b[0;36m1\u001b[0m\u001b[0;34m:\u001b[0m\u001b[0;34m\u001b[0m\u001b[0;34m\u001b[0m\u001b[0m\n\u001b[1;32m   2799\u001b[0m                 \u001b[0;32mreturn\u001b[0m \u001b[0mself\u001b[0m\u001b[0;34m.\u001b[0m\u001b[0m_getitem_multilevel\u001b[0m\u001b[0;34m(\u001b[0m\u001b[0mkey\u001b[0m\u001b[0;34m)\u001b[0m\u001b[0;34m\u001b[0m\u001b[0;34m\u001b[0m\u001b[0m\n\u001b[0;32m-> 2800\u001b[0;31m             \u001b[0mindexer\u001b[0m \u001b[0;34m=\u001b[0m \u001b[0mself\u001b[0m\u001b[0;34m.\u001b[0m\u001b[0mcolumns\u001b[0m\u001b[0;34m.\u001b[0m\u001b[0mget_loc\u001b[0m\u001b[0;34m(\u001b[0m\u001b[0mkey\u001b[0m\u001b[0;34m)\u001b[0m\u001b[0;34m\u001b[0m\u001b[0;34m\u001b[0m\u001b[0m\n\u001b[0m\u001b[1;32m   2801\u001b[0m             \u001b[0;32mif\u001b[0m \u001b[0mis_integer\u001b[0m\u001b[0;34m(\u001b[0m\u001b[0mindexer\u001b[0m\u001b[0;34m)\u001b[0m\u001b[0;34m:\u001b[0m\u001b[0;34m\u001b[0m\u001b[0;34m\u001b[0m\u001b[0m\n\u001b[1;32m   2802\u001b[0m                 \u001b[0mindexer\u001b[0m \u001b[0;34m=\u001b[0m \u001b[0;34m[\u001b[0m\u001b[0mindexer\u001b[0m\u001b[0;34m]\u001b[0m\u001b[0;34m\u001b[0m\u001b[0;34m\u001b[0m\u001b[0m\n",
            "\u001b[0;32m/usr/local/lib/python3.6/dist-packages/pandas/core/indexes/base.py\u001b[0m in \u001b[0;36mget_loc\u001b[0;34m(self, key, method, tolerance)\u001b[0m\n\u001b[1;32m   2646\u001b[0m                 \u001b[0;32mreturn\u001b[0m \u001b[0mself\u001b[0m\u001b[0;34m.\u001b[0m\u001b[0m_engine\u001b[0m\u001b[0;34m.\u001b[0m\u001b[0mget_loc\u001b[0m\u001b[0;34m(\u001b[0m\u001b[0mkey\u001b[0m\u001b[0;34m)\u001b[0m\u001b[0;34m\u001b[0m\u001b[0;34m\u001b[0m\u001b[0m\n\u001b[1;32m   2647\u001b[0m             \u001b[0;32mexcept\u001b[0m \u001b[0mKeyError\u001b[0m\u001b[0;34m:\u001b[0m\u001b[0;34m\u001b[0m\u001b[0;34m\u001b[0m\u001b[0m\n\u001b[0;32m-> 2648\u001b[0;31m                 \u001b[0;32mreturn\u001b[0m \u001b[0mself\u001b[0m\u001b[0;34m.\u001b[0m\u001b[0m_engine\u001b[0m\u001b[0;34m.\u001b[0m\u001b[0mget_loc\u001b[0m\u001b[0;34m(\u001b[0m\u001b[0mself\u001b[0m\u001b[0;34m.\u001b[0m\u001b[0m_maybe_cast_indexer\u001b[0m\u001b[0;34m(\u001b[0m\u001b[0mkey\u001b[0m\u001b[0;34m)\u001b[0m\u001b[0;34m)\u001b[0m\u001b[0;34m\u001b[0m\u001b[0;34m\u001b[0m\u001b[0m\n\u001b[0m\u001b[1;32m   2649\u001b[0m         \u001b[0mindexer\u001b[0m \u001b[0;34m=\u001b[0m \u001b[0mself\u001b[0m\u001b[0;34m.\u001b[0m\u001b[0mget_indexer\u001b[0m\u001b[0;34m(\u001b[0m\u001b[0;34m[\u001b[0m\u001b[0mkey\u001b[0m\u001b[0;34m]\u001b[0m\u001b[0;34m,\u001b[0m \u001b[0mmethod\u001b[0m\u001b[0;34m=\u001b[0m\u001b[0mmethod\u001b[0m\u001b[0;34m,\u001b[0m \u001b[0mtolerance\u001b[0m\u001b[0;34m=\u001b[0m\u001b[0mtolerance\u001b[0m\u001b[0;34m)\u001b[0m\u001b[0;34m\u001b[0m\u001b[0;34m\u001b[0m\u001b[0m\n\u001b[1;32m   2650\u001b[0m         \u001b[0;32mif\u001b[0m \u001b[0mindexer\u001b[0m\u001b[0;34m.\u001b[0m\u001b[0mndim\u001b[0m \u001b[0;34m>\u001b[0m \u001b[0;36m1\u001b[0m \u001b[0;32mor\u001b[0m \u001b[0mindexer\u001b[0m\u001b[0;34m.\u001b[0m\u001b[0msize\u001b[0m \u001b[0;34m>\u001b[0m \u001b[0;36m1\u001b[0m\u001b[0;34m:\u001b[0m\u001b[0;34m\u001b[0m\u001b[0;34m\u001b[0m\u001b[0m\n",
            "\u001b[0;32mpandas/_libs/index.pyx\u001b[0m in \u001b[0;36mpandas._libs.index.IndexEngine.get_loc\u001b[0;34m()\u001b[0m\n",
            "\u001b[0;32mpandas/_libs/index.pyx\u001b[0m in \u001b[0;36mpandas._libs.index.IndexEngine.get_loc\u001b[0;34m()\u001b[0m\n",
            "\u001b[0;32mpandas/_libs/hashtable_class_helper.pxi\u001b[0m in \u001b[0;36mpandas._libs.hashtable.PyObjectHashTable.get_item\u001b[0;34m()\u001b[0m\n",
            "\u001b[0;32mpandas/_libs/hashtable_class_helper.pxi\u001b[0m in \u001b[0;36mpandas._libs.hashtable.PyObjectHashTable.get_item\u001b[0;34m()\u001b[0m\n",
            "\u001b[0;31mKeyError\u001b[0m: 'class'"
          ]
        }
      ]
    },
    {
      "cell_type": "code",
      "metadata": {
        "id": "7IgdXDFsxWA-",
        "colab_type": "code",
        "colab": {}
      },
      "source": [
        ""
      ],
      "execution_count": 0,
      "outputs": []
    },
    {
      "cell_type": "code",
      "metadata": {
        "id": "ddAqbkoU6PP9",
        "colab_type": "code",
        "colab": {}
      },
      "source": [
        "train_features, test_features, train_labels, test_labels = train_test_split(features, labels)"
      ],
      "execution_count": 0,
      "outputs": []
    },
    {
      "cell_type": "code",
      "metadata": {
        "id": "cyEwr7yYD3Ci",
        "colab_type": "code",
        "outputId": "7d2d488c-1b4a-44d5-fd1b-dae6656a4689",
        "colab": {
          "base_uri": "https://localhost:8080/",
          "height": 370
        }
      },
      "source": [
        " parameters = {'C': np.linspace(0.0001, 100, 20)}\n",
        " grid_search = GridSearchCV(LogisticRegression(), parameters)\n",
        " grid_search.fit(train_features, train_labels)\n",
        "\n",
        " print('best parameters: ', grid_search.best_params_)\n",
        " print('best scrores: ', grid_search.best_score_)"
      ],
      "execution_count": 0,
      "outputs": [
        {
          "output_type": "error",
          "ename": "ValueError",
          "evalue": "ignored",
          "traceback": [
            "\u001b[0;31m---------------------------------------------------------------------------\u001b[0m",
            "\u001b[0;31mValueError\u001b[0m                                Traceback (most recent call last)",
            "\u001b[0;32m<ipython-input-27-74f2b34599d4>\u001b[0m in \u001b[0;36m<module>\u001b[0;34m()\u001b[0m\n\u001b[1;32m      1\u001b[0m \u001b[0mparameters\u001b[0m \u001b[0;34m=\u001b[0m \u001b[0;34m{\u001b[0m\u001b[0;34m'C'\u001b[0m\u001b[0;34m:\u001b[0m \u001b[0mnp\u001b[0m\u001b[0;34m.\u001b[0m\u001b[0mlinspace\u001b[0m\u001b[0;34m(\u001b[0m\u001b[0;36m0.0001\u001b[0m\u001b[0;34m,\u001b[0m \u001b[0;36m100\u001b[0m\u001b[0;34m,\u001b[0m \u001b[0;36m20\u001b[0m\u001b[0;34m)\u001b[0m\u001b[0;34m}\u001b[0m\u001b[0;34m\u001b[0m\u001b[0;34m\u001b[0m\u001b[0m\n\u001b[1;32m      2\u001b[0m \u001b[0mgrid_search\u001b[0m \u001b[0;34m=\u001b[0m \u001b[0mGridSearchCV\u001b[0m\u001b[0;34m(\u001b[0m\u001b[0mLogisticRegression\u001b[0m\u001b[0;34m(\u001b[0m\u001b[0;34m)\u001b[0m\u001b[0;34m,\u001b[0m \u001b[0mparameters\u001b[0m\u001b[0;34m)\u001b[0m\u001b[0;34m\u001b[0m\u001b[0;34m\u001b[0m\u001b[0m\n\u001b[0;32m----> 3\u001b[0;31m \u001b[0mgrid_search\u001b[0m\u001b[0;34m.\u001b[0m\u001b[0mfit\u001b[0m\u001b[0;34m(\u001b[0m\u001b[0mtrain_features\u001b[0m\u001b[0;34m,\u001b[0m \u001b[0mtrain_labels\u001b[0m\u001b[0;34m)\u001b[0m\u001b[0;34m\u001b[0m\u001b[0;34m\u001b[0m\u001b[0m\n\u001b[0m\u001b[1;32m      4\u001b[0m \u001b[0;34m\u001b[0m\u001b[0m\n\u001b[1;32m      5\u001b[0m \u001b[0mprint\u001b[0m\u001b[0;34m(\u001b[0m\u001b[0;34m'best parameters: '\u001b[0m\u001b[0;34m,\u001b[0m \u001b[0mgrid_search\u001b[0m\u001b[0;34m.\u001b[0m\u001b[0mbest_params_\u001b[0m\u001b[0;34m)\u001b[0m\u001b[0;34m\u001b[0m\u001b[0;34m\u001b[0m\u001b[0m\n",
            "\u001b[0;32m/usr/local/lib/python3.6/dist-packages/sklearn/model_selection/_search.py\u001b[0m in \u001b[0;36mfit\u001b[0;34m(self, X, y, groups, **fit_params)\u001b[0m\n\u001b[1;32m    708\u001b[0m                 \u001b[0;32mreturn\u001b[0m \u001b[0mresults\u001b[0m\u001b[0;34m\u001b[0m\u001b[0;34m\u001b[0m\u001b[0m\n\u001b[1;32m    709\u001b[0m \u001b[0;34m\u001b[0m\u001b[0m\n\u001b[0;32m--> 710\u001b[0;31m             \u001b[0mself\u001b[0m\u001b[0;34m.\u001b[0m\u001b[0m_run_search\u001b[0m\u001b[0;34m(\u001b[0m\u001b[0mevaluate_candidates\u001b[0m\u001b[0;34m)\u001b[0m\u001b[0;34m\u001b[0m\u001b[0;34m\u001b[0m\u001b[0m\n\u001b[0m\u001b[1;32m    711\u001b[0m \u001b[0;34m\u001b[0m\u001b[0m\n\u001b[1;32m    712\u001b[0m         \u001b[0;31m# For multi-metric evaluation, store the best_index_, best_params_ and\u001b[0m\u001b[0;34m\u001b[0m\u001b[0;34m\u001b[0m\u001b[0;34m\u001b[0m\u001b[0m\n",
            "\u001b[0;32m/usr/local/lib/python3.6/dist-packages/sklearn/model_selection/_search.py\u001b[0m in \u001b[0;36m_run_search\u001b[0;34m(self, evaluate_candidates)\u001b[0m\n\u001b[1;32m   1149\u001b[0m     \u001b[0;32mdef\u001b[0m \u001b[0m_run_search\u001b[0m\u001b[0;34m(\u001b[0m\u001b[0mself\u001b[0m\u001b[0;34m,\u001b[0m \u001b[0mevaluate_candidates\u001b[0m\u001b[0;34m)\u001b[0m\u001b[0;34m:\u001b[0m\u001b[0;34m\u001b[0m\u001b[0;34m\u001b[0m\u001b[0m\n\u001b[1;32m   1150\u001b[0m         \u001b[0;34m\"\"\"Search all candidates in param_grid\"\"\"\u001b[0m\u001b[0;34m\u001b[0m\u001b[0;34m\u001b[0m\u001b[0m\n\u001b[0;32m-> 1151\u001b[0;31m         \u001b[0mevaluate_candidates\u001b[0m\u001b[0;34m(\u001b[0m\u001b[0mParameterGrid\u001b[0m\u001b[0;34m(\u001b[0m\u001b[0mself\u001b[0m\u001b[0;34m.\u001b[0m\u001b[0mparam_grid\u001b[0m\u001b[0;34m)\u001b[0m\u001b[0;34m)\u001b[0m\u001b[0;34m\u001b[0m\u001b[0;34m\u001b[0m\u001b[0m\n\u001b[0m\u001b[1;32m   1152\u001b[0m \u001b[0;34m\u001b[0m\u001b[0m\n\u001b[1;32m   1153\u001b[0m \u001b[0;34m\u001b[0m\u001b[0m\n",
            "\u001b[0;32m/usr/local/lib/python3.6/dist-packages/sklearn/model_selection/_search.py\u001b[0m in \u001b[0;36mevaluate_candidates\u001b[0;34m(candidate_params)\u001b[0m\n\u001b[1;32m    687\u001b[0m                                \u001b[0;32mfor\u001b[0m \u001b[0mparameters\u001b[0m\u001b[0;34m,\u001b[0m \u001b[0;34m(\u001b[0m\u001b[0mtrain\u001b[0m\u001b[0;34m,\u001b[0m \u001b[0mtest\u001b[0m\u001b[0;34m)\u001b[0m\u001b[0;34m\u001b[0m\u001b[0;34m\u001b[0m\u001b[0m\n\u001b[1;32m    688\u001b[0m                                in product(candidate_params,\n\u001b[0;32m--> 689\u001b[0;31m                                           cv.split(X, y, groups)))\n\u001b[0m\u001b[1;32m    690\u001b[0m \u001b[0;34m\u001b[0m\u001b[0m\n\u001b[1;32m    691\u001b[0m                 \u001b[0;32mif\u001b[0m \u001b[0mlen\u001b[0m\u001b[0;34m(\u001b[0m\u001b[0mout\u001b[0m\u001b[0;34m)\u001b[0m \u001b[0;34m<\u001b[0m \u001b[0;36m1\u001b[0m\u001b[0;34m:\u001b[0m\u001b[0;34m\u001b[0m\u001b[0;34m\u001b[0m\u001b[0m\n",
            "\u001b[0;32m/usr/local/lib/python3.6/dist-packages/sklearn/model_selection/_split.py\u001b[0m in \u001b[0;36msplit\u001b[0;34m(self, X, y, groups)\u001b[0m\n\u001b[1;32m    331\u001b[0m                 (\"Cannot have number of splits n_splits={0} greater\"\n\u001b[1;32m    332\u001b[0m                  \" than the number of samples: n_samples={1}.\")\n\u001b[0;32m--> 333\u001b[0;31m                 .format(self.n_splits, n_samples))\n\u001b[0m\u001b[1;32m    334\u001b[0m \u001b[0;34m\u001b[0m\u001b[0m\n\u001b[1;32m    335\u001b[0m         \u001b[0;32mfor\u001b[0m \u001b[0mtrain\u001b[0m\u001b[0;34m,\u001b[0m \u001b[0mtest\u001b[0m \u001b[0;32min\u001b[0m \u001b[0msuper\u001b[0m\u001b[0;34m(\u001b[0m\u001b[0;34m)\u001b[0m\u001b[0;34m.\u001b[0m\u001b[0msplit\u001b[0m\u001b[0;34m(\u001b[0m\u001b[0mX\u001b[0m\u001b[0;34m,\u001b[0m \u001b[0my\u001b[0m\u001b[0;34m,\u001b[0m \u001b[0mgroups\u001b[0m\u001b[0;34m)\u001b[0m\u001b[0;34m:\u001b[0m\u001b[0;34m\u001b[0m\u001b[0;34m\u001b[0m\u001b[0m\n",
            "\u001b[0;31mValueError\u001b[0m: Cannot have number of splits n_splits=5 greater than the number of samples: n_samples=2."
          ]
        }
      ]
    },
    {
      "cell_type": "code",
      "metadata": {
        "id": "gG-EVWx4CzBc",
        "colab_type": "code",
        "outputId": "8156ecba-5657-4d6e-adcf-fad38e76bbf4",
        "colab": {
          "base_uri": "https://localhost:8080/",
          "height": 296
        }
      },
      "source": [
        "lr_clf = LogisticRegression(C=5.263252631578947)\n",
        "lr_clf.fit(train_features, train_labels)"
      ],
      "execution_count": 0,
      "outputs": [
        {
          "output_type": "error",
          "ename": "ValueError",
          "evalue": "ignored",
          "traceback": [
            "\u001b[0;31m---------------------------------------------------------------------------\u001b[0m",
            "\u001b[0;31mValueError\u001b[0m                                Traceback (most recent call last)",
            "\u001b[0;32m<ipython-input-28-ee25a13abcb8>\u001b[0m in \u001b[0;36m<module>\u001b[0;34m()\u001b[0m\n\u001b[1;32m      1\u001b[0m \u001b[0mlr_clf\u001b[0m \u001b[0;34m=\u001b[0m \u001b[0mLogisticRegression\u001b[0m\u001b[0;34m(\u001b[0m\u001b[0mC\u001b[0m\u001b[0;34m=\u001b[0m\u001b[0;36m5.263252631578947\u001b[0m\u001b[0;34m)\u001b[0m\u001b[0;34m\u001b[0m\u001b[0;34m\u001b[0m\u001b[0m\n\u001b[0;32m----> 2\u001b[0;31m \u001b[0mlr_clf\u001b[0m\u001b[0;34m.\u001b[0m\u001b[0mfit\u001b[0m\u001b[0;34m(\u001b[0m\u001b[0mtrain_features\u001b[0m\u001b[0;34m,\u001b[0m \u001b[0mtrain_labels\u001b[0m\u001b[0;34m)\u001b[0m\u001b[0;34m\u001b[0m\u001b[0;34m\u001b[0m\u001b[0m\n\u001b[0m",
            "\u001b[0;32m/usr/local/lib/python3.6/dist-packages/sklearn/linear_model/_logistic.py\u001b[0m in \u001b[0;36mfit\u001b[0;34m(self, X, y, sample_weight)\u001b[0m\n\u001b[1;32m   1556\u001b[0m             raise ValueError(\"This solver needs samples of at least 2 classes\"\n\u001b[1;32m   1557\u001b[0m                              \u001b[0;34m\" in the data, but the data contains only one\"\u001b[0m\u001b[0;34m\u001b[0m\u001b[0;34m\u001b[0m\u001b[0m\n\u001b[0;32m-> 1558\u001b[0;31m                              \" class: %r\" % classes_[0])\n\u001b[0m\u001b[1;32m   1559\u001b[0m \u001b[0;34m\u001b[0m\u001b[0m\n\u001b[1;32m   1560\u001b[0m         \u001b[0;32mif\u001b[0m \u001b[0mlen\u001b[0m\u001b[0;34m(\u001b[0m\u001b[0mself\u001b[0m\u001b[0;34m.\u001b[0m\u001b[0mclasses_\u001b[0m\u001b[0;34m)\u001b[0m \u001b[0;34m==\u001b[0m \u001b[0;36m2\u001b[0m\u001b[0;34m:\u001b[0m\u001b[0;34m\u001b[0m\u001b[0;34m\u001b[0m\u001b[0m\n",
            "\u001b[0;31mValueError\u001b[0m: This solver needs samples of at least 2 classes in the data, but the data contains only one class: 0"
          ]
        }
      ]
    },
    {
      "cell_type": "code",
      "metadata": {
        "id": "iCoyxRJ7ECTA",
        "colab_type": "code",
        "outputId": "6a3a7823-2e9c-4843-cf0e-ab52ee9db475",
        "colab": {
          "base_uri": "https://localhost:8080/",
          "height": 303
        }
      },
      "source": [
        "lr_clf.score(test_features, test_labels)"
      ],
      "execution_count": 0,
      "outputs": [
        {
          "output_type": "error",
          "ename": "AttributeError",
          "evalue": "ignored",
          "traceback": [
            "\u001b[0;31m---------------------------------------------------------------------------\u001b[0m",
            "\u001b[0;31mAttributeError\u001b[0m                            Traceback (most recent call last)",
            "\u001b[0;32m<ipython-input-29-08cdf8ec52e7>\u001b[0m in \u001b[0;36m<module>\u001b[0;34m()\u001b[0m\n\u001b[0;32m----> 1\u001b[0;31m \u001b[0mlr_clf\u001b[0m\u001b[0;34m.\u001b[0m\u001b[0mscore\u001b[0m\u001b[0;34m(\u001b[0m\u001b[0mtest_features\u001b[0m\u001b[0;34m,\u001b[0m \u001b[0mtest_labels\u001b[0m\u001b[0;34m)\u001b[0m\u001b[0;34m\u001b[0m\u001b[0;34m\u001b[0m\u001b[0m\n\u001b[0m",
            "\u001b[0;32m/usr/local/lib/python3.6/dist-packages/sklearn/base.py\u001b[0m in \u001b[0;36mscore\u001b[0;34m(self, X, y, sample_weight)\u001b[0m\n\u001b[1;32m    367\u001b[0m         \"\"\"\n\u001b[1;32m    368\u001b[0m         \u001b[0;32mfrom\u001b[0m \u001b[0;34m.\u001b[0m\u001b[0mmetrics\u001b[0m \u001b[0;32mimport\u001b[0m \u001b[0maccuracy_score\u001b[0m\u001b[0;34m\u001b[0m\u001b[0;34m\u001b[0m\u001b[0m\n\u001b[0;32m--> 369\u001b[0;31m         \u001b[0;32mreturn\u001b[0m \u001b[0maccuracy_score\u001b[0m\u001b[0;34m(\u001b[0m\u001b[0my\u001b[0m\u001b[0;34m,\u001b[0m \u001b[0mself\u001b[0m\u001b[0;34m.\u001b[0m\u001b[0mpredict\u001b[0m\u001b[0;34m(\u001b[0m\u001b[0mX\u001b[0m\u001b[0;34m)\u001b[0m\u001b[0;34m,\u001b[0m \u001b[0msample_weight\u001b[0m\u001b[0;34m=\u001b[0m\u001b[0msample_weight\u001b[0m\u001b[0;34m)\u001b[0m\u001b[0;34m\u001b[0m\u001b[0;34m\u001b[0m\u001b[0m\n\u001b[0m\u001b[1;32m    370\u001b[0m \u001b[0;34m\u001b[0m\u001b[0m\n\u001b[1;32m    371\u001b[0m \u001b[0;34m\u001b[0m\u001b[0m\n",
            "\u001b[0;32m/usr/local/lib/python3.6/dist-packages/sklearn/linear_model/_base.py\u001b[0m in \u001b[0;36mpredict\u001b[0;34m(self, X)\u001b[0m\n\u001b[1;32m    291\u001b[0m             \u001b[0mPredicted\u001b[0m \u001b[0;32mclass\u001b[0m \u001b[0mlabel\u001b[0m \u001b[0mper\u001b[0m \u001b[0msample\u001b[0m\u001b[0;34m.\u001b[0m\u001b[0;34m\u001b[0m\u001b[0;34m\u001b[0m\u001b[0m\n\u001b[1;32m    292\u001b[0m         \"\"\"\n\u001b[0;32m--> 293\u001b[0;31m         \u001b[0mscores\u001b[0m \u001b[0;34m=\u001b[0m \u001b[0mself\u001b[0m\u001b[0;34m.\u001b[0m\u001b[0mdecision_function\u001b[0m\u001b[0;34m(\u001b[0m\u001b[0mX\u001b[0m\u001b[0;34m)\u001b[0m\u001b[0;34m\u001b[0m\u001b[0;34m\u001b[0m\u001b[0m\n\u001b[0m\u001b[1;32m    294\u001b[0m         \u001b[0;32mif\u001b[0m \u001b[0mlen\u001b[0m\u001b[0;34m(\u001b[0m\u001b[0mscores\u001b[0m\u001b[0;34m.\u001b[0m\u001b[0mshape\u001b[0m\u001b[0;34m)\u001b[0m \u001b[0;34m==\u001b[0m \u001b[0;36m1\u001b[0m\u001b[0;34m:\u001b[0m\u001b[0;34m\u001b[0m\u001b[0;34m\u001b[0m\u001b[0m\n\u001b[1;32m    295\u001b[0m             \u001b[0mindices\u001b[0m \u001b[0;34m=\u001b[0m \u001b[0;34m(\u001b[0m\u001b[0mscores\u001b[0m \u001b[0;34m>\u001b[0m \u001b[0;36m0\u001b[0m\u001b[0;34m)\u001b[0m\u001b[0;34m.\u001b[0m\u001b[0mastype\u001b[0m\u001b[0;34m(\u001b[0m\u001b[0mnp\u001b[0m\u001b[0;34m.\u001b[0m\u001b[0mint\u001b[0m\u001b[0;34m)\u001b[0m\u001b[0;34m\u001b[0m\u001b[0;34m\u001b[0m\u001b[0m\n",
            "\u001b[0;32m/usr/local/lib/python3.6/dist-packages/sklearn/linear_model/_base.py\u001b[0m in \u001b[0;36mdecision_function\u001b[0;34m(self, X)\u001b[0m\n\u001b[1;32m    268\u001b[0m         \u001b[0mX\u001b[0m \u001b[0;34m=\u001b[0m \u001b[0mcheck_array\u001b[0m\u001b[0;34m(\u001b[0m\u001b[0mX\u001b[0m\u001b[0;34m,\u001b[0m \u001b[0maccept_sparse\u001b[0m\u001b[0;34m=\u001b[0m\u001b[0;34m'csr'\u001b[0m\u001b[0;34m)\u001b[0m\u001b[0;34m\u001b[0m\u001b[0;34m\u001b[0m\u001b[0m\n\u001b[1;32m    269\u001b[0m \u001b[0;34m\u001b[0m\u001b[0m\n\u001b[0;32m--> 270\u001b[0;31m         \u001b[0mn_features\u001b[0m \u001b[0;34m=\u001b[0m \u001b[0mself\u001b[0m\u001b[0;34m.\u001b[0m\u001b[0mcoef_\u001b[0m\u001b[0;34m.\u001b[0m\u001b[0mshape\u001b[0m\u001b[0;34m[\u001b[0m\u001b[0;36m1\u001b[0m\u001b[0;34m]\u001b[0m\u001b[0;34m\u001b[0m\u001b[0;34m\u001b[0m\u001b[0m\n\u001b[0m\u001b[1;32m    271\u001b[0m         \u001b[0;32mif\u001b[0m \u001b[0mX\u001b[0m\u001b[0;34m.\u001b[0m\u001b[0mshape\u001b[0m\u001b[0;34m[\u001b[0m\u001b[0;36m1\u001b[0m\u001b[0;34m]\u001b[0m \u001b[0;34m!=\u001b[0m \u001b[0mn_features\u001b[0m\u001b[0;34m:\u001b[0m\u001b[0;34m\u001b[0m\u001b[0;34m\u001b[0m\u001b[0m\n\u001b[1;32m    272\u001b[0m             raise ValueError(\"X has %d features per sample; expecting %d\"\n",
            "\u001b[0;31mAttributeError\u001b[0m: 'LogisticRegression' object has no attribute 'coef_'"
          ]
        }
      ]
    },
    {
      "cell_type": "code",
      "metadata": {
        "id": "EJQuqV6cnWQu",
        "colab_type": "code",
        "outputId": "3f3d50b3-063c-4c5c-bf92-5725457ee84d",
        "colab": {
          "base_uri": "https://localhost:8080/",
          "height": 34
        }
      },
      "source": [
        "len(test_features)"
      ],
      "execution_count": 0,
      "outputs": [
        {
          "output_type": "execute_result",
          "data": {
            "text/plain": [
              "1618"
            ]
          },
          "metadata": {
            "tags": []
          },
          "execution_count": 31
        }
      ]
    },
    {
      "cell_type": "code",
      "metadata": {
        "id": "io-beX3ezewr",
        "colab_type": "code",
        "colab": {}
      },
      "source": [
        "y_pred=lr_clf.predict(test_features)"
      ],
      "execution_count": 0,
      "outputs": []
    },
    {
      "cell_type": "code",
      "metadata": {
        "id": "rHHO9poAyppz",
        "colab_type": "code",
        "outputId": "3298481d-0800-4e37-d4cb-6e18d8fb36c3",
        "colab": {
          "base_uri": "https://localhost:8080/",
          "height": 34
        }
      },
      "source": [
        "len(y_pred)"
      ],
      "execution_count": 0,
      "outputs": [
        {
          "output_type": "execute_result",
          "data": {
            "text/plain": [
              "1618"
            ]
          },
          "metadata": {
            "tags": []
          },
          "execution_count": 33
        }
      ]
    },
    {
      "cell_type": "code",
      "metadata": {
        "id": "ZPtjdng3yzy3",
        "colab_type": "code",
        "outputId": "e90f6799-0b98-43b0-9324-44087dd5c8af",
        "colab": {
          "base_uri": "https://localhost:8080/",
          "height": 218
        }
      },
      "source": [
        "test_labels"
      ],
      "execution_count": 0,
      "outputs": [
        {
          "output_type": "execute_result",
          "data": {
            "text/plain": [
              "2704    1\n",
              "6381    1\n",
              "1731    0\n",
              "1307    0\n",
              "5688    1\n",
              "       ..\n",
              "6252    1\n",
              "5764    1\n",
              "996     0\n",
              "4249    1\n",
              "3908    1\n",
              "Name: class, Length: 1618, dtype: int64"
            ]
          },
          "metadata": {
            "tags": []
          },
          "execution_count": 34
        }
      ]
    },
    {
      "cell_type": "code",
      "metadata": {
        "id": "ND534Bo_zuLv",
        "colab_type": "code",
        "colab": {}
      },
      "source": [
        "from sklearn.metrics import classification_report as clfr"
      ],
      "execution_count": 0,
      "outputs": []
    },
    {
      "cell_type": "code",
      "metadata": {
        "id": "F41gCiOlz9HE",
        "colab_type": "code",
        "outputId": "48c1f5bf-d9c4-48e1-91b8-60353211a926",
        "colab": {
          "base_uri": "https://localhost:8080/",
          "height": 168
        }
      },
      "source": [
        "print(clfr(test_labels,y_pred))"
      ],
      "execution_count": 0,
      "outputs": [
        {
          "output_type": "stream",
          "text": [
            "              precision    recall  f1-score   support\n",
            "\n",
            "           0       0.85      0.90      0.88       654\n",
            "           1       0.93      0.89      0.91       964\n",
            "\n",
            "    accuracy                           0.90      1618\n",
            "   macro avg       0.89      0.90      0.89      1618\n",
            "weighted avg       0.90      0.90      0.90      1618\n",
            "\n"
          ],
          "name": "stdout"
        }
      ]
    },
    {
      "cell_type": "markdown",
      "metadata": {
        "id": "U2zRI30j0nJx",
        "colab_type": "text"
      },
      "source": [
        "Personal Info  0 <br>\n",
        "Organization   1<br>\n",
        "Education      2<br>\n",
        "Skills         3<br>\n",
        "Others         4\n",
        "\n",
        "\n"
      ]
    },
    {
      "cell_type": "code",
      "metadata": {
        "id": "9wVa7s48x9gq",
        "colab_type": "code",
        "colab": {}
      },
      "source": [
        "from sklearn.ensemble import RandomForestRegressor\n",
        "rf = RandomForestRegressor(random_state = 42)\n",
        "from pprint import pprint"
      ],
      "execution_count": 0,
      "outputs": []
    },
    {
      "cell_type": "code",
      "metadata": {
        "id": "xGpOc1urzSht",
        "colab_type": "code",
        "outputId": "782e7090-c1ab-4ef1-9857-d7efddd8784b",
        "colab": {
          "base_uri": "https://localhost:8080/",
          "height": 134
        }
      },
      "source": [
        "model=RandomForestRegressor()\n",
        "model.fit(train_features, train_labels)"
      ],
      "execution_count": 0,
      "outputs": [
        {
          "output_type": "execute_result",
          "data": {
            "text/plain": [
              "RandomForestRegressor(bootstrap=True, ccp_alpha=0.0, criterion='mse',\n",
              "                      max_depth=None, max_features='auto', max_leaf_nodes=None,\n",
              "                      max_samples=None, min_impurity_decrease=0.0,\n",
              "                      min_impurity_split=None, min_samples_leaf=1,\n",
              "                      min_samples_split=2, min_weight_fraction_leaf=0.0,\n",
              "                      n_estimators=100, n_jobs=None, oob_score=False,\n",
              "                      random_state=None, verbose=0, warm_start=False)"
            ]
          },
          "metadata": {
            "tags": []
          },
          "execution_count": 20
        }
      ]
    },
    {
      "cell_type": "code",
      "metadata": {
        "id": "UBhEbiOyzRqO",
        "colab_type": "code",
        "outputId": "b5a84a22-2d31-47c3-84be-edc04878ce17",
        "colab": {
          "base_uri": "https://localhost:8080/",
          "height": 34
        }
      },
      "source": [
        "model.score(test_features, test_labels)"
      ],
      "execution_count": 0,
      "outputs": [
        {
          "output_type": "execute_result",
          "data": {
            "text/plain": [
              "0.5367943734485058"
            ]
          },
          "metadata": {
            "tags": []
          },
          "execution_count": 21
        }
      ]
    },
    {
      "cell_type": "code",
      "metadata": {
        "id": "TfXBny5n0g5x",
        "colab_type": "code",
        "colab": {}
      },
      "source": [
        "from sklearn.ensemble import GradientBoostingClassifier\n",
        "model_ad = GradientBoostingClassifier()\n",
        "model_ad.fit(train_features, train_labels)\n",
        "y_pred = model_ad.predict(test_features)\n",
        "\n"
      ],
      "execution_count": 0,
      "outputs": []
    },
    {
      "cell_type": "code",
      "metadata": {
        "id": "O_wV8Yra0gxb",
        "colab_type": "code",
        "outputId": "0f0b6b33-219e-4948-fd34-405cd1450178",
        "colab": {
          "base_uri": "https://localhost:8080/",
          "height": 168
        }
      },
      "source": [
        "print(clfr(test_labels,y_pred))"
      ],
      "execution_count": 0,
      "outputs": [
        {
          "output_type": "stream",
          "text": [
            "              precision    recall  f1-score   support\n",
            "\n",
            "           0       0.80      0.84      0.82       654\n",
            "           1       0.89      0.85      0.87       964\n",
            "\n",
            "    accuracy                           0.85      1618\n",
            "   macro avg       0.84      0.85      0.84      1618\n",
            "weighted avg       0.85      0.85      0.85      1618\n",
            "\n"
          ],
          "name": "stdout"
        }
      ]
    },
    {
      "cell_type": "code",
      "metadata": {
        "id": "2FQ2D1l80gt6",
        "colab_type": "code",
        "colab": {}
      },
      "source": [
        ""
      ],
      "execution_count": 0,
      "outputs": []
    },
    {
      "cell_type": "code",
      "metadata": {
        "id": "bEYUafuK0gnF",
        "colab_type": "code",
        "colab": {}
      },
      "source": [
        ""
      ],
      "execution_count": 0,
      "outputs": []
    },
    {
      "cell_type": "code",
      "metadata": {
        "id": "zXbFRy8Ex9eq",
        "colab_type": "code",
        "colab": {}
      },
      "source": [
        "from sklearn.model_selection import RandomizedSearchCV\n",
        "# Number of trees in random forest\n",
        "n_estimators = [int(x) for x in np.linspace(start = 200, stop = 2000, num = 10)]\n",
        "# Number of features to consider at every split\n",
        "max_features = ['auto', 'sqrt']\n",
        "# Maximum number of levels in tree\n",
        "max_depth = [int(x) for x in np.linspace(10, 110, num = 11)]\n",
        "max_depth.append(None)\n",
        "# Minimum number of samples required to split a node\n",
        "min_samples_split = [2, 5, 10]\n",
        "# Minimum number of samples required at each leaf node\n",
        "min_samples_leaf = [1, 2, 4]\n",
        "# Method of selecting samples for training each tree\n",
        "bootstrap = [True, False]\n",
        "# Create the random grid\n",
        "random_grid = {'n_estimators': n_estimators,\n",
        "               'max_features': max_features,\n",
        "               'max_depth': max_depth,\n",
        "               'min_samples_split': min_samples_split,\n",
        "               'min_samples_leaf': min_samples_leaf,\n",
        "               'bootstrap': bootstrap}"
      ],
      "execution_count": 0,
      "outputs": []
    },
    {
      "cell_type": "code",
      "metadata": {
        "id": "zAXCDje-x9a3",
        "colab_type": "code",
        "colab": {}
      },
      "source": [
        "def evaluate(model, test_features, test_labels):\n",
        "    predictions = model.predict(test_features)\n",
        "    errors = abs(predictions - test_labels)\n",
        "    mape = 100 * np.mean(errors / test_labels)\n",
        "    accuracy = 100 - mape\n",
        "    print('Model Performance')\n",
        "    print('Average Error: {:0.4f} degrees.'.format(np.mean(errors)))\n",
        "    print('Accuracy = {:0.2f}%.'.format(accuracy))\n",
        "    \n",
        "    return accuracy"
      ],
      "execution_count": 0,
      "outputs": []
    },
    {
      "cell_type": "code",
      "metadata": {
        "id": "hisgW1uCx9Yz",
        "colab_type": "code",
        "colab": {}
      },
      "source": [
        "base_model = RandomForestRegressor(n_estimators = 10, random_state = 42)\n",
        "base_model.fit(train_features, train_labels)\n",
        "base_accuracy = evaluate(base_model, test_features, test_labels)"
      ],
      "execution_count": 0,
      "outputs": []
    },
    {
      "cell_type": "code",
      "metadata": {
        "id": "Ms6trDDRx9Ub",
        "colab_type": "code",
        "colab": {}
      },
      "source": [
        "best_random = rf_random.best_estimator_\n",
        "random_accuracy = evaluate(best_random, test_features, test_labels)"
      ],
      "execution_count": 0,
      "outputs": []
    },
    {
      "cell_type": "code",
      "metadata": {
        "id": "iHC7_Zzwx9SM",
        "colab_type": "code",
        "colab": {}
      },
      "source": [
        ""
      ],
      "execution_count": 0,
      "outputs": []
    },
    {
      "cell_type": "code",
      "metadata": {
        "id": "HsAK7FmRx9PK",
        "colab_type": "code",
        "colab": {}
      },
      "source": [
        ""
      ],
      "execution_count": 0,
      "outputs": []
    },
    {
      "cell_type": "code",
      "metadata": {
        "id": "UzQ0GvYmx9Mj",
        "colab_type": "code",
        "colab": {}
      },
      "source": [
        ""
      ],
      "execution_count": 0,
      "outputs": []
    },
    {
      "cell_type": "code",
      "metadata": {
        "id": "3JLBF9fEx9I3",
        "colab_type": "code",
        "colab": {}
      },
      "source": [
        ""
      ],
      "execution_count": 0,
      "outputs": []
    },
    {
      "cell_type": "code",
      "metadata": {
        "id": "V08lee3nx9FH",
        "colab_type": "code",
        "colab": {}
      },
      "source": [
        ""
      ],
      "execution_count": 0,
      "outputs": []
    },
    {
      "cell_type": "code",
      "metadata": {
        "id": "i4JYxqaux87e",
        "colab_type": "code",
        "colab": {}
      },
      "source": [
        ""
      ],
      "execution_count": 0,
      "outputs": []
    },
    {
      "cell_type": "code",
      "metadata": {
        "id": "RfrYmzVUg7zf",
        "colab_type": "code",
        "colab": {}
      },
      "source": [
        "from xgboost import XGBClassifier\n",
        "from sklearn.model_selection import GridSearchCV"
      ],
      "execution_count": 0,
      "outputs": []
    },
    {
      "cell_type": "code",
      "metadata": {
        "id": "ZBBCMm3oxDqS",
        "colab_type": "code",
        "colab": {}
      },
      "source": [
        "model=XGBClassifier()"
      ],
      "execution_count": 0,
      "outputs": []
    },
    {
      "cell_type": "code",
      "metadata": {
        "id": "j8WVuSi0xDnx",
        "colab_type": "code",
        "outputId": "378ac7a5-ab30-44df-e68f-7451d05da92e",
        "colab": {
          "base_uri": "https://localhost:8080/",
          "height": 134
        }
      },
      "source": [
        "model.fit(train_features, train_labels)"
      ],
      "execution_count": 0,
      "outputs": [
        {
          "output_type": "execute_result",
          "data": {
            "text/plain": [
              "XGBClassifier(base_score=0.5, booster='gbtree', colsample_bylevel=1,\n",
              "              colsample_bynode=1, colsample_bytree=1, gamma=0,\n",
              "              learning_rate=0.1, max_delta_step=0, max_depth=3,\n",
              "              min_child_weight=1, missing=None, n_estimators=100, n_jobs=1,\n",
              "              nthread=None, objective='binary:logistic', random_state=0,\n",
              "              reg_alpha=0, reg_lambda=1, scale_pos_weight=1, seed=None,\n",
              "              silent=None, subsample=1, verbosity=1)"
            ]
          },
          "metadata": {
            "tags": []
          },
          "execution_count": 31
        }
      ]
    },
    {
      "cell_type": "code",
      "metadata": {
        "id": "yEku16lgxDk4",
        "colab_type": "code",
        "outputId": "ce458867-5735-42d6-f451-36e2b6f98e22",
        "colab": {
          "base_uri": "https://localhost:8080/",
          "height": 34
        }
      },
      "source": [
        "model.score()"
      ],
      "execution_count": 0,
      "outputs": [
        {
          "output_type": "execute_result",
          "data": {
            "text/plain": [
              "0.8504326328800988"
            ]
          },
          "metadata": {
            "tags": []
          },
          "execution_count": 32
        }
      ]
    },
    {
      "cell_type": "code",
      "metadata": {
        "id": "OIjlyc6VxPeW",
        "colab_type": "code",
        "colab": {}
      },
      "source": [
        "y_pred=model.predict(test_features)"
      ],
      "execution_count": 0,
      "outputs": []
    },
    {
      "cell_type": "code",
      "metadata": {
        "id": "CyOhNYW6xPb8",
        "colab_type": "code",
        "outputId": "0756fea5-117d-47cd-ef6a-1352c4f4bb91",
        "colab": {
          "base_uri": "https://localhost:8080/",
          "height": 168
        }
      },
      "source": [
        "print(clfr(test_labels,y_pred))"
      ],
      "execution_count": 0,
      "outputs": [
        {
          "output_type": "stream",
          "text": [
            "              precision    recall  f1-score   support\n",
            "\n",
            "           0       0.79      0.86      0.82       654\n",
            "           1       0.90      0.85      0.87       964\n",
            "\n",
            "    accuracy                           0.85      1618\n",
            "   macro avg       0.84      0.85      0.85      1618\n",
            "weighted avg       0.85      0.85      0.85      1618\n",
            "\n"
          ],
          "name": "stdout"
        }
      ]
    },
    {
      "cell_type": "code",
      "metadata": {
        "id": "vCYAZX6e6JlT",
        "colab_type": "code",
        "colab": {}
      },
      "source": [
        "# port warnings\n",
        "warnings.filterwarnings('ignore')\n",
        "import numpy as np\n",
        "import pandas as pd\n",
        "from datetime import datetime\n",
        "from sklearn.model_selection import RandomizedSearchCV, GridSearchCV\n",
        "from sklearn.metrics import roc_auc_score\n",
        "from sklearn.model_selection import StratifiedKFold\n",
        "from xgboost import XGBClassifier"
      ],
      "execution_count": 0,
      "outputs": []
    },
    {
      "cell_type": "code",
      "metadata": {
        "id": "slXreznDGwF_",
        "colab_type": "code",
        "colab": {}
      },
      "source": [
        ""
      ],
      "execution_count": 0,
      "outputs": []
    },
    {
      "cell_type": "code",
      "metadata": {
        "id": "ExL8d4ssGv0T",
        "colab_type": "code",
        "colab": {}
      },
      "source": [
        "from sklearn.ensemble import ExtraTreesClassifier"
      ],
      "execution_count": 0,
      "outputs": []
    },
    {
      "cell_type": "code",
      "metadata": {
        "id": "hVtAgVNr5QDw",
        "colab_type": "code",
        "colab": {}
      },
      "source": [
        "xgb = ExtraTreesClassifier()"
      ],
      "execution_count": 0,
      "outputs": []
    },
    {
      "cell_type": "code",
      "metadata": {
        "id": "8es8p5di5PVB",
        "colab_type": "code",
        "colab": {}
      },
      "source": [
        "def timer(start_time=None):\n",
        "    if not start_time:\n",
        "        start_time = datetime.now()\n",
        "        return start_time\n",
        "    elif start_time:\n",
        "        thour, temp_sec = divmod((datetime.now() - start_time).total_seconds(), 3600)\n",
        "        tmin, tsec = divmod(temp_sec, 60)\n",
        "        print('\\n Time taken: %i hours %i minutes and %s seconds.' % (thour, tmin, round(tsec, 2)))\n",
        "Y = train_labels\n",
        "X = train_features\n",
        "test = test_features\n"
      ],
      "execution_count": 0,
      "outputs": []
    },
    {
      "cell_type": "code",
      "metadata": {
        "id": "SqWcg8Ji3eqB",
        "colab_type": "code",
        "colab": {}
      },
      "source": [
        "params = {\n",
        "        'min_child_weight': [1, 5, 10,15],\n",
        "        'gamma': [0.5, 1, 1.5, 2, 5],\n",
        "        'subsample': [0.2,0.4,0.6, 0.8, 1.0],\n",
        "        'colsample_bytree': [0.6, 0.8, 1.0],\n",
        "        'max_depth': [3, 4, 5,7]\n",
        "        }"
      ],
      "execution_count": 0,
      "outputs": []
    },
    {
      "cell_type": "code",
      "metadata": {
        "id": "0MmkNjTR3ejr",
        "colab_type": "code",
        "outputId": "16c04e7b-b04e-4ec7-f3b6-a57759e7a2e2",
        "colab": {
          "base_uri": "https://localhost:8080/",
          "height": 776
        }
      },
      "source": [
        "print('\\n All results:')\n",
        "print(random_search.cv_results_)\n",
        "print('\\n Best estimator:')\n",
        "print(random_search.best_estimator_)\n",
        "print('\\n Best normalized gini score for %d-fold search with %d parameter combinations:' % (folds, param_comb))\n",
        "print(random_search.best_score_ * 2 - 1)\n",
        "print('\\n Best hyperparameters:')\n",
        "print(random_search.best_params_)\n",
        "# results = pd.DataFrame(random_search.cv_results_)\n",
        "# results.to_csv('xgb-random-grid-search-results-01.csv', index=False)"
      ],
      "execution_count": 0,
      "outputs": [
        {
          "output_type": "stream",
          "text": [
            "\n",
            " All results:\n",
            "{'mean_fit_time': array([166.35553985,  63.54143362,  78.207616  , 123.78636122,\n",
            "       143.60517612, 198.61984539]), 'std_fit_time': array([0.67309725, 0.2735718 , 0.08096031, 0.29874651, 0.61647237,\n",
            "       0.59071763]), 'mean_score_time': array([0.04591093, 0.03530955, 0.04135141, 0.05153961, 0.0417522 ,\n",
            "       0.05249133]), 'std_score_time': array([0.00069444, 0.00031083, 0.00034959, 0.00049729, 0.000185  ,\n",
            "       0.00056095]), 'param_subsample': masked_array(data=[0.6, 0.2, 0.4, 0.6, 0.8, 0.6],\n",
            "             mask=[False, False, False, False, False, False],\n",
            "       fill_value='?',\n",
            "            dtype=object), 'param_min_child_weight': masked_array(data=[15, 5, 5, 5, 1, 5],\n",
            "             mask=[False, False, False, False, False, False],\n",
            "       fill_value='?',\n",
            "            dtype=object), 'param_max_depth': masked_array(data=[7, 4, 5, 7, 5, 7],\n",
            "             mask=[False, False, False, False, False, False],\n",
            "       fill_value='?',\n",
            "            dtype=object), 'param_gamma': masked_array(data=[0.5, 1, 2, 1.5, 1.5, 0.5],\n",
            "             mask=[False, False, False, False, False, False],\n",
            "       fill_value='?',\n",
            "            dtype=object), 'param_colsample_bytree': masked_array(data=[1.0, 1.0, 0.6, 0.6, 0.8, 1.0],\n",
            "             mask=[False, False, False, False, False, False],\n",
            "       fill_value='?',\n",
            "            dtype=object), 'params': [{'subsample': 0.6, 'min_child_weight': 15, 'max_depth': 7, 'gamma': 0.5, 'colsample_bytree': 1.0}, {'subsample': 0.2, 'min_child_weight': 5, 'max_depth': 4, 'gamma': 1, 'colsample_bytree': 1.0}, {'subsample': 0.4, 'min_child_weight': 5, 'max_depth': 5, 'gamma': 2, 'colsample_bytree': 0.6}, {'subsample': 0.6, 'min_child_weight': 5, 'max_depth': 7, 'gamma': 1.5, 'colsample_bytree': 0.6}, {'subsample': 0.8, 'min_child_weight': 1, 'max_depth': 5, 'gamma': 1.5, 'colsample_bytree': 0.8}, {'subsample': 0.6, 'min_child_weight': 5, 'max_depth': 7, 'gamma': 0.5, 'colsample_bytree': 1.0}], 'split0_test_score': array([0.87126674, 0.85478888, 0.87126674, 0.8661174 , 0.86817714,\n",
            "       0.8661174 ]), 'split1_test_score': array([0.87010309, 0.8628866 , 0.86701031, 0.87216495, 0.87113402,\n",
            "       0.87835052]), 'split2_test_score': array([0.85773196, 0.84948454, 0.86082474, 0.85773196, 0.8556701 ,\n",
            "       0.86391753]), 'split3_test_score': array([0.87628866, 0.8742268 , 0.87731959, 0.87835052, 0.8814433 ,\n",
            "       0.87628866]), 'split4_test_score': array([0.87113402, 0.87010309, 0.86597938, 0.88556701, 0.87731959,\n",
            "       0.88041237]), 'mean_test_score': array([0.86930489, 0.86229798, 0.86848015, 0.87198637, 0.87074883,\n",
            "       0.8730173 ]), 'std_test_score': array([0.00617313, 0.00921015, 0.00553028, 0.00961874, 0.00885072,\n",
            "       0.00669696]), 'rank_test_score': array([4, 6, 5, 2, 3, 1], dtype=int32)}\n",
            "\n",
            " Best estimator:\n",
            "XGBClassifier(base_score=0.5, booster='gbtree', colsample_bylevel=1,\n",
            "              colsample_bynode=1, colsample_bytree=1.0, gamma=0.5,\n",
            "              learning_rate=0.02, max_delta_step=0, max_depth=7,\n",
            "              min_child_weight=5, missing=None, n_estimators=600, n_jobs=1,\n",
            "              nthread=1, objective='binary:logistic', random_state=0,\n",
            "              reg_alpha=0, reg_lambda=1, scale_pos_weight=1, seed=None,\n",
            "              silent=True, subsample=0.6, verbosity=1)\n",
            "\n",
            " Best normalized gini score for 5-fold search with 6 parameter combinations:\n",
            "0.7460345907609329\n",
            "\n",
            " Best hyperparameters:\n",
            "{'subsample': 0.6, 'min_child_weight': 5, 'max_depth': 7, 'gamma': 0.5, 'colsample_bytree': 1.0}\n"
          ],
          "name": "stdout"
        }
      ]
    },
    {
      "cell_type": "code",
      "metadata": {
        "id": "EXC72gFC_u3T",
        "colab_type": "code",
        "colab": {}
      },
      "source": [
        "xgb = XGBClassifier(base_score=0.5, booster='gbtree', colsample_bylevel=1,\n",
        "              colsample_bynode=1, colsample_bytree=1.0, gamma=0.5,\n",
        "              learning_rate=0.02, max_delta_step=0, max_depth=7,\n",
        "              min_child_weight=5, missing=None, n_estimators=600, n_jobs=1,\n",
        "              nthread=1, objective='binary:logistic', random_state=0,\n",
        "              reg_alpha=0, reg_lambda=1, scale_pos_weight=1, seed=None,\n",
        "              silent=True, subsample=0.6, verbosity=1)"
      ],
      "execution_count": 0,
      "outputs": []
    },
    {
      "cell_type": "code",
      "metadata": {
        "id": "xkr2H20I_uz5",
        "colab_type": "code",
        "outputId": "3ea6fd52-6cdc-4f34-fb98-679db0f23e94",
        "colab": {
          "base_uri": "https://localhost:8080/",
          "height": 34
        }
      },
      "source": [
        "xgb.fit(train_features,train_labels)\n",
        "xgb.score(test_features,test_labels)"
      ],
      "execution_count": 0,
      "outputs": [
        {
          "output_type": "execute_result",
          "data": {
            "text/plain": [
              "0.8498145859085291"
            ]
          },
          "metadata": {
            "tags": []
          },
          "execution_count": 66
        }
      ]
    },
    {
      "cell_type": "code",
      "metadata": {
        "id": "VymxWsXq_uoi",
        "colab_type": "code",
        "colab": {}
      },
      "source": [
        ""
      ],
      "execution_count": 0,
      "outputs": []
    },
    {
      "cell_type": "code",
      "metadata": {
        "id": "4JrJPba13egg",
        "colab_type": "code",
        "colab": {}
      },
      "source": [
        "import pickle \n",
        "# Dump the trained decision tree classifier with Pickle\n",
        "decision_tree_pkl_filename = 'Xgboost.pkl'\n",
        "# Open the file to save as pkl file\n",
        "decision_tree_model_pkl = open(decision_tree_pkl_filename, 'wb')\n",
        "pickle.dump(xgb, decision_tree_model_pkl)\n",
        "# Close the pickle instances\n",
        "decision_tree_model_pkl.close()\n"
      ],
      "execution_count": 0,
      "outputs": []
    },
    {
      "cell_type": "code",
      "metadata": {
        "id": "NHi5wWQExbEl",
        "colab_type": "code",
        "colab": {}
      },
      "source": [
        "\n",
        "# Loading the saved decision tree model pickle\n",
        "decision_tree_model_pkl = open(decision_tree_pkl_filename, 'rb')\n",
        "decision_tree_model = pickle.load(decision_tree_model_pkl)"
      ],
      "execution_count": 0,
      "outputs": []
    },
    {
      "cell_type": "code",
      "metadata": {
        "id": "3P7TtqGxxbCJ",
        "colab_type": "code",
        "outputId": "14adbb95-0fe8-4ccd-8597-672fb1dfaec5",
        "colab": {
          "base_uri": "https://localhost:8080/",
          "height": 34
        }
      },
      "source": [
        "decision_tree_model.score(test_features,test_labels)"
      ],
      "execution_count": 0,
      "outputs": [
        {
          "output_type": "execute_result",
          "data": {
            "text/plain": [
              "0.8850432632880099"
            ]
          },
          "metadata": {
            "tags": []
          },
          "execution_count": 57
        }
      ]
    },
    {
      "cell_type": "code",
      "metadata": {
        "id": "qBpQO-DNEVuc",
        "colab_type": "code",
        "colab": {}
      },
      "source": [
        "import numpy as np\n",
        "import pandas as pd\n",
        "import torch\n",
        "import transformers as ppb\n",
        "import pickle\n",
        "pkl_filename = \"Xgboost.pkl\"\n",
        "\n",
        "\n",
        "with open(pkl_filename, 'rb') as file:\n",
        "\tpickle_model = pickle.load(file)\n",
        "model_class, tokenizer_class, pretrained_weights = (ppb.DistilBertModel, ppb.DistilBertTokenizer, 'distilbert-base-uncased')\n",
        "model = model_class.from_pretrained(pretrained_weights)\n",
        "\n",
        "#model_class, tokenizer_class, pretrained_weights = (ppb.BertModel, ppb.BertTokenizer, 'bert-base-uncased')\n",
        "\n",
        "# Load pretrained model/tokenizer\n",
        "tokenizer = tokenizer_class.from_pretrained(pretrained_weights)\t\n",
        "\n",
        "def heading_predict(x):   \n",
        "\n",
        "  heading_extracted=[]   \n",
        "  headings=pd.DataFrame(x,columns=['heading'])\n",
        "  tokenization = headings['heading'].apply((lambda x: tokenizer.encode(x, add_special_tokens=True)))\n",
        "  max_len = 0\n",
        "  for i in tokenization.values:\n",
        "    if len(i) > max_len:\n",
        "        max_len = len(i)\n",
        "\n",
        "  # Heading list converted to numpy arrays for prediction \n",
        "  padded = np.array([i + [0]*(max_len-len(i)) for i in tokenization.values])\n",
        "  attention_mask = np.where(padded != 0, 1, 0)\n",
        "  input_ids = torch.tensor(padded)  \n",
        "  attention_mask = torch.tensor(attention_mask)\n",
        "\n",
        "  with torch.no_grad():\n",
        "      last_hidden_states = model(input_ids, attention_mask=attention_mask)\n",
        "      test = last_hidden_states[0][:,0,:] \n",
        "  predictions=pickle_model.predict(test)\n",
        "  for i in range(len(predictions)):\n",
        "    if int(predictions[i])==1:\n",
        "      heading_extracted.append(x[i])\n",
        "  return heading_extracted  "
      ],
      "execution_count": 0,
      "outputs": []
    },
    {
      "cell_type": "code",
      "metadata": {
        "id": "fIJY8-kzEeEp",
        "colab_type": "code",
        "colab": {}
      },
      "source": [
        ""
      ],
      "execution_count": 0,
      "outputs": []
    },
    {
      "cell_type": "code",
      "metadata": {
        "id": "nhitVK0tEeBO",
        "colab_type": "code",
        "outputId": "ddbc8325-5429-4c29-d681-6824971a621d",
        "colab": {
          "base_uri": "https://localhost:8080/",
          "height": 34
        }
      },
      "source": [
        "heading_predict(l)"
      ],
      "execution_count": 0,
      "outputs": [
        {
          "output_type": "execute_result",
          "data": {
            "text/plain": [
              "['education']"
            ]
          },
          "metadata": {
            "tags": []
          },
          "execution_count": 62
        }
      ]
    },
    {
      "cell_type": "code",
      "metadata": {
        "id": "PHsF1RLHg7xZ",
        "colab_type": "code",
        "colab": {}
      },
      "source": [
        "estimator = XGBClassifier(\n",
        "    objective= 'binary:logistic',\n",
        "    nthread=4,\n",
        "    seed=42\n",
        ")"
      ],
      "execution_count": 0,
      "outputs": []
    },
    {
      "cell_type": "code",
      "metadata": {
        "id": "hb5LBeVxg7u-",
        "colab_type": "code",
        "colab": {}
      },
      "source": [
        "parameters = {\n",
        "    'max_depth': range (2, 10, 1),\n",
        "    'n_estimators': range(60, 220, 40),\n",
        "    'learning_rate': [0.1, 0.01, 0.05]\n",
        "}"
      ],
      "execution_count": 0,
      "outputs": []
    },
    {
      "cell_type": "code",
      "metadata": {
        "id": "x5Irgs25g7r5",
        "colab_type": "code",
        "colab": {}
      },
      "source": [
        "grid_search = GridSearchCV(\n",
        "    estimator=estimator,\n",
        "    param_grid=parameters,\n",
        "    scoring = 'roc_auc',\n",
        "    n_jobs = 10,\n",
        "    cv = 10,\n",
        "    verbose=True\n",
        ")"
      ],
      "execution_count": 0,
      "outputs": []
    },
    {
      "cell_type": "code",
      "metadata": {
        "id": "SY9ZLaxGg9LO",
        "colab_type": "code",
        "colab": {}
      },
      "source": [
        "grid_search.best_estimator_"
      ],
      "execution_count": 0,
      "outputs": []
    },
    {
      "cell_type": "code",
      "metadata": {
        "id": "neMh9GHug9I9",
        "colab_type": "code",
        "colab": {}
      },
      "source": [
        ""
      ],
      "execution_count": 0,
      "outputs": []
    },
    {
      "cell_type": "markdown",
      "metadata": {
        "id": "HaEJQnuZ5Z84",
        "colab_type": "text"
      },
      "source": [
        "# Using better classifiers"
      ]
    },
    {
      "cell_type": "code",
      "metadata": {
        "id": "8SxX55qgz4O_",
        "colab_type": "code",
        "outputId": "f13261e7-d884-4e94-a202-de6f26888c79",
        "colab": {
          "base_uri": "https://localhost:8080/",
          "height": 658
        }
      },
      "source": [
        "!pip install simpletransformers\n",
        "\n"
      ],
      "execution_count": 0,
      "outputs": [
        {
          "output_type": "stream",
          "text": [
            "Requirement already satisfied: simpletransformers in /usr/local/lib/python3.6/dist-packages (0.24.8)\n",
            "Requirement already satisfied: tqdm in /usr/local/lib/python3.6/dist-packages (from simpletransformers) (4.38.0)\n",
            "Requirement already satisfied: numpy in /usr/local/lib/python3.6/dist-packages (from simpletransformers) (1.18.2)\n",
            "Requirement already satisfied: scipy in /usr/local/lib/python3.6/dist-packages (from simpletransformers) (1.4.1)\n",
            "Requirement already satisfied: regex in /usr/local/lib/python3.6/dist-packages (from simpletransformers) (2019.12.20)\n",
            "Requirement already satisfied: requests in /usr/local/lib/python3.6/dist-packages (from simpletransformers) (2.21.0)\n",
            "Requirement already satisfied: pandas in /usr/local/lib/python3.6/dist-packages (from simpletransformers) (1.0.3)\n",
            "Requirement already satisfied: tensorboardx in /usr/local/lib/python3.6/dist-packages (from simpletransformers) (2.0)\n",
            "Requirement already satisfied: tokenizers in /usr/local/lib/python3.6/dist-packages (from simpletransformers) (0.5.2)\n",
            "Requirement already satisfied: scikit-learn in /usr/local/lib/python3.6/dist-packages (from simpletransformers) (0.22.2.post1)\n",
            "Requirement already satisfied: transformers in /usr/local/lib/python3.6/dist-packages (from simpletransformers) (2.8.0)\n",
            "Requirement already satisfied: seqeval in /usr/local/lib/python3.6/dist-packages (from simpletransformers) (0.0.12)\n",
            "Requirement already satisfied: certifi>=2017.4.17 in /usr/local/lib/python3.6/dist-packages (from requests->simpletransformers) (2020.4.5.1)\n",
            "Requirement already satisfied: urllib3<1.25,>=1.21.1 in /usr/local/lib/python3.6/dist-packages (from requests->simpletransformers) (1.24.3)\n",
            "Requirement already satisfied: idna<2.9,>=2.5 in /usr/local/lib/python3.6/dist-packages (from requests->simpletransformers) (2.8)\n",
            "Requirement already satisfied: chardet<3.1.0,>=3.0.2 in /usr/local/lib/python3.6/dist-packages (from requests->simpletransformers) (3.0.4)\n",
            "Requirement already satisfied: python-dateutil>=2.6.1 in /usr/local/lib/python3.6/dist-packages (from pandas->simpletransformers) (2.8.1)\n",
            "Requirement already satisfied: pytz>=2017.2 in /usr/local/lib/python3.6/dist-packages (from pandas->simpletransformers) (2018.9)\n",
            "Requirement already satisfied: six in /usr/local/lib/python3.6/dist-packages (from tensorboardx->simpletransformers) (1.12.0)\n",
            "Requirement already satisfied: protobuf>=3.8.0 in /usr/local/lib/python3.6/dist-packages (from tensorboardx->simpletransformers) (3.10.0)\n",
            "Requirement already satisfied: joblib>=0.11 in /usr/local/lib/python3.6/dist-packages (from scikit-learn->simpletransformers) (0.14.1)\n",
            "Requirement already satisfied: boto3 in /usr/local/lib/python3.6/dist-packages (from transformers->simpletransformers) (1.12.39)\n",
            "Requirement already satisfied: sentencepiece in /usr/local/lib/python3.6/dist-packages (from transformers->simpletransformers) (0.1.85)\n",
            "Requirement already satisfied: sacremoses in /usr/local/lib/python3.6/dist-packages (from transformers->simpletransformers) (0.0.41)\n",
            "Requirement already satisfied: dataclasses; python_version < \"3.7\" in /usr/local/lib/python3.6/dist-packages (from transformers->simpletransformers) (0.7)\n",
            "Requirement already satisfied: filelock in /usr/local/lib/python3.6/dist-packages (from transformers->simpletransformers) (3.0.12)\n",
            "Requirement already satisfied: Keras>=2.2.4 in /usr/local/lib/python3.6/dist-packages (from seqeval->simpletransformers) (2.3.1)\n",
            "Requirement already satisfied: setuptools in /usr/local/lib/python3.6/dist-packages (from protobuf>=3.8.0->tensorboardx->simpletransformers) (46.1.3)\n",
            "Requirement already satisfied: botocore<1.16.0,>=1.15.39 in /usr/local/lib/python3.6/dist-packages (from boto3->transformers->simpletransformers) (1.15.39)\n",
            "Requirement already satisfied: s3transfer<0.4.0,>=0.3.0 in /usr/local/lib/python3.6/dist-packages (from boto3->transformers->simpletransformers) (0.3.3)\n",
            "Requirement already satisfied: jmespath<1.0.0,>=0.7.1 in /usr/local/lib/python3.6/dist-packages (from boto3->transformers->simpletransformers) (0.9.5)\n",
            "Requirement already satisfied: click in /usr/local/lib/python3.6/dist-packages (from sacremoses->transformers->simpletransformers) (7.1.1)\n",
            "Requirement already satisfied: h5py in /usr/local/lib/python3.6/dist-packages (from Keras>=2.2.4->seqeval->simpletransformers) (2.10.0)\n",
            "Requirement already satisfied: keras-preprocessing>=1.0.5 in /usr/local/lib/python3.6/dist-packages (from Keras>=2.2.4->seqeval->simpletransformers) (1.1.0)\n",
            "Requirement already satisfied: pyyaml in /usr/local/lib/python3.6/dist-packages (from Keras>=2.2.4->seqeval->simpletransformers) (3.13)\n",
            "Requirement already satisfied: keras-applications>=1.0.6 in /usr/local/lib/python3.6/dist-packages (from Keras>=2.2.4->seqeval->simpletransformers) (1.0.8)\n",
            "Requirement already satisfied: docutils<0.16,>=0.10 in /usr/local/lib/python3.6/dist-packages (from botocore<1.16.0,>=1.15.39->boto3->transformers->simpletransformers) (0.15.2)\n"
          ],
          "name": "stdout"
        }
      ]
    },
    {
      "cell_type": "code",
      "metadata": {
        "id": "cgg6WnU75kSZ",
        "colab_type": "code",
        "colab": {}
      },
      "source": [
        "from simpletransformers.classification import ClassificationModel"
      ],
      "execution_count": 0,
      "outputs": []
    },
    {
      "cell_type": "code",
      "metadata": {
        "id": "vEx9zaSsirk8",
        "colab_type": "code",
        "colab": {}
      },
      "source": [
        "par={'num_train_epochs': 1,'best_model_dir': 'outputs/best_model'}"
      ],
      "execution_count": 0,
      "outputs": []
    },
    {
      "cell_type": "code",
      "metadata": {
        "id": "qJUuWzphUKz9",
        "colab_type": "code",
        "colab": {}
      },
      "source": [
        "from keras.models import load_model"
      ],
      "execution_count": 0,
      "outputs": []
    },
    {
      "cell_type": "code",
      "metadata": {
        "id": "3XiU0vvMUK6b",
        "colab_type": "code",
        "colab": {}
      },
      "source": [
        "from keras.models import Sequential"
      ],
      "execution_count": 0,
      "outputs": []
    },
    {
      "cell_type": "code",
      "metadata": {
        "id": "HQoyCOgo7k8o",
        "colab_type": "code",
        "colab": {}
      },
      "source": [
        "model = ClassificationModel('bert', 'bert-base-cased', num_labels=1,use_cuda=False)\n",
        "# model.train_model(train_df=train,output_dir=,eval_df=test ) \n",
        "# model.save_model('f.h5')\n"
      ],
      "execution_count": 0,
      "outputs": []
    },
    {
      "cell_type": "code",
      "metadata": {
        "id": "z7yln2D0_rWv",
        "colab_type": "code",
        "outputId": "0708d340-44b4-4914-c3eb-58ab6de83816",
        "colab": {
          "base_uri": "https://localhost:8080/",
          "height": 34
        }
      },
      "source": [
        "file.columns"
      ],
      "execution_count": 0,
      "outputs": [
        {
          "output_type": "execute_result",
          "data": {
            "text/plain": [
              "Index(['data ', 'Class'], dtype='object')"
            ]
          },
          "metadata": {
            "tags": []
          },
          "execution_count": 69
        }
      ]
    },
    {
      "cell_type": "code",
      "metadata": {
        "id": "mv0RNlmX_rZh",
        "colab_type": "code",
        "outputId": "0be9047f-0c51-4939-c54e-6c6c1b01016b",
        "colab": {
          "base_uri": "https://localhost:8080/",
          "height": 118
        }
      },
      "source": [
        "df['Class'].value_counts()"
      ],
      "execution_count": 0,
      "outputs": [
        {
          "output_type": "execute_result",
          "data": {
            "text/plain": [
              "4    289\n",
              "3     48\n",
              "1     34\n",
              "2     15\n",
              "0     15\n",
              "Name: Class, dtype: int64"
            ]
          },
          "metadata": {
            "tags": []
          },
          "execution_count": 70
        }
      ]
    },
    {
      "cell_type": "code",
      "metadata": {
        "id": "SolnC0ne_rcb",
        "colab_type": "code",
        "colab": {}
      },
      "source": [
        ""
      ],
      "execution_count": 0,
      "outputs": []
    },
    {
      "cell_type": "code",
      "metadata": {
        "id": "vXt_ALIv8gir",
        "colab_type": "code",
        "outputId": "55760ffc-24e9-478b-d25a-ebfeda02710c",
        "colab": {
          "base_uri": "https://localhost:8080/",
          "height": 840
        }
      },
      "source": [
        "model.args"
      ],
      "execution_count": 0,
      "outputs": [
        {
          "output_type": "execute_result",
          "data": {
            "text/plain": [
              "{'adam_epsilon': 1e-08,\n",
              " 'best_model_dir': 'outputs/best_model',\n",
              " 'cache_dir': 'cache_dir/',\n",
              " 'config': {},\n",
              " 'do_lower_case': False,\n",
              " 'early_stopping_delta': 0,\n",
              " 'early_stopping_metric': 'eval_loss',\n",
              " 'early_stopping_metric_minimize': True,\n",
              " 'early_stopping_patience': 3,\n",
              " 'encoding': None,\n",
              " 'eval_batch_size': 8,\n",
              " 'evaluate_during_training': False,\n",
              " 'evaluate_during_training_steps': 2000,\n",
              " 'evaluate_during_training_verbose': False,\n",
              " 'fp16': False,\n",
              " 'fp16_opt_level': 'O1',\n",
              " 'gradient_accumulation_steps': 1,\n",
              " 'learning_rate': 4e-05,\n",
              " 'logging_steps': 50,\n",
              " 'manual_seed': None,\n",
              " 'max_grad_norm': 1.0,\n",
              " 'max_seq_length': 128,\n",
              " 'model_name': 'bert-base-cased',\n",
              " 'model_type': 'bert',\n",
              " 'n_gpu': 1,\n",
              " 'no_cache': False,\n",
              " 'num_train_epochs': 1,\n",
              " 'output_dir': 'outputs/',\n",
              " 'overwrite_output_dir': False,\n",
              " 'process_count': 2,\n",
              " 'regression': False,\n",
              " 'reprocess_input_data': True,\n",
              " 'save_eval_checkpoints': True,\n",
              " 'save_model_every_epoch': True,\n",
              " 'save_steps': 2000,\n",
              " 'silent': False,\n",
              " 'sliding_window': False,\n",
              " 'stride': 0.8,\n",
              " 'tensorboard_dir': None,\n",
              " 'tie_value': 1,\n",
              " 'train_batch_size': 8,\n",
              " 'use_cached_eval_features': False,\n",
              " 'use_early_stopping': False,\n",
              " 'use_multiprocessing': True,\n",
              " 'wandb_kwargs': {},\n",
              " 'wandb_project': None,\n",
              " 'warmup_ratio': 0.06,\n",
              " 'warmup_steps': 0,\n",
              " 'weight_decay': 0}"
            ]
          },
          "metadata": {
            "tags": []
          },
          "execution_count": 35
        }
      ]
    },
    {
      "cell_type": "markdown",
      "metadata": {
        "id": "UCoFwLcA9XwX",
        "colab_type": "text"
      },
      "source": [
        "###  Training on 300 lines and to use new lines for predicting thr performance"
      ]
    },
    {
      "cell_type": "code",
      "metadata": {
        "id": "OQKOC4W_-dCv",
        "colab_type": "code",
        "colab": {}
      },
      "source": [
        "# train=pd.read_csv('train.csv')\n",
        "# test=pd.read_csv('test.csv')"
      ],
      "execution_count": 0,
      "outputs": []
    },
    {
      "cell_type": "code",
      "metadata": {
        "id": "Bc17Ync5fqj3",
        "colab_type": "code",
        "colab": {}
      },
      "source": [
        "from sklearn.model_selection import train_test_split"
      ],
      "execution_count": 0,
      "outputs": []
    },
    {
      "cell_type": "code",
      "metadata": {
        "id": "Uaf7S5ulfqnE",
        "colab_type": "code",
        "colab": {}
      },
      "source": [
        "X_train,X_test=train_test_split(df,train_size=.70)"
      ],
      "execution_count": 0,
      "outputs": []
    },
    {
      "cell_type": "code",
      "metadata": {
        "id": "e66C2Z1ufqqX",
        "colab_type": "code",
        "colab": {}
      },
      "source": [
        ""
      ],
      "execution_count": 0,
      "outputs": []
    },
    {
      "cell_type": "code",
      "metadata": {
        "id": "GpbVuGyEgYtt",
        "colab_type": "code",
        "colab": {}
      },
      "source": [
        ""
      ],
      "execution_count": 0,
      "outputs": []
    },
    {
      "cell_type": "code",
      "metadata": {
        "id": "CYdoMpNlgYwr",
        "colab_type": "code",
        "colab": {}
      },
      "source": [
        ""
      ],
      "execution_count": 0,
      "outputs": []
    },
    {
      "cell_type": "code",
      "metadata": {
        "id": "I8MufteUeCeo",
        "colab_type": "code",
        "colab": {}
      },
      "source": [
        "train=X_train\n",
        "test=X_test"
      ],
      "execution_count": 0,
      "outputs": []
    },
    {
      "cell_type": "code",
      "metadata": {
        "id": "1_AuddxTeOBX",
        "colab_type": "code",
        "colab": {}
      },
      "source": [
        "train=pd.DataFrame(train)"
      ],
      "execution_count": 0,
      "outputs": []
    },
    {
      "cell_type": "code",
      "metadata": {
        "id": "TNzxf4UYeujF",
        "colab_type": "code",
        "colab": {}
      },
      "source": [
        "test=pd.DataFrame(test)"
      ],
      "execution_count": 0,
      "outputs": []
    },
    {
      "cell_type": "code",
      "metadata": {
        "id": "SzlRFDdqeumx",
        "colab_type": "code",
        "outputId": "71e15028-80d8-43b9-8cd7-a1cd90efa9a2",
        "colab": {
          "base_uri": "https://localhost:8080/",
          "height": 402
        }
      },
      "source": [
        "train"
      ],
      "execution_count": 0,
      "outputs": [
        {
          "output_type": "execute_result",
          "data": {
            "text/html": [
              "<div>\n",
              "<style scoped>\n",
              "    .dataframe tbody tr th:only-of-type {\n",
              "        vertical-align: middle;\n",
              "    }\n",
              "\n",
              "    .dataframe tbody tr th {\n",
              "        vertical-align: top;\n",
              "    }\n",
              "\n",
              "    .dataframe thead th {\n",
              "        text-align: right;\n",
              "    }\n",
              "</style>\n",
              "<table border=\"1\" class=\"dataframe\">\n",
              "  <thead>\n",
              "    <tr style=\"text-align: right;\">\n",
              "      <th></th>\n",
              "      <th>data</th>\n",
              "      <th>Class</th>\n",
              "    </tr>\n",
              "  </thead>\n",
              "  <tbody>\n",
              "    <tr>\n",
              "      <th>342</th>\n",
              "      <td>Fathers Name Date Birth Nationality Sex Marita...</td>\n",
              "      <td>0</td>\n",
              "    </tr>\n",
              "    <tr>\n",
              "      <th>389</th>\n",
              "      <td>Developed component front end application usin...</td>\n",
              "      <td>4</td>\n",
              "    </tr>\n",
              "    <tr>\n",
              "      <th>39</th>\n",
              "      <td>Architecture SDLC Planning  Management  Under...</td>\n",
              "      <td>3</td>\n",
              "    </tr>\n",
              "    <tr>\n",
              "      <th>277</th>\n",
              "      <td>database objects Creating Table Writing SP Tri...</td>\n",
              "      <td>3</td>\n",
              "    </tr>\n",
              "    <tr>\n",
              "      <th>256</th>\n",
              "      <td>Windows Based Application Meeting onsite clien...</td>\n",
              "      <td>4</td>\n",
              "    </tr>\n",
              "    <tr>\n",
              "      <th>...</th>\n",
              "      <td>...</td>\n",
              "      <td>...</td>\n",
              "    </tr>\n",
              "    <tr>\n",
              "      <th>71</th>\n",
              "      <td>Annexure Projects Handled Shipnet Software Sol...</td>\n",
              "      <td>1</td>\n",
              "    </tr>\n",
              "    <tr>\n",
              "      <th>129</th>\n",
              "      <td>VB .NET 11 Oracle SQL Server Windows 2000/XP ...</td>\n",
              "      <td>4</td>\n",
              "    </tr>\n",
              "    <tr>\n",
              "      <th>144</th>\n",
              "      <td>Given unique involvement across aspects media ...</td>\n",
              "      <td>4</td>\n",
              "    </tr>\n",
              "    <tr>\n",
              "      <th>335</th>\n",
              "      <td>Different MIS reports also available displayin...</td>\n",
              "      <td>4</td>\n",
              "    </tr>\n",
              "    <tr>\n",
              "      <th>133</th>\n",
              "      <td>This project maintenance project  involved enh...</td>\n",
              "      <td>4</td>\n",
              "    </tr>\n",
              "  </tbody>\n",
              "</table>\n",
              "<p>280 rows × 2 columns</p>\n",
              "</div>"
            ],
            "text/plain": [
              "                                                 data   Class\n",
              "342  Fathers Name Date Birth Nationality Sex Marita...      0\n",
              "389  Developed component front end application usin...      4\n",
              "39    Architecture SDLC Planning  Management  Under...      3\n",
              "277  database objects Creating Table Writing SP Tri...      3\n",
              "256  Windows Based Application Meeting onsite clien...      4\n",
              "..                                                 ...    ...\n",
              "71   Annexure Projects Handled Shipnet Software Sol...      1\n",
              "129   VB .NET 11 Oracle SQL Server Windows 2000/XP ...      4\n",
              "144  Given unique involvement across aspects media ...      4\n",
              "335  Different MIS reports also available displayin...      4\n",
              "133  This project maintenance project  involved enh...      4\n",
              "\n",
              "[280 rows x 2 columns]"
            ]
          },
          "metadata": {
            "tags": []
          },
          "execution_count": 80
        }
      ]
    },
    {
      "cell_type": "code",
      "metadata": {
        "id": "4ls0Xk4ni9HK",
        "colab_type": "code",
        "outputId": "d0f7e5c8-ebef-4611-b6ac-8828f07b4f75",
        "colab": {
          "base_uri": "https://localhost:8080/",
          "height": 34
        }
      },
      "source": [
        "ls"
      ],
      "execution_count": 0,
      "outputs": [
        {
          "output_type": "stream",
          "text": [
            "'file3 (1).csv'   \u001b[0m\u001b[01;34msample_data\u001b[0m/\n"
          ],
          "name": "stdout"
        }
      ]
    },
    {
      "cell_type": "code",
      "metadata": {
        "id": "77PEsd7UwiIJ",
        "colab_type": "code",
        "colab": {}
      },
      "source": [
        "!mkdir new"
      ],
      "execution_count": 0,
      "outputs": []
    },
    {
      "cell_type": "code",
      "metadata": {
        "id": "yw4OvRo981aq",
        "colab_type": "code",
        "colab": {}
      },
      "source": [
        "from simpletransformers.classification import ClassificationModel\n",
        "\n",
        "#Create a ClassificationModel\n",
        "model = ClassificationModel('roberta', 'roberta-base', num_labels=5, use_cuda = False)\n"
      ],
      "execution_count": 0,
      "outputs": []
    },
    {
      "cell_type": "code",
      "metadata": {
        "id": "sidmGz4fyQQp",
        "colab_type": "code",
        "outputId": "3c2968d6-e748-43ce-e02d-2cf2c3b8bb17",
        "colab": {
          "base_uri": "https://localhost:8080/",
          "height": 163,
          "referenced_widgets": [
            "62e354beb2f340a0a29e891db5a9c927",
            "de6761459c984f8886acb25e15bf41ee",
            "6f8ac6b517a14fb3bf004790e939318e",
            "4b64d8579f1c488f8d2aec074c320875",
            "091d5290156f49f187e616b83e7802a5",
            "8b8fd9599fbf448ca544fb80eb8ae4d2",
            "18e5bef6c7bc465681ae1bf307a73c01",
            "1327fe0c1c4742988dd226515afe52ff",
            "837b52c2a59d49f7b1d750e8bcc53b62",
            "5b661c1fa1b14ae79682de7d86f03097",
            "d5628012766f4d219dcd55f68be8ef98",
            "5c53927d876c43eabf3a3971f29d54ae",
            "d0921a857e8543a5bf49512fa97b6406",
            "06404e0b0fe1440283b23a63b91e658d",
            "86477f0e6bee456e8807d8c13a0f4fd8",
            "6f90b671b8ed432f82c43fd2271264c0",
            "98c665f288a94fab98d615909d95d0b6",
            "2fdde6a614db46a79e95fbdf05ca5df6",
            "2a335e1c3e724cf6977230469dbc2f86",
            "7f5267bc5b9540dca8a8415b1922394a",
            "86cbb53c0c444221a157c2b741feb050",
            "6b1ad63771c243478e2ebd8c73389122",
            "81617df2f88d42b4b0bfeb22d056cb7c",
            "f7c068fb450e4770b61c02e7cd8314c1"
          ]
        }
      },
      "source": [
        "model.train_model(train)\n"
      ],
      "execution_count": 0,
      "outputs": [
        {
          "output_type": "display_data",
          "data": {
            "application/vnd.jupyter.widget-view+json": {
              "model_id": "62e354beb2f340a0a29e891db5a9c927",
              "version_minor": 0,
              "version_major": 2
            },
            "text/plain": [
              "HBox(children=(IntProgress(value=0, max=280), HTML(value='')))"
            ]
          },
          "metadata": {
            "tags": []
          }
        },
        {
          "output_type": "stream",
          "text": [
            "\n"
          ],
          "name": "stdout"
        },
        {
          "output_type": "display_data",
          "data": {
            "application/vnd.jupyter.widget-view+json": {
              "model_id": "837b52c2a59d49f7b1d750e8bcc53b62",
              "version_minor": 0,
              "version_major": 2
            },
            "text/plain": [
              "HBox(children=(IntProgress(value=0, description='Epoch', max=1, style=ProgressStyle(description_width='initial…"
            ]
          },
          "metadata": {
            "tags": []
          }
        },
        {
          "output_type": "display_data",
          "data": {
            "application/vnd.jupyter.widget-view+json": {
              "model_id": "98c665f288a94fab98d615909d95d0b6",
              "version_minor": 0,
              "version_major": 2
            },
            "text/plain": [
              "HBox(children=(IntProgress(value=0, description='Current iteration', max=35, style=ProgressStyle(description_w…"
            ]
          },
          "metadata": {
            "tags": []
          }
        },
        {
          "output_type": "stream",
          "text": [
            "Running loss: 0.840077\n",
            "\n"
          ],
          "name": "stdout"
        }
      ]
    },
    {
      "cell_type": "code",
      "metadata": {
        "id": "u-qxgwl9yR2O",
        "colab_type": "code",
        "outputId": "dda0818d-e3ad-4ae8-f7ae-c0b374b2971e",
        "colab": {
          "base_uri": "https://localhost:8080/",
          "height": 1000,
          "referenced_widgets": [
            "7f148a5492cb483ea66eda33a3549867",
            "55c3f70f4ec54d67aef47f032c0b934b",
            "25f4c865e4be4f42a7445b9e62c97453",
            "b1ba7641f00f4fb7ab43b81e359d2595",
            "6348b15633eb42c59a1b35475cf1ec64",
            "435fe614c31144b0bdcb8fef1677da52",
            "d7e7d5aceba34e8bb4f9b712049dc913",
            "4a45d8ec80fe4cd8b505f9a514bae2ae",
            "72fb957c65564581960a08d4998e061a",
            "c3b820c3ef6a4970a003aff2b31b4381",
            "933fee0c594f43b1a5b83a9fb2ea6ef7",
            "4d8841665a324676b7fde322fa32da08",
            "2121317b28bd483184d1f3ae94372491",
            "b2fdda11201e4ab89490bedeb6e789b1",
            "9ea111a5863f4865b9c0d81a0f78bce5",
            "70ee4c9a8a0d47218a8fabccf2745538"
          ]
        }
      },
      "source": [
        "model.evaluate(test,output_dir='./outputs')"
      ],
      "execution_count": 0,
      "outputs": [
        {
          "output_type": "display_data",
          "data": {
            "application/vnd.jupyter.widget-view+json": {
              "model_id": "7f148a5492cb483ea66eda33a3549867",
              "version_minor": 0,
              "version_major": 2
            },
            "text/plain": [
              "HBox(children=(IntProgress(value=0, max=121), HTML(value='')))"
            ]
          },
          "metadata": {
            "tags": []
          }
        },
        {
          "output_type": "stream",
          "text": [
            "\n"
          ],
          "name": "stdout"
        },
        {
          "output_type": "display_data",
          "data": {
            "application/vnd.jupyter.widget-view+json": {
              "model_id": "72fb957c65564581960a08d4998e061a",
              "version_minor": 0,
              "version_major": 2
            },
            "text/plain": [
              "HBox(children=(IntProgress(value=0, max=16), HTML(value='')))"
            ]
          },
          "metadata": {
            "tags": []
          }
        },
        {
          "output_type": "stream",
          "text": [
            "\n"
          ],
          "name": "stdout"
        },
        {
          "output_type": "execute_result",
          "data": {
            "text/plain": [
              "({'eval_loss': 0.8069420550018549, 'mcc': 0.0},\n",
              " array([[-1.6858571e+00, -1.0246930e-01, -1.1606736e+00,  2.0940205e-01,\n",
              "          2.8638792e+00],\n",
              "        [-1.7645686e+00,  4.6486687e-02, -1.2149910e+00,  3.9390358e-01,\n",
              "          2.6566429e+00],\n",
              "        [-1.3067373e+00, -3.9565988e-02, -1.0526925e+00,  4.5042768e-01,\n",
              "          2.1822047e+00],\n",
              "        [-1.6858571e+00, -1.0246930e-01, -1.1606736e+00,  2.0940205e-01,\n",
              "          2.8638792e+00],\n",
              "        [-1.6988932e+00, -4.9954813e-02, -1.2925028e+00,  2.5784406e-01,\n",
              "          3.0321500e+00],\n",
              "        [-1.7391686e+00,  3.6731429e-02, -1.1513939e+00,  4.0843278e-01,\n",
              "          2.6070533e+00],\n",
              "        [-1.3490989e+00,  1.0992667e-01, -1.1023837e+00,  4.5411754e-01,\n",
              "          1.9968542e+00],\n",
              "        [-1.6975062e+00,  3.0707594e-02, -1.1833055e+00,  1.8998879e-01,\n",
              "          2.7016892e+00],\n",
              "        [-1.5377917e+00,  1.6251458e-02, -1.1357719e+00,  6.4304590e-01,\n",
              "          2.2858062e+00],\n",
              "        [-1.4744709e+00,  5.4384638e-02, -1.0574944e+00,  4.5742610e-01,\n",
              "          2.2063217e+00],\n",
              "        [-1.5036067e+00,  8.7741271e-02, -1.1805923e+00,  5.5520046e-01,\n",
              "          2.2771475e+00],\n",
              "        [-1.0786484e+00,  2.1266361e-01, -8.6616665e-01,  1.4303549e-01,\n",
              "          1.7698834e+00],\n",
              "        [-1.7238686e+00, -1.4886391e-01, -1.3587977e+00,  4.3844950e-01,\n",
              "          2.8784065e+00],\n",
              "        [-1.4805152e+00, -6.6885419e-02, -1.2002984e+00,  3.1393975e-01,\n",
              "          2.2936325e+00],\n",
              "        [-1.4773381e+00, -1.7761496e-01, -1.1904646e+00,  1.0588780e-01,\n",
              "          2.5690737e+00],\n",
              "        [-1.8483343e+00, -1.2948188e-01, -1.3202327e+00,  4.0887520e-01,\n",
              "          2.9067650e+00],\n",
              "        [-1.7697334e+00, -9.0137072e-02, -1.3554349e+00,  4.7265625e-01,\n",
              "          2.7281504e+00],\n",
              "        [-1.2431785e+00,  3.0129337e-01, -9.0832418e-01,  2.2708498e-01,\n",
              "          1.7983030e+00],\n",
              "        [-1.2067618e+00,  3.9031886e-02, -1.0527906e+00,  6.9910610e-01,\n",
              "          1.7194780e+00],\n",
              "        [-1.7974555e+00, -1.9135494e-02, -1.2484415e+00,  4.0551007e-01,\n",
              "          2.7586246e+00],\n",
              "        [-1.0657409e+00,  1.3989870e-01, -8.5668427e-01,  4.0217853e-01,\n",
              "          1.5973943e+00],\n",
              "        [-1.8538492e+00, -4.5422457e-02, -1.2798277e+00,  4.4983292e-01,\n",
              "          2.8237827e+00],\n",
              "        [-1.8272727e+00, -3.3449084e-02, -1.3340771e+00,  3.6048913e-01,\n",
              "          2.7750254e+00],\n",
              "        [-1.6408200e+00, -9.3078241e-02, -1.2664533e+00,  3.0797562e-01,\n",
              "          2.6475902e+00],\n",
              "        [-1.7154995e+00,  2.7668696e-02, -1.1839963e+00,  5.3213823e-01,\n",
              "          2.4657760e+00],\n",
              "        [-1.5576103e+00, -3.1752601e-02, -1.1163069e+00,  3.1317797e-01,\n",
              "          2.5015152e+00],\n",
              "        [-1.4462390e+00, -1.7399880e-01, -1.1399342e+00,  4.9887052e-01,\n",
              "          2.4614592e+00],\n",
              "        [-8.4971571e-01,  1.7816104e-01, -7.6403821e-01,  2.9441476e-01,\n",
              "          1.3659763e+00],\n",
              "        [-1.6988932e+00, -4.9954813e-02, -1.2925028e+00,  2.5784406e-01,\n",
              "          3.0321500e+00],\n",
              "        [-1.7349943e+00, -1.2316391e-01, -1.2823033e+00,  3.3564204e-01,\n",
              "          2.7974279e+00],\n",
              "        [-1.6853948e+00, -8.0947757e-02, -1.1622045e+00,  2.5971761e-01,\n",
              "          2.8900478e+00],\n",
              "        [-1.0331872e+00,  2.1709980e-01, -7.5335908e-01,  1.9331938e-01,\n",
              "          1.5732428e+00],\n",
              "        [-1.5193884e+00, -1.9437712e-01, -1.1093938e+00,  2.3227742e-01,\n",
              "          2.5331259e+00],\n",
              "        [-1.5766528e+00, -3.0957878e-02, -1.2541540e+00,  6.0721242e-01,\n",
              "          2.4427376e+00],\n",
              "        [-1.3670199e+00, -9.1442317e-03, -1.0615095e+00,  4.2403033e-01,\n",
              "          2.0258152e+00],\n",
              "        [-1.7451978e+00,  5.2249551e-02, -1.1344221e+00,  4.6385062e-01,\n",
              "          2.7787175e+00],\n",
              "        [-1.5615388e+00,  1.0973359e-01, -1.1391540e+00,  4.7636700e-01,\n",
              "          2.2832408e+00],\n",
              "        [-1.3423535e+00,  1.3689056e-01, -1.0676160e+00,  2.1370432e-01,\n",
              "          1.9900236e+00],\n",
              "        [-1.4462390e+00, -1.7399876e-01, -1.1399341e+00,  4.9887049e-01,\n",
              "          2.4614592e+00],\n",
              "        [-1.8538489e+00, -4.5422472e-02, -1.2798277e+00,  4.4983292e-01,\n",
              "          2.8237829e+00],\n",
              "        [-1.7462034e+00, -6.4571753e-02, -1.2546507e+00,  3.0997956e-01,\n",
              "          2.8608596e+00],\n",
              "        [-1.6702363e+00, -1.6550776e-01, -1.3029255e+00,  2.0479178e-01,\n",
              "          2.8157172e+00],\n",
              "        [-1.2884591e+00, -5.6986798e-02, -1.0769831e+00,  3.7331241e-01,\n",
              "          2.0740986e+00],\n",
              "        [-1.6963404e+00, -1.0648088e-01, -1.3240789e+00,  5.3232360e-01,\n",
              "          2.6708152e+00],\n",
              "        [-1.3395791e+00, -6.6767195e-03, -1.0515931e+00,  3.1530756e-01,\n",
              "          2.1774247e+00],\n",
              "        [-1.4587014e+00,  1.1760322e-01, -9.9802810e-01,  4.7103661e-01,\n",
              "          2.0181870e+00],\n",
              "        [-1.4995204e+00,  1.6378194e-01, -1.1845243e+00,  3.9083344e-01,\n",
              "          2.4548652e+00],\n",
              "        [-1.5441647e+00, -6.5893218e-02, -1.1394875e+00,  3.5147321e-01,\n",
              "          2.8673244e+00],\n",
              "        [-1.6853948e+00, -8.0947757e-02, -1.1622045e+00,  2.5971758e-01,\n",
              "          2.8900480e+00],\n",
              "        [-1.4408450e+00, -5.2007169e-02, -1.1721801e+00,  3.3794338e-01,\n",
              "          2.2989893e+00],\n",
              "        [-1.7640517e+00,  7.5259551e-02, -1.2533003e+00,  2.2911745e-01,\n",
              "          2.8181982e+00],\n",
              "        [-1.0789623e+00,  6.3764408e-02, -8.3740366e-01,  1.9668785e-01,\n",
              "          1.6196423e+00],\n",
              "        [-1.6019534e+00,  2.3776429e-02, -1.2274575e+00,  5.7518232e-01,\n",
              "          2.4789708e+00],\n",
              "        [-1.3117353e+00,  8.2613342e-04, -9.8031062e-01,  7.0489496e-01,\n",
              "          1.7416973e+00],\n",
              "        [-1.6073798e+00,  1.0986710e-02, -1.1954479e+00,  5.4686785e-01,\n",
              "          2.4777021e+00],\n",
              "        [-1.6911964e+00, -3.3058366e-03, -1.1105827e+00,  5.2701753e-01,\n",
              "          2.5038545e+00],\n",
              "        [-1.6988802e+00,  3.7831288e-02, -1.2625945e+00,  4.6931714e-01,\n",
              "          2.6477132e+00],\n",
              "        [-1.7140563e+00, -3.6615185e-02, -1.2436023e+00,  5.6211412e-01,\n",
              "          2.6426034e+00],\n",
              "        [-1.4145874e+00, -1.6374587e-01, -1.1281320e+00,  3.9194369e-01,\n",
              "          2.3657179e+00],\n",
              "        [-1.7628298e+00, -3.0196689e-02, -1.2162049e+00,  3.2949144e-01,\n",
              "          2.6236825e+00],\n",
              "        [-1.8364426e+00, -1.1485902e-01, -1.1534201e+00,  4.4180739e-01,\n",
              "          2.8623521e+00],\n",
              "        [-1.0410788e+00,  1.6098556e-01, -9.9064493e-01,  2.4861348e-01,\n",
              "          1.6097646e+00],\n",
              "        [-1.7732092e+00,  7.5509340e-02, -1.2336926e+00,  4.0056771e-01,\n",
              "          2.6331327e+00],\n",
              "        [-1.6772759e+00,  3.4926757e-02, -1.1963151e+00,  4.5787436e-01,\n",
              "          2.5973892e+00],\n",
              "        [-1.7622592e+00,  4.7843195e-03, -1.2183521e+00,  3.4172574e-01,\n",
              "          2.6100130e+00],\n",
              "        [-1.7081885e+00, -8.0078281e-02, -1.1920187e+00,  2.5420445e-01,\n",
              "          2.6647592e+00],\n",
              "        [-1.6522727e+00, -5.8874683e-03, -1.2065823e+00,  6.3317746e-01,\n",
              "          2.4322071e+00],\n",
              "        [-1.8112360e+00,  1.5268341e-02, -1.2466666e+00,  3.8372475e-01,\n",
              "          2.7763841e+00],\n",
              "        [-1.4152172e+00,  1.7057408e-01, -1.0322275e+00,  3.7011337e-01,\n",
              "          2.0612211e+00],\n",
              "        [-1.6716237e+00, -7.6523103e-02, -1.2745392e+00,  3.7508157e-01,\n",
              "          2.7839761e+00],\n",
              "        [-1.7351696e+00, -4.2083196e-02, -1.3203874e+00,  2.3557056e-01,\n",
              "          2.8689330e+00],\n",
              "        [-1.7393949e+00,  1.7158028e-02, -1.1996653e+00,  3.7714270e-01,\n",
              "          2.6324341e+00],\n",
              "        [-1.8538492e+00, -4.5422457e-02, -1.2798277e+00,  4.4983292e-01,\n",
              "          2.8237827e+00],\n",
              "        [-1.7320671e+00,  1.4229804e-01, -1.2443635e+00,  2.8569645e-01,\n",
              "          2.7856770e+00],\n",
              "        [-1.7349943e+00, -1.2316391e-01, -1.2823033e+00,  3.3564204e-01,\n",
              "          2.7974279e+00],\n",
              "        [-1.8067340e+00, -4.0471442e-02, -1.3525072e+00,  3.8543740e-01,\n",
              "          2.8781056e+00],\n",
              "        [-1.2102261e+00,  1.8640777e-01, -9.0789700e-01,  3.2616913e-01,\n",
              "          1.7915771e+00],\n",
              "        [-1.5777255e+00, -6.9425181e-02, -1.2410047e+00,  6.3944435e-01,\n",
              "          2.4416580e+00],\n",
              "        [-1.7937636e+00, -8.4363282e-02, -1.3211443e+00,  4.7963050e-01,\n",
              "          2.8672242e+00],\n",
              "        [-1.6159041e+00, -2.4097472e-02, -1.2067868e+00,  5.2953887e-01,\n",
              "          2.5261002e+00],\n",
              "        [-1.6619930e+00, -7.2852857e-02, -1.2393954e+00,  6.0045755e-01,\n",
              "          2.5154696e+00],\n",
              "        [-1.2824874e+00, -1.6026545e-01, -1.0585588e+00,  1.2146540e-01,\n",
              "          2.3550849e+00],\n",
              "        [-1.7420335e+00, -4.5025013e-02, -1.1984187e+00,  3.7965566e-01,\n",
              "          2.8318639e+00],\n",
              "        [-1.4607236e+00,  1.9192405e-02, -1.0665267e+00,  2.8330010e-01,\n",
              "          2.1756036e+00],\n",
              "        [-1.7085416e+00,  1.0350179e-02, -1.2607014e+00,  4.4922704e-01,\n",
              "          2.6914692e+00],\n",
              "        [-1.7676481e+00, -4.9530458e-02, -1.3402965e+00,  2.7295652e-01,\n",
              "          2.8895795e+00],\n",
              "        [-1.8787894e+00, -2.0284593e-01, -1.2343996e+00,  4.5759672e-01,\n",
              "          2.6878414e+00],\n",
              "        [-1.3661346e+00, -5.9320696e-02, -1.1396494e+00,  3.6004245e-01,\n",
              "          2.2988040e+00],\n",
              "        [-1.7727141e+00, -2.9516462e-02, -1.3466957e+00,  4.8731169e-01,\n",
              "          2.8219142e+00],\n",
              "        [-1.7912238e+00, -2.7234126e-02, -1.3507725e+00,  4.8142824e-01,\n",
              "          2.7785635e+00],\n",
              "        [-1.2068782e+00,  1.6196492e-01, -9.8606312e-01,  2.7533799e-01,\n",
              "          1.7463944e+00],\n",
              "        [-1.2637843e+00,  1.0855446e-02, -9.7070658e-01,  3.2114536e-02,\n",
              "          2.0171599e+00],\n",
              "        [-1.7740016e+00,  1.2597062e-02, -1.1917495e+00,  4.2528731e-01,\n",
              "          2.6767483e+00],\n",
              "        [-8.2687604e-01,  1.6445196e-01, -8.0130547e-01,  1.6164425e-01,\n",
              "          1.4155692e+00],\n",
              "        [-1.5271368e+00, -1.6476968e-01, -1.2797683e+00,  2.1456537e-01,\n",
              "          2.5850184e+00],\n",
              "        [-1.6969497e+00,  4.7186188e-02, -1.3160629e+00,  4.2386770e-01,\n",
              "          2.8105760e+00],\n",
              "        [-1.7542322e+00,  1.4578339e-02, -1.3257846e+00,  3.5372010e-01,\n",
              "          2.9953024e+00],\n",
              "        [-1.6979926e+00, -6.1886460e-03, -1.3052734e+00,  3.2926273e-01,\n",
              "          2.8483081e+00],\n",
              "        [-1.3114089e+00, -1.1771619e-03, -9.4260931e-01,  6.4366984e-01,\n",
              "          1.7311279e+00],\n",
              "        [-1.6234312e+00, -2.0836508e-02, -1.2185020e+00,  6.6470325e-01,\n",
              "          2.3542860e+00],\n",
              "        [-1.7782073e+00,  7.8529708e-02, -1.2364060e+00,  3.3826599e-01,\n",
              "          2.5869896e+00],\n",
              "        [-1.7436745e+00, -6.5011367e-02, -1.4275517e+00,  5.1962489e-01,\n",
              "          2.7816286e+00],\n",
              "        [-1.6001921e+00,  7.7209026e-02, -1.1392478e+00,  5.0553739e-01,\n",
              "          2.3192213e+00],\n",
              "        [-1.7285361e+00,  3.4666318e-02, -1.2498584e+00,  3.9383042e-01,\n",
              "          2.7765923e+00],\n",
              "        [-1.7469541e+00, -9.7730774e-03, -1.2350838e+00,  3.8080627e-01,\n",
              "          2.7466993e+00],\n",
              "        [-1.0170472e+00,  2.2664551e-01, -7.7049482e-01,  2.8939760e-01,\n",
              "          1.5384181e+00],\n",
              "        [-1.6879889e+00,  5.5233903e-02, -1.2363987e+00,  3.3707410e-01,\n",
              "          2.7973070e+00],\n",
              "        [-1.8477492e+00,  8.1649199e-03, -1.3210081e+00,  3.9858508e-01,\n",
              "          2.7592535e+00],\n",
              "        [-1.5914512e+00, -1.1507569e-01, -1.3645822e+00,  4.3021363e-01,\n",
              "          2.7851982e+00],\n",
              "        [-1.2128005e+00, -9.9275507e-02, -1.1074324e+00,  2.4168843e-01,\n",
              "          2.1538239e+00],\n",
              "        [-1.3790638e+00,  2.3571931e-01, -1.0161866e+00,  3.2213300e-01,\n",
              "          2.0952907e+00],\n",
              "        [-1.6677572e+00, -5.0398268e-02, -1.3412018e+00,  2.5733289e-01,\n",
              "          2.9705119e+00],\n",
              "        [-1.2305646e+00,  3.3500001e-02, -1.0089607e+00,  4.9063700e-01,\n",
              "          2.0038478e+00],\n",
              "        [-1.4975343e+00,  1.9670624e-01, -1.2432102e+00,  4.9225762e-01,\n",
              "          2.2610025e+00],\n",
              "        [-1.6914160e+00,  7.5349510e-02, -1.2776502e+00,  2.2805528e-01,\n",
              "          2.7793441e+00],\n",
              "        [-1.4375620e+00, -7.0239052e-02, -1.1304026e+00,  2.0533289e-01,\n",
              "          2.3159380e+00],\n",
              "        [-1.2653810e+00,  1.0804698e-02, -9.6875930e-01,  7.0984674e-01,\n",
              "          1.7360599e+00],\n",
              "        [-1.6716237e+00, -7.6523103e-02, -1.2745392e+00,  3.7508157e-01,\n",
              "          2.7839761e+00],\n",
              "        [-1.3833437e+00, -4.5255225e-02, -1.2794185e+00,  8.6909637e-02,\n",
              "          2.2079892e+00],\n",
              "        [-1.8013101e+00, -3.6061406e-02, -1.3097117e+00,  3.7534022e-01,\n",
              "          2.8962488e+00],\n",
              "        [-1.7124165e+00, -6.2441584e-02, -1.1788453e+00,  2.7827281e-01,\n",
              "          2.7051361e+00]], dtype=float32),\n",
              " [<simpletransformers.classification.classification_utils.InputExample at 0x7f3954812828>,\n",
              "  <simpletransformers.classification.classification_utils.InputExample at 0x7f39548127f0>,\n",
              "  <simpletransformers.classification.classification_utils.InputExample at 0x7f39548122b0>,\n",
              "  <simpletransformers.classification.classification_utils.InputExample at 0x7f39548121d0>,\n",
              "  <simpletransformers.classification.classification_utils.InputExample at 0x7f39548124a8>,\n",
              "  <simpletransformers.classification.classification_utils.InputExample at 0x7f3954812390>,\n",
              "  <simpletransformers.classification.classification_utils.InputExample at 0x7f3954812588>,\n",
              "  <simpletransformers.classification.classification_utils.InputExample at 0x7f3954812278>,\n",
              "  <simpletransformers.classification.classification_utils.InputExample at 0x7f3954812470>,\n",
              "  <simpletransformers.classification.classification_utils.InputExample at 0x7f39548124e0>,\n",
              "  <simpletransformers.classification.classification_utils.InputExample at 0x7f3954812da0>,\n",
              "  <simpletransformers.classification.classification_utils.InputExample at 0x7f3954812be0>,\n",
              "  <simpletransformers.classification.classification_utils.InputExample at 0x7f3954812b38>,\n",
              "  <simpletransformers.classification.classification_utils.InputExample at 0x7f39548120b8>,\n",
              "  <simpletransformers.classification.classification_utils.InputExample at 0x7f39548126a0>,\n",
              "  <simpletransformers.classification.classification_utils.InputExample at 0x7f3954812208>,\n",
              "  <simpletransformers.classification.classification_utils.InputExample at 0x7f395448d5c0>,\n",
              "  <simpletransformers.classification.classification_utils.InputExample at 0x7f395448d0b8>,\n",
              "  <simpletransformers.classification.classification_utils.InputExample at 0x7f3954804080>,\n",
              "  <simpletransformers.classification.classification_utils.InputExample at 0x7f3954804a20>,\n",
              "  <simpletransformers.classification.classification_utils.InputExample at 0x7f39548044a8>,\n",
              "  <simpletransformers.classification.classification_utils.InputExample at 0x7f3954804400>,\n",
              "  <simpletransformers.classification.classification_utils.InputExample at 0x7f39548042b0>,\n",
              "  <simpletransformers.classification.classification_utils.InputExample at 0x7f3954804390>,\n",
              "  <simpletransformers.classification.classification_utils.InputExample at 0x7f3954804f60>,\n",
              "  <simpletransformers.classification.classification_utils.InputExample at 0x7f39548047b8>,\n",
              "  <simpletransformers.classification.classification_utils.InputExample at 0x7f39548049b0>,\n",
              "  <simpletransformers.classification.classification_utils.InputExample at 0x7f395487f9e8>,\n",
              "  <simpletransformers.classification.classification_utils.InputExample at 0x7f395487f2b0>,\n",
              "  <simpletransformers.classification.classification_utils.InputExample at 0x7f395487fba8>,\n",
              "  <simpletransformers.classification.classification_utils.InputExample at 0x7f395487fc18>,\n",
              "  <simpletransformers.classification.classification_utils.InputExample at 0x7f395487fcc0>,\n",
              "  <simpletransformers.classification.classification_utils.InputExample at 0x7f395487f438>,\n",
              "  <simpletransformers.classification.classification_utils.InputExample at 0x7f395487f6d8>,\n",
              "  <simpletransformers.classification.classification_utils.InputExample at 0x7f395487f5f8>])"
            ]
          },
          "metadata": {
            "tags": []
          },
          "execution_count": 107
        }
      ]
    },
    {
      "cell_type": "code",
      "metadata": {
        "id": "mYF-vzuHyR5Y",
        "colab_type": "code",
        "outputId": "9293d1c1-bc4e-4206-85de-3aa66a63eee3",
        "colab": {
          "base_uri": "https://localhost:8080/",
          "height": 34
        }
      },
      "source": [
        "cd heading_classifier/"
      ],
      "execution_count": 0,
      "outputs": [
        {
          "output_type": "stream",
          "text": [
            "/content/drive/My Drive/heading_classifier\n"
          ],
          "name": "stdout"
        }
      ]
    },
    {
      "cell_type": "code",
      "metadata": {
        "id": "sOmx5CoS9VS7",
        "colab_type": "code",
        "outputId": "23a3bb3c-2514-4e0a-ab17-fcb950ec3a22",
        "colab": {
          "base_uri": "https://localhost:8080/",
          "height": 114,
          "referenced_widgets": [
            "7517dbf2fdc444618fe70881ed7646d6",
            "a409ba8c040b45b09caf0e4e6c74b396",
            "5cd4929435cd47a59270c66d85d34eb5",
            "3b118d4c5d3445ce83919105ade36231",
            "b558087cc88344e497817012c35a0c4f",
            "a4f78977aca747c18693e4af76c94245",
            "35d3570ddaf1434d82f6a50753d8c1ab",
            "4705570474b3455c95f2b5a9da8a686d",
            "8672f118890944de86b1884ff4fdd2c2",
            "abb9563c99da44d7aa2b1aaae39858c4",
            "d5fca6072e3a458198387aa85e1fd094",
            "84e16aa4b0484ec5a467765a938cfc72",
            "d5f79e3394f74dc1be925edf878526c8",
            "1d727d96774b4c68a4ce145a02bf942c",
            "d4194896aeb1428a9e1a4ea408895bd7",
            "8518b32fb9ae41a39de23f41b7ebcd6b"
          ]
        }
      },
      "source": [
        "result, model_outputs, wrong_predictions = model.eval_model(test)"
      ],
      "execution_count": 0,
      "outputs": [
        {
          "output_type": "display_data",
          "data": {
            "application/vnd.jupyter.widget-view+json": {
              "model_id": "7517dbf2fdc444618fe70881ed7646d6",
              "version_minor": 0,
              "version_major": 2
            },
            "text/plain": [
              "HBox(children=(IntProgress(value=0, max=121), HTML(value='')))"
            ]
          },
          "metadata": {
            "tags": []
          }
        },
        {
          "output_type": "stream",
          "text": [
            "\n"
          ],
          "name": "stdout"
        },
        {
          "output_type": "display_data",
          "data": {
            "application/vnd.jupyter.widget-view+json": {
              "model_id": "8672f118890944de86b1884ff4fdd2c2",
              "version_minor": 0,
              "version_major": 2
            },
            "text/plain": [
              "HBox(children=(IntProgress(value=0, max=16), HTML(value='')))"
            ]
          },
          "metadata": {
            "tags": []
          }
        },
        {
          "output_type": "stream",
          "text": [
            "\n"
          ],
          "name": "stdout"
        }
      ]
    },
    {
      "cell_type": "code",
      "metadata": {
        "id": "L9uOJQs8_-u1",
        "colab_type": "code",
        "outputId": "dc5dffc7-9e43-44af-9876-d748ce7c892d",
        "colab": {
          "base_uri": "https://localhost:8080/",
          "height": 34
        }
      },
      "source": [
        "result"
      ],
      "execution_count": 0,
      "outputs": [
        {
          "output_type": "execute_result",
          "data": {
            "text/plain": [
              "{'eval_loss': 0.8464130610227585, 'mcc': 0.0}"
            ]
          },
          "metadata": {
            "tags": []
          },
          "execution_count": 91
        }
      ]
    },
    {
      "cell_type": "code",
      "metadata": {
        "id": "DrM_KGyyAsUn",
        "colab_type": "code",
        "outputId": "5f581586-0640-4ae2-a228-4402dcc79119",
        "colab": {
          "base_uri": "https://localhost:8080/",
          "height": 1000
        }
      },
      "source": [
        "model_outputs"
      ],
      "execution_count": 0,
      "outputs": [
        {
          "output_type": "execute_result",
          "data": {
            "text/plain": [
              "array([[ 1.95568419e+00, -2.94334531e+00],\n",
              "       [-8.44031394e-01,  1.35725808e+00],\n",
              "       [-8.52615833e-01,  1.06495833e+00],\n",
              "       [-8.84266555e-01,  1.06324506e+00],\n",
              "       [ 2.19324994e+00, -3.01013565e+00],\n",
              "       [-6.80717230e-01,  3.76625359e-01],\n",
              "       [-5.32210529e-01,  1.32551134e-01],\n",
              "       [ 5.67181468e-01, -1.13667071e+00],\n",
              "       [ 1.44636965e+00, -2.31200099e+00],\n",
              "       [ 2.01950026e+00, -2.99885941e+00],\n",
              "       [ 1.68271530e+00, -2.70005989e+00],\n",
              "       [-5.33708096e-01, -2.39178240e-02],\n",
              "       [ 2.16635418e+00, -3.08715820e+00],\n",
              "       [ 1.77049017e+00, -2.80076694e+00],\n",
              "       [ 2.05453753e+00, -2.99608278e+00],\n",
              "       [ 1.42313099e+00, -2.38037133e+00],\n",
              "       [ 1.81092358e+00, -2.72513366e+00],\n",
              "       [ 1.95817935e+00, -2.68549299e+00],\n",
              "       [ 1.96125162e+00, -2.94752693e+00],\n",
              "       [-3.40221137e-01, -1.32514328e-01],\n",
              "       [-9.40237284e-01,  1.23969567e+00],\n",
              "       [-1.10582089e+00,  1.48580945e+00],\n",
              "       [ 1.44792295e+00, -2.41590405e+00],\n",
              "       [ 1.28170490e+00, -2.18530869e+00],\n",
              "       [-6.46966755e-01,  1.05223060e-01],\n",
              "       [ 1.83837581e+00, -2.58381581e+00],\n",
              "       [ 2.18063498e+00, -2.97895551e+00],\n",
              "       [-1.05886841e+00,  1.45321560e+00],\n",
              "       [ 2.16673827e+00, -3.04545927e+00],\n",
              "       [ 2.05419540e+00, -2.97644854e+00],\n",
              "       [ 1.98602438e+00, -2.93527842e+00],\n",
              "       [-1.06435823e+00,  1.39181709e+00],\n",
              "       [-5.20135403e-01, -1.41262412e-02],\n",
              "       [ 1.56825113e+00, -2.27340817e+00],\n",
              "       [-1.01972055e+00,  1.13910270e+00],\n",
              "       [ 1.61339676e+00, -2.73168945e+00],\n",
              "       [ 2.12275124e+00, -3.05844355e+00],\n",
              "       [ 2.01946449e+00, -2.93531704e+00],\n",
              "       [-9.09982920e-01,  9.14071202e-01],\n",
              "       [-6.71556652e-01,  3.13968360e-01],\n",
              "       [ 2.22284198e+00, -3.08549738e+00],\n",
              "       [-9.69936490e-01,  1.41418338e+00],\n",
              "       [ 1.86205435e+00, -2.86093497e+00],\n",
              "       [ 2.05261612e+00, -2.76215148e+00],\n",
              "       [-6.32536292e-01,  1.31973326e-01],\n",
              "       [-7.25829005e-01,  6.91073060e-01],\n",
              "       [ 1.95881057e+00, -2.80217457e+00],\n",
              "       [ 1.94158554e+00, -2.95347500e+00],\n",
              "       [-5.43683946e-01, -4.07649875e-02],\n",
              "       [ 2.05788565e+00, -3.07811809e+00],\n",
              "       [-6.38909936e-01,  2.65654147e-01],\n",
              "       [ 1.36690593e+00, -2.38209867e+00],\n",
              "       [ 2.09343529e+00, -2.90511084e+00],\n",
              "       [-8.86945248e-01,  1.19068241e+00],\n",
              "       [ 2.21018791e+00, -3.00301027e+00],\n",
              "       [-7.73896933e-01,  7.31689394e-01],\n",
              "       [-1.01389861e+00,  1.21977949e+00],\n",
              "       [ 2.19471812e+00, -3.06141639e+00],\n",
              "       [-4.81813550e-01, -1.73984766e-02],\n",
              "       [ 1.75798559e+00, -2.74057555e+00],\n",
              "       [ 2.02516127e+00, -2.96545935e+00],\n",
              "       [ 2.19823194e+00, -2.98761892e+00],\n",
              "       [ 1.70499086e+00, -2.40819383e+00],\n",
              "       [ 1.61608505e+00, -2.35897636e+00],\n",
              "       [-6.39900148e-01,  3.76742542e-01],\n",
              "       [-4.30285186e-01, -4.30013835e-02],\n",
              "       [-1.02254534e+00,  1.42792904e+00],\n",
              "       [-8.52615833e-01,  1.06495833e+00],\n",
              "       [ 2.04982233e+00, -2.97861767e+00],\n",
              "       [-9.54729557e-01,  1.33297014e+00],\n",
              "       [ 2.16245389e+00, -3.01805449e+00],\n",
              "       [ 1.79576576e+00, -2.82824135e+00],\n",
              "       [-9.06347871e-01,  1.23252296e+00],\n",
              "       [ 1.96020114e+00, -2.77820373e+00],\n",
              "       [ 1.90532398e+00, -2.79843616e+00],\n",
              "       [ 1.53568149e+00, -2.48454428e+00],\n",
              "       [ 2.21447039e+00, -3.03050900e+00],\n",
              "       [-1.07377005e+00,  1.55783904e+00],\n",
              "       [-5.71277022e-01,  2.37104297e-01],\n",
              "       [ 2.08540106e+00, -2.94853687e+00],\n",
              "       [ 1.75522184e+00, -2.42508602e+00],\n",
              "       [-4.60870862e-01, -9.34020281e-02],\n",
              "       [ 2.23006964e+00, -3.07691669e+00],\n",
              "       [ 2.03750467e+00, -2.89743614e+00],\n",
              "       [ 1.83932173e+00, -2.85179996e+00],\n",
              "       [ 2.23837376e+00, -3.04691815e+00],\n",
              "       [ 1.62981510e+00, -2.61323452e+00],\n",
              "       [ 2.21253633e+00, -3.04500055e+00],\n",
              "       [ 1.41620255e+00, -2.35401535e+00],\n",
              "       [ 1.59795356e+00, -2.53515697e+00],\n",
              "       [-7.78809547e-01,  7.86427617e-01],\n",
              "       [ 7.56461799e-01, -1.41188884e+00],\n",
              "       [ 1.79864335e+00, -2.76641154e+00],\n",
              "       [-6.84679687e-01,  2.42239952e-01],\n",
              "       [ 1.25699162e+00, -2.05555272e+00],\n",
              "       [-6.39632165e-01,  1.49883986e-01],\n",
              "       [ 1.90318418e+00, -2.90002537e+00],\n",
              "       [-5.33307016e-01,  9.58284736e-02],\n",
              "       [ 1.97581029e+00, -2.81211185e+00],\n",
              "       [-6.60566330e-01,  2.10332215e-01],\n",
              "       [ 1.68916619e+00, -2.71114540e+00],\n",
              "       [ 2.03539705e+00, -3.03478193e+00],\n",
              "       [ 1.36663663e+00, -2.33456492e+00],\n",
              "       [ 2.06096768e+00, -3.04911327e+00],\n",
              "       [ 1.87579966e+00, -2.73795247e+00],\n",
              "       [ 1.90466535e+00, -2.85635710e+00],\n",
              "       [ 1.77938581e+00, -2.84276295e+00],\n",
              "       [ 1.88527906e+00, -2.84155107e+00],\n",
              "       [ 2.08755636e+00, -3.00624681e+00],\n",
              "       [-6.30858898e-01,  1.31158292e-01],\n",
              "       [ 1.76884210e+00, -2.48043156e+00],\n",
              "       [ 1.52011192e+00, -2.60595846e+00],\n",
              "       [ 2.05328798e+00, -2.78569674e+00],\n",
              "       [ 2.21958041e+00, -3.07332277e+00],\n",
              "       [ 1.85184324e+00, -2.84190655e+00],\n",
              "       [-1.03769493e+00,  1.35535336e+00],\n",
              "       [-6.05605543e-01,  5.39423883e-01],\n",
              "       [ 1.65940499e+00, -2.65683651e+00],\n",
              "       [ 1.63753319e+00, -2.49839830e+00],\n",
              "       [ 1.78755832e+00, -2.56593633e+00],\n",
              "       [-6.66476011e-01,  2.49259531e-01],\n",
              "       [ 2.03817272e+00, -2.98347878e+00],\n",
              "       [-2.66211540e-01, -2.53257632e-01],\n",
              "       [ 1.44792271e+00, -2.41590405e+00],\n",
              "       [-1.04072034e+00,  1.35316300e+00],\n",
              "       [-5.93101799e-01,  6.26570582e-02],\n",
              "       [ 1.72071147e+00, -2.54067373e+00],\n",
              "       [ 1.11383355e+00, -1.87469983e+00],\n",
              "       [ 2.06929278e+00, -2.94726753e+00],\n",
              "       [-8.76263916e-01,  7.84598470e-01],\n",
              "       [-9.04710889e-01,  1.28888559e+00],\n",
              "       [-6.92281961e-01,  6.27056539e-01],\n",
              "       [ 1.87034595e+00, -2.77081585e+00],\n",
              "       [-1.02692723e+00,  1.41860712e+00],\n",
              "       [ 1.72375011e+00, -2.76446414e+00],\n",
              "       [ 1.76455224e+00, -2.87209845e+00],\n",
              "       [-9.45533276e-01,  1.41283715e+00],\n",
              "       [ 1.76965773e+00, -2.69941688e+00],\n",
              "       [ 1.43210876e+00, -2.12834668e+00],\n",
              "       [ 1.59744096e+00, -2.61510468e+00],\n",
              "       [ 1.26769376e+00, -2.10592842e+00],\n",
              "       [ 2.18399715e+00, -3.05582595e+00],\n",
              "       [-6.67001009e-01,  2.44112670e-01],\n",
              "       [ 5.41620374e-01, -1.12893605e+00],\n",
              "       [ 2.11337900e+00, -2.94596624e+00],\n",
              "       [ 2.12657189e+00, -2.99895382e+00],\n",
              "       [-6.36098862e-01,  1.86313331e-01],\n",
              "       [-6.85696721e-01,  3.43094438e-01],\n",
              "       [ 2.16882706e+00, -2.97091198e+00],\n",
              "       [ 1.85765743e+00, -2.83149338e+00],\n",
              "       [-4.05543715e-01, -1.77159965e-01],\n",
              "       [-5.78101277e-01,  1.20660126e-01],\n",
              "       [ 1.98558795e+00, -2.84803486e+00],\n",
              "       [ 1.73968172e+00, -2.73962069e+00],\n",
              "       [-6.54913425e-01,  8.43060970e-01],\n",
              "       [-1.05841589e+00,  1.40317893e+00],\n",
              "       [-8.63007784e-01,  9.44044113e-01],\n",
              "       [ 2.18519568e+00, -2.96360683e+00],\n",
              "       [ 2.22047853e+00, -3.05033326e+00],\n",
              "       [-4.22832757e-01, -1.97299838e-01],\n",
              "       [ 2.17886448e+00, -3.08647704e+00],\n",
              "       [-6.69797480e-01,  3.74011070e-01],\n",
              "       [-4.92188573e-01, -2.42617428e-02],\n",
              "       [ 2.15637136e+00, -3.03548670e+00],\n",
              "       [-1.09056318e+00,  1.44337082e+00],\n",
              "       [ 2.28095126e+00, -3.04168701e+00],\n",
              "       [-6.01387143e-01,  2.24607885e-02],\n",
              "       [ 2.02570391e+00, -2.84984207e+00],\n",
              "       [-1.12154341e+00,  1.49552882e+00],\n",
              "       [ 1.70298719e+00, -2.70289230e+00],\n",
              "       [-7.17305422e-01,  4.08903450e-01],\n",
              "       [ 2.06276417e+00, -2.97029781e+00],\n",
              "       [ 1.89700171e-01, -3.85690838e-01],\n",
              "       [ 2.03753638e+00, -2.91027379e+00],\n",
              "       [ 1.54697454e+00, -2.53101182e+00],\n",
              "       [ 2.22812057e-01, -9.28076506e-01],\n",
              "       [ 1.93543744e+00, -2.91040039e+00],\n",
              "       [ 1.77352166e+00, -2.79266810e+00],\n",
              "       [ 1.79523468e+00, -2.66848946e+00],\n",
              "       [ 2.06822777e+00, -3.02943087e+00],\n",
              "       [ 2.14379811e+00, -3.05616331e+00],\n",
              "       [-1.09371829e+00,  1.49120438e+00],\n",
              "       [-5.05986929e-01,  2.24513263e-01],\n",
              "       [-5.22027433e-01, -6.31777644e-02],\n",
              "       [-6.12973094e-01,  1.22102708e-01],\n",
              "       [-6.61659598e-01,  3.04205239e-01],\n",
              "       [-6.69480920e-01,  2.65635669e-01],\n",
              "       [-6.62624478e-01,  3.05000752e-01],\n",
              "       [ 1.54050803e+00, -2.37582064e+00],\n",
              "       [ 2.10632849e+00, -3.03160477e+00],\n",
              "       [ 2.08982182e+00, -2.94420719e+00],\n",
              "       [ 1.81866741e+00, -2.86143827e+00],\n",
              "       [ 1.86413121e+00, -2.82559061e+00],\n",
              "       [ 1.71754956e+00, -2.74454474e+00],\n",
              "       [ 1.85101247e+00, -2.82252693e+00],\n",
              "       [ 1.80447316e+00, -2.86394787e+00],\n",
              "       [-7.40226567e-01,  8.74453783e-01],\n",
              "       [ 2.20053816e+00, -3.10958099e+00],\n",
              "       [ 1.60462165e+00, -2.63527012e+00],\n",
              "       [ 2.16493416e+00, -3.04936576e+00],\n",
              "       [-2.36311376e-01,  1.40943229e-01],\n",
              "       [ 2.14318657e+00, -3.03873825e+00],\n",
              "       [-9.62404490e-01,  1.37538517e+00],\n",
              "       [ 1.32510817e+00, -2.19925165e+00],\n",
              "       [ 1.93906784e+00, -2.70535398e+00],\n",
              "       [ 2.04024982e+00, -2.96027732e+00],\n",
              "       [-6.31600678e-01,  1.78698361e-01],\n",
              "       [-7.37348020e-01,  9.95006561e-01],\n",
              "       [ 2.20771170e+00, -2.98670530e+00],\n",
              "       [-9.88697529e-01,  1.40258050e+00],\n",
              "       [ 2.13297534e+00, -2.91901183e+00],\n",
              "       [ 2.05709648e+00, -3.03463817e+00],\n",
              "       [-5.13797522e-01,  2.39121914e-03],\n",
              "       [ 1.69107056e+00, -2.68275928e+00],\n",
              "       [-9.48017716e-01,  1.16427410e+00],\n",
              "       [ 2.20361280e+00, -3.10598469e+00],\n",
              "       [ 1.85724258e+00, -2.75357771e+00],\n",
              "       [ 1.89172256e+00, -2.79623961e+00],\n",
              "       [-5.81451297e-01,  4.69507575e-01],\n",
              "       [ 2.22941637e+00, -3.01051831e+00],\n",
              "       [-5.85297287e-01,  2.15735793e-01],\n",
              "       [-6.26968563e-01,  1.79881394e-01],\n",
              "       [ 1.94724846e+00, -2.84232521e+00],\n",
              "       [ 2.05763674e+00, -3.02127767e+00],\n",
              "       [ 1.38567364e+00, -2.14340496e+00],\n",
              "       [-8.84266555e-01,  1.06324506e+00],\n",
              "       [-9.95146990e-01,  1.38328743e+00],\n",
              "       [ 2.04679465e+00, -2.89209867e+00],\n",
              "       [ 1.97221780e+00, -2.90369344e+00],\n",
              "       [ 1.98387468e+00, -2.85099602e+00],\n",
              "       [ 1.87862468e+00, -2.89614153e+00],\n",
              "       [ 2.11850595e+00, -3.03626823e+00],\n",
              "       [ 2.11932087e+00, -3.00148916e+00],\n",
              "       [-6.71107352e-01,  3.19403827e-01],\n",
              "       [-7.86564767e-01,  1.00852203e+00],\n",
              "       [ 1.99231195e+00, -2.80818248e+00],\n",
              "       [-6.55546784e-01,  2.95861363e-01],\n",
              "       [ 2.04358149e+00, -3.05458760e+00],\n",
              "       [-9.69146371e-01,  1.31390345e+00],\n",
              "       [-1.01413774e+00,  1.26902640e+00],\n",
              "       [ 1.99314094e+00, -2.91322756e+00],\n",
              "       [-9.40237284e-01,  1.23969567e+00],\n",
              "       [-5.06382957e-02, -2.44977683e-01],\n",
              "       [ 2.05909467e+00, -2.93135858e+00],\n",
              "       [ 1.03891945e+00, -1.80364275e+00],\n",
              "       [ 1.56931639e+00, -2.51235509e+00],\n",
              "       [-4.26172942e-01, -3.96155119e-02],\n",
              "       [-6.06731415e-01,  1.09694153e-01],\n",
              "       [-7.87870884e-01,  7.67672181e-01],\n",
              "       [-3.04341137e-01, -2.79155463e-01],\n",
              "       [ 2.12129498e+00, -2.95871830e+00],\n",
              "       [ 1.45516586e+00, -2.44946051e+00],\n",
              "       [-1.05110478e+00,  1.51234293e+00],\n",
              "       [-3.12665403e-01, -2.26583630e-01],\n",
              "       [ 1.59163678e+00, -2.67602539e+00],\n",
              "       [ 1.86018276e+00, -2.77874231e+00],\n",
              "       [ 1.52396619e+00, -2.67451763e+00],\n",
              "       [ 1.38148355e+00, -1.97250199e+00],\n",
              "       [-3.18253487e-01, -2.94316530e-01],\n",
              "       [ 1.89421129e+00, -2.84172583e+00],\n",
              "       [-1.08497059e+00,  1.51904070e+00],\n",
              "       [-2.25481570e-01, -3.72203857e-01],\n",
              "       [-6.91595435e-01,  1.24667734e-01],\n",
              "       [ 2.20053840e+00, -3.10958076e+00],\n",
              "       [-6.20500386e-01,  1.91779077e-01],\n",
              "       [-6.80429578e-01,  3.16143811e-01],\n",
              "       [ 1.81175661e+00, -2.82608843e+00],\n",
              "       [ 1.92469990e+00, -2.72368097e+00],\n",
              "       [-1.03262889e+00,  1.50667727e+00],\n",
              "       [ 5.37795186e-01, -1.10222340e+00],\n",
              "       [-6.75833821e-01,  3.14893395e-01],\n",
              "       [-9.65706527e-01,  1.33670807e+00],\n",
              "       [-9.81361628e-01,  1.31794739e+00],\n",
              "       [ 2.17820689e-01, -7.57625461e-01],\n",
              "       [-5.65711200e-01,  8.91704559e-02],\n",
              "       [ 2.12822533e+00, -3.02711773e+00],\n",
              "       [-9.14753735e-01,  1.26518357e+00],\n",
              "       [-5.03118157e-01,  6.23792410e-03],\n",
              "       [ 1.93551695e+00, -2.55142903e+00],\n",
              "       [ 2.15002775e+00, -3.02204514e+00],\n",
              "       [ 2.07943487e+00, -2.97815061e+00],\n",
              "       [ 2.13328242e+00, -2.93932486e+00],\n",
              "       [ 2.10864758e+00, -3.07261705e+00],\n",
              "       [ 2.11995769e+00, -2.97462893e+00],\n",
              "       [-5.80784678e-01,  1.25475645e-01],\n",
              "       [-9.85928595e-01,  1.35091352e+00],\n",
              "       [-6.56744540e-01,  3.35608333e-01],\n",
              "       [ 1.34075284e+00, -2.15002060e+00],\n",
              "       [ 2.14126801e+00, -3.04121470e+00],\n",
              "       [ 2.15497565e+00, -2.98039842e+00],\n",
              "       [ 1.90392780e+00, -2.82839489e+00],\n",
              "       [-5.88411331e-01,  1.69158578e-01],\n",
              "       [ 1.87955165e+00, -2.85976744e+00],\n",
              "       [-6.50961757e-01,  1.40161335e-01],\n",
              "       [-5.94882190e-01,  1.36193514e-01],\n",
              "       [-6.76066279e-01,  2.16384441e-01],\n",
              "       [ 2.09989357e+00, -2.94233513e+00],\n",
              "       [ 1.40153205e+00, -2.22056794e+00],\n",
              "       [-6.72591865e-01,  4.37485725e-01],\n",
              "       [ 1.78793228e+00, -2.68202114e+00],\n",
              "       [-6.51972234e-01,  1.75417095e-01],\n",
              "       [-5.82840562e-01,  4.00283933e-02],\n",
              "       [ 1.25599575e+00, -1.88731134e+00],\n",
              "       [-6.92763805e-01,  3.30694199e-01],\n",
              "       [ 1.75367594e+00, -2.75426817e+00],\n",
              "       [ 1.99653244e+00, -2.87177372e+00],\n",
              "       [ 2.08991814e+00, -2.93772697e+00],\n",
              "       [ 3.16660017e-01, -1.01639271e+00],\n",
              "       [ 2.14965987e+00, -2.97750163e+00],\n",
              "       [-6.83351994e-01,  3.98303628e-01],\n",
              "       [-6.27599061e-01,  3.34037662e-01],\n",
              "       [-3.23670745e-01, -2.58705407e-01],\n",
              "       [ 1.66738594e+00, -2.66174698e+00],\n",
              "       [-1.04505038e+00,  1.51583481e+00],\n",
              "       [ 2.10843229e+00, -2.85415602e+00],\n",
              "       [-5.63197494e-01,  3.48406196e-01],\n",
              "       [ 1.60885191e+00, -2.53562069e+00],\n",
              "       [-9.07610595e-01,  1.23330343e+00],\n",
              "       [-6.81188524e-01,  2.57778883e-01],\n",
              "       [ 1.91821539e+00, -2.84906054e+00],\n",
              "       [-8.40189219e-01,  1.06317580e+00],\n",
              "       [-5.25713027e-01, -1.65358186e-03],\n",
              "       [-6.03974342e-01,  1.36577934e-01],\n",
              "       [ 1.73641300e+00, -2.77378154e+00],\n",
              "       [ 1.68647337e+00, -2.62766075e+00],\n",
              "       [ 2.20081091e+00, -3.08623624e+00],\n",
              "       [ 1.92692614e+00, -2.71054363e+00],\n",
              "       [ 1.73664778e-01, -5.88052511e-01],\n",
              "       [ 1.84498334e+00, -2.89574933e+00],\n",
              "       [ 1.61447978e+00, -2.62207508e+00],\n",
              "       [ 1.44079924e+00, -2.12121582e+00],\n",
              "       [ 2.10365295e+00, -3.01818943e+00],\n",
              "       [-6.64319575e-01,  1.88049018e-01],\n",
              "       [-1.07778549e+00,  1.33036554e+00],\n",
              "       [-5.05986929e-01,  2.24513263e-01],\n",
              "       [ 2.18353796e+00, -3.09035540e+00],\n",
              "       [-6.82432055e-01,  3.14233482e-01],\n",
              "       [ 5.33601522e-01, -1.23379397e+00],\n",
              "       [ 1.98151815e+00, -2.87779403e+00],\n",
              "       [-8.20375323e-01,  9.19784904e-01],\n",
              "       [-4.98455882e-01,  1.05491579e-02],\n",
              "       [ 1.78793228e+00, -2.68202114e+00],\n",
              "       [ 1.76156712e+00, -2.73623228e+00],\n",
              "       [ 1.57317913e+00, -2.54964495e+00],\n",
              "       [ 2.12532425e+00, -3.03902149e+00],\n",
              "       [-1.66809708e-01, -4.84836459e-01],\n",
              "       [ 1.60266626e+00, -2.52410078e+00],\n",
              "       [ 2.17054415e+00, -3.08328867e+00],\n",
              "       [ 1.54562318e+00, -2.60328364e+00],\n",
              "       [-7.67279685e-01,  1.03592038e+00],\n",
              "       [-1.06816268e+00,  1.50551224e+00],\n",
              "       [-5.70170820e-01,  7.89890885e-02],\n",
              "       [-2.10665613e-01, -4.05057073e-01],\n",
              "       [-6.36066139e-01,  1.96464658e-01],\n",
              "       [-1.04014838e+00,  1.40331686e+00],\n",
              "       [ 2.17173433e+00, -2.99054813e+00],\n",
              "       [-6.52646065e-01,  2.58700252e-01],\n",
              "       [-9.70477462e-01,  1.00508738e+00],\n",
              "       [ 1.71325827e+00, -2.24731708e+00],\n",
              "       [ 1.63178611e+00, -2.53923512e+00]], dtype=float32)"
            ]
          },
          "metadata": {
            "tags": []
          },
          "execution_count": 76
        }
      ]
    },
    {
      "cell_type": "markdown",
      "metadata": {
        "id": "3mvfiG43A7FC",
        "colab_type": "text"
      },
      "source": [
        "There are total 25 wrong predictions"
      ]
    },
    {
      "cell_type": "code",
      "metadata": {
        "id": "rwsMPnEkAu3-",
        "colab_type": "code",
        "outputId": "b602f0c9-7851-480f-f696-6291433f5701",
        "colab": {
          "base_uri": "https://localhost:8080/",
          "height": 34
        }
      },
      "source": [
        "len(wrong_predictions)"
      ],
      "execution_count": 0,
      "outputs": [
        {
          "output_type": "execute_result",
          "data": {
            "text/plain": [
              "54"
            ]
          },
          "metadata": {
            "tags": []
          },
          "execution_count": 77
        }
      ]
    },
    {
      "cell_type": "code",
      "metadata": {
        "id": "G0XnUf-mA0G-",
        "colab_type": "code",
        "outputId": "ed50b2b6-b777-4564-87c6-837085cac75b",
        "colab": {
          "base_uri": "https://localhost:8080/",
          "height": 34
        }
      },
      "source": [
        "test.shape"
      ],
      "execution_count": 0,
      "outputs": [
        {
          "output_type": "execute_result",
          "data": {
            "text/plain": [
              "(360, 2)"
            ]
          },
          "metadata": {
            "tags": []
          },
          "execution_count": 78
        }
      ]
    },
    {
      "cell_type": "code",
      "metadata": {
        "id": "RY5NAwv_BAf-",
        "colab_type": "code",
        "colab": {}
      },
      "source": [
        "from sklearn.metrics import f1_score, accuracy_score\n",
        "def f1_multiclass(labels, preds):\n",
        "    return f1_score(labels, preds, average='micro')"
      ],
      "execution_count": 0,
      "outputs": []
    },
    {
      "cell_type": "code",
      "metadata": {
        "id": "Hy7oxdZmBUag",
        "colab_type": "code",
        "outputId": "6c307e4f-9852-4abb-8fe3-e0a5b04fe83b",
        "colab": {
          "base_uri": "https://localhost:8080/",
          "height": 116,
          "referenced_widgets": [
            "b8747b18efaf474f9c562fdf42001c14",
            "359f8db07bca4161b2c4e13407d92c36",
            "61eac01d1ecd43fe98ee1ecee043aeca",
            "7eb283eb67ee4694b0dd2bef4b7dc604",
            "4ba350f22da44a21943b156d9a7fb503",
            "38cc4e1fe00946409bcfc337c048038c",
            "27c6e672ecc840c18ebec1330a2a61c5",
            "bdd9e445623b40c18bccee7f82884ad1",
            "bc69204ca933411c9968fa810f50c982",
            "ce2d8b53f4c1458eb51b7b2b7d37df45",
            "d6d364a364114fed8c89f6fabcfe644f",
            "81d896dcb7b54e5bb9941811295c40fb",
            "dc90abb346134a1c9f64860490e60d1a",
            "f4c374ff39934832bd168740d82074ef",
            "cfb14da77b8e496b9763daa2536ad576",
            "e7b3f1f85230473488c79788ee5f51b1"
          ]
        }
      },
      "source": [
        "\n",
        "scores2, model_outputs, wrong_predictions = model.eval_model(test, f1=f1_multiclass, acc=accuracy_score)"
      ],
      "execution_count": 0,
      "outputs": [
        {
          "output_type": "stream",
          "text": [
            "Converting to features started. Cache is not used.\n"
          ],
          "name": "stdout"
        },
        {
          "output_type": "display_data",
          "data": {
            "application/vnd.jupyter.widget-view+json": {
              "model_id": "b8747b18efaf474f9c562fdf42001c14",
              "version_minor": 0,
              "version_major": 2
            },
            "text/plain": [
              "HBox(children=(IntProgress(value=0, max=360), HTML(value='')))"
            ]
          },
          "metadata": {
            "tags": []
          }
        },
        {
          "output_type": "display_data",
          "data": {
            "application/vnd.jupyter.widget-view+json": {
              "model_id": "bc69204ca933411c9968fa810f50c982",
              "version_minor": 0,
              "version_major": 2
            },
            "text/plain": [
              "HBox(children=(IntProgress(value=0, max=45), HTML(value='')))"
            ]
          },
          "metadata": {
            "tags": []
          }
        },
        {
          "output_type": "stream",
          "text": [
            "{'mcc': 0.6867313953952584, 'tp': 103, 'tn': 203, 'fp': 41, 'fn': 13, 'eval_loss': 0.3098130907035536, 'f1': 0.85, 'acc': 0.85}\n"
          ],
          "name": "stdout"
        }
      ]
    },
    {
      "cell_type": "code",
      "metadata": {
        "id": "-s0Rn3rpxoKr",
        "colab_type": "code",
        "outputId": "2e665dde-8f91-428f-8bbd-aee0534453ce",
        "colab": {
          "base_uri": "https://localhost:8080/",
          "height": 34
        }
      },
      "source": [
        "heading"
      ],
      "execution_count": 0,
      "outputs": [
        {
          "output_type": "execute_result",
          "data": {
            "text/plain": [
              "245"
            ]
          },
          "metadata": {
            "tags": []
          },
          "execution_count": 103
        }
      ]
    },
    {
      "cell_type": "code",
      "metadata": {
        "id": "qREtcJJBsL4J",
        "colab_type": "code",
        "outputId": "edd50292-7833-4b51-fd2d-10debb710776",
        "colab": {
          "base_uri": "https://localhost:8080/",
          "height": 98,
          "referenced_widgets": [
            "c233c85312b94be7b593a47fbd7c5584",
            "4de471663296407e82ef03f5153471b8",
            "d4078b019bc94fdf8d058f1543593e54",
            "4b91ae75d8a64112b6a7a93b835aa4b9",
            "c0e4cceb14e24e15bd8c09c74f499f58",
            "c299f147668243af9ff64227062717ad",
            "8cf1b7ca75074d8a8baaa6f987fe1865",
            "842a6fcc58694191b1d5ac9ac0dbff16",
            "70aa4ce014c74be98ae9135323935404",
            "4fee9f8798c2491588d84cc4cd84c079",
            "324533b3d44e4e21b114da90cf5d71bd",
            "8413d60fc8114fd2bbefb4e824a7d645",
            "a667518819a74dca916520fba0cd80fe",
            "739583279d0a43e194ab0d7e85c588ae",
            "248c3a9ccf334e1381ec5aaa1ae127d8",
            "ff42a03ef4874c7eac0a9463e1fa4645"
          ]
        }
      },
      "source": [
        "validate=model.predict(heading)"
      ],
      "execution_count": 0,
      "outputs": [
        {
          "output_type": "stream",
          "text": [
            "Converting to features started. Cache is not used.\n"
          ],
          "name": "stdout"
        },
        {
          "output_type": "display_data",
          "data": {
            "application/vnd.jupyter.widget-view+json": {
              "model_id": "c233c85312b94be7b593a47fbd7c5584",
              "version_minor": 0,
              "version_major": 2
            },
            "text/plain": [
              "HBox(children=(IntProgress(value=0, max=245), HTML(value='')))"
            ]
          },
          "metadata": {
            "tags": []
          }
        },
        {
          "output_type": "display_data",
          "data": {
            "application/vnd.jupyter.widget-view+json": {
              "model_id": "70aa4ce014c74be98ae9135323935404",
              "version_minor": 0,
              "version_major": 2
            },
            "text/plain": [
              "HBox(children=(IntProgress(value=0, max=31), HTML(value='')))"
            ]
          },
          "metadata": {
            "tags": []
          }
        }
      ]
    },
    {
      "cell_type": "code",
      "metadata": {
        "id": "Be0T2xyGw5ss",
        "colab_type": "code",
        "colab": {}
      },
      "source": [
        "index=[]\n",
        "for i in range(len(validate[0])):\n",
        "  if validate[0][i]==0:\n",
        "    index.append(i)work history\n"
      ],
      "execution_count": 0,
      "outputs": []
    },
    {
      "cell_type": "code",
      "metadata": {
        "id": "Zd4Gk7j52lTd",
        "colab_type": "code",
        "outputId": "ab2210b1-cadb-495e-a0e9-82e15d47c9f3",
        "colab": {
          "base_uri": "https://localhost:8080/",
          "height": 132
        }
      },
      "source": [
        ""
      ],
      "execution_count": 0,
      "outputs": [
        {
          "output_type": "error",
          "ename": "SyntaxError",
          "evalue": "ignored",
          "traceback": [
            "\u001b[0;36m  File \u001b[0;32m\"<ipython-input-148-20940b19140c>\"\u001b[0;36m, line \u001b[0;32m1\u001b[0m\n\u001b[0;31m    for 'References' in heading:\u001b[0m\n\u001b[0m       ^\u001b[0m\n\u001b[0;31mSyntaxError\u001b[0m\u001b[0;31m:\u001b[0m can't assign to literal\n"
          ]
        }
      ]
    },
    {
      "cell_type": "code",
      "metadata": {
        "id": "seRP4MreyzT2",
        "colab_type": "code",
        "outputId": "56676001-dfaa-4bca-eb58-2dd8e88bd69e",
        "colab": {
          "base_uri": "https://localhost:8080/",
          "height": 34
        }
      },
      "source": [
        "len(index)"
      ],
      "execution_count": 0,
      "outputs": [
        {
          "output_type": "execute_result",
          "data": {
            "text/plain": [
              "45"
            ]
          },
          "metadata": {
            "tags": []
          },
          "execution_count": 119
        }
      ]
    },
    {
      "cell_type": "code",
      "metadata": {
        "id": "A5GBn73ezlCs",
        "colab_type": "code",
        "outputId": "268b4f91-b237-4a43-8028-08f51c9a11d1",
        "colab": {
          "base_uri": "https://localhost:8080/",
          "height": 34
        }
      },
      "source": [
        "heading[15]"
      ],
      "execution_count": 0,
      "outputs": [
        {
          "output_type": "execute_result",
          "data": {
            "text/plain": [
              "'position'"
            ]
          },
          "metadata": {
            "tags": []
          },
          "execution_count": 125
        }
      ]
    },
    {
      "cell_type": "code",
      "metadata": {
        "id": "T4uM3wl-zesD",
        "colab_type": "code",
        "outputId": "b519724f-8443-487c-dece-67c056a0879c",
        "colab": {
          "base_uri": "https://localhost:8080/",
          "height": 816
        }
      },
      "source": [
        "index"
      ],
      "execution_count": 0,
      "outputs": [
        {
          "output_type": "execute_result",
          "data": {
            "text/plain": [
              "[0,\n",
              " 15,\n",
              " 20,\n",
              " 22,\n",
              " 29,\n",
              " 31,\n",
              " 39,\n",
              " 43,\n",
              " 44,\n",
              " 48,\n",
              " 66,\n",
              " 73,\n",
              " 84,\n",
              " 85,\n",
              " 86,\n",
              " 88,\n",
              " 94,\n",
              " 95,\n",
              " 103,\n",
              " 104,\n",
              " 105,\n",
              " 107,\n",
              " 116,\n",
              " 131,\n",
              " 134,\n",
              " 141,\n",
              " 142,\n",
              " 143,\n",
              " 146,\n",
              " 148,\n",
              " 155,\n",
              " 163,\n",
              " 166,\n",
              " 174,\n",
              " 178,\n",
              " 189,\n",
              " 190,\n",
              " 193,\n",
              " 194,\n",
              " 195,\n",
              " 198,\n",
              " 201,\n",
              " 221,\n",
              " 225,\n",
              " 243]"
            ]
          },
          "metadata": {
            "tags": []
          },
          "execution_count": 120
        }
      ]
    },
    {
      "cell_type": "code",
      "metadata": {
        "id": "VugCKIugyzWV",
        "colab_type": "code",
        "colab": {}
      },
      "source": [
        "wrong=[]\n",
        "for val in index:\n",
        "  wrong.append(heading[val])"
      ],
      "execution_count": 0,
      "outputs": []
    },
    {
      "cell_type": "code",
      "metadata": {
        "id": "oyrVikjayzZC",
        "colab_type": "code",
        "outputId": "e24a09a1-d8a3-4b7e-a9d9-c4033920d996",
        "colab": {
          "base_uri": "https://localhost:8080/",
          "height": 816
        }
      },
      "source": [
        "wrong"
      ],
      "execution_count": 0,
      "outputs": [
        {
          "output_type": "execute_result",
          "data": {
            "text/plain": [
              "['Educated',\n",
              " 'position',\n",
              " 'personal profile',\n",
              " 'Competency Matrix',\n",
              " 'professional development',\n",
              " 'objective',\n",
              " 'academic',\n",
              " 'certificates',\n",
              " 'project annexure',\n",
              " 'organisational experiance',\n",
              " 'conference',\n",
              " 'project overview',\n",
              " 'achievement',\n",
              " 'professional career',\n",
              " 'career track',\n",
              " 'contact details',\n",
              " 'organisational scan',\n",
              " 'educated',\n",
              " 'work history',\n",
              " 'Academic',\n",
              " 'technical summary',\n",
              " 'projects history',\n",
              " 'employment history',\n",
              " 'Professional Development',\n",
              " 'certification',\n",
              " 'credentials',\n",
              " 'Technical Skill',\n",
              " 'Publication',\n",
              " 'employment',\n",
              " 'Skill Set',\n",
              " 'army courses',\n",
              " 'introduction',\n",
              " 'Organisational Scan',\n",
              " 'competency matrix',\n",
              " 'publication',\n",
              " 'license and certifications',\n",
              " 'professional summary',\n",
              " 'Introduction',\n",
              " 'profile summary',\n",
              " 'Organisational Experiance',\n",
              " 'professional profile',\n",
              " 'Project Annexure',\n",
              " 'ACADEMIC',\n",
              " 'Conference',\n",
              " 'CERTIFICATES']"
            ]
          },
          "metadata": {
            "tags": []
          },
          "execution_count": 132
        }
      ]
    },
    {
      "cell_type": "code",
      "metadata": {
        "id": "FIEjhoCYyzbv",
        "colab_type": "code",
        "colab": {}
      },
      "source": [
        ""
      ],
      "execution_count": 0,
      "outputs": []
    },
    {
      "cell_type": "code",
      "metadata": {
        "id": "kyMEQJuPyzeq",
        "colab_type": "code",
        "colab": {}
      },
      "source": [
        ""
      ],
      "execution_count": 0,
      "outputs": []
    },
    {
      "cell_type": "code",
      "metadata": {
        "id": "F-6Zs8IBBZEw",
        "colab_type": "code",
        "outputId": "db1a9791-48cc-4a85-806e-98f6bfbca70b",
        "colab": {
          "base_uri": "https://localhost:8080/",
          "height": 98,
          "referenced_widgets": [
            "fa80c7b5399747b4b4ee5b136d34a507",
            "34b340971c29438cb05c6e6b17ddc9cb",
            "7aa0242d6e47401ba8acda072218970c",
            "909b0d7736554f86a4ab42fe8a4a931f",
            "9562ce3fa883491a9f6c9c2817494306",
            "309f0b4338dc44e783436c7a59bd4b6e",
            "b975357429e541018dfe458292ffbd57",
            "d9ae5637ac804a898e9b1fafec96104b",
            "02dfd73a94744d1d878df26c2dafe15c",
            "dde2a38a79654aaf858f2e02e3905b0c",
            "6ed66a20949442acbcb76dacab4aeae0",
            "6ed64c552da54a1d8a7d89ac59984582",
            "5b11d2ea0158453eb2a23461f36e0ce6",
            "9808ae3426f94bd0b850a53be7e38de8",
            "572464c57ea043bc96723efc8dbd2b42",
            "b29689f9597c4c798957644241370f35"
          ]
        }
      },
      "source": [
        "predictions, raw_output  = model.predict(['skill'])"
      ],
      "execution_count": 0,
      "outputs": [
        {
          "output_type": "stream",
          "text": [
            "Converting to features started. Cache is not used.\n"
          ],
          "name": "stdout"
        },
        {
          "output_type": "display_data",
          "data": {
            "application/vnd.jupyter.widget-view+json": {
              "model_id": "fa80c7b5399747b4b4ee5b136d34a507",
              "version_minor": 0,
              "version_major": 2
            },
            "text/plain": [
              "HBox(children=(IntProgress(value=0, max=1), HTML(value='')))"
            ]
          },
          "metadata": {
            "tags": []
          }
        },
        {
          "output_type": "display_data",
          "data": {
            "application/vnd.jupyter.widget-view+json": {
              "model_id": "02dfd73a94744d1d878df26c2dafe15c",
              "version_minor": 0,
              "version_major": 2
            },
            "text/plain": [
              "HBox(children=(IntProgress(value=0, max=1), HTML(value='')))"
            ]
          },
          "metadata": {
            "tags": []
          }
        }
      ]
    },
    {
      "cell_type": "code",
      "metadata": {
        "id": "1W3KmaQOB261",
        "colab_type": "code",
        "outputId": "8d75cf7c-0cfc-42ea-f634-98d4c54e0bbc",
        "colab": {
          "base_uri": "https://localhost:8080/",
          "height": 34
        }
      },
      "source": [
        "predictions"
      ],
      "execution_count": 0,
      "outputs": [
        {
          "output_type": "execute_result",
          "data": {
            "text/plain": [
              "array([1])"
            ]
          },
          "metadata": {
            "tags": []
          },
          "execution_count": 150
        }
      ]
    },
    {
      "cell_type": "code",
      "metadata": {
        "id": "7wFpzmNVB63F",
        "colab_type": "code",
        "outputId": "f5da2e61-25cb-48a5-9477-8afe2ff7dfa2",
        "colab": {
          "base_uri": "https://localhost:8080/",
          "height": 34
        }
      },
      "source": [
        "raw_output"
      ],
      "execution_count": 0,
      "outputs": [
        {
          "output_type": "execute_result",
          "data": {
            "text/plain": [
              "array([[-0.7209952 ,  0.62882924]], dtype=float32)"
            ]
          },
          "metadata": {
            "tags": []
          },
          "execution_count": 151
        }
      ]
    },
    {
      "cell_type": "code",
      "metadata": {
        "id": "We0GQdUVCH98",
        "colab_type": "code",
        "outputId": "590a33b0-d33a-401e-f96b-7da467684f9d",
        "colab": {
          "base_uri": "https://localhost:8080/",
          "height": 85,
          "referenced_widgets": [
            "4fc0e12e140e4194869abac60465276b",
            "10e4313ae3634ba386677dd7d99a2db0",
            "ddfda92398fe4091b54e9945d215f2ab",
            "49c134de660a41f18cc0ad3afcf39c14",
            "5700daa5ea074a3d82d6e26a77d60a67",
            "e8c6e01ea12f4a80a36942193b33d1c2",
            "98ed5297772b47fe9b9ddff22c976c70",
            "fc3280e0188c4bd2bee2f3ee7987f9d8"
          ]
        }
      },
      "source": [
        "pred,raw=model.predict(['Post Graduate Diploma in Management(Systems & Marketing), New Horizon College, Bangalore, KA in 2011'])"
      ],
      "execution_count": 0,
      "outputs": [
        {
          "output_type": "stream",
          "text": [
            "Features loaded from cache at cache_dir/cached_dev_bert_128_5_1\n"
          ],
          "name": "stdout"
        },
        {
          "output_type": "display_data",
          "data": {
            "application/vnd.jupyter.widget-view+json": {
              "model_id": "4fc0e12e140e4194869abac60465276b",
              "version_minor": 0,
              "version_major": 2
            },
            "text/plain": [
              "HBox(children=(IntProgress(value=0, max=1), HTML(value='')))"
            ]
          },
          "metadata": {
            "tags": []
          }
        },
        {
          "output_type": "stream",
          "text": [
            "\n"
          ],
          "name": "stdout"
        }
      ]
    },
    {
      "cell_type": "code",
      "metadata": {
        "id": "fFv1CdRDCgpO",
        "colab_type": "code",
        "outputId": "6bcbc65e-a246-49c0-bdad-9d04dd2704ea",
        "colab": {
          "base_uri": "https://localhost:8080/",
          "height": 35
        }
      },
      "source": [
        "pred"
      ],
      "execution_count": 0,
      "outputs": [
        {
          "output_type": "execute_result",
          "data": {
            "text/plain": [
              "array([4])"
            ]
          },
          "metadata": {
            "tags": []
          },
          "execution_count": 151
        }
      ]
    },
    {
      "cell_type": "code",
      "metadata": {
        "id": "XaxIna3dCjjZ",
        "colab_type": "code",
        "outputId": "3a92d61c-5f71-4be3-ca59-7b553a2ba982",
        "colab": {
          "base_uri": "https://localhost:8080/",
          "height": 54
        }
      },
      "source": [
        "raw"
      ],
      "execution_count": 0,
      "outputs": [
        {
          "output_type": "execute_result",
          "data": {
            "text/plain": [
              "array([[-0.9837271 , -0.22713107, -0.76111245,  0.06992629,  0.8009652 ]],\n",
              "      dtype=float32)"
            ]
          },
          "metadata": {
            "tags": []
          },
          "execution_count": 152
        }
      ]
    },
    {
      "cell_type": "code",
      "metadata": {
        "id": "LpiG7FxBCkWv",
        "colab_type": "code",
        "outputId": "9303c000-7cd1-41b8-b4d7-1227731bce38",
        "colab": {
          "base_uri": "https://localhost:8080/",
          "height": 85,
          "referenced_widgets": [
            "ae68783f7bb9404fa6ca0ec92480a233",
            "c011210d47bf4d7bb9a7e0ff9658fbc8",
            "d3e5000286e74714b56079b1e7673eb2",
            "d403c59dd53c4ccb845a0681f90eb5c4",
            "c6f43fbeb19e427e9b48e2f3910d4375",
            "f4c72c97d5c04ebf9449759969514e72",
            "5cb81b1636a84b48931141637b329354",
            "9a5b6adec8f048d9919d431895041f6b"
          ]
        }
      },
      "source": [
        "pred1,raw1=model.predict(['Mainframe (Datacom, VSAM, CA-Dispatch,Control-M, Selcopy Z/os & Z/vm, PRD1, PRDT'])"
      ],
      "execution_count": 0,
      "outputs": [
        {
          "output_type": "stream",
          "text": [
            "Features loaded from cache at cache_dir/cached_dev_bert_128_5_1\n"
          ],
          "name": "stdout"
        },
        {
          "output_type": "display_data",
          "data": {
            "application/vnd.jupyter.widget-view+json": {
              "model_id": "ae68783f7bb9404fa6ca0ec92480a233",
              "version_minor": 0,
              "version_major": 2
            },
            "text/plain": [
              "HBox(children=(IntProgress(value=0, max=1), HTML(value='')))"
            ]
          },
          "metadata": {
            "tags": []
          }
        },
        {
          "output_type": "stream",
          "text": [
            "\n"
          ],
          "name": "stdout"
        }
      ]
    },
    {
      "cell_type": "code",
      "metadata": {
        "id": "HmD4vKFGDADU",
        "colab_type": "code",
        "outputId": "1daf9fbc-f633-403f-bd54-576fd740fec2",
        "colab": {
          "base_uri": "https://localhost:8080/",
          "height": 35
        }
      },
      "source": [
        "pred1"
      ],
      "execution_count": 0,
      "outputs": [
        {
          "output_type": "execute_result",
          "data": {
            "text/plain": [
              "array([4])"
            ]
          },
          "metadata": {
            "tags": []
          },
          "execution_count": 156
        }
      ]
    },
    {
      "cell_type": "code",
      "metadata": {
        "id": "klQtDxnZDAK2",
        "colab_type": "code",
        "outputId": "39fe62d9-85f5-4ac2-ef28-64cae3c67c2a",
        "colab": {
          "base_uri": "https://localhost:8080/",
          "height": 54
        }
      },
      "source": [
        "raw1"
      ],
      "execution_count": 0,
      "outputs": [
        {
          "output_type": "execute_result",
          "data": {
            "text/plain": [
              "array([[-0.9837271 , -0.22713107, -0.76111245,  0.06992629,  0.8009652 ]],\n",
              "      dtype=float32)"
            ]
          },
          "metadata": {
            "tags": []
          },
          "execution_count": 157
        }
      ]
    },
    {
      "cell_type": "code",
      "metadata": {
        "id": "LkzUf2dzDANr",
        "colab_type": "code",
        "colab": {}
      },
      "source": [
        ""
      ],
      "execution_count": 0,
      "outputs": []
    },
    {
      "cell_type": "code",
      "metadata": {
        "id": "Wj55_IPtC78w",
        "colab_type": "code",
        "outputId": "dc89a2de-fcfe-42f3-e607-07e469df013e",
        "colab": {
          "base_uri": "https://localhost:8080/",
          "height": 85,
          "referenced_widgets": [
            "491731165cbe41c3969e4aaeffcdf2bd",
            "308935cb89744c1aabb24dff54f1ceda",
            "84450fea8e674876b0a75724921a61fd",
            "24dd29e4f0ac4665851a13e1048a5dd3",
            "81007ba48938464e9eb2ad51cef290aa",
            "33f17b31b1b14207b3bccda71e2172d8",
            "d10171da043f488087bb57e70dd03a6e",
            "341bad4553984b5e9cae1067a5189627"
          ]
        }
      },
      "source": [
        "pred2,raw2=model.predict(['dobe AEM CQx5,6.0, Adobe CRX, Apache Sling, OSGi, Fatwire Content Management System, Macromedia Contribute 3, 4, and CS3, Homesite, and custom CMS and database solutions '])"
      ],
      "execution_count": 0,
      "outputs": [
        {
          "output_type": "stream",
          "text": [
            "Features loaded from cache at cache_dir/cached_dev_bert_128_5_1\n"
          ],
          "name": "stdout"
        },
        {
          "output_type": "display_data",
          "data": {
            "application/vnd.jupyter.widget-view+json": {
              "model_id": "491731165cbe41c3969e4aaeffcdf2bd",
              "version_minor": 0,
              "version_major": 2
            },
            "text/plain": [
              "HBox(children=(IntProgress(value=0, max=1), HTML(value='')))"
            ]
          },
          "metadata": {
            "tags": []
          }
        },
        {
          "output_type": "stream",
          "text": [
            "\n"
          ],
          "name": "stdout"
        }
      ]
    },
    {
      "cell_type": "code",
      "metadata": {
        "id": "1DGpRB4RDW4U",
        "colab_type": "code",
        "outputId": "b2301a0d-994d-4e63-a687-4149e75ea9c0",
        "colab": {
          "base_uri": "https://localhost:8080/",
          "height": 72
        }
      },
      "source": [
        "pred2,raw2"
      ],
      "execution_count": 0,
      "outputs": [
        {
          "output_type": "execute_result",
          "data": {
            "text/plain": [
              "(array([4]),\n",
              " array([[-0.9837271 , -0.22713107, -0.76111245,  0.06992629,  0.8009652 ]],\n",
              "       dtype=float32))"
            ]
          },
          "metadata": {
            "tags": []
          },
          "execution_count": 162
        }
      ]
    },
    {
      "cell_type": "code",
      "metadata": {
        "id": "y5ykCATpDbTQ",
        "colab_type": "code",
        "colab": {}
      },
      "source": [
        "dict= {\n",
        "        \"objective\": [\n",
        "            \"objective\",\n",
        "\t\t\t\"professional objective\",\n",
        "            \"career objective\",\n",
        "\t\t\t\"OBJECTIVE\",\n",
        "            \"PROFESSIONAL OBJECTIVE\",\n",
        "            \"CAREER OBJECTIVE\",\n",
        "\t\t\t\"Objective\",\n",
        "            \"Professional Objective\",\n",
        "            \"Career Objective\"\n",
        "\t\t\t\n",
        "        ],\n",
        "        \"courses\": [\n",
        "            \"army courses\",\n",
        "\t\t\t\"ARMY COURSES\",\n",
        "\t\t\t\"Army Courses\"\n",
        "        ],\n",
        "        \"achievement\": [\n",
        "            \"achievement\",\n",
        "            \"honors & activities\",\n",
        "\t\t\t\"ACHIEVEMENT\",\n",
        "            \"HONORS & ACTIVITIES\",\n",
        "\t\t\t\"Achievement\",\n",
        "            \"Honors & Activities\"\n",
        "\t\t],\n",
        "        \"summary\": [\n",
        "            \"profile summary\",\n",
        "            \"professional summary\",\n",
        "            \"introduction\",\n",
        "            \"summary\",\n",
        "\t\t\t\"PROFILE SUMMARY\",\n",
        "            \"PROFESSIONAL SUMMARY\",\n",
        "            \"INTRODUCTION\",\n",
        "            \"SUMMARY\",\n",
        "\t\t\t\"Profile Summary\",\n",
        "            \"Professional Summary\",\n",
        "            \"Introduction\",\n",
        "            \"Summary\"\n",
        "        ],\n",
        "        \"experience\": [\n",
        "            \"work history\",\n",
        "\t\t\t\"employment\",\n",
        "\t\t\t\"employment history\",\n",
        "\t\t\t\"organisational experiance\",\n",
        "\t\t\t\"professional accomplishments\",\n",
        "            \"experience\",\n",
        "            \"summary of experiance\",\n",
        "            \"experience synopsis\",\n",
        "            \"organisational scan\",\n",
        "            \"professional profile\",\n",
        "\t\t\t\"professional career\",\n",
        "            \"summary\",\n",
        "\t\t\t\"career track\",\n",
        "            \"experience\",\n",
        "            \"experience summary\",\n",
        "\t\t\t\"industry experience\",\n",
        "            \"work experience\",\n",
        "\t\t\t\"professional experience\",\n",
        "\t\t\t\"professional background\",\n",
        "            \"current experience\",\n",
        "            \"current organizational experience\",\n",
        "\t\t\t\"WORK HISTORY\",\n",
        "            \"EXPERIENCE\",\n",
        "            \"SUMMARY OF EXPERIANCE\",\n",
        "\t\t\t\"INDUSTRY EXPERIENCE\",\n",
        "            \"EXPERIENCE SYNOPSIS\",\n",
        "            \"ORGANISATIONAL SCAN\",\n",
        "            \"PROFESSIONAL PROFILE\",\n",
        "\t\t\t\"PROFESSIONAL ACCOMPLISHMENTS\",\n",
        "\t\t\t\"ORGANISATIONAL EXPERIANCE\",\n",
        "\t\t\t\"EMPLOYMENT\",\n",
        "\t\t\t\"EMPLOYMENT HISTORY\",\n",
        "\t\t\t\"PROFESSIONAL CAREER\",\n",
        "\t\t\t\"PROFESSIONAL BACKGROUND\",\n",
        "            \"SUMMARY\",\n",
        "            \"EXPERIENCE\",\n",
        "            \"EXPERIENCE SUMMARY\",\n",
        "            \"WORK EXPERIENCE\",\n",
        "\t\t\t\"CAREER TRACK\",\n",
        "\t\t\t\"PROFESSIONAL EXPERIENCE\",\n",
        "            \"CURRENT EXPERIENCE\",\n",
        "            \"CURRENT ORGANIZATIONAL EXPERIENCE\",\n",
        "\t\t\t\"Work History\",\n",
        "            \"Experience\",\n",
        "            \"Summary Of Experiance\",\n",
        "            \"Experience Synopsis\",\n",
        "            \"Organisational Scan\",\n",
        "            \"Professional Profile\",\n",
        "\t\t\t\"Professional Career\",\n",
        "\t\t\t\"Organisational Experiance\",\n",
        "\t\t\t\"Employment\",\n",
        "\t\t\t\"Employment History\",\n",
        "\t\t\t\"Career Track\",\n",
        "\t\t\t\"Industry Experience\",\n",
        "\t\t\t\"Professional Background\",\n",
        "\t\t\t\"Professional Accomplishments\",\n",
        "            \"Summary\",\n",
        "            \"Experience\",\n",
        "            \"Experience Summary\",\n",
        "            \"Work Experience\",\n",
        "            \"Professional Experience\",\n",
        "            \"Current Experience\",\n",
        "            \"Current Organizational Experience\"\n",
        "        ],\n",
        "        \"education\": [\n",
        "            \"education\",\n",
        "            \"educational\",\n",
        "            \"educational qualification\",\n",
        "            \"academic qualification\",\n",
        "            \"qualification\",\n",
        "\t\t\t\"EDUCATION\",\n",
        "\t\t\t\"EDUCATIONAL\",\n",
        "            \"EDUCATIONAL QUALIFICATION\",\n",
        "            \"ACADEMIC QUALIFICATION\",\n",
        "            \"QUALIFICATION\",\n",
        "\t\t\t\"Education\",\n",
        "            \"Educational Qualification\",\n",
        "            \"Academic Qualification\",\n",
        "            \"Qualification\",\n",
        "\t\t\t\"Qualifications\",\n",
        "\t\t\t\"qualifications\",\n",
        "\t\t\t\"QUALIFICATIONS\",\n",
        "\t\t\t\"Educated\",\n",
        "\t\t\t\"EDUCATED\",\n",
        "\t\t\t\"educated\",\n",
        "\t\t\t\"Professional Development\",\n",
        "\t\t\t\"PROFESSIONAL DEVELOPMENT\",\n",
        "\t\t\t\"professional development\",\n",
        "\t\t\t\"Credentials\",\n",
        "\t\t\t\"CREDENTIALS\",\n",
        "\t\t\t\"credentials\",\n",
        "\t\t\t\"Academic\",\n",
        "\t\t\t\"ACADEMIC\",\n",
        "\t\t\t\"academic\"\n",
        "        ],\n",
        "        \"skills\": [\n",
        "            \"additional skills\",\n",
        "            \"skills\",\n",
        "            \"proficiencies and specialties\",\n",
        "            \"skill set\",\n",
        "            \"technical skill\",\n",
        "            \"skills summary\",\n",
        "            \"core competencies\",\n",
        "            \"technical summary\",\n",
        "            \"skills set\",\n",
        "            \"personal skills\",\n",
        "            \"additional it’s skills\",\n",
        "            \"competency matrix\",\n",
        "            \"areas of expertise\",\n",
        "\t\t\t\"ADDITIONAL SKILLS\",\n",
        "            \"SKILLS\",\n",
        "            \"PROFICIENCIES AND SPECIALTIES\",\n",
        "            \"SKILL SET\",\n",
        "            \"TECHNICAL SKILL\",\n",
        "            \"SKILLS SUMMARY\",\n",
        "            \"CORE COMPETENCIES\",\n",
        "            \"TECHNICAL SUMMARY\",\n",
        "            \"SKILLS SET\",\n",
        "            \"PERSONAL SKILLS\",\n",
        "            \"ADDITIONAL IT’S SKILLS\",\n",
        "            \"COMPETENCY MATRIX\",\n",
        "            \"AREAS OF EXPERTISE\",\n",
        "\t\t\t\"Additional Skills\",\n",
        "            \"Skills\",\n",
        "            \"Proficiencies And Specialties\",\n",
        "            \"Skill Set\",\n",
        "            \"Technical Skill\",\n",
        "            \"Skills Summary\",\n",
        "            \"Core Competencies\",\n",
        "            \"Technical Summary\",\n",
        "            \"Skills Set\",\n",
        "            \"Personal Skills\",\n",
        "            \"Additional It’s Skills\",\n",
        "            \"Competency Matrix\",\n",
        "            \"Areas Of Expertise\"\n",
        "        ],\n",
        "        \"training\": [\n",
        "            \"trainings\",\n",
        "\t\t\t\"TRAININGS\",\n",
        "\t\t\t\"Trainings\",\n",
        "\t\t\t\"training\",\n",
        "\t\t\t\"TRAINING\",\n",
        "\t\t\t\"Training\"\n",
        "        ],\n",
        "        \"projects\": [\n",
        "            \"professional memberships\",\n",
        "            \"projects history\",\n",
        "            \"project overview\",\n",
        "            \"major projects\",\n",
        "            \"project annexure\",\n",
        "\t\t\t\"PROFESSIONAL MEMBERSHIPS\",\n",
        "            \"PROJECTS HISTORY\",\n",
        "            \"PROJECT OVERVIEW\",\n",
        "            \"MAJOR PROJECTS\",\n",
        "            \"PROJECT ANNEXURE\",\n",
        "\t\t\t\"Professional Memberships\",\n",
        "            \"Projects History\",\n",
        "            \"Project Overview\",\n",
        "            \"Major Projects\",\n",
        "            \"Project Annexure\"\n",
        "        ],\n",
        "        \"links\": [\n",
        "            \"links\",\n",
        "\t\t\t\"LINKS\",\n",
        "\t\t\t\"Links\"\n",
        "        ],\n",
        "        \"contacts\": [\n",
        "            \"contacts\",\n",
        "\t\t\t\"CONTACTS\",\n",
        "\t\t\t\"Contacts\"\n",
        "        ],\n",
        "        \"positions\": [\n",
        "            \"positions\",\n",
        "            \"position\",\n",
        "\t\t\t\"POSITIONS\",\n",
        "            \"POSITION\",\n",
        "\t\t\t\"Positions\",\n",
        "            \"Position\"\n",
        "        ],\n",
        "        \"personal_details\": [\n",
        "            \"personal details\",\n",
        "            \"personal information\",\n",
        "            \"personal profile\",\n",
        "\t\t\t\"PERSONAL DETAILS\",\n",
        "            \"PERSONAL INFORMATION\",\n",
        "            \"PERSONAL PROFILE\",\n",
        "\t\t\t\"Personal Details\",\n",
        "            \"Personal Information\",\n",
        "            \"Personal Profile\"\n",
        "        ],\n",
        "        \"contact_details\": [\n",
        "            \"contact details\",\n",
        "\t\t\t \"CONTACT DETAILS\",\n",
        "\t\t\t \"Contact Details\"\n",
        "        ],\n",
        "        \"awards\": [\n",
        "            \"awards\",\n",
        "            \"awards & recognitions\",\n",
        "            \"awards and recognition\",\n",
        "            \"awards received\",\n",
        "\t\t\t\"AWARDS\",\n",
        "            \"AWARDS & RECOGNITIONS\",\n",
        "            \"AWARDS AND RECOGNITION\",\n",
        "            \"AWARDS RECEIVED\",\n",
        "\t\t\t\"Awards\",\n",
        "            \"Awards & Recognitions\",\n",
        "            \"Awards And Recognition\",\n",
        "            \"Awards Received\"\n",
        "        ],\n",
        "        \"certification\": [\n",
        "            \"certifications\",\n",
        "            \"certificates\",\n",
        "            \"certifications\",\n",
        "            \"professional certifications\",\n",
        "            \"certification\",\n",
        "            \"license and certifications\",\n",
        "\t\t\t\"CERTIFICATIONS\",\n",
        "            \"CERTIFICATES\",\n",
        "            \"CERTIFICATIONS\",\n",
        "            \"PROFESSIONAL CERTIFICATIONS\",\n",
        "            \"CERTIFICATION\",\n",
        "             \"LICENSE AND CERTIFICATIONS\",\n",
        "\t\t\t \"Certifications\",\n",
        "            \"Certificates\",\n",
        "            \"Certifications\",\n",
        "            \"Professional Certifications\",\n",
        "            \"Certification\",\n",
        "            \"License And Certifications\"\n",
        "        ],\n",
        "        \"publication\": [\n",
        "            \"publication\",\n",
        "            \"publications\",\n",
        "\t\t\t\"PUBLICATION\",\n",
        "            \"PUBLICATIONS\",\n",
        "\t\t\t \"Publication\",\n",
        "            \"Publications\"\n",
        "        ],\n",
        "        \"conference\": [\n",
        "            \"conference\",\n",
        "            \"conferences\",\n",
        "\t\t\t\"CONFERENCE\",\n",
        "            \"CONFERENCES\",\n",
        "\t\t\t \"Conference\",\n",
        "            \"Conferences\"\n",
        "        ],\n",
        "        \"others\": [\n",
        "            \"other\",\n",
        "            \"additional information\",\n",
        "\t\t\t\"OTHER\",\n",
        "            \"ADDITIONAL INFORMATION\",\n",
        "\t\t\t\"Other\",\n",
        "\t\t\t\"Additional Information\"\n",
        "        ]\n",
        "    }"
      ],
      "execution_count": 0,
      "outputs": []
    },
    {
      "cell_type": "code",
      "metadata": {
        "id": "WIeQlR94rKf3",
        "colab_type": "code",
        "colab": {}
      },
      "source": [
        "titles=[]"
      ],
      "execution_count": 0,
      "outputs": []
    },
    {
      "cell_type": "code",
      "metadata": {
        "id": "kjNe8lBtq7EF",
        "colab_type": "code",
        "colab": {}
      },
      "source": [
        "for val in dict.values():\n",
        "  titles.append(val)"
      ],
      "execution_count": 0,
      "outputs": []
    },
    {
      "cell_type": "code",
      "metadata": {
        "id": "LErvBSVmrZcn",
        "colab_type": "code",
        "colab": {}
      },
      "source": [
        "heading=[]"
      ],
      "execution_count": 0,
      "outputs": []
    },
    {
      "cell_type": "code",
      "metadata": {
        "id": "Vqgv7bmVrRpA",
        "colab_type": "code",
        "colab": {}
      },
      "source": [
        "for val in titles:\n",
        "  for text in val:\n",
        "    heading.append(text)"
      ],
      "execution_count": 0,
      "outputs": []
    },
    {
      "cell_type": "code",
      "metadata": {
        "id": "okAqKKONrozH",
        "colab_type": "code",
        "outputId": "0b25d777-6c94-4422-942d-52012905075d",
        "colab": {
          "base_uri": "https://localhost:8080/",
          "height": 34
        }
      },
      "source": [
        "len(heading)"
      ],
      "execution_count": 0,
      "outputs": [
        {
          "output_type": "execute_result",
          "data": {
            "text/plain": [
              "254"
            ]
          },
          "metadata": {
            "tags": []
          },
          "execution_count": 110
        }
      ]
    },
    {
      "cell_type": "code",
      "metadata": {
        "id": "EaEXtFOzrwSM",
        "colab_type": "code",
        "colab": {}
      },
      "source": [
        "heading=list(set(heading))"
      ],
      "execution_count": 0,
      "outputs": []
    },
    {
      "cell_type": "code",
      "metadata": {
        "id": "F6yov2_wsAh3",
        "colab_type": "code",
        "outputId": "4e2e5ffd-ce59-4e9c-a2a0-acf1fa2f06eb",
        "colab": {
          "base_uri": "https://localhost:8080/",
          "height": 1000
        }
      },
      "source": [
        "heading"
      ],
      "execution_count": 0,
      "outputs": [
        {
          "output_type": "execute_result",
          "data": {
            "text/plain": [
              "['Educated',\n",
              " 'links',\n",
              " 'education',\n",
              " 'AWARDS AND RECOGNITION',\n",
              " 'Professional Memberships',\n",
              " 'Career Objective',\n",
              " 'Professional Background',\n",
              " 'Position',\n",
              " 'PROJECT ANNEXURE',\n",
              " 'Summary Of Experiance',\n",
              " 'Additional Information',\n",
              " 'Professional Certifications',\n",
              " 'Qualifications',\n",
              " 'ADDITIONAL INFORMATION',\n",
              " 'work experience',\n",
              " 'position',\n",
              " 'career objective',\n",
              " 'honors & activities',\n",
              " 'Summary',\n",
              " 'SUMMARY',\n",
              " 'personal profile',\n",
              " 'PROFILE SUMMARY',\n",
              " 'Competency Matrix',\n",
              " 'other',\n",
              " 'industry experience',\n",
              " 'SKILLS SUMMARY',\n",
              " 'Skills Summary',\n",
              " 'CONTACT DETAILS',\n",
              " 'Current Experience',\n",
              " 'professional development',\n",
              " 'EDUCATION',\n",
              " 'objective',\n",
              " 'PUBLICATIONS',\n",
              " 'PROFESSIONAL CERTIFICATIONS',\n",
              " 'Professional Summary',\n",
              " 'PROFICIENCIES AND SPECIALTIES',\n",
              " 'trainings',\n",
              " 'Profile Summary',\n",
              " 'SKILL SET',\n",
              " 'academic',\n",
              " 'POSITIONS',\n",
              " 'Honors & Activities',\n",
              " 'TECHNICAL SKILL',\n",
              " 'certificates',\n",
              " 'project annexure',\n",
              " 'Industry Experience',\n",
              " 'SKILLS SET',\n",
              " 'LINKS',\n",
              " 'organisational experiance',\n",
              " 'MAJOR PROJECTS',\n",
              " 'personal details',\n",
              " 'Qualification',\n",
              " 'EDUCATIONAL',\n",
              " 'Professional Profile',\n",
              " 'EXPERIENCE SYNOPSIS',\n",
              " 'WORK EXPERIENCE',\n",
              " 'POSITION',\n",
              " 'awards',\n",
              " 'Certification',\n",
              " 'awards received',\n",
              " 'LICENSE AND CERTIFICATIONS',\n",
              " 'CAREER OBJECTIVE',\n",
              " 'INTRODUCTION',\n",
              " 'skills',\n",
              " 'CORE COMPETENCIES',\n",
              " 'Additional Skills',\n",
              " 'conference',\n",
              " 'educational',\n",
              " 'AWARDS & RECOGNITIONS',\n",
              " 'current organizational experience',\n",
              " 'Awards & Recognitions',\n",
              " 'Publications',\n",
              " 'awards and recognition',\n",
              " 'project overview',\n",
              " 'summary',\n",
              " 'experience summary',\n",
              " 'Work History',\n",
              " 'skills set',\n",
              " 'PROFESSIONAL PROFILE',\n",
              " 'Personal Skills',\n",
              " 'PERSONAL DETAILS',\n",
              " 'personal information',\n",
              " 'professional experience',\n",
              " 'Personal Information',\n",
              " 'achievement',\n",
              " 'professional career',\n",
              " 'career track',\n",
              " 'Proficiencies And Specialties',\n",
              " 'contact details',\n",
              " 'skills summary',\n",
              " 'Skills',\n",
              " 'AWARDS',\n",
              " 'PUBLICATION',\n",
              " 'PROFESSIONAL SUMMARY',\n",
              " 'organisational scan',\n",
              " 'educated',\n",
              " 'TECHNICAL SUMMARY',\n",
              " 'additional information',\n",
              " 'Experience',\n",
              " 'Skills Set',\n",
              " 'ACHIEVEMENT',\n",
              " 'AREAS OF EXPERTISE',\n",
              " 'skill set',\n",
              " 'work history',\n",
              " 'Academic',\n",
              " 'technical summary',\n",
              " 'contacts',\n",
              " 'projects history',\n",
              " 'EDUCATED',\n",
              " 'Certifications',\n",
              " 'conferences',\n",
              " 'professional certifications',\n",
              " 'Contact Details',\n",
              " 'Educational Qualification',\n",
              " 'TRAININGS',\n",
              " 'additional it’s skills',\n",
              " 'employment history',\n",
              " 'Core Competencies',\n",
              " 'Academic Qualification',\n",
              " 'professional background',\n",
              " 'COMPETENCY MATRIX',\n",
              " 'major projects',\n",
              " 'Links',\n",
              " 'professional accomplishments',\n",
              " 'positions',\n",
              " 'CONFERENCES',\n",
              " 'EXPERIENCE SUMMARY',\n",
              " 'Technical Summary',\n",
              " 'Employment History',\n",
              " 'ACADEMIC QUALIFICATION',\n",
              " 'Awards Received',\n",
              " 'Professional Development',\n",
              " 'experience',\n",
              " 'PROJECT OVERVIEW',\n",
              " 'certification',\n",
              " 'Career Track',\n",
              " 'License And Certifications',\n",
              " 'PROFESSIONAL ACCOMPLISHMENTS',\n",
              " 'OBJECTIVE',\n",
              " 'Army Courses',\n",
              " 'Certificates',\n",
              " 'credentials',\n",
              " 'Technical Skill',\n",
              " 'Publication',\n",
              " 'academic qualification',\n",
              " 'Professional Objective',\n",
              " 'employment',\n",
              " 'additional skills',\n",
              " 'Skill Set',\n",
              " 'Professional Experience',\n",
              " 'HONORS & ACTIVITIES',\n",
              " 'Credentials',\n",
              " 'TRAINING',\n",
              " 'PROFESSIONAL MEMBERSHIPS',\n",
              " 'CONTACTS',\n",
              " 'army courses',\n",
              " 'Experience Synopsis',\n",
              " 'EXPERIENCE',\n",
              " 'ADDITIONAL IT’S SKILLS',\n",
              " 'Additional It’s Skills',\n",
              " 'Current Organizational Experience',\n",
              " 'ADDITIONAL SKILLS',\n",
              " 'CERTIFICATIONS',\n",
              " 'introduction',\n",
              " 'QUALIFICATION',\n",
              " 'ORGANISATIONAL SCAN',\n",
              " 'Organisational Scan',\n",
              " 'Awards',\n",
              " 'qualifications',\n",
              " 'CERTIFICATION',\n",
              " 'EMPLOYMENT HISTORY',\n",
              " 'professional objective',\n",
              " 'CURRENT ORGANIZATIONAL EXPERIENCE',\n",
              " 'Work Experience',\n",
              " 'competency matrix',\n",
              " 'PERSONAL SKILLS',\n",
              " 'training',\n",
              " 'EDUCATIONAL QUALIFICATION',\n",
              " 'publication',\n",
              " 'AWARDS RECEIVED',\n",
              " 'EMPLOYMENT',\n",
              " 'qualification',\n",
              " 'Achievement',\n",
              " 'professional memberships',\n",
              " 'Trainings',\n",
              " 'Positions',\n",
              " 'Project Overview',\n",
              " 'Professional Accomplishments',\n",
              " 'core competencies',\n",
              " 'license and certifications',\n",
              " 'professional summary',\n",
              " 'Professional Career',\n",
              " 'PROFESSIONAL BACKGROUND',\n",
              " 'Introduction',\n",
              " 'profile summary',\n",
              " 'Organisational Experiance',\n",
              " 'CONFERENCE',\n",
              " 'Contacts',\n",
              " 'professional profile',\n",
              " 'WORK HISTORY',\n",
              " 'QUALIFICATIONS',\n",
              " 'Project Annexure',\n",
              " 'technical skill',\n",
              " 'Major Projects',\n",
              " 'personal skills',\n",
              " 'SUMMARY OF EXPERIANCE',\n",
              " 'awards & recognitions',\n",
              " 'Employment',\n",
              " 'INDUSTRY EXPERIENCE',\n",
              " 'current experience',\n",
              " 'Personal Profile',\n",
              " 'OTHER',\n",
              " 'Conferences',\n",
              " 'educational qualification',\n",
              " 'Areas Of Expertise',\n",
              " 'summary of experiance',\n",
              " 'Training',\n",
              " 'PROJECTS HISTORY',\n",
              " 'certifications',\n",
              " 'PROFESSIONAL DEVELOPMENT',\n",
              " 'CURRENT EXPERIENCE',\n",
              " 'ACADEMIC',\n",
              " 'PERSONAL PROFILE',\n",
              " 'Projects History',\n",
              " 'PROFESSIONAL CAREER',\n",
              " 'Conference',\n",
              " 'Awards And Recognition',\n",
              " 'Education',\n",
              " 'Experience Summary',\n",
              " 'Objective',\n",
              " 'CREDENTIALS',\n",
              " 'experience synopsis',\n",
              " 'SKILLS',\n",
              " 'Personal Details',\n",
              " 'PERSONAL INFORMATION',\n",
              " 'publications',\n",
              " 'ARMY COURSES',\n",
              " 'PROFESSIONAL OBJECTIVE',\n",
              " 'areas of expertise',\n",
              " 'ORGANISATIONAL EXPERIANCE',\n",
              " 'proficiencies and specialties',\n",
              " 'CAREER TRACK',\n",
              " 'Other',\n",
              " 'CERTIFICATES',\n",
              " 'PROFESSIONAL EXPERIENCE']"
            ]
          },
          "metadata": {
            "tags": []
          },
          "execution_count": 112
        }
      ]
    },
    {
      "cell_type": "code",
      "metadata": {
        "id": "MzsRL9c8sDWL",
        "colab_type": "code",
        "colab": {}
      },
      "source": [
        ""
      ],
      "execution_count": 0,
      "outputs": []
    }
  ]
}